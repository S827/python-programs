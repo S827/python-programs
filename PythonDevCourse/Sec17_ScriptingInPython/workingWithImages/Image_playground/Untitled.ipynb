{
 "cells": [
  {
   "cell_type": "code",
   "execution_count": 1,
   "id": "d5ceb5f3",
   "metadata": {},
   "outputs": [
    {
     "name": "stdout",
     "output_type": "stream",
     "text": [
      "yes\n",
      "<PIL.JpegImagePlugin.JpegImageFile image mode=RGB size=640x640 at 0x28CD108DE10>\n"
     ]
    }
   ],
   "source": [
    "from PIL import Image\n",
    "\n",
    "import os\n",
    "\n",
    "filepath = './Pokedex/pikachu.jpg'\n",
    "if os.path.exists(filepath):\n",
    "    print('yes')\n",
    "else:\n",
    "    print('no')\n",
    "img = Image.open(r'.\\Pokedex\\pikachu.jpg')\n",
    "print(img)  # returns PIL image object"
   ]
  },
  {
   "cell_type": "code",
   "execution_count": 4,
   "id": "1ee96de6",
   "metadata": {},
   "outputs": [
    {
     "name": "stdout",
     "output_type": "stream",
     "text": [
      "-f C:\\Users\\Divya\\AppData\\Roaming\\jupyter\\runtime\\kernel-38d2fd47-1177-475b-91dd-2d0b2365f594.json\n"
     ]
    }
   ],
   "source": [
    "import sys\n",
    "import os\n",
    "from PIL import Image\n",
    "\n",
    "# grab 1st and 2nd argument\n",
    "source = sys.argv[1]\n",
    "destination = sys.argv[2]\n",
    "print(source, destination)\n",
    "# # 1st arg: folder where JPG images are present\n",
    "# # 2nd arg: folder where PNG images will be saved after conversion\n",
    "\n",
    "# # if 2nd arg folder does not exist, create it\n",
    "# if os.path.exists(destination):\n",
    "#     print('yes')\n",
    "# else:\n",
    "#     print('no')\n",
    "#     os.makedirs(destination, exist_ok=True)\n",
    "#     if os.path.exists(destination):\n",
    "#         print('yes')\n",
    "# # loop through Pokedex folder\n",
    "# # print(os.listdir(source))\n",
    "# listPNG = []\n",
    "# for name in os.listdir(source):\n",
    "#     print(name)\n",
    "#     # img = Image.open(f'{name}')\n",
    "#     # print(img)\n",
    "#     # # img.save('some.png', 'png')\n",
    "#     # # listPNG.append(img)\n",
    "# print(listPNG)\n",
    "# # convert image to PNG\n",
    "# # save to new folder\n",
    "# print(f\"Python interpreter being used: {sys.executable}\")\n",
    "# img = Image.open(r'./Pokedex/pikachu.jpg')\n",
    "# print(img)\n"
   ]
  },
  {
   "cell_type": "code",
   "execution_count": null,
   "id": "2b09b458",
   "metadata": {},
   "outputs": [],
   "source": []
  }
 ],
 "metadata": {
  "kernelspec": {
   "display_name": "Python 3 (ipykernel)",
   "language": "python",
   "name": "python3"
  },
  "language_info": {
   "codemirror_mode": {
    "name": "ipython",
    "version": 3
   },
   "file_extension": ".py",
   "mimetype": "text/x-python",
   "name": "python",
   "nbconvert_exporter": "python",
   "pygments_lexer": "ipython3",
   "version": "3.10.9"
  }
 },
 "nbformat": 4,
 "nbformat_minor": 5
}
