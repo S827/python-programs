{
 "cells": [
  {
   "cell_type": "markdown",
   "id": "98533be3",
   "metadata": {},
   "source": [
    "# SORTING PROBLEMS"
   ]
  },
  {
   "cell_type": "code",
   "execution_count": 1,
   "id": "8c84044e",
   "metadata": {},
   "outputs": [],
   "source": [
    "import pandas as pd\n",
    "import numpy as np\n",
    "import matplotlib.pyplot as plt"
   ]
  },
  {
   "cell_type": "code",
   "execution_count": 2,
   "id": "94b95fc7",
   "metadata": {},
   "outputs": [],
   "source": [
    "homeless = pd.read_csv('../../homelessness.csv', index_col=0)"
   ]
  },
  {
   "cell_type": "code",
   "execution_count": 3,
   "id": "8c1d7e56",
   "metadata": {},
   "outputs": [
    {
     "data": {
      "text/html": [
       "<div>\n",
       "<style scoped>\n",
       "    .dataframe tbody tr th:only-of-type {\n",
       "        vertical-align: middle;\n",
       "    }\n",
       "\n",
       "    .dataframe tbody tr th {\n",
       "        vertical-align: top;\n",
       "    }\n",
       "\n",
       "    .dataframe thead th {\n",
       "        text-align: right;\n",
       "    }\n",
       "</style>\n",
       "<table border=\"1\" class=\"dataframe\">\n",
       "  <thead>\n",
       "    <tr style=\"text-align: right;\">\n",
       "      <th></th>\n",
       "      <th>region</th>\n",
       "      <th>state</th>\n",
       "      <th>individuals</th>\n",
       "      <th>family_members</th>\n",
       "      <th>state_pop</th>\n",
       "    </tr>\n",
       "  </thead>\n",
       "  <tbody>\n",
       "    <tr>\n",
       "      <th>0</th>\n",
       "      <td>East South Central</td>\n",
       "      <td>Alabama</td>\n",
       "      <td>2570.0</td>\n",
       "      <td>864.0</td>\n",
       "      <td>4887681</td>\n",
       "    </tr>\n",
       "    <tr>\n",
       "      <th>1</th>\n",
       "      <td>Pacific</td>\n",
       "      <td>Alaska</td>\n",
       "      <td>1434.0</td>\n",
       "      <td>582.0</td>\n",
       "      <td>735139</td>\n",
       "    </tr>\n",
       "    <tr>\n",
       "      <th>2</th>\n",
       "      <td>Mountain</td>\n",
       "      <td>Arizona</td>\n",
       "      <td>7259.0</td>\n",
       "      <td>2606.0</td>\n",
       "      <td>7158024</td>\n",
       "    </tr>\n",
       "    <tr>\n",
       "      <th>3</th>\n",
       "      <td>West South Central</td>\n",
       "      <td>Arkansas</td>\n",
       "      <td>2280.0</td>\n",
       "      <td>432.0</td>\n",
       "      <td>3009733</td>\n",
       "    </tr>\n",
       "    <tr>\n",
       "      <th>4</th>\n",
       "      <td>Pacific</td>\n",
       "      <td>California</td>\n",
       "      <td>109008.0</td>\n",
       "      <td>20964.0</td>\n",
       "      <td>39461588</td>\n",
       "    </tr>\n",
       "  </tbody>\n",
       "</table>\n",
       "</div>"
      ],
      "text/plain": [
       "               region       state  individuals  family_members  state_pop\n",
       "0  East South Central     Alabama       2570.0           864.0    4887681\n",
       "1             Pacific      Alaska       1434.0           582.0     735139\n",
       "2            Mountain     Arizona       7259.0          2606.0    7158024\n",
       "3  West South Central    Arkansas       2280.0           432.0    3009733\n",
       "4             Pacific  California     109008.0         20964.0   39461588"
      ]
     },
     "execution_count": 3,
     "metadata": {},
     "output_type": "execute_result"
    }
   ],
   "source": [
    "homeless.head()"
   ]
  },
  {
   "cell_type": "markdown",
   "id": "e1336e29",
   "metadata": {},
   "source": [
    "## 1. Sort by State Name:\n",
    "Problem: Sort the dataset by the state column in ascending order.\n",
    "\n",
    "Questions:\n",
    "\n",
    "1.\tWhich state comes first in alphabetical order?\n",
    "\n",
    "2.\tWhich state comes last in alphabetical order?\n",
    "\n",
    "3.\tWhat is the 10th state in alphabetical order?\n",
    "\n",
    "4.\tHow many states start with the letter 'A'?\n"
   ]
  },
  {
   "cell_type": "code",
   "execution_count": 12,
   "id": "5ff8640e",
   "metadata": {
    "scrolled": true
   },
   "outputs": [
    {
     "data": {
      "text/html": [
       "<div>\n",
       "<style scoped>\n",
       "    .dataframe tbody tr th:only-of-type {\n",
       "        vertical-align: middle;\n",
       "    }\n",
       "\n",
       "    .dataframe tbody tr th {\n",
       "        vertical-align: top;\n",
       "    }\n",
       "\n",
       "    .dataframe thead th {\n",
       "        text-align: right;\n",
       "    }\n",
       "</style>\n",
       "<table border=\"1\" class=\"dataframe\">\n",
       "  <thead>\n",
       "    <tr style=\"text-align: right;\">\n",
       "      <th></th>\n",
       "      <th>region</th>\n",
       "      <th>state</th>\n",
       "      <th>individuals</th>\n",
       "      <th>family_members</th>\n",
       "      <th>state_pop</th>\n",
       "    </tr>\n",
       "  </thead>\n",
       "  <tbody>\n",
       "    <tr>\n",
       "      <th>0</th>\n",
       "      <td>East South Central</td>\n",
       "      <td>Alabama</td>\n",
       "      <td>2570.0</td>\n",
       "      <td>864.0</td>\n",
       "      <td>4887681</td>\n",
       "    </tr>\n",
       "    <tr>\n",
       "      <th>1</th>\n",
       "      <td>Pacific</td>\n",
       "      <td>Alaska</td>\n",
       "      <td>1434.0</td>\n",
       "      <td>582.0</td>\n",
       "      <td>735139</td>\n",
       "    </tr>\n",
       "    <tr>\n",
       "      <th>2</th>\n",
       "      <td>Mountain</td>\n",
       "      <td>Arizona</td>\n",
       "      <td>7259.0</td>\n",
       "      <td>2606.0</td>\n",
       "      <td>7158024</td>\n",
       "    </tr>\n",
       "    <tr>\n",
       "      <th>3</th>\n",
       "      <td>West South Central</td>\n",
       "      <td>Arkansas</td>\n",
       "      <td>2280.0</td>\n",
       "      <td>432.0</td>\n",
       "      <td>3009733</td>\n",
       "    </tr>\n",
       "    <tr>\n",
       "      <th>4</th>\n",
       "      <td>Pacific</td>\n",
       "      <td>California</td>\n",
       "      <td>109008.0</td>\n",
       "      <td>20964.0</td>\n",
       "      <td>39461588</td>\n",
       "    </tr>\n",
       "  </tbody>\n",
       "</table>\n",
       "</div>"
      ],
      "text/plain": [
       "               region       state  individuals  family_members  state_pop\n",
       "0  East South Central     Alabama       2570.0           864.0    4887681\n",
       "1             Pacific      Alaska       1434.0           582.0     735139\n",
       "2            Mountain     Arizona       7259.0          2606.0    7158024\n",
       "3  West South Central    Arkansas       2280.0           432.0    3009733\n",
       "4             Pacific  California     109008.0         20964.0   39461588"
      ]
     },
     "execution_count": 12,
     "metadata": {},
     "output_type": "execute_result"
    }
   ],
   "source": [
    "homeless_state_asc = homeless.sort_values('state')\n",
    "homeless_state_asc.head()"
   ]
  },
  {
   "cell_type": "code",
   "execution_count": 14,
   "id": "665cc279",
   "metadata": {},
   "outputs": [],
   "source": [
    "# 1. Which state comes first in alphabetical order?\n",
    "first_state = 'Alabama'"
   ]
  },
  {
   "cell_type": "code",
   "execution_count": 36,
   "id": "15411202",
   "metadata": {},
   "outputs": [
    {
     "name": "stdout",
     "output_type": "stream",
     "text": [
      "Wyoming\n"
     ]
    },
    {
     "data": {
      "text/html": [
       "<div>\n",
       "<style scoped>\n",
       "    .dataframe tbody tr th:only-of-type {\n",
       "        vertical-align: middle;\n",
       "    }\n",
       "\n",
       "    .dataframe tbody tr th {\n",
       "        vertical-align: top;\n",
       "    }\n",
       "\n",
       "    .dataframe thead th {\n",
       "        text-align: right;\n",
       "    }\n",
       "</style>\n",
       "<table border=\"1\" class=\"dataframe\">\n",
       "  <thead>\n",
       "    <tr style=\"text-align: right;\">\n",
       "      <th></th>\n",
       "      <th>region</th>\n",
       "      <th>state</th>\n",
       "      <th>individuals</th>\n",
       "      <th>family_members</th>\n",
       "      <th>state_pop</th>\n",
       "    </tr>\n",
       "  </thead>\n",
       "  <tbody>\n",
       "    <tr>\n",
       "      <th>50</th>\n",
       "      <td>Mountain</td>\n",
       "      <td>Wyoming</td>\n",
       "      <td>434.0</td>\n",
       "      <td>205.0</td>\n",
       "      <td>577601</td>\n",
       "    </tr>\n",
       "  </tbody>\n",
       "</table>\n",
       "</div>"
      ],
      "text/plain": [
       "      region    state  individuals  family_members  state_pop\n",
       "50  Mountain  Wyoming        434.0           205.0     577601"
      ]
     },
     "execution_count": 36,
     "metadata": {},
     "output_type": "execute_result"
    }
   ],
   "source": [
    "# 2. Which state comes last in alphabetical order?\n",
    "last_state = homeless_state_asc.iloc[-1, 1]\n",
    "print(last_state)\n",
    "homeless_state_asc.tail(1)"
   ]
  },
  {
   "cell_type": "code",
   "execution_count": 34,
   "id": "fc05dea9",
   "metadata": {
    "scrolled": true
   },
   "outputs": [
    {
     "name": "stdout",
     "output_type": "stream",
     "text": [
      "Florida\n"
     ]
    },
    {
     "data": {
      "text/html": [
       "<div>\n",
       "<style scoped>\n",
       "    .dataframe tbody tr th:only-of-type {\n",
       "        vertical-align: middle;\n",
       "    }\n",
       "\n",
       "    .dataframe tbody tr th {\n",
       "        vertical-align: top;\n",
       "    }\n",
       "\n",
       "    .dataframe thead th {\n",
       "        text-align: right;\n",
       "    }\n",
       "</style>\n",
       "<table border=\"1\" class=\"dataframe\">\n",
       "  <thead>\n",
       "    <tr style=\"text-align: right;\">\n",
       "      <th></th>\n",
       "      <th>region</th>\n",
       "      <th>state</th>\n",
       "      <th>individuals</th>\n",
       "      <th>family_members</th>\n",
       "      <th>state_pop</th>\n",
       "    </tr>\n",
       "  </thead>\n",
       "  <tbody>\n",
       "    <tr>\n",
       "      <th>0</th>\n",
       "      <td>East South Central</td>\n",
       "      <td>Alabama</td>\n",
       "      <td>2570.0</td>\n",
       "      <td>864.0</td>\n",
       "      <td>4887681</td>\n",
       "    </tr>\n",
       "    <tr>\n",
       "      <th>1</th>\n",
       "      <td>Pacific</td>\n",
       "      <td>Alaska</td>\n",
       "      <td>1434.0</td>\n",
       "      <td>582.0</td>\n",
       "      <td>735139</td>\n",
       "    </tr>\n",
       "    <tr>\n",
       "      <th>2</th>\n",
       "      <td>Mountain</td>\n",
       "      <td>Arizona</td>\n",
       "      <td>7259.0</td>\n",
       "      <td>2606.0</td>\n",
       "      <td>7158024</td>\n",
       "    </tr>\n",
       "    <tr>\n",
       "      <th>3</th>\n",
       "      <td>West South Central</td>\n",
       "      <td>Arkansas</td>\n",
       "      <td>2280.0</td>\n",
       "      <td>432.0</td>\n",
       "      <td>3009733</td>\n",
       "    </tr>\n",
       "    <tr>\n",
       "      <th>4</th>\n",
       "      <td>Pacific</td>\n",
       "      <td>California</td>\n",
       "      <td>109008.0</td>\n",
       "      <td>20964.0</td>\n",
       "      <td>39461588</td>\n",
       "    </tr>\n",
       "    <tr>\n",
       "      <th>5</th>\n",
       "      <td>Mountain</td>\n",
       "      <td>Colorado</td>\n",
       "      <td>7607.0</td>\n",
       "      <td>3250.0</td>\n",
       "      <td>5691287</td>\n",
       "    </tr>\n",
       "    <tr>\n",
       "      <th>6</th>\n",
       "      <td>New England</td>\n",
       "      <td>Connecticut</td>\n",
       "      <td>2280.0</td>\n",
       "      <td>1696.0</td>\n",
       "      <td>3571520</td>\n",
       "    </tr>\n",
       "    <tr>\n",
       "      <th>7</th>\n",
       "      <td>South Atlantic</td>\n",
       "      <td>Delaware</td>\n",
       "      <td>708.0</td>\n",
       "      <td>374.0</td>\n",
       "      <td>965479</td>\n",
       "    </tr>\n",
       "    <tr>\n",
       "      <th>8</th>\n",
       "      <td>South Atlantic</td>\n",
       "      <td>District of Columbia</td>\n",
       "      <td>3770.0</td>\n",
       "      <td>3134.0</td>\n",
       "      <td>701547</td>\n",
       "    </tr>\n",
       "    <tr>\n",
       "      <th>9</th>\n",
       "      <td>South Atlantic</td>\n",
       "      <td>Florida</td>\n",
       "      <td>21443.0</td>\n",
       "      <td>9587.0</td>\n",
       "      <td>21244317</td>\n",
       "    </tr>\n",
       "  </tbody>\n",
       "</table>\n",
       "</div>"
      ],
      "text/plain": [
       "               region                 state  individuals  family_members  \\\n",
       "0  East South Central               Alabama       2570.0           864.0   \n",
       "1             Pacific                Alaska       1434.0           582.0   \n",
       "2            Mountain               Arizona       7259.0          2606.0   \n",
       "3  West South Central              Arkansas       2280.0           432.0   \n",
       "4             Pacific            California     109008.0         20964.0   \n",
       "5            Mountain              Colorado       7607.0          3250.0   \n",
       "6         New England           Connecticut       2280.0          1696.0   \n",
       "7      South Atlantic              Delaware        708.0           374.0   \n",
       "8      South Atlantic  District of Columbia       3770.0          3134.0   \n",
       "9      South Atlantic               Florida      21443.0          9587.0   \n",
       "\n",
       "   state_pop  \n",
       "0    4887681  \n",
       "1     735139  \n",
       "2    7158024  \n",
       "3    3009733  \n",
       "4   39461588  \n",
       "5    5691287  \n",
       "6    3571520  \n",
       "7     965479  \n",
       "8     701547  \n",
       "9   21244317  "
      ]
     },
     "execution_count": 34,
     "metadata": {},
     "output_type": "execute_result"
    }
   ],
   "source": [
    "# 3.What is the 10th state in alphabetical order?\n",
    "state_10th = homeless_state_asc.iloc[9, 1]\n",
    "print(state_10th)\n",
    "homeless_state_asc.head(10)"
   ]
  },
  {
   "cell_type": "code",
   "execution_count": 52,
   "id": "c02ee6d4",
   "metadata": {},
   "outputs": [
    {
     "name": "stdout",
     "output_type": "stream",
     "text": [
      "4\n"
     ]
    },
    {
     "data": {
      "text/html": [
       "<div>\n",
       "<style scoped>\n",
       "    .dataframe tbody tr th:only-of-type {\n",
       "        vertical-align: middle;\n",
       "    }\n",
       "\n",
       "    .dataframe tbody tr th {\n",
       "        vertical-align: top;\n",
       "    }\n",
       "\n",
       "    .dataframe thead th {\n",
       "        text-align: right;\n",
       "    }\n",
       "</style>\n",
       "<table border=\"1\" class=\"dataframe\">\n",
       "  <thead>\n",
       "    <tr style=\"text-align: right;\">\n",
       "      <th></th>\n",
       "      <th>region</th>\n",
       "      <th>state</th>\n",
       "      <th>individuals</th>\n",
       "      <th>family_members</th>\n",
       "      <th>state_pop</th>\n",
       "    </tr>\n",
       "  </thead>\n",
       "  <tbody>\n",
       "    <tr>\n",
       "      <th>0</th>\n",
       "      <td>East South Central</td>\n",
       "      <td>Alabama</td>\n",
       "      <td>2570.0</td>\n",
       "      <td>864.0</td>\n",
       "      <td>4887681</td>\n",
       "    </tr>\n",
       "    <tr>\n",
       "      <th>1</th>\n",
       "      <td>Pacific</td>\n",
       "      <td>Alaska</td>\n",
       "      <td>1434.0</td>\n",
       "      <td>582.0</td>\n",
       "      <td>735139</td>\n",
       "    </tr>\n",
       "    <tr>\n",
       "      <th>2</th>\n",
       "      <td>Mountain</td>\n",
       "      <td>Arizona</td>\n",
       "      <td>7259.0</td>\n",
       "      <td>2606.0</td>\n",
       "      <td>7158024</td>\n",
       "    </tr>\n",
       "    <tr>\n",
       "      <th>3</th>\n",
       "      <td>West South Central</td>\n",
       "      <td>Arkansas</td>\n",
       "      <td>2280.0</td>\n",
       "      <td>432.0</td>\n",
       "      <td>3009733</td>\n",
       "    </tr>\n",
       "  </tbody>\n",
       "</table>\n",
       "</div>"
      ],
      "text/plain": [
       "               region     state  individuals  family_members  state_pop\n",
       "0  East South Central   Alabama       2570.0           864.0    4887681\n",
       "1             Pacific    Alaska       1434.0           582.0     735139\n",
       "2            Mountain   Arizona       7259.0          2606.0    7158024\n",
       "3  West South Central  Arkansas       2280.0           432.0    3009733"
      ]
     },
     "execution_count": 52,
     "metadata": {},
     "output_type": "execute_result"
    }
   ],
   "source": [
    "# 4.\tHow many states start with the letter 'A'?\n",
    "\n",
    "count_state_with_a = homeless_state_asc['state'].str.startswith('A').sum()\n",
    "print(count_state_with_a)\n",
    "homeless_state_asc[homeless_state_asc['state'].str.startswith('A')]"
   ]
  },
  {
   "cell_type": "markdown",
   "id": "4d71fbd8",
   "metadata": {},
   "source": [
    "## 2.\tSort by Number of Individuals:\n",
    "o\tProblem: Sort the dataset by the individuals column in descending order.\n",
    "\n",
    "o\tQuestions:\n",
    "\n",
    "1.\tWhich state has the highest number of homeless individuals?\n",
    "\n",
    "2.\tWhat is the number of homeless individuals in the state with the second-highest count?\n",
    "\n",
    "3.\tWhich state has the lowest number of homeless individuals?\n",
    "\n",
    "4.\tHow many states have more than 5,000 homeless individuals?\n"
   ]
  },
  {
   "cell_type": "code",
   "execution_count": 53,
   "id": "88069123",
   "metadata": {},
   "outputs": [
    {
     "data": {
      "text/html": [
       "<div>\n",
       "<style scoped>\n",
       "    .dataframe tbody tr th:only-of-type {\n",
       "        vertical-align: middle;\n",
       "    }\n",
       "\n",
       "    .dataframe tbody tr th {\n",
       "        vertical-align: top;\n",
       "    }\n",
       "\n",
       "    .dataframe thead th {\n",
       "        text-align: right;\n",
       "    }\n",
       "</style>\n",
       "<table border=\"1\" class=\"dataframe\">\n",
       "  <thead>\n",
       "    <tr style=\"text-align: right;\">\n",
       "      <th></th>\n",
       "      <th>region</th>\n",
       "      <th>state</th>\n",
       "      <th>individuals</th>\n",
       "      <th>family_members</th>\n",
       "      <th>state_pop</th>\n",
       "    </tr>\n",
       "  </thead>\n",
       "  <tbody>\n",
       "    <tr>\n",
       "      <th>4</th>\n",
       "      <td>Pacific</td>\n",
       "      <td>California</td>\n",
       "      <td>109008.0</td>\n",
       "      <td>20964.0</td>\n",
       "      <td>39461588</td>\n",
       "    </tr>\n",
       "    <tr>\n",
       "      <th>32</th>\n",
       "      <td>Mid-Atlantic</td>\n",
       "      <td>New York</td>\n",
       "      <td>39827.0</td>\n",
       "      <td>52070.0</td>\n",
       "      <td>19530351</td>\n",
       "    </tr>\n",
       "    <tr>\n",
       "      <th>9</th>\n",
       "      <td>South Atlantic</td>\n",
       "      <td>Florida</td>\n",
       "      <td>21443.0</td>\n",
       "      <td>9587.0</td>\n",
       "      <td>21244317</td>\n",
       "    </tr>\n",
       "    <tr>\n",
       "      <th>43</th>\n",
       "      <td>West South Central</td>\n",
       "      <td>Texas</td>\n",
       "      <td>19199.0</td>\n",
       "      <td>6111.0</td>\n",
       "      <td>28628666</td>\n",
       "    </tr>\n",
       "    <tr>\n",
       "      <th>47</th>\n",
       "      <td>Pacific</td>\n",
       "      <td>Washington</td>\n",
       "      <td>16424.0</td>\n",
       "      <td>5880.0</td>\n",
       "      <td>7523869</td>\n",
       "    </tr>\n",
       "  </tbody>\n",
       "</table>\n",
       "</div>"
      ],
      "text/plain": [
       "                region       state  individuals  family_members  state_pop\n",
       "4              Pacific  California     109008.0         20964.0   39461588\n",
       "32        Mid-Atlantic    New York      39827.0         52070.0   19530351\n",
       "9       South Atlantic     Florida      21443.0          9587.0   21244317\n",
       "43  West South Central       Texas      19199.0          6111.0   28628666\n",
       "47             Pacific  Washington      16424.0          5880.0    7523869"
      ]
     },
     "execution_count": 53,
     "metadata": {},
     "output_type": "execute_result"
    }
   ],
   "source": [
    "homeless_indiv_desc = homeless.sort_values('individuals', ascending=False)\n",
    "homeless_indiv_desc.head()"
   ]
  },
  {
   "cell_type": "code",
   "execution_count": null,
   "id": "16b7a423",
   "metadata": {},
   "outputs": [],
   "source": [
    "# 1.\tWhich state has the highest number of homeless individuals?\n"
   ]
  },
  {
   "cell_type": "markdown",
   "id": "ee236319",
   "metadata": {},
   "source": [
    "## 3.\tSort by Family Members:\n",
    "o\tProblem: Sort the dataset by the family_members column in ascending order.\n",
    "o\tQuestions:\n",
    "\n",
    "1.\tIdentify the state with the fewest family members who are homeless.\n",
    "\n",
    "2.\tHow many states have fewer than 500 homeless family members?\n",
    "\n",
    "3.\tWhich state has the highest number of homeless family members?\n",
    "\n",
    "4.\tWhat is the median number of homeless family members across all states?\n"
   ]
  },
  {
   "cell_type": "markdown",
   "id": "e27bf8aa",
   "metadata": {},
   "source": [
    "## 4.\tSort by State Population:\n",
    "o\tProblem: Sort the dataset by the state_pop column in descending order.\n",
    "o\tQuestions:\n",
    "\n",
    "1.\tWhat are the top three states with the largest populations?\n",
    "\n",
    "2.\tWhich state has the smallest population?\n",
    "\n",
    "3.\tHow many states have a population greater than 10 million?\n",
    "\n",
    "4.\tWhat is the total population of the top five states?\n"
   ]
  },
  {
   "cell_type": "markdown",
   "id": "e501f01d",
   "metadata": {},
   "source": [
    "## 5.\tSort by Region and State:\n",
    "o\tProblem: First, sort by the region column in ascending order, then by the state column within each region.\n",
    "o\tQuestions:\n",
    "\n",
    "1.\tWhat is the first state listed in the East South Central region?\n",
    "\n",
    "2.\tWhich region has the most states listed?\n",
    "\n",
    "3.\tWhat is the last state listed in the Mountain region?\n",
    "\n",
    "4.\tHow many states are in the West South Central region?\n"
   ]
  },
  {
   "cell_type": "markdown",
   "id": "e18e310d",
   "metadata": {},
   "source": [
    "## 6.\tSort by Individuals per Capita:\n",
    "o\tProblem: Add a new column for homeless individuals per capita (individuals/state_pop), then sort by this new column in descending order.\n",
    "o\tQuestions:\n",
    "\n",
    "1.\tWhich state has the highest number of homeless individuals per capita?\n",
    "\n",
    "2.\tWhat is the per capita rate for the state with the second-highest number?\n",
    "\n",
    "3.\tWhich state has the lowest number of homeless individuals per capita?\n",
    "\n",
    "4.\tHow many states have a per capita rate higher than 0.001?\n"
   ]
  },
  {
   "cell_type": "markdown",
   "id": "294fcd79",
   "metadata": {},
   "source": [
    "## 7.\tSort by Family Members per Capita:\n",
    "o\tProblem: Add a new column for homeless family members per capita (family_members/state_pop), then sort by this new column in ascending order.\n",
    "o\tQuestions:\n",
    "\n",
    "1.\tWhich state has the fewest homeless family members per capita?\n",
    "\n",
    "2.\tWhat is the per capita rate for the state with the highest number?\n",
    "\n",
    "3.\tWhich states have a per capita rate higher than 0.0005?\n",
    "\n",
    "4.\tHow many states have a per capita rate lower than 0.0001?\n"
   ]
  },
  {
   "cell_type": "markdown",
   "id": "c09d6a65",
   "metadata": {},
   "source": [
    "## 8.\tSort by Total Homeless:\n",
    "o\tProblem: Add a new column for the total number of homeless people (individuals + family_members), then sort by this new column in descending order.\n",
    "o\tQuestions:\n",
    "\n",
    "1.\tWhich state has the highest total number of homeless people?\n",
    "\n",
    "2.\tWhat is the total number of homeless people in the state with the second-highest total?\n",
    "\n",
    "3.\tWhich state has the lowest total number of homeless people?\n",
    "\n",
    "4.\tHow many states have a total number of homeless people greater than 10,000?\n"
   ]
  },
  {
   "cell_type": "markdown",
   "id": "dfbd13e6",
   "metadata": {},
   "source": [
    "## 9.\tSort by Percentage of Family Members:\n",
    "o\tProblem: Add a new column for the percentage of family members among the homeless (family_members / (individuals + family_members)), then sort by this new column in ascending order.\n",
    "o\tQuestions:\n",
    "\n",
    "1.\tWhich state has the lowest percentage of family members among the homeless?\n",
    "\n",
    "2.\tWhat is the percentage for the state with the highest number?\n",
    "\n",
    "3.\tWhich states have a percentage higher than 50%?\n",
    "\n",
    "4.\tHow many states have a percentage lower than 10%?\n"
   ]
  },
  {
   "cell_type": "markdown",
   "id": "18589b3b",
   "metadata": {},
   "source": [
    "## 10.\tSort by Region and Total Homeless:\n",
    "o\tProblem: First, sort by the region column in ascending order, then by the total number of homeless people within each region in descending order.\n",
    "o\tQuestions:\n",
    "\n",
    "1.\tWhich state has the highest total number of homeless people in the Pacific region?\n",
    "\n",
    "2.\tWhat is the total number of homeless people in the state with the highest count in the Mountain region?\n",
    "\n",
    "3.\tWhich state has the lowest total number of homeless people in the East North Central region?\n",
    "\n",
    "4.\tHow many states in the South Atlantic region have a total number of homeless people greater than 5,000?\n"
   ]
  },
  {
   "cell_type": "markdown",
   "id": "3d0236bd",
   "metadata": {},
   "source": [
    "# SUBSETTING PROBLEMS"
   ]
  },
  {
   "cell_type": "markdown",
   "id": "37b6206c",
   "metadata": {},
   "source": [
    "# FEATURE ENGINEERING"
   ]
  },
  {
   "cell_type": "markdown",
   "id": "3d833441",
   "metadata": {},
   "source": [
    "# COMBINED"
   ]
  },
  {
   "cell_type": "code",
   "execution_count": null,
   "id": "3614d8dd",
   "metadata": {},
   "outputs": [],
   "source": []
  }
 ],
 "metadata": {
  "kernelspec": {
   "display_name": "Python 3 (ipykernel)",
   "language": "python",
   "name": "python3"
  },
  "language_info": {
   "codemirror_mode": {
    "name": "ipython",
    "version": 3
   },
   "file_extension": ".py",
   "mimetype": "text/x-python",
   "name": "python",
   "nbconvert_exporter": "python",
   "pygments_lexer": "ipython3",
   "version": "3.10.9"
  }
 },
 "nbformat": 4,
 "nbformat_minor": 5
}
