{
 "cells": [
  {
   "cell_type": "markdown",
   "id": "e9dd3cb1",
   "metadata": {},
   "source": [
    "# SORTING PROBLEMS"
   ]
  },
  {
   "cell_type": "code",
   "execution_count": 1,
   "id": "60d07bca",
   "metadata": {},
   "outputs": [],
   "source": [
    "import pandas as pd\n",
    "import numpy as np\n",
    "import matplotlib.pyplot as plt"
   ]
  },
  {
   "cell_type": "code",
   "execution_count": 2,
   "id": "649d80b8",
   "metadata": {},
   "outputs": [],
   "source": [
    "homeless = pd.read_csv('../../homelessness.csv', index_col=0)"
   ]
  },
  {
   "cell_type": "code",
   "execution_count": 3,
   "id": "03c35522",
   "metadata": {},
   "outputs": [
    {
     "data": {
      "text/html": [
       "<div>\n",
       "<style scoped>\n",
       "    .dataframe tbody tr th:only-of-type {\n",
       "        vertical-align: middle;\n",
       "    }\n",
       "\n",
       "    .dataframe tbody tr th {\n",
       "        vertical-align: top;\n",
       "    }\n",
       "\n",
       "    .dataframe thead th {\n",
       "        text-align: right;\n",
       "    }\n",
       "</style>\n",
       "<table border=\"1\" class=\"dataframe\">\n",
       "  <thead>\n",
       "    <tr style=\"text-align: right;\">\n",
       "      <th></th>\n",
       "      <th>region</th>\n",
       "      <th>state</th>\n",
       "      <th>individuals</th>\n",
       "      <th>family_members</th>\n",
       "      <th>state_pop</th>\n",
       "    </tr>\n",
       "  </thead>\n",
       "  <tbody>\n",
       "    <tr>\n",
       "      <th>0</th>\n",
       "      <td>East South Central</td>\n",
       "      <td>Alabama</td>\n",
       "      <td>2570.0</td>\n",
       "      <td>864.0</td>\n",
       "      <td>4887681</td>\n",
       "    </tr>\n",
       "    <tr>\n",
       "      <th>1</th>\n",
       "      <td>Pacific</td>\n",
       "      <td>Alaska</td>\n",
       "      <td>1434.0</td>\n",
       "      <td>582.0</td>\n",
       "      <td>735139</td>\n",
       "    </tr>\n",
       "    <tr>\n",
       "      <th>2</th>\n",
       "      <td>Mountain</td>\n",
       "      <td>Arizona</td>\n",
       "      <td>7259.0</td>\n",
       "      <td>2606.0</td>\n",
       "      <td>7158024</td>\n",
       "    </tr>\n",
       "    <tr>\n",
       "      <th>3</th>\n",
       "      <td>West South Central</td>\n",
       "      <td>Arkansas</td>\n",
       "      <td>2280.0</td>\n",
       "      <td>432.0</td>\n",
       "      <td>3009733</td>\n",
       "    </tr>\n",
       "    <tr>\n",
       "      <th>4</th>\n",
       "      <td>Pacific</td>\n",
       "      <td>California</td>\n",
       "      <td>109008.0</td>\n",
       "      <td>20964.0</td>\n",
       "      <td>39461588</td>\n",
       "    </tr>\n",
       "  </tbody>\n",
       "</table>\n",
       "</div>"
      ],
      "text/plain": [
       "               region       state  individuals  family_members  state_pop\n",
       "0  East South Central     Alabama       2570.0           864.0    4887681\n",
       "1             Pacific      Alaska       1434.0           582.0     735139\n",
       "2            Mountain     Arizona       7259.0          2606.0    7158024\n",
       "3  West South Central    Arkansas       2280.0           432.0    3009733\n",
       "4             Pacific  California     109008.0         20964.0   39461588"
      ]
     },
     "execution_count": 3,
     "metadata": {},
     "output_type": "execute_result"
    }
   ],
   "source": [
    "homeless.head()"
   ]
  },
  {
   "cell_type": "markdown",
   "id": "1f32954d",
   "metadata": {},
   "source": [
    "## 1. Sort by State Name:\n",
    "Problem: Sort the dataset by the state column in ascending order.\n",
    "\n",
    "Questions:\n",
    "\n",
    "1.\tWhich state comes first in alphabetical order?\n",
    "\n",
    "2.\tWhich state comes last in alphabetical order?\n",
    "\n",
    "3.\tWhat is the 10th state in alphabetical order?\n",
    "\n",
    "4.\tHow many states start with the letter 'A'?\n"
   ]
  },
  {
   "cell_type": "code",
   "execution_count": 4,
   "id": "1af1f488",
   "metadata": {
    "scrolled": true
   },
   "outputs": [
    {
     "data": {
      "text/html": [
       "<div>\n",
       "<style scoped>\n",
       "    .dataframe tbody tr th:only-of-type {\n",
       "        vertical-align: middle;\n",
       "    }\n",
       "\n",
       "    .dataframe tbody tr th {\n",
       "        vertical-align: top;\n",
       "    }\n",
       "\n",
       "    .dataframe thead th {\n",
       "        text-align: right;\n",
       "    }\n",
       "</style>\n",
       "<table border=\"1\" class=\"dataframe\">\n",
       "  <thead>\n",
       "    <tr style=\"text-align: right;\">\n",
       "      <th></th>\n",
       "      <th>region</th>\n",
       "      <th>state</th>\n",
       "      <th>individuals</th>\n",
       "      <th>family_members</th>\n",
       "      <th>state_pop</th>\n",
       "    </tr>\n",
       "  </thead>\n",
       "  <tbody>\n",
       "    <tr>\n",
       "      <th>0</th>\n",
       "      <td>East South Central</td>\n",
       "      <td>Alabama</td>\n",
       "      <td>2570.0</td>\n",
       "      <td>864.0</td>\n",
       "      <td>4887681</td>\n",
       "    </tr>\n",
       "    <tr>\n",
       "      <th>1</th>\n",
       "      <td>Pacific</td>\n",
       "      <td>Alaska</td>\n",
       "      <td>1434.0</td>\n",
       "      <td>582.0</td>\n",
       "      <td>735139</td>\n",
       "    </tr>\n",
       "    <tr>\n",
       "      <th>2</th>\n",
       "      <td>Mountain</td>\n",
       "      <td>Arizona</td>\n",
       "      <td>7259.0</td>\n",
       "      <td>2606.0</td>\n",
       "      <td>7158024</td>\n",
       "    </tr>\n",
       "    <tr>\n",
       "      <th>3</th>\n",
       "      <td>West South Central</td>\n",
       "      <td>Arkansas</td>\n",
       "      <td>2280.0</td>\n",
       "      <td>432.0</td>\n",
       "      <td>3009733</td>\n",
       "    </tr>\n",
       "    <tr>\n",
       "      <th>4</th>\n",
       "      <td>Pacific</td>\n",
       "      <td>California</td>\n",
       "      <td>109008.0</td>\n",
       "      <td>20964.0</td>\n",
       "      <td>39461588</td>\n",
       "    </tr>\n",
       "  </tbody>\n",
       "</table>\n",
       "</div>"
      ],
      "text/plain": [
       "               region       state  individuals  family_members  state_pop\n",
       "0  East South Central     Alabama       2570.0           864.0    4887681\n",
       "1             Pacific      Alaska       1434.0           582.0     735139\n",
       "2            Mountain     Arizona       7259.0          2606.0    7158024\n",
       "3  West South Central    Arkansas       2280.0           432.0    3009733\n",
       "4             Pacific  California     109008.0         20964.0   39461588"
      ]
     },
     "execution_count": 4,
     "metadata": {},
     "output_type": "execute_result"
    }
   ],
   "source": [
    "homeless_state_asc = homeless.sort_values('state')\n",
    "homeless_state_asc.head()"
   ]
  },
  {
   "cell_type": "code",
   "execution_count": 5,
   "id": "6d9582eb",
   "metadata": {},
   "outputs": [],
   "source": [
    "# 1. Which state comes first in alphabetical order?\n",
    "first_state = 'Alabama'"
   ]
  },
  {
   "cell_type": "code",
   "execution_count": 6,
   "id": "a0940444",
   "metadata": {},
   "outputs": [
    {
     "name": "stdout",
     "output_type": "stream",
     "text": [
      "Wyoming\n"
     ]
    },
    {
     "data": {
      "text/html": [
       "<div>\n",
       "<style scoped>\n",
       "    .dataframe tbody tr th:only-of-type {\n",
       "        vertical-align: middle;\n",
       "    }\n",
       "\n",
       "    .dataframe tbody tr th {\n",
       "        vertical-align: top;\n",
       "    }\n",
       "\n",
       "    .dataframe thead th {\n",
       "        text-align: right;\n",
       "    }\n",
       "</style>\n",
       "<table border=\"1\" class=\"dataframe\">\n",
       "  <thead>\n",
       "    <tr style=\"text-align: right;\">\n",
       "      <th></th>\n",
       "      <th>region</th>\n",
       "      <th>state</th>\n",
       "      <th>individuals</th>\n",
       "      <th>family_members</th>\n",
       "      <th>state_pop</th>\n",
       "    </tr>\n",
       "  </thead>\n",
       "  <tbody>\n",
       "    <tr>\n",
       "      <th>50</th>\n",
       "      <td>Mountain</td>\n",
       "      <td>Wyoming</td>\n",
       "      <td>434.0</td>\n",
       "      <td>205.0</td>\n",
       "      <td>577601</td>\n",
       "    </tr>\n",
       "  </tbody>\n",
       "</table>\n",
       "</div>"
      ],
      "text/plain": [
       "      region    state  individuals  family_members  state_pop\n",
       "50  Mountain  Wyoming        434.0           205.0     577601"
      ]
     },
     "execution_count": 6,
     "metadata": {},
     "output_type": "execute_result"
    }
   ],
   "source": [
    "# 2. Which state comes last in alphabetical order?\n",
    "last_state = homeless_state_asc.iloc[-1, 1]\n",
    "print(last_state)\n",
    "homeless_state_asc.tail(1)"
   ]
  },
  {
   "cell_type": "code",
   "execution_count": 7,
   "id": "150b1052",
   "metadata": {
    "scrolled": true
   },
   "outputs": [
    {
     "name": "stdout",
     "output_type": "stream",
     "text": [
      "Florida\n"
     ]
    },
    {
     "data": {
      "text/html": [
       "<div>\n",
       "<style scoped>\n",
       "    .dataframe tbody tr th:only-of-type {\n",
       "        vertical-align: middle;\n",
       "    }\n",
       "\n",
       "    .dataframe tbody tr th {\n",
       "        vertical-align: top;\n",
       "    }\n",
       "\n",
       "    .dataframe thead th {\n",
       "        text-align: right;\n",
       "    }\n",
       "</style>\n",
       "<table border=\"1\" class=\"dataframe\">\n",
       "  <thead>\n",
       "    <tr style=\"text-align: right;\">\n",
       "      <th></th>\n",
       "      <th>region</th>\n",
       "      <th>state</th>\n",
       "      <th>individuals</th>\n",
       "      <th>family_members</th>\n",
       "      <th>state_pop</th>\n",
       "    </tr>\n",
       "  </thead>\n",
       "  <tbody>\n",
       "    <tr>\n",
       "      <th>0</th>\n",
       "      <td>East South Central</td>\n",
       "      <td>Alabama</td>\n",
       "      <td>2570.0</td>\n",
       "      <td>864.0</td>\n",
       "      <td>4887681</td>\n",
       "    </tr>\n",
       "    <tr>\n",
       "      <th>1</th>\n",
       "      <td>Pacific</td>\n",
       "      <td>Alaska</td>\n",
       "      <td>1434.0</td>\n",
       "      <td>582.0</td>\n",
       "      <td>735139</td>\n",
       "    </tr>\n",
       "    <tr>\n",
       "      <th>2</th>\n",
       "      <td>Mountain</td>\n",
       "      <td>Arizona</td>\n",
       "      <td>7259.0</td>\n",
       "      <td>2606.0</td>\n",
       "      <td>7158024</td>\n",
       "    </tr>\n",
       "    <tr>\n",
       "      <th>3</th>\n",
       "      <td>West South Central</td>\n",
       "      <td>Arkansas</td>\n",
       "      <td>2280.0</td>\n",
       "      <td>432.0</td>\n",
       "      <td>3009733</td>\n",
       "    </tr>\n",
       "    <tr>\n",
       "      <th>4</th>\n",
       "      <td>Pacific</td>\n",
       "      <td>California</td>\n",
       "      <td>109008.0</td>\n",
       "      <td>20964.0</td>\n",
       "      <td>39461588</td>\n",
       "    </tr>\n",
       "    <tr>\n",
       "      <th>5</th>\n",
       "      <td>Mountain</td>\n",
       "      <td>Colorado</td>\n",
       "      <td>7607.0</td>\n",
       "      <td>3250.0</td>\n",
       "      <td>5691287</td>\n",
       "    </tr>\n",
       "    <tr>\n",
       "      <th>6</th>\n",
       "      <td>New England</td>\n",
       "      <td>Connecticut</td>\n",
       "      <td>2280.0</td>\n",
       "      <td>1696.0</td>\n",
       "      <td>3571520</td>\n",
       "    </tr>\n",
       "    <tr>\n",
       "      <th>7</th>\n",
       "      <td>South Atlantic</td>\n",
       "      <td>Delaware</td>\n",
       "      <td>708.0</td>\n",
       "      <td>374.0</td>\n",
       "      <td>965479</td>\n",
       "    </tr>\n",
       "    <tr>\n",
       "      <th>8</th>\n",
       "      <td>South Atlantic</td>\n",
       "      <td>District of Columbia</td>\n",
       "      <td>3770.0</td>\n",
       "      <td>3134.0</td>\n",
       "      <td>701547</td>\n",
       "    </tr>\n",
       "    <tr>\n",
       "      <th>9</th>\n",
       "      <td>South Atlantic</td>\n",
       "      <td>Florida</td>\n",
       "      <td>21443.0</td>\n",
       "      <td>9587.0</td>\n",
       "      <td>21244317</td>\n",
       "    </tr>\n",
       "  </tbody>\n",
       "</table>\n",
       "</div>"
      ],
      "text/plain": [
       "               region                 state  individuals  family_members  \\\n",
       "0  East South Central               Alabama       2570.0           864.0   \n",
       "1             Pacific                Alaska       1434.0           582.0   \n",
       "2            Mountain               Arizona       7259.0          2606.0   \n",
       "3  West South Central              Arkansas       2280.0           432.0   \n",
       "4             Pacific            California     109008.0         20964.0   \n",
       "5            Mountain              Colorado       7607.0          3250.0   \n",
       "6         New England           Connecticut       2280.0          1696.0   \n",
       "7      South Atlantic              Delaware        708.0           374.0   \n",
       "8      South Atlantic  District of Columbia       3770.0          3134.0   \n",
       "9      South Atlantic               Florida      21443.0          9587.0   \n",
       "\n",
       "   state_pop  \n",
       "0    4887681  \n",
       "1     735139  \n",
       "2    7158024  \n",
       "3    3009733  \n",
       "4   39461588  \n",
       "5    5691287  \n",
       "6    3571520  \n",
       "7     965479  \n",
       "8     701547  \n",
       "9   21244317  "
      ]
     },
     "execution_count": 7,
     "metadata": {},
     "output_type": "execute_result"
    }
   ],
   "source": [
    "# 3.What is the 10th state in alphabetical order?\n",
    "state_10th = homeless_state_asc.iloc[9, 1]\n",
    "print(state_10th)\n",
    "homeless_state_asc.head(10)"
   ]
  },
  {
   "cell_type": "code",
   "execution_count": 8,
   "id": "b80ff081",
   "metadata": {},
   "outputs": [
    {
     "name": "stdout",
     "output_type": "stream",
     "text": [
      "4\n"
     ]
    },
    {
     "data": {
      "text/html": [
       "<div>\n",
       "<style scoped>\n",
       "    .dataframe tbody tr th:only-of-type {\n",
       "        vertical-align: middle;\n",
       "    }\n",
       "\n",
       "    .dataframe tbody tr th {\n",
       "        vertical-align: top;\n",
       "    }\n",
       "\n",
       "    .dataframe thead th {\n",
       "        text-align: right;\n",
       "    }\n",
       "</style>\n",
       "<table border=\"1\" class=\"dataframe\">\n",
       "  <thead>\n",
       "    <tr style=\"text-align: right;\">\n",
       "      <th></th>\n",
       "      <th>region</th>\n",
       "      <th>state</th>\n",
       "      <th>individuals</th>\n",
       "      <th>family_members</th>\n",
       "      <th>state_pop</th>\n",
       "    </tr>\n",
       "  </thead>\n",
       "  <tbody>\n",
       "    <tr>\n",
       "      <th>0</th>\n",
       "      <td>East South Central</td>\n",
       "      <td>Alabama</td>\n",
       "      <td>2570.0</td>\n",
       "      <td>864.0</td>\n",
       "      <td>4887681</td>\n",
       "    </tr>\n",
       "    <tr>\n",
       "      <th>1</th>\n",
       "      <td>Pacific</td>\n",
       "      <td>Alaska</td>\n",
       "      <td>1434.0</td>\n",
       "      <td>582.0</td>\n",
       "      <td>735139</td>\n",
       "    </tr>\n",
       "    <tr>\n",
       "      <th>2</th>\n",
       "      <td>Mountain</td>\n",
       "      <td>Arizona</td>\n",
       "      <td>7259.0</td>\n",
       "      <td>2606.0</td>\n",
       "      <td>7158024</td>\n",
       "    </tr>\n",
       "    <tr>\n",
       "      <th>3</th>\n",
       "      <td>West South Central</td>\n",
       "      <td>Arkansas</td>\n",
       "      <td>2280.0</td>\n",
       "      <td>432.0</td>\n",
       "      <td>3009733</td>\n",
       "    </tr>\n",
       "  </tbody>\n",
       "</table>\n",
       "</div>"
      ],
      "text/plain": [
       "               region     state  individuals  family_members  state_pop\n",
       "0  East South Central   Alabama       2570.0           864.0    4887681\n",
       "1             Pacific    Alaska       1434.0           582.0     735139\n",
       "2            Mountain   Arizona       7259.0          2606.0    7158024\n",
       "3  West South Central  Arkansas       2280.0           432.0    3009733"
      ]
     },
     "execution_count": 8,
     "metadata": {},
     "output_type": "execute_result"
    }
   ],
   "source": [
    "# 4.\tHow many states start with the letter 'A'?\n",
    "\n",
    "count_state_with_a = homeless_state_asc['state'].str.startswith('A').sum()\n",
    "print(count_state_with_a)\n",
    "homeless_state_asc[homeless_state_asc['state'].str.startswith('A')]"
   ]
  },
  {
   "cell_type": "markdown",
   "id": "ee1179f7",
   "metadata": {},
   "source": [
    "## 2.\tSort by Number of Individuals:\n",
    "o\tProblem: Sort the dataset by the individuals column in descending order.\n",
    "\n",
    "o\tQuestions:\n",
    "\n",
    "1.\tWhich state has the highest number of homeless individuals?\n",
    "\n",
    "2.\tWhat is the number of homeless individuals in the state with the second-highest count?\n",
    "\n",
    "3.\tWhich state has the lowest number of homeless individuals?\n",
    "\n",
    "4.\tHow many states have more than 5,000 homeless individuals?\n"
   ]
  },
  {
   "cell_type": "code",
   "execution_count": 9,
   "id": "9c160bfc",
   "metadata": {},
   "outputs": [
    {
     "data": {
      "text/html": [
       "<div>\n",
       "<style scoped>\n",
       "    .dataframe tbody tr th:only-of-type {\n",
       "        vertical-align: middle;\n",
       "    }\n",
       "\n",
       "    .dataframe tbody tr th {\n",
       "        vertical-align: top;\n",
       "    }\n",
       "\n",
       "    .dataframe thead th {\n",
       "        text-align: right;\n",
       "    }\n",
       "</style>\n",
       "<table border=\"1\" class=\"dataframe\">\n",
       "  <thead>\n",
       "    <tr style=\"text-align: right;\">\n",
       "      <th></th>\n",
       "      <th>region</th>\n",
       "      <th>state</th>\n",
       "      <th>individuals</th>\n",
       "      <th>family_members</th>\n",
       "      <th>state_pop</th>\n",
       "    </tr>\n",
       "  </thead>\n",
       "  <tbody>\n",
       "    <tr>\n",
       "      <th>4</th>\n",
       "      <td>Pacific</td>\n",
       "      <td>California</td>\n",
       "      <td>109008.0</td>\n",
       "      <td>20964.0</td>\n",
       "      <td>39461588</td>\n",
       "    </tr>\n",
       "    <tr>\n",
       "      <th>32</th>\n",
       "      <td>Mid-Atlantic</td>\n",
       "      <td>New York</td>\n",
       "      <td>39827.0</td>\n",
       "      <td>52070.0</td>\n",
       "      <td>19530351</td>\n",
       "    </tr>\n",
       "    <tr>\n",
       "      <th>9</th>\n",
       "      <td>South Atlantic</td>\n",
       "      <td>Florida</td>\n",
       "      <td>21443.0</td>\n",
       "      <td>9587.0</td>\n",
       "      <td>21244317</td>\n",
       "    </tr>\n",
       "    <tr>\n",
       "      <th>43</th>\n",
       "      <td>West South Central</td>\n",
       "      <td>Texas</td>\n",
       "      <td>19199.0</td>\n",
       "      <td>6111.0</td>\n",
       "      <td>28628666</td>\n",
       "    </tr>\n",
       "    <tr>\n",
       "      <th>47</th>\n",
       "      <td>Pacific</td>\n",
       "      <td>Washington</td>\n",
       "      <td>16424.0</td>\n",
       "      <td>5880.0</td>\n",
       "      <td>7523869</td>\n",
       "    </tr>\n",
       "  </tbody>\n",
       "</table>\n",
       "</div>"
      ],
      "text/plain": [
       "                region       state  individuals  family_members  state_pop\n",
       "4              Pacific  California     109008.0         20964.0   39461588\n",
       "32        Mid-Atlantic    New York      39827.0         52070.0   19530351\n",
       "9       South Atlantic     Florida      21443.0          9587.0   21244317\n",
       "43  West South Central       Texas      19199.0          6111.0   28628666\n",
       "47             Pacific  Washington      16424.0          5880.0    7523869"
      ]
     },
     "execution_count": 9,
     "metadata": {},
     "output_type": "execute_result"
    }
   ],
   "source": [
    "homeless_indiv_desc = homeless.sort_values('individuals', ascending=False)\n",
    "homeless_indiv_desc.head()"
   ]
  },
  {
   "cell_type": "code",
   "execution_count": 10,
   "id": "10894513",
   "metadata": {},
   "outputs": [
    {
     "name": "stdout",
     "output_type": "stream",
     "text": [
      "California\n"
     ]
    },
    {
     "data": {
      "text/plain": [
       "'California'"
      ]
     },
     "execution_count": 10,
     "metadata": {},
     "output_type": "execute_result"
    }
   ],
   "source": [
    "# 1.\tWhich state has the highest number of homeless individuals?\n",
    "state_high_homeless = homeless_indiv_desc.iloc[0, 1]\n",
    "print(state_high_homeless)\n",
    "homeless_indiv_desc.iloc[0, 1]"
   ]
  },
  {
   "cell_type": "code",
   "execution_count": 11,
   "id": "6360d800",
   "metadata": {},
   "outputs": [
    {
     "name": "stdout",
     "output_type": "stream",
     "text": [
      "39827.0\n"
     ]
    }
   ],
   "source": [
    "# 2.\tWhat is the number of homeless individuals in the state with the second-highest count?\n",
    "state_2nd_high_homeless = homeless_indiv_desc.iloc[1, 2]\n",
    "print(state_2nd_high_homeless)"
   ]
  },
  {
   "cell_type": "code",
   "execution_count": 12,
   "id": "950b4824",
   "metadata": {},
   "outputs": [
    {
     "name": "stdout",
     "output_type": "stream",
     "text": [
      "Wyoming\n"
     ]
    },
    {
     "data": {
      "text/html": [
       "<div>\n",
       "<style scoped>\n",
       "    .dataframe tbody tr th:only-of-type {\n",
       "        vertical-align: middle;\n",
       "    }\n",
       "\n",
       "    .dataframe tbody tr th {\n",
       "        vertical-align: top;\n",
       "    }\n",
       "\n",
       "    .dataframe thead th {\n",
       "        text-align: right;\n",
       "    }\n",
       "</style>\n",
       "<table border=\"1\" class=\"dataframe\">\n",
       "  <thead>\n",
       "    <tr style=\"text-align: right;\">\n",
       "      <th></th>\n",
       "      <th>region</th>\n",
       "      <th>state</th>\n",
       "      <th>individuals</th>\n",
       "      <th>family_members</th>\n",
       "      <th>state_pop</th>\n",
       "    </tr>\n",
       "  </thead>\n",
       "  <tbody>\n",
       "    <tr>\n",
       "      <th>50</th>\n",
       "      <td>Mountain</td>\n",
       "      <td>Wyoming</td>\n",
       "      <td>434.0</td>\n",
       "      <td>205.0</td>\n",
       "      <td>577601</td>\n",
       "    </tr>\n",
       "  </tbody>\n",
       "</table>\n",
       "</div>"
      ],
      "text/plain": [
       "      region    state  individuals  family_members  state_pop\n",
       "50  Mountain  Wyoming        434.0           205.0     577601"
      ]
     },
     "execution_count": 12,
     "metadata": {},
     "output_type": "execute_result"
    }
   ],
   "source": [
    "# 3.\tWhich state has the lowest number of homeless individuals?\n",
    "state_with_low_homeless_indiv = homeless_indiv_desc.iloc[-1, 1]\n",
    "print(state_with_low_homeless_indiv)\n",
    "homeless_indiv_desc.tail(1)"
   ]
  },
  {
   "cell_type": "code",
   "execution_count": 13,
   "id": "6226f00f",
   "metadata": {},
   "outputs": [
    {
     "name": "stdout",
     "output_type": "stream",
     "text": [
      "18\n"
     ]
    },
    {
     "data": {
      "text/html": [
       "<div>\n",
       "<style scoped>\n",
       "    .dataframe tbody tr th:only-of-type {\n",
       "        vertical-align: middle;\n",
       "    }\n",
       "\n",
       "    .dataframe tbody tr th {\n",
       "        vertical-align: top;\n",
       "    }\n",
       "\n",
       "    .dataframe thead th {\n",
       "        text-align: right;\n",
       "    }\n",
       "</style>\n",
       "<table border=\"1\" class=\"dataframe\">\n",
       "  <thead>\n",
       "    <tr style=\"text-align: right;\">\n",
       "      <th></th>\n",
       "      <th>region</th>\n",
       "      <th>state</th>\n",
       "      <th>individuals</th>\n",
       "      <th>family_members</th>\n",
       "      <th>state_pop</th>\n",
       "    </tr>\n",
       "  </thead>\n",
       "  <tbody>\n",
       "    <tr>\n",
       "      <th>4</th>\n",
       "      <td>Pacific</td>\n",
       "      <td>California</td>\n",
       "      <td>109008.0</td>\n",
       "      <td>20964.0</td>\n",
       "      <td>39461588</td>\n",
       "    </tr>\n",
       "    <tr>\n",
       "      <th>32</th>\n",
       "      <td>Mid-Atlantic</td>\n",
       "      <td>New York</td>\n",
       "      <td>39827.0</td>\n",
       "      <td>52070.0</td>\n",
       "      <td>19530351</td>\n",
       "    </tr>\n",
       "    <tr>\n",
       "      <th>9</th>\n",
       "      <td>South Atlantic</td>\n",
       "      <td>Florida</td>\n",
       "      <td>21443.0</td>\n",
       "      <td>9587.0</td>\n",
       "      <td>21244317</td>\n",
       "    </tr>\n",
       "    <tr>\n",
       "      <th>43</th>\n",
       "      <td>West South Central</td>\n",
       "      <td>Texas</td>\n",
       "      <td>19199.0</td>\n",
       "      <td>6111.0</td>\n",
       "      <td>28628666</td>\n",
       "    </tr>\n",
       "    <tr>\n",
       "      <th>47</th>\n",
       "      <td>Pacific</td>\n",
       "      <td>Washington</td>\n",
       "      <td>16424.0</td>\n",
       "      <td>5880.0</td>\n",
       "      <td>7523869</td>\n",
       "    </tr>\n",
       "  </tbody>\n",
       "</table>\n",
       "</div>"
      ],
      "text/plain": [
       "                region       state  individuals  family_members  state_pop\n",
       "4              Pacific  California     109008.0         20964.0   39461588\n",
       "32        Mid-Atlantic    New York      39827.0         52070.0   19530351\n",
       "9       South Atlantic     Florida      21443.0          9587.0   21244317\n",
       "43  West South Central       Texas      19199.0          6111.0   28628666\n",
       "47             Pacific  Washington      16424.0          5880.0    7523869"
      ]
     },
     "execution_count": 13,
     "metadata": {},
     "output_type": "execute_result"
    }
   ],
   "source": [
    "# 4.\tHow many states have more than 5,000 homeless individuals?\n",
    "states_with_5000_homeless_indiv = (homeless_indiv_desc['individuals'] > 5000).sum()\n",
    "print(states_with_5000_homeless_indiv)\n",
    "\n",
    "homeless_indiv_desc[homeless_indiv_desc['individuals'] > 5000].head()"
   ]
  },
  {
   "cell_type": "markdown",
   "id": "0b21c8f0",
   "metadata": {},
   "source": [
    "## 3.\tSort by Family Members:\n",
    "o\tProblem: Sort the dataset by the family_members column in ascending order.\n",
    "o\tQuestions:\n",
    "\n",
    "1.\tIdentify the state with the fewest family members who are homeless.\n",
    "\n",
    "2.\tHow many states have fewer than 500 homeless family members?\n",
    "\n",
    "3.\tWhich state has the highest number of homeless family members?\n",
    "\n",
    "4.\tWhat is the median number of homeless family members across all states?\n"
   ]
  },
  {
   "cell_type": "code",
   "execution_count": 14,
   "id": "341f176a",
   "metadata": {
    "scrolled": true
   },
   "outputs": [
    {
     "data": {
      "text/html": [
       "<div>\n",
       "<style scoped>\n",
       "    .dataframe tbody tr th:only-of-type {\n",
       "        vertical-align: middle;\n",
       "    }\n",
       "\n",
       "    .dataframe tbody tr th {\n",
       "        vertical-align: top;\n",
       "    }\n",
       "\n",
       "    .dataframe thead th {\n",
       "        text-align: right;\n",
       "    }\n",
       "</style>\n",
       "<table border=\"1\" class=\"dataframe\">\n",
       "  <thead>\n",
       "    <tr style=\"text-align: right;\">\n",
       "      <th></th>\n",
       "      <th>region</th>\n",
       "      <th>state</th>\n",
       "      <th>individuals</th>\n",
       "      <th>family_members</th>\n",
       "      <th>state_pop</th>\n",
       "    </tr>\n",
       "  </thead>\n",
       "  <tbody>\n",
       "    <tr>\n",
       "      <th>34</th>\n",
       "      <td>West North Central</td>\n",
       "      <td>North Dakota</td>\n",
       "      <td>467.0</td>\n",
       "      <td>75.0</td>\n",
       "      <td>758080</td>\n",
       "    </tr>\n",
       "    <tr>\n",
       "      <th>50</th>\n",
       "      <td>Mountain</td>\n",
       "      <td>Wyoming</td>\n",
       "      <td>434.0</td>\n",
       "      <td>205.0</td>\n",
       "      <td>577601</td>\n",
       "    </tr>\n",
       "    <tr>\n",
       "      <th>48</th>\n",
       "      <td>South Atlantic</td>\n",
       "      <td>West Virginia</td>\n",
       "      <td>1021.0</td>\n",
       "      <td>222.0</td>\n",
       "      <td>1804291</td>\n",
       "    </tr>\n",
       "    <tr>\n",
       "      <th>41</th>\n",
       "      <td>West North Central</td>\n",
       "      <td>South Dakota</td>\n",
       "      <td>836.0</td>\n",
       "      <td>323.0</td>\n",
       "      <td>878698</td>\n",
       "    </tr>\n",
       "    <tr>\n",
       "      <th>24</th>\n",
       "      <td>East South Central</td>\n",
       "      <td>Mississippi</td>\n",
       "      <td>1024.0</td>\n",
       "      <td>328.0</td>\n",
       "      <td>2981020</td>\n",
       "    </tr>\n",
       "  </tbody>\n",
       "</table>\n",
       "</div>"
      ],
      "text/plain": [
       "                region          state  individuals  family_members  state_pop\n",
       "34  West North Central   North Dakota        467.0            75.0     758080\n",
       "50            Mountain        Wyoming        434.0           205.0     577601\n",
       "48      South Atlantic  West Virginia       1021.0           222.0    1804291\n",
       "41  West North Central   South Dakota        836.0           323.0     878698\n",
       "24  East South Central    Mississippi       1024.0           328.0    2981020"
      ]
     },
     "execution_count": 14,
     "metadata": {},
     "output_type": "execute_result"
    }
   ],
   "source": [
    "homeless_fam_asc = homeless.sort_values('family_members')\n",
    "homeless_fam_asc.head()"
   ]
  },
  {
   "cell_type": "code",
   "execution_count": 15,
   "id": "017a9a00",
   "metadata": {},
   "outputs": [
    {
     "name": "stdout",
     "output_type": "stream",
     "text": [
      "North Dakota\n"
     ]
    },
    {
     "data": {
      "text/plain": [
       "'North Dakota'"
      ]
     },
     "execution_count": 15,
     "metadata": {},
     "output_type": "execute_result"
    }
   ],
   "source": [
    "# 1.\tIdentify the state with the fewest family members who are homeless.\n",
    "state_least_homeless_fam = homeless_fam_asc.iloc[0, 1]\n",
    "print(state_least_homeless_fam)\n",
    "homeless_fam_asc.iloc[0, 1]"
   ]
  },
  {
   "cell_type": "code",
   "execution_count": 16,
   "id": "09fa6eb3",
   "metadata": {},
   "outputs": [
    {
     "name": "stdout",
     "output_type": "stream",
     "text": [
      "10\n"
     ]
    },
    {
     "data": {
      "text/html": [
       "<div>\n",
       "<style scoped>\n",
       "    .dataframe tbody tr th:only-of-type {\n",
       "        vertical-align: middle;\n",
       "    }\n",
       "\n",
       "    .dataframe tbody tr th {\n",
       "        vertical-align: top;\n",
       "    }\n",
       "\n",
       "    .dataframe thead th {\n",
       "        text-align: right;\n",
       "    }\n",
       "</style>\n",
       "<table border=\"1\" class=\"dataframe\">\n",
       "  <thead>\n",
       "    <tr style=\"text-align: right;\">\n",
       "      <th></th>\n",
       "      <th>region</th>\n",
       "      <th>state</th>\n",
       "      <th>individuals</th>\n",
       "      <th>family_members</th>\n",
       "      <th>state_pop</th>\n",
       "    </tr>\n",
       "  </thead>\n",
       "  <tbody>\n",
       "    <tr>\n",
       "      <th>34</th>\n",
       "      <td>West North Central</td>\n",
       "      <td>North Dakota</td>\n",
       "      <td>467.0</td>\n",
       "      <td>75.0</td>\n",
       "      <td>758080</td>\n",
       "    </tr>\n",
       "    <tr>\n",
       "      <th>50</th>\n",
       "      <td>Mountain</td>\n",
       "      <td>Wyoming</td>\n",
       "      <td>434.0</td>\n",
       "      <td>205.0</td>\n",
       "      <td>577601</td>\n",
       "    </tr>\n",
       "    <tr>\n",
       "      <th>48</th>\n",
       "      <td>South Atlantic</td>\n",
       "      <td>West Virginia</td>\n",
       "      <td>1021.0</td>\n",
       "      <td>222.0</td>\n",
       "      <td>1804291</td>\n",
       "    </tr>\n",
       "    <tr>\n",
       "      <th>41</th>\n",
       "      <td>West North Central</td>\n",
       "      <td>South Dakota</td>\n",
       "      <td>836.0</td>\n",
       "      <td>323.0</td>\n",
       "      <td>878698</td>\n",
       "    </tr>\n",
       "    <tr>\n",
       "      <th>24</th>\n",
       "      <td>East South Central</td>\n",
       "      <td>Mississippi</td>\n",
       "      <td>1024.0</td>\n",
       "      <td>328.0</td>\n",
       "      <td>2981020</td>\n",
       "    </tr>\n",
       "    <tr>\n",
       "      <th>39</th>\n",
       "      <td>New England</td>\n",
       "      <td>Rhode Island</td>\n",
       "      <td>747.0</td>\n",
       "      <td>354.0</td>\n",
       "      <td>1058287</td>\n",
       "    </tr>\n",
       "    <tr>\n",
       "      <th>7</th>\n",
       "      <td>South Atlantic</td>\n",
       "      <td>Delaware</td>\n",
       "      <td>708.0</td>\n",
       "      <td>374.0</td>\n",
       "      <td>965479</td>\n",
       "    </tr>\n",
       "    <tr>\n",
       "      <th>26</th>\n",
       "      <td>Mountain</td>\n",
       "      <td>Montana</td>\n",
       "      <td>983.0</td>\n",
       "      <td>422.0</td>\n",
       "      <td>1060665</td>\n",
       "    </tr>\n",
       "    <tr>\n",
       "      <th>3</th>\n",
       "      <td>West South Central</td>\n",
       "      <td>Arkansas</td>\n",
       "      <td>2280.0</td>\n",
       "      <td>432.0</td>\n",
       "      <td>3009733</td>\n",
       "    </tr>\n",
       "    <tr>\n",
       "      <th>28</th>\n",
       "      <td>Mountain</td>\n",
       "      <td>Nevada</td>\n",
       "      <td>7058.0</td>\n",
       "      <td>486.0</td>\n",
       "      <td>3027341</td>\n",
       "    </tr>\n",
       "  </tbody>\n",
       "</table>\n",
       "</div>"
      ],
      "text/plain": [
       "                region          state  individuals  family_members  state_pop\n",
       "34  West North Central   North Dakota        467.0            75.0     758080\n",
       "50            Mountain        Wyoming        434.0           205.0     577601\n",
       "48      South Atlantic  West Virginia       1021.0           222.0    1804291\n",
       "41  West North Central   South Dakota        836.0           323.0     878698\n",
       "24  East South Central    Mississippi       1024.0           328.0    2981020\n",
       "39         New England   Rhode Island        747.0           354.0    1058287\n",
       "7       South Atlantic       Delaware        708.0           374.0     965479\n",
       "26            Mountain        Montana        983.0           422.0    1060665\n",
       "3   West South Central       Arkansas       2280.0           432.0    3009733\n",
       "28            Mountain         Nevada       7058.0           486.0    3027341"
      ]
     },
     "execution_count": 16,
     "metadata": {},
     "output_type": "execute_result"
    }
   ],
   "source": [
    "# 2.\tHow many states have fewer than 500 homeless family members?\n",
    "count_state_500_hl_fam = (homeless_fam_asc['family_members'] < 500).sum()\n",
    "print(count_state_500_hl_fam)\n",
    "homeless_fam_asc[homeless_fam_asc['family_members'] < 500]"
   ]
  },
  {
   "cell_type": "code",
   "execution_count": 17,
   "id": "5dc389d3",
   "metadata": {},
   "outputs": [
    {
     "name": "stdout",
     "output_type": "stream",
     "text": [
      "New York\n"
     ]
    },
    {
     "data": {
      "text/html": [
       "<div>\n",
       "<style scoped>\n",
       "    .dataframe tbody tr th:only-of-type {\n",
       "        vertical-align: middle;\n",
       "    }\n",
       "\n",
       "    .dataframe tbody tr th {\n",
       "        vertical-align: top;\n",
       "    }\n",
       "\n",
       "    .dataframe thead th {\n",
       "        text-align: right;\n",
       "    }\n",
       "</style>\n",
       "<table border=\"1\" class=\"dataframe\">\n",
       "  <thead>\n",
       "    <tr style=\"text-align: right;\">\n",
       "      <th></th>\n",
       "      <th>region</th>\n",
       "      <th>state</th>\n",
       "      <th>individuals</th>\n",
       "      <th>family_members</th>\n",
       "      <th>state_pop</th>\n",
       "    </tr>\n",
       "  </thead>\n",
       "  <tbody>\n",
       "    <tr>\n",
       "      <th>32</th>\n",
       "      <td>Mid-Atlantic</td>\n",
       "      <td>New York</td>\n",
       "      <td>39827.0</td>\n",
       "      <td>52070.0</td>\n",
       "      <td>19530351</td>\n",
       "    </tr>\n",
       "  </tbody>\n",
       "</table>\n",
       "</div>"
      ],
      "text/plain": [
       "          region     state  individuals  family_members  state_pop\n",
       "32  Mid-Atlantic  New York      39827.0         52070.0   19530351"
      ]
     },
     "execution_count": 17,
     "metadata": {},
     "output_type": "execute_result"
    }
   ],
   "source": [
    "#  3.\tWhich state has the highest number of homeless family members?\n",
    "state_high_hl_fam = homeless_fam_asc.iloc[-1, 1]\n",
    "print(state_high_hl_fam)\n",
    "homeless_fam_asc.tail(1)"
   ]
  },
  {
   "cell_type": "code",
   "execution_count": 18,
   "id": "fce78900",
   "metadata": {},
   "outputs": [
    {
     "name": "stdout",
     "output_type": "stream",
     "text": [
      "1482.0\n"
     ]
    }
   ],
   "source": [
    "# 4.\tWhat is the median number of homeless family members across all states?\n",
    "median_hl_fm = homeless_fam_asc['family_members'].median()\n",
    "print(median_hl_fm)"
   ]
  },
  {
   "cell_type": "markdown",
   "id": "4b55000c",
   "metadata": {},
   "source": [
    "## 4.\tSort by State Population:\n",
    "o\tProblem: Sort the dataset by the state_pop column in descending order.\n",
    "\n",
    "o\tQuestions:\n",
    "\n",
    "1.\tWhat are the top three states with the largest populations?\n",
    "\n",
    "2.\tWhich state has the smallest population?\n",
    "\n",
    "3.\tHow many states have a population greater than 10 million?\n",
    "\n",
    "4.\tWhat is the total population of the top five states?\n"
   ]
  },
  {
   "cell_type": "code",
   "execution_count": 19,
   "id": "f28f9d99",
   "metadata": {},
   "outputs": [
    {
     "data": {
      "text/html": [
       "<div>\n",
       "<style scoped>\n",
       "    .dataframe tbody tr th:only-of-type {\n",
       "        vertical-align: middle;\n",
       "    }\n",
       "\n",
       "    .dataframe tbody tr th {\n",
       "        vertical-align: top;\n",
       "    }\n",
       "\n",
       "    .dataframe thead th {\n",
       "        text-align: right;\n",
       "    }\n",
       "</style>\n",
       "<table border=\"1\" class=\"dataframe\">\n",
       "  <thead>\n",
       "    <tr style=\"text-align: right;\">\n",
       "      <th></th>\n",
       "      <th>region</th>\n",
       "      <th>state</th>\n",
       "      <th>individuals</th>\n",
       "      <th>family_members</th>\n",
       "      <th>state_pop</th>\n",
       "    </tr>\n",
       "  </thead>\n",
       "  <tbody>\n",
       "    <tr>\n",
       "      <th>4</th>\n",
       "      <td>Pacific</td>\n",
       "      <td>California</td>\n",
       "      <td>109008.0</td>\n",
       "      <td>20964.0</td>\n",
       "      <td>39461588</td>\n",
       "    </tr>\n",
       "    <tr>\n",
       "      <th>43</th>\n",
       "      <td>West South Central</td>\n",
       "      <td>Texas</td>\n",
       "      <td>19199.0</td>\n",
       "      <td>6111.0</td>\n",
       "      <td>28628666</td>\n",
       "    </tr>\n",
       "    <tr>\n",
       "      <th>9</th>\n",
       "      <td>South Atlantic</td>\n",
       "      <td>Florida</td>\n",
       "      <td>21443.0</td>\n",
       "      <td>9587.0</td>\n",
       "      <td>21244317</td>\n",
       "    </tr>\n",
       "    <tr>\n",
       "      <th>32</th>\n",
       "      <td>Mid-Atlantic</td>\n",
       "      <td>New York</td>\n",
       "      <td>39827.0</td>\n",
       "      <td>52070.0</td>\n",
       "      <td>19530351</td>\n",
       "    </tr>\n",
       "    <tr>\n",
       "      <th>38</th>\n",
       "      <td>Mid-Atlantic</td>\n",
       "      <td>Pennsylvania</td>\n",
       "      <td>8163.0</td>\n",
       "      <td>5349.0</td>\n",
       "      <td>12800922</td>\n",
       "    </tr>\n",
       "  </tbody>\n",
       "</table>\n",
       "</div>"
      ],
      "text/plain": [
       "                region         state  individuals  family_members  state_pop\n",
       "4              Pacific    California     109008.0         20964.0   39461588\n",
       "43  West South Central         Texas      19199.0          6111.0   28628666\n",
       "9       South Atlantic       Florida      21443.0          9587.0   21244317\n",
       "32        Mid-Atlantic      New York      39827.0         52070.0   19530351\n",
       "38        Mid-Atlantic  Pennsylvania       8163.0          5349.0   12800922"
      ]
     },
     "execution_count": 19,
     "metadata": {},
     "output_type": "execute_result"
    }
   ],
   "source": [
    "homeless_st_pop_desc = homeless.sort_values('state_pop', ascending=False)\n",
    "homeless_st_pop_desc.head()"
   ]
  },
  {
   "cell_type": "code",
   "execution_count": 20,
   "id": "3c3e869c",
   "metadata": {},
   "outputs": [
    {
     "name": "stdout",
     "output_type": "stream",
     "text": [
      "['California', 'Texas', 'Florida']\n"
     ]
    }
   ],
   "source": [
    "# 1.\tWhat are the top three states with the largest populations?\n",
    "top_3 = homeless_st_pop_desc.head(3)\n",
    "top_3\n",
    "top_3_state = []\n",
    "for lab, row in top_3.iterrows():\n",
    "    top_3_state.append(row['state'])\n",
    "print(top_3_state)"
   ]
  },
  {
   "cell_type": "code",
   "execution_count": 24,
   "id": "d5ec9014",
   "metadata": {},
   "outputs": [
    {
     "name": "stdout",
     "output_type": "stream",
     "text": [
      "Wyoming\n"
     ]
    },
    {
     "data": {
      "text/html": [
       "<div>\n",
       "<style scoped>\n",
       "    .dataframe tbody tr th:only-of-type {\n",
       "        vertical-align: middle;\n",
       "    }\n",
       "\n",
       "    .dataframe tbody tr th {\n",
       "        vertical-align: top;\n",
       "    }\n",
       "\n",
       "    .dataframe thead th {\n",
       "        text-align: right;\n",
       "    }\n",
       "</style>\n",
       "<table border=\"1\" class=\"dataframe\">\n",
       "  <thead>\n",
       "    <tr style=\"text-align: right;\">\n",
       "      <th></th>\n",
       "      <th>region</th>\n",
       "      <th>state</th>\n",
       "      <th>individuals</th>\n",
       "      <th>family_members</th>\n",
       "      <th>state_pop</th>\n",
       "    </tr>\n",
       "  </thead>\n",
       "  <tbody>\n",
       "    <tr>\n",
       "      <th>50</th>\n",
       "      <td>Mountain</td>\n",
       "      <td>Wyoming</td>\n",
       "      <td>434.0</td>\n",
       "      <td>205.0</td>\n",
       "      <td>577601</td>\n",
       "    </tr>\n",
       "  </tbody>\n",
       "</table>\n",
       "</div>"
      ],
      "text/plain": [
       "      region    state  individuals  family_members  state_pop\n",
       "50  Mountain  Wyoming        434.0           205.0     577601"
      ]
     },
     "execution_count": 24,
     "metadata": {},
     "output_type": "execute_result"
    }
   ],
   "source": [
    "# 2.\tWhich state has the smallest population?\n",
    "st_sm_pop = homeless_st_pop_desc.iloc[-1, 1]\n",
    "print(st_sm_pop)\n",
    "homeless_st_pop_desc.tail(1)"
   ]
  },
  {
   "cell_type": "code",
   "execution_count": 25,
   "id": "6c36db49",
   "metadata": {},
   "outputs": [
    {
     "name": "stdout",
     "output_type": "stream",
     "text": [
      "9\n"
     ]
    },
    {
     "data": {
      "text/html": [
       "<div>\n",
       "<style scoped>\n",
       "    .dataframe tbody tr th:only-of-type {\n",
       "        vertical-align: middle;\n",
       "    }\n",
       "\n",
       "    .dataframe tbody tr th {\n",
       "        vertical-align: top;\n",
       "    }\n",
       "\n",
       "    .dataframe thead th {\n",
       "        text-align: right;\n",
       "    }\n",
       "</style>\n",
       "<table border=\"1\" class=\"dataframe\">\n",
       "  <thead>\n",
       "    <tr style=\"text-align: right;\">\n",
       "      <th></th>\n",
       "      <th>region</th>\n",
       "      <th>state</th>\n",
       "      <th>individuals</th>\n",
       "      <th>family_members</th>\n",
       "      <th>state_pop</th>\n",
       "    </tr>\n",
       "  </thead>\n",
       "  <tbody>\n",
       "    <tr>\n",
       "      <th>4</th>\n",
       "      <td>Pacific</td>\n",
       "      <td>California</td>\n",
       "      <td>109008.0</td>\n",
       "      <td>20964.0</td>\n",
       "      <td>39461588</td>\n",
       "    </tr>\n",
       "    <tr>\n",
       "      <th>43</th>\n",
       "      <td>West South Central</td>\n",
       "      <td>Texas</td>\n",
       "      <td>19199.0</td>\n",
       "      <td>6111.0</td>\n",
       "      <td>28628666</td>\n",
       "    </tr>\n",
       "    <tr>\n",
       "      <th>9</th>\n",
       "      <td>South Atlantic</td>\n",
       "      <td>Florida</td>\n",
       "      <td>21443.0</td>\n",
       "      <td>9587.0</td>\n",
       "      <td>21244317</td>\n",
       "    </tr>\n",
       "    <tr>\n",
       "      <th>32</th>\n",
       "      <td>Mid-Atlantic</td>\n",
       "      <td>New York</td>\n",
       "      <td>39827.0</td>\n",
       "      <td>52070.0</td>\n",
       "      <td>19530351</td>\n",
       "    </tr>\n",
       "    <tr>\n",
       "      <th>38</th>\n",
       "      <td>Mid-Atlantic</td>\n",
       "      <td>Pennsylvania</td>\n",
       "      <td>8163.0</td>\n",
       "      <td>5349.0</td>\n",
       "      <td>12800922</td>\n",
       "    </tr>\n",
       "    <tr>\n",
       "      <th>13</th>\n",
       "      <td>East North Central</td>\n",
       "      <td>Illinois</td>\n",
       "      <td>6752.0</td>\n",
       "      <td>3891.0</td>\n",
       "      <td>12723071</td>\n",
       "    </tr>\n",
       "    <tr>\n",
       "      <th>35</th>\n",
       "      <td>East North Central</td>\n",
       "      <td>Ohio</td>\n",
       "      <td>6929.0</td>\n",
       "      <td>3320.0</td>\n",
       "      <td>11676341</td>\n",
       "    </tr>\n",
       "    <tr>\n",
       "      <th>10</th>\n",
       "      <td>South Atlantic</td>\n",
       "      <td>Georgia</td>\n",
       "      <td>6943.0</td>\n",
       "      <td>2556.0</td>\n",
       "      <td>10511131</td>\n",
       "    </tr>\n",
       "    <tr>\n",
       "      <th>33</th>\n",
       "      <td>South Atlantic</td>\n",
       "      <td>North Carolina</td>\n",
       "      <td>6451.0</td>\n",
       "      <td>2817.0</td>\n",
       "      <td>10381615</td>\n",
       "    </tr>\n",
       "  </tbody>\n",
       "</table>\n",
       "</div>"
      ],
      "text/plain": [
       "                region           state  individuals  family_members  state_pop\n",
       "4              Pacific      California     109008.0         20964.0   39461588\n",
       "43  West South Central           Texas      19199.0          6111.0   28628666\n",
       "9       South Atlantic         Florida      21443.0          9587.0   21244317\n",
       "32        Mid-Atlantic        New York      39827.0         52070.0   19530351\n",
       "38        Mid-Atlantic    Pennsylvania       8163.0          5349.0   12800922\n",
       "13  East North Central        Illinois       6752.0          3891.0   12723071\n",
       "35  East North Central            Ohio       6929.0          3320.0   11676341\n",
       "10      South Atlantic         Georgia       6943.0          2556.0   10511131\n",
       "33      South Atlantic  North Carolina       6451.0          2817.0   10381615"
      ]
     },
     "execution_count": 25,
     "metadata": {},
     "output_type": "execute_result"
    }
   ],
   "source": [
    "# 3.\tHow many states have a population greater than 10 million?\n",
    "count_st_pop_10m = (homeless_st_pop_desc['state_pop'] > 10000000).sum()\n",
    "print(count_st_pop_10m)\n",
    "homeless_st_pop_desc[homeless_st_pop_desc['state_pop'] > 10000000]"
   ]
  },
  {
   "cell_type": "code",
   "execution_count": 26,
   "id": "3ca214ad",
   "metadata": {},
   "outputs": [
    {
     "name": "stdout",
     "output_type": "stream",
     "text": [
      "121665844\n"
     ]
    },
    {
     "data": {
      "text/html": [
       "<div>\n",
       "<style scoped>\n",
       "    .dataframe tbody tr th:only-of-type {\n",
       "        vertical-align: middle;\n",
       "    }\n",
       "\n",
       "    .dataframe tbody tr th {\n",
       "        vertical-align: top;\n",
       "    }\n",
       "\n",
       "    .dataframe thead th {\n",
       "        text-align: right;\n",
       "    }\n",
       "</style>\n",
       "<table border=\"1\" class=\"dataframe\">\n",
       "  <thead>\n",
       "    <tr style=\"text-align: right;\">\n",
       "      <th></th>\n",
       "      <th>region</th>\n",
       "      <th>state</th>\n",
       "      <th>individuals</th>\n",
       "      <th>family_members</th>\n",
       "      <th>state_pop</th>\n",
       "    </tr>\n",
       "  </thead>\n",
       "  <tbody>\n",
       "    <tr>\n",
       "      <th>4</th>\n",
       "      <td>Pacific</td>\n",
       "      <td>California</td>\n",
       "      <td>109008.0</td>\n",
       "      <td>20964.0</td>\n",
       "      <td>39461588</td>\n",
       "    </tr>\n",
       "    <tr>\n",
       "      <th>43</th>\n",
       "      <td>West South Central</td>\n",
       "      <td>Texas</td>\n",
       "      <td>19199.0</td>\n",
       "      <td>6111.0</td>\n",
       "      <td>28628666</td>\n",
       "    </tr>\n",
       "    <tr>\n",
       "      <th>9</th>\n",
       "      <td>South Atlantic</td>\n",
       "      <td>Florida</td>\n",
       "      <td>21443.0</td>\n",
       "      <td>9587.0</td>\n",
       "      <td>21244317</td>\n",
       "    </tr>\n",
       "    <tr>\n",
       "      <th>32</th>\n",
       "      <td>Mid-Atlantic</td>\n",
       "      <td>New York</td>\n",
       "      <td>39827.0</td>\n",
       "      <td>52070.0</td>\n",
       "      <td>19530351</td>\n",
       "    </tr>\n",
       "    <tr>\n",
       "      <th>38</th>\n",
       "      <td>Mid-Atlantic</td>\n",
       "      <td>Pennsylvania</td>\n",
       "      <td>8163.0</td>\n",
       "      <td>5349.0</td>\n",
       "      <td>12800922</td>\n",
       "    </tr>\n",
       "  </tbody>\n",
       "</table>\n",
       "</div>"
      ],
      "text/plain": [
       "                region         state  individuals  family_members  state_pop\n",
       "4              Pacific    California     109008.0         20964.0   39461588\n",
       "43  West South Central         Texas      19199.0          6111.0   28628666\n",
       "9       South Atlantic       Florida      21443.0          9587.0   21244317\n",
       "32        Mid-Atlantic      New York      39827.0         52070.0   19530351\n",
       "38        Mid-Atlantic  Pennsylvania       8163.0          5349.0   12800922"
      ]
     },
     "execution_count": 26,
     "metadata": {},
     "output_type": "execute_result"
    }
   ],
   "source": [
    "# 4.\tWhat is the total population of the top five states?\n",
    "total_pop = homeless_st_pop_desc['state_pop'].head().sum()\n",
    "print(total_pop)\n",
    "homeless_st_pop_desc.head(5)"
   ]
  },
  {
   "cell_type": "markdown",
   "id": "eb6df3fc",
   "metadata": {},
   "source": [
    "## 5.\tSort by Region and State:\n",
    "o\tProblem: First, sort by the region column in ascending order, then by the state column within each region.\n",
    "\n",
    "o\tQuestions:\n",
    "\n",
    "1.\tWhat is the first state listed in the East South Central region?\n",
    "\n",
    "2.\tWhich region has the most states listed?\n",
    "\n",
    "3.\tWhat is the last state listed in the Mountain region?\n",
    "\n",
    "4.\tHow many states are in the West South Central region?\n"
   ]
  },
  {
   "cell_type": "code",
   "execution_count": 27,
   "id": "058ff9b2",
   "metadata": {
    "scrolled": true
   },
   "outputs": [
    {
     "data": {
      "text/html": [
       "<div>\n",
       "<style scoped>\n",
       "    .dataframe tbody tr th:only-of-type {\n",
       "        vertical-align: middle;\n",
       "    }\n",
       "\n",
       "    .dataframe tbody tr th {\n",
       "        vertical-align: top;\n",
       "    }\n",
       "\n",
       "    .dataframe thead th {\n",
       "        text-align: right;\n",
       "    }\n",
       "</style>\n",
       "<table border=\"1\" class=\"dataframe\">\n",
       "  <thead>\n",
       "    <tr style=\"text-align: right;\">\n",
       "      <th></th>\n",
       "      <th>region</th>\n",
       "      <th>state</th>\n",
       "      <th>individuals</th>\n",
       "      <th>family_members</th>\n",
       "      <th>state_pop</th>\n",
       "    </tr>\n",
       "  </thead>\n",
       "  <tbody>\n",
       "    <tr>\n",
       "      <th>13</th>\n",
       "      <td>East North Central</td>\n",
       "      <td>Illinois</td>\n",
       "      <td>6752.0</td>\n",
       "      <td>3891.0</td>\n",
       "      <td>12723071</td>\n",
       "    </tr>\n",
       "    <tr>\n",
       "      <th>14</th>\n",
       "      <td>East North Central</td>\n",
       "      <td>Indiana</td>\n",
       "      <td>3776.0</td>\n",
       "      <td>1482.0</td>\n",
       "      <td>6695497</td>\n",
       "    </tr>\n",
       "    <tr>\n",
       "      <th>22</th>\n",
       "      <td>East North Central</td>\n",
       "      <td>Michigan</td>\n",
       "      <td>5209.0</td>\n",
       "      <td>3142.0</td>\n",
       "      <td>9984072</td>\n",
       "    </tr>\n",
       "    <tr>\n",
       "      <th>35</th>\n",
       "      <td>East North Central</td>\n",
       "      <td>Ohio</td>\n",
       "      <td>6929.0</td>\n",
       "      <td>3320.0</td>\n",
       "      <td>11676341</td>\n",
       "    </tr>\n",
       "    <tr>\n",
       "      <th>49</th>\n",
       "      <td>East North Central</td>\n",
       "      <td>Wisconsin</td>\n",
       "      <td>2740.0</td>\n",
       "      <td>2167.0</td>\n",
       "      <td>5807406</td>\n",
       "    </tr>\n",
       "  </tbody>\n",
       "</table>\n",
       "</div>"
      ],
      "text/plain": [
       "                region      state  individuals  family_members  state_pop\n",
       "13  East North Central   Illinois       6752.0          3891.0   12723071\n",
       "14  East North Central    Indiana       3776.0          1482.0    6695497\n",
       "22  East North Central   Michigan       5209.0          3142.0    9984072\n",
       "35  East North Central       Ohio       6929.0          3320.0   11676341\n",
       "49  East North Central  Wisconsin       2740.0          2167.0    5807406"
      ]
     },
     "execution_count": 27,
     "metadata": {},
     "output_type": "execute_result"
    }
   ],
   "source": [
    "hl_reg_st_asc = homeless.sort_values(['region', 'state'])\n",
    "hl_reg_st_asc.head()"
   ]
  },
  {
   "cell_type": "code",
   "execution_count": 30,
   "id": "90d1ae33",
   "metadata": {},
   "outputs": [
    {
     "name": "stdout",
     "output_type": "stream",
     "text": [
      "Alabama\n"
     ]
    },
    {
     "data": {
      "text/html": [
       "<div>\n",
       "<style scoped>\n",
       "    .dataframe tbody tr th:only-of-type {\n",
       "        vertical-align: middle;\n",
       "    }\n",
       "\n",
       "    .dataframe tbody tr th {\n",
       "        vertical-align: top;\n",
       "    }\n",
       "\n",
       "    .dataframe thead th {\n",
       "        text-align: right;\n",
       "    }\n",
       "</style>\n",
       "<table border=\"1\" class=\"dataframe\">\n",
       "  <thead>\n",
       "    <tr style=\"text-align: right;\">\n",
       "      <th></th>\n",
       "      <th>region</th>\n",
       "      <th>state</th>\n",
       "      <th>individuals</th>\n",
       "      <th>family_members</th>\n",
       "      <th>state_pop</th>\n",
       "    </tr>\n",
       "  </thead>\n",
       "  <tbody>\n",
       "    <tr>\n",
       "      <th>0</th>\n",
       "      <td>East South Central</td>\n",
       "      <td>Alabama</td>\n",
       "      <td>2570.0</td>\n",
       "      <td>864.0</td>\n",
       "      <td>4887681</td>\n",
       "    </tr>\n",
       "    <tr>\n",
       "      <th>17</th>\n",
       "      <td>East South Central</td>\n",
       "      <td>Kentucky</td>\n",
       "      <td>2735.0</td>\n",
       "      <td>953.0</td>\n",
       "      <td>4461153</td>\n",
       "    </tr>\n",
       "    <tr>\n",
       "      <th>24</th>\n",
       "      <td>East South Central</td>\n",
       "      <td>Mississippi</td>\n",
       "      <td>1024.0</td>\n",
       "      <td>328.0</td>\n",
       "      <td>2981020</td>\n",
       "    </tr>\n",
       "    <tr>\n",
       "      <th>42</th>\n",
       "      <td>East South Central</td>\n",
       "      <td>Tennessee</td>\n",
       "      <td>6139.0</td>\n",
       "      <td>1744.0</td>\n",
       "      <td>6771631</td>\n",
       "    </tr>\n",
       "  </tbody>\n",
       "</table>\n",
       "</div>"
      ],
      "text/plain": [
       "                region        state  individuals  family_members  state_pop\n",
       "0   East South Central      Alabama       2570.0           864.0    4887681\n",
       "17  East South Central     Kentucky       2735.0           953.0    4461153\n",
       "24  East South Central  Mississippi       1024.0           328.0    2981020\n",
       "42  East South Central    Tennessee       6139.0          1744.0    6771631"
      ]
     },
     "execution_count": 30,
     "metadata": {},
     "output_type": "execute_result"
    }
   ],
   "source": [
    "# 1.\tWhat is the first state listed in the East South Central region?\n",
    "esc_1st_St = hl_reg_st_asc[hl_reg_st_asc['region'] == 'East South Central'].iloc[0, 1]\n",
    "print(esc_1st_St)\n",
    "hl_reg_st_asc[hl_reg_st_asc['region'] == 'East South Central']"
   ]
  },
  {
   "cell_type": "code",
   "execution_count": 65,
   "id": "c9fe22f8",
   "metadata": {},
   "outputs": [
    {
     "name": "stdout",
     "output_type": "stream",
     "text": [
      "South Atlantic 9\n"
     ]
    },
    {
     "data": {
      "text/plain": [
       "South Atlantic        9\n",
       "Mountain              8\n",
       "West North Central    7\n",
       "New England           6\n",
       "East North Central    5\n",
       "Pacific               5\n",
       "East South Central    4\n",
       "West South Central    4\n",
       "Mid-Atlantic          3\n",
       "Name: region, dtype: int64"
      ]
     },
     "execution_count": 65,
     "metadata": {},
     "output_type": "execute_result"
    }
   ],
   "source": [
    "# 2.\tWhich region has the most states listed?\n",
    "# initialize variables to track the region with most states\n",
    "max_count = 0\n",
    "current_region=None\n",
    "current_count = 0\n",
    "region_l = {}\n",
    "region_with_most_states = None\n",
    "last_region = hl_reg_st_asc.iloc[-1, 0]\n",
    "# print(last_region)\n",
    "# loop through sorted dataset\n",
    "for lab, row in hl_reg_st_asc.iterrows():\n",
    "    if row['region'] != current_region:\n",
    "        if row['region'] != None:\n",
    "            region_l[current_region] = current_count\n",
    "            current_region = row['region']\n",
    "            current_count = 1\n",
    "        else:\n",
    "            current_region = row['region']\n",
    "            current_count = 1\n",
    "    elif row['region'] == last_region:\n",
    "        current_count += 1\n",
    "        region_l[current_region] = current_count\n",
    "    else:\n",
    "        current_count += 1\n",
    "#     print(current_region, current_count)\n",
    "# print(region_l)\n",
    "# for k, v in region_l.items():\n",
    "#     print(max)\n",
    "max_v = max(region_l.values())\n",
    "for k, v in region_l.items():\n",
    "    if v == max_v:\n",
    "        print(k, v)\n",
    "# print((hl_reg_st_asc))\n",
    "hl_reg_st_asc['region'].value_counts()"
   ]
  },
  {
   "cell_type": "code",
   "execution_count": 37,
   "id": "b9d04a55",
   "metadata": {},
   "outputs": [
    {
     "name": "stdout",
     "output_type": "stream",
     "text": [
      "Wyoming\n"
     ]
    },
    {
     "data": {
      "text/html": [
       "<div>\n",
       "<style scoped>\n",
       "    .dataframe tbody tr th:only-of-type {\n",
       "        vertical-align: middle;\n",
       "    }\n",
       "\n",
       "    .dataframe tbody tr th {\n",
       "        vertical-align: top;\n",
       "    }\n",
       "\n",
       "    .dataframe thead th {\n",
       "        text-align: right;\n",
       "    }\n",
       "</style>\n",
       "<table border=\"1\" class=\"dataframe\">\n",
       "  <thead>\n",
       "    <tr style=\"text-align: right;\">\n",
       "      <th></th>\n",
       "      <th>region</th>\n",
       "      <th>state</th>\n",
       "      <th>individuals</th>\n",
       "      <th>family_members</th>\n",
       "      <th>state_pop</th>\n",
       "    </tr>\n",
       "  </thead>\n",
       "  <tbody>\n",
       "    <tr>\n",
       "      <th>2</th>\n",
       "      <td>Mountain</td>\n",
       "      <td>Arizona</td>\n",
       "      <td>7259.0</td>\n",
       "      <td>2606.0</td>\n",
       "      <td>7158024</td>\n",
       "    </tr>\n",
       "    <tr>\n",
       "      <th>5</th>\n",
       "      <td>Mountain</td>\n",
       "      <td>Colorado</td>\n",
       "      <td>7607.0</td>\n",
       "      <td>3250.0</td>\n",
       "      <td>5691287</td>\n",
       "    </tr>\n",
       "    <tr>\n",
       "      <th>12</th>\n",
       "      <td>Mountain</td>\n",
       "      <td>Idaho</td>\n",
       "      <td>1297.0</td>\n",
       "      <td>715.0</td>\n",
       "      <td>1750536</td>\n",
       "    </tr>\n",
       "    <tr>\n",
       "      <th>26</th>\n",
       "      <td>Mountain</td>\n",
       "      <td>Montana</td>\n",
       "      <td>983.0</td>\n",
       "      <td>422.0</td>\n",
       "      <td>1060665</td>\n",
       "    </tr>\n",
       "    <tr>\n",
       "      <th>28</th>\n",
       "      <td>Mountain</td>\n",
       "      <td>Nevada</td>\n",
       "      <td>7058.0</td>\n",
       "      <td>486.0</td>\n",
       "      <td>3027341</td>\n",
       "    </tr>\n",
       "    <tr>\n",
       "      <th>31</th>\n",
       "      <td>Mountain</td>\n",
       "      <td>New Mexico</td>\n",
       "      <td>1949.0</td>\n",
       "      <td>602.0</td>\n",
       "      <td>2092741</td>\n",
       "    </tr>\n",
       "    <tr>\n",
       "      <th>44</th>\n",
       "      <td>Mountain</td>\n",
       "      <td>Utah</td>\n",
       "      <td>1904.0</td>\n",
       "      <td>972.0</td>\n",
       "      <td>3153550</td>\n",
       "    </tr>\n",
       "    <tr>\n",
       "      <th>50</th>\n",
       "      <td>Mountain</td>\n",
       "      <td>Wyoming</td>\n",
       "      <td>434.0</td>\n",
       "      <td>205.0</td>\n",
       "      <td>577601</td>\n",
       "    </tr>\n",
       "  </tbody>\n",
       "</table>\n",
       "</div>"
      ],
      "text/plain": [
       "      region       state  individuals  family_members  state_pop\n",
       "2   Mountain     Arizona       7259.0          2606.0    7158024\n",
       "5   Mountain    Colorado       7607.0          3250.0    5691287\n",
       "12  Mountain       Idaho       1297.0           715.0    1750536\n",
       "26  Mountain     Montana        983.0           422.0    1060665\n",
       "28  Mountain      Nevada       7058.0           486.0    3027341\n",
       "31  Mountain  New Mexico       1949.0           602.0    2092741\n",
       "44  Mountain        Utah       1904.0           972.0    3153550\n",
       "50  Mountain     Wyoming        434.0           205.0     577601"
      ]
     },
     "execution_count": 37,
     "metadata": {},
     "output_type": "execute_result"
    }
   ],
   "source": [
    "# 3.\tWhat is the last state listed in the Mountain region?\n",
    "last_st_mountain = hl_reg_st_asc[hl_reg_st_asc['region'] == 'Mountain'].iloc[-1,1]\n",
    "print(last_st_mountain)\n",
    "hl_reg_st_asc[hl_reg_st_asc['region'] == 'Mountain']"
   ]
  },
  {
   "cell_type": "code",
   "execution_count": 70,
   "id": "6ddabbc3",
   "metadata": {},
   "outputs": [
    {
     "name": "stdout",
     "output_type": "stream",
     "text": [
      "4\n"
     ]
    },
    {
     "data": {
      "text/html": [
       "<div>\n",
       "<style scoped>\n",
       "    .dataframe tbody tr th:only-of-type {\n",
       "        vertical-align: middle;\n",
       "    }\n",
       "\n",
       "    .dataframe tbody tr th {\n",
       "        vertical-align: top;\n",
       "    }\n",
       "\n",
       "    .dataframe thead th {\n",
       "        text-align: right;\n",
       "    }\n",
       "</style>\n",
       "<table border=\"1\" class=\"dataframe\">\n",
       "  <thead>\n",
       "    <tr style=\"text-align: right;\">\n",
       "      <th></th>\n",
       "      <th>region</th>\n",
       "      <th>state</th>\n",
       "      <th>individuals</th>\n",
       "      <th>family_members</th>\n",
       "      <th>state_pop</th>\n",
       "    </tr>\n",
       "  </thead>\n",
       "  <tbody>\n",
       "    <tr>\n",
       "      <th>3</th>\n",
       "      <td>West South Central</td>\n",
       "      <td>Arkansas</td>\n",
       "      <td>2280.0</td>\n",
       "      <td>432.0</td>\n",
       "      <td>3009733</td>\n",
       "    </tr>\n",
       "    <tr>\n",
       "      <th>18</th>\n",
       "      <td>West South Central</td>\n",
       "      <td>Louisiana</td>\n",
       "      <td>2540.0</td>\n",
       "      <td>519.0</td>\n",
       "      <td>4659690</td>\n",
       "    </tr>\n",
       "    <tr>\n",
       "      <th>36</th>\n",
       "      <td>West South Central</td>\n",
       "      <td>Oklahoma</td>\n",
       "      <td>2823.0</td>\n",
       "      <td>1048.0</td>\n",
       "      <td>3940235</td>\n",
       "    </tr>\n",
       "    <tr>\n",
       "      <th>43</th>\n",
       "      <td>West South Central</td>\n",
       "      <td>Texas</td>\n",
       "      <td>19199.0</td>\n",
       "      <td>6111.0</td>\n",
       "      <td>28628666</td>\n",
       "    </tr>\n",
       "  </tbody>\n",
       "</table>\n",
       "</div>"
      ],
      "text/plain": [
       "                region      state  individuals  family_members  state_pop\n",
       "3   West South Central   Arkansas       2280.0           432.0    3009733\n",
       "18  West South Central  Louisiana       2540.0           519.0    4659690\n",
       "36  West South Central   Oklahoma       2823.0          1048.0    3940235\n",
       "43  West South Central      Texas      19199.0          6111.0   28628666"
      ]
     },
     "execution_count": 70,
     "metadata": {},
     "output_type": "execute_result"
    }
   ],
   "source": [
    "# 4.\tHow many states are in the West South Central region?\n",
    "count_st_west_south_central_region = (hl_reg_st_asc['region'] == 'West South Central').sum()\n",
    "print(count_st_west_south_central_region)\n",
    "hl_reg_st_asc[hl_reg_st_asc['region'] == 'West South Central']"
   ]
  },
  {
   "cell_type": "markdown",
   "id": "56b87049",
   "metadata": {},
   "source": [
    "## 6.\tSort by Individuals per Capita:\n",
    "o\tProblem: Add a new column for homeless individuals per capita (individuals/state_pop), then sort by this new column in descending order.\n",
    "\n",
    "o\tQuestions:\n",
    "\n",
    "1.\tWhich state has the highest number of homeless individuals per capita?\n",
    "\n",
    "2.\tWhat is the per capita rate for the state with the second-highest number?\n",
    "\n",
    "3.\tWhich state has the lowest number of homeless individuals per capita?\n",
    "\n",
    "4.\tHow many states have a per capita rate higher than 0.001?\n"
   ]
  },
  {
   "cell_type": "code",
   "execution_count": 71,
   "id": "8c4e00a2",
   "metadata": {},
   "outputs": [
    {
     "data": {
      "text/html": [
       "<div>\n",
       "<style scoped>\n",
       "    .dataframe tbody tr th:only-of-type {\n",
       "        vertical-align: middle;\n",
       "    }\n",
       "\n",
       "    .dataframe tbody tr th {\n",
       "        vertical-align: top;\n",
       "    }\n",
       "\n",
       "    .dataframe thead th {\n",
       "        text-align: right;\n",
       "    }\n",
       "</style>\n",
       "<table border=\"1\" class=\"dataframe\">\n",
       "  <thead>\n",
       "    <tr style=\"text-align: right;\">\n",
       "      <th></th>\n",
       "      <th>region</th>\n",
       "      <th>state</th>\n",
       "      <th>individuals</th>\n",
       "      <th>family_members</th>\n",
       "      <th>state_pop</th>\n",
       "      <th>indiv_per_capita</th>\n",
       "    </tr>\n",
       "  </thead>\n",
       "  <tbody>\n",
       "    <tr>\n",
       "      <th>8</th>\n",
       "      <td>South Atlantic</td>\n",
       "      <td>District of Columbia</td>\n",
       "      <td>3770.0</td>\n",
       "      <td>3134.0</td>\n",
       "      <td>701547</td>\n",
       "      <td>0.005374</td>\n",
       "    </tr>\n",
       "    <tr>\n",
       "      <th>11</th>\n",
       "      <td>Pacific</td>\n",
       "      <td>Hawaii</td>\n",
       "      <td>4131.0</td>\n",
       "      <td>2399.0</td>\n",
       "      <td>1420593</td>\n",
       "      <td>0.002908</td>\n",
       "    </tr>\n",
       "    <tr>\n",
       "      <th>4</th>\n",
       "      <td>Pacific</td>\n",
       "      <td>California</td>\n",
       "      <td>109008.0</td>\n",
       "      <td>20964.0</td>\n",
       "      <td>39461588</td>\n",
       "      <td>0.002762</td>\n",
       "    </tr>\n",
       "    <tr>\n",
       "      <th>37</th>\n",
       "      <td>Pacific</td>\n",
       "      <td>Oregon</td>\n",
       "      <td>11139.0</td>\n",
       "      <td>3337.0</td>\n",
       "      <td>4181886</td>\n",
       "      <td>0.002664</td>\n",
       "    </tr>\n",
       "    <tr>\n",
       "      <th>28</th>\n",
       "      <td>Mountain</td>\n",
       "      <td>Nevada</td>\n",
       "      <td>7058.0</td>\n",
       "      <td>486.0</td>\n",
       "      <td>3027341</td>\n",
       "      <td>0.002331</td>\n",
       "    </tr>\n",
       "  </tbody>\n",
       "</table>\n",
       "</div>"
      ],
      "text/plain": [
       "            region                 state  individuals  family_members  \\\n",
       "8   South Atlantic  District of Columbia       3770.0          3134.0   \n",
       "11         Pacific                Hawaii       4131.0          2399.0   \n",
       "4          Pacific            California     109008.0         20964.0   \n",
       "37         Pacific                Oregon      11139.0          3337.0   \n",
       "28        Mountain                Nevada       7058.0           486.0   \n",
       "\n",
       "    state_pop  indiv_per_capita  \n",
       "8      701547          0.005374  \n",
       "11    1420593          0.002908  \n",
       "4    39461588          0.002762  \n",
       "37    4181886          0.002664  \n",
       "28    3027341          0.002331  "
      ]
     },
     "execution_count": 71,
     "metadata": {},
     "output_type": "execute_result"
    }
   ],
   "source": [
    "homeless['indiv_per_capita'] = homeless['individuals'] / homeless['state_pop']\n",
    "hl_indiv_per_cap = homeless.sort_values('indiv_per_capita', ascending=False)\n",
    "hl_indiv_per_cap.head()"
   ]
  },
  {
   "cell_type": "code",
   "execution_count": 74,
   "id": "2dad2d16",
   "metadata": {},
   "outputs": [
    {
     "name": "stdout",
     "output_type": "stream",
     "text": [
      "District of Columbia\n"
     ]
    }
   ],
   "source": [
    "# 1.\tWhich state has the highest number of homeless individuals per capita?\n",
    "st_hi_hl_indi_per_cap = hl_indiv_per_cap.iloc[0, 1]\n",
    "print(st_hi_hl_indi_per_cap)"
   ]
  },
  {
   "cell_type": "code",
   "execution_count": 75,
   "id": "c8f26e35",
   "metadata": {},
   "outputs": [
    {
     "name": "stdout",
     "output_type": "stream",
     "text": [
      "0.002907940557218007\n"
     ]
    }
   ],
   "source": [
    "# 2.\tWhat is the per capita rate for the state with the second-highest number?\n",
    "per_cap_st_2nd_hi = hl_indiv_per_cap.iloc[1, 5]\n",
    "print(per_cap_st_2nd_hi)"
   ]
  },
  {
   "cell_type": "code",
   "execution_count": 78,
   "id": "c2e63516",
   "metadata": {},
   "outputs": [
    {
     "name": "stdout",
     "output_type": "stream",
     "text": [
      "Mississippi\n"
     ]
    },
    {
     "data": {
      "text/html": [
       "<div>\n",
       "<style scoped>\n",
       "    .dataframe tbody tr th:only-of-type {\n",
       "        vertical-align: middle;\n",
       "    }\n",
       "\n",
       "    .dataframe tbody tr th {\n",
       "        vertical-align: top;\n",
       "    }\n",
       "\n",
       "    .dataframe thead th {\n",
       "        text-align: right;\n",
       "    }\n",
       "</style>\n",
       "<table border=\"1\" class=\"dataframe\">\n",
       "  <thead>\n",
       "    <tr style=\"text-align: right;\">\n",
       "      <th></th>\n",
       "      <th>region</th>\n",
       "      <th>state</th>\n",
       "      <th>individuals</th>\n",
       "      <th>family_members</th>\n",
       "      <th>state_pop</th>\n",
       "      <th>indiv_per_capita</th>\n",
       "    </tr>\n",
       "  </thead>\n",
       "  <tbody>\n",
       "    <tr>\n",
       "      <th>24</th>\n",
       "      <td>East South Central</td>\n",
       "      <td>Mississippi</td>\n",
       "      <td>1024.0</td>\n",
       "      <td>328.0</td>\n",
       "      <td>2981020</td>\n",
       "      <td>0.000344</td>\n",
       "    </tr>\n",
       "  </tbody>\n",
       "</table>\n",
       "</div>"
      ],
      "text/plain": [
       "                region        state  individuals  family_members  state_pop  \\\n",
       "24  East South Central  Mississippi       1024.0           328.0    2981020   \n",
       "\n",
       "    indiv_per_capita  \n",
       "24          0.000344  "
      ]
     },
     "execution_count": 78,
     "metadata": {},
     "output_type": "execute_result"
    }
   ],
   "source": [
    "# 3.\tWhich state has the lowest number of homeless individuals per capita?\n",
    "st_low_hl_ind_per_cap = hl_indiv_per_cap.iloc[-1, 1]\n",
    "print(st_low_hl_ind_per_cap)\n",
    "hl_indiv_per_cap.tail(1)"
   ]
  },
  {
   "cell_type": "code",
   "execution_count": 83,
   "id": "de2ee1d7",
   "metadata": {},
   "outputs": [
    {
     "name": "stdout",
     "output_type": "stream",
     "text": [
      "13\n"
     ]
    },
    {
     "data": {
      "text/html": [
       "<div>\n",
       "<style scoped>\n",
       "    .dataframe tbody tr th:only-of-type {\n",
       "        vertical-align: middle;\n",
       "    }\n",
       "\n",
       "    .dataframe tbody tr th {\n",
       "        vertical-align: top;\n",
       "    }\n",
       "\n",
       "    .dataframe thead th {\n",
       "        text-align: right;\n",
       "    }\n",
       "</style>\n",
       "<table border=\"1\" class=\"dataframe\">\n",
       "  <thead>\n",
       "    <tr style=\"text-align: right;\">\n",
       "      <th></th>\n",
       "      <th>region</th>\n",
       "      <th>state</th>\n",
       "      <th>individuals</th>\n",
       "      <th>family_members</th>\n",
       "      <th>state_pop</th>\n",
       "      <th>indiv_per_capita</th>\n",
       "    </tr>\n",
       "  </thead>\n",
       "  <tbody>\n",
       "    <tr>\n",
       "      <th>8</th>\n",
       "      <td>South Atlantic</td>\n",
       "      <td>District of Columbia</td>\n",
       "      <td>3770.0</td>\n",
       "      <td>3134.0</td>\n",
       "      <td>701547</td>\n",
       "      <td>0.005374</td>\n",
       "    </tr>\n",
       "    <tr>\n",
       "      <th>11</th>\n",
       "      <td>Pacific</td>\n",
       "      <td>Hawaii</td>\n",
       "      <td>4131.0</td>\n",
       "      <td>2399.0</td>\n",
       "      <td>1420593</td>\n",
       "      <td>0.002908</td>\n",
       "    </tr>\n",
       "    <tr>\n",
       "      <th>4</th>\n",
       "      <td>Pacific</td>\n",
       "      <td>California</td>\n",
       "      <td>109008.0</td>\n",
       "      <td>20964.0</td>\n",
       "      <td>39461588</td>\n",
       "      <td>0.002762</td>\n",
       "    </tr>\n",
       "    <tr>\n",
       "      <th>37</th>\n",
       "      <td>Pacific</td>\n",
       "      <td>Oregon</td>\n",
       "      <td>11139.0</td>\n",
       "      <td>3337.0</td>\n",
       "      <td>4181886</td>\n",
       "      <td>0.002664</td>\n",
       "    </tr>\n",
       "    <tr>\n",
       "      <th>28</th>\n",
       "      <td>Mountain</td>\n",
       "      <td>Nevada</td>\n",
       "      <td>7058.0</td>\n",
       "      <td>486.0</td>\n",
       "      <td>3027341</td>\n",
       "      <td>0.002331</td>\n",
       "    </tr>\n",
       "    <tr>\n",
       "      <th>47</th>\n",
       "      <td>Pacific</td>\n",
       "      <td>Washington</td>\n",
       "      <td>16424.0</td>\n",
       "      <td>5880.0</td>\n",
       "      <td>7523869</td>\n",
       "      <td>0.002183</td>\n",
       "    </tr>\n",
       "    <tr>\n",
       "      <th>32</th>\n",
       "      <td>Mid-Atlantic</td>\n",
       "      <td>New York</td>\n",
       "      <td>39827.0</td>\n",
       "      <td>52070.0</td>\n",
       "      <td>19530351</td>\n",
       "      <td>0.002039</td>\n",
       "    </tr>\n",
       "    <tr>\n",
       "      <th>1</th>\n",
       "      <td>Pacific</td>\n",
       "      <td>Alaska</td>\n",
       "      <td>1434.0</td>\n",
       "      <td>582.0</td>\n",
       "      <td>735139</td>\n",
       "      <td>0.001951</td>\n",
       "    </tr>\n",
       "    <tr>\n",
       "      <th>5</th>\n",
       "      <td>Mountain</td>\n",
       "      <td>Colorado</td>\n",
       "      <td>7607.0</td>\n",
       "      <td>3250.0</td>\n",
       "      <td>5691287</td>\n",
       "      <td>0.001337</td>\n",
       "    </tr>\n",
       "    <tr>\n",
       "      <th>45</th>\n",
       "      <td>New England</td>\n",
       "      <td>Vermont</td>\n",
       "      <td>780.0</td>\n",
       "      <td>511.0</td>\n",
       "      <td>624358</td>\n",
       "      <td>0.001249</td>\n",
       "    </tr>\n",
       "    <tr>\n",
       "      <th>19</th>\n",
       "      <td>New England</td>\n",
       "      <td>Maine</td>\n",
       "      <td>1450.0</td>\n",
       "      <td>1066.0</td>\n",
       "      <td>1339057</td>\n",
       "      <td>0.001083</td>\n",
       "    </tr>\n",
       "    <tr>\n",
       "      <th>2</th>\n",
       "      <td>Mountain</td>\n",
       "      <td>Arizona</td>\n",
       "      <td>7259.0</td>\n",
       "      <td>2606.0</td>\n",
       "      <td>7158024</td>\n",
       "      <td>0.001014</td>\n",
       "    </tr>\n",
       "    <tr>\n",
       "      <th>9</th>\n",
       "      <td>South Atlantic</td>\n",
       "      <td>Florida</td>\n",
       "      <td>21443.0</td>\n",
       "      <td>9587.0</td>\n",
       "      <td>21244317</td>\n",
       "      <td>0.001009</td>\n",
       "    </tr>\n",
       "  </tbody>\n",
       "</table>\n",
       "</div>"
      ],
      "text/plain": [
       "            region                 state  individuals  family_members  \\\n",
       "8   South Atlantic  District of Columbia       3770.0          3134.0   \n",
       "11         Pacific                Hawaii       4131.0          2399.0   \n",
       "4          Pacific            California     109008.0         20964.0   \n",
       "37         Pacific                Oregon      11139.0          3337.0   \n",
       "28        Mountain                Nevada       7058.0           486.0   \n",
       "47         Pacific            Washington      16424.0          5880.0   \n",
       "32    Mid-Atlantic              New York      39827.0         52070.0   \n",
       "1          Pacific                Alaska       1434.0           582.0   \n",
       "5         Mountain              Colorado       7607.0          3250.0   \n",
       "45     New England               Vermont        780.0           511.0   \n",
       "19     New England                 Maine       1450.0          1066.0   \n",
       "2         Mountain               Arizona       7259.0          2606.0   \n",
       "9   South Atlantic               Florida      21443.0          9587.0   \n",
       "\n",
       "    state_pop  indiv_per_capita  \n",
       "8      701547          0.005374  \n",
       "11    1420593          0.002908  \n",
       "4    39461588          0.002762  \n",
       "37    4181886          0.002664  \n",
       "28    3027341          0.002331  \n",
       "47    7523869          0.002183  \n",
       "32   19530351          0.002039  \n",
       "1      735139          0.001951  \n",
       "5     5691287          0.001337  \n",
       "45     624358          0.001249  \n",
       "19    1339057          0.001083  \n",
       "2     7158024          0.001014  \n",
       "9    21244317          0.001009  "
      ]
     },
     "execution_count": 83,
     "metadata": {},
     "output_type": "execute_result"
    }
   ],
   "source": [
    "# 4.\tHow many states have a per capita rate higher than 0.001?\n",
    "count_st_per_cap_hl_ind_gt_1 = (hl_indiv_per_cap['indiv_per_capita'] > 0.001).sum()\n",
    "print(count_st_per_cap_hl_ind_gt_1)\n",
    "hl_indiv_per_cap[hl_indiv_per_cap['indiv_per_capita'] > 0.001]"
   ]
  },
  {
   "cell_type": "markdown",
   "id": "d06d341b",
   "metadata": {},
   "source": [
    "## 7.\tSort by Family Members per Capita:\n",
    "o\tProblem: Add a new column for homeless family members per capita (family_members/state_pop), then sort by this new column in ascending order.\n",
    "\n",
    "o\tQuestions:\n",
    "\n",
    "1.\tWhich state has the fewest homeless family members per capita?\n",
    "\n",
    "2.\tWhat is the per capita rate for the state with the highest number?\n",
    "\n",
    "3.\tWhich states have a per capita rate higher than 0.0005?\n",
    "\n",
    "4.\tHow many states have a per capita rate lower than 0.0001?\n"
   ]
  },
  {
   "cell_type": "code",
   "execution_count": 84,
   "id": "bb8d5f44",
   "metadata": {
    "scrolled": false
   },
   "outputs": [
    {
     "data": {
      "text/html": [
       "<div>\n",
       "<style scoped>\n",
       "    .dataframe tbody tr th:only-of-type {\n",
       "        vertical-align: middle;\n",
       "    }\n",
       "\n",
       "    .dataframe tbody tr th {\n",
       "        vertical-align: top;\n",
       "    }\n",
       "\n",
       "    .dataframe thead th {\n",
       "        text-align: right;\n",
       "    }\n",
       "</style>\n",
       "<table border=\"1\" class=\"dataframe\">\n",
       "  <thead>\n",
       "    <tr style=\"text-align: right;\">\n",
       "      <th></th>\n",
       "      <th>region</th>\n",
       "      <th>state</th>\n",
       "      <th>individuals</th>\n",
       "      <th>family_members</th>\n",
       "      <th>state_pop</th>\n",
       "      <th>indiv_per_capita</th>\n",
       "      <th>fm_per_cap</th>\n",
       "    </tr>\n",
       "  </thead>\n",
       "  <tbody>\n",
       "    <tr>\n",
       "      <th>34</th>\n",
       "      <td>West North Central</td>\n",
       "      <td>North Dakota</td>\n",
       "      <td>467.0</td>\n",
       "      <td>75.0</td>\n",
       "      <td>758080</td>\n",
       "      <td>0.000616</td>\n",
       "      <td>0.000099</td>\n",
       "    </tr>\n",
       "    <tr>\n",
       "      <th>24</th>\n",
       "      <td>East South Central</td>\n",
       "      <td>Mississippi</td>\n",
       "      <td>1024.0</td>\n",
       "      <td>328.0</td>\n",
       "      <td>2981020</td>\n",
       "      <td>0.000344</td>\n",
       "      <td>0.000110</td>\n",
       "    </tr>\n",
       "    <tr>\n",
       "      <th>18</th>\n",
       "      <td>West South Central</td>\n",
       "      <td>Louisiana</td>\n",
       "      <td>2540.0</td>\n",
       "      <td>519.0</td>\n",
       "      <td>4659690</td>\n",
       "      <td>0.000545</td>\n",
       "      <td>0.000111</td>\n",
       "    </tr>\n",
       "    <tr>\n",
       "      <th>48</th>\n",
       "      <td>South Atlantic</td>\n",
       "      <td>West Virginia</td>\n",
       "      <td>1021.0</td>\n",
       "      <td>222.0</td>\n",
       "      <td>1804291</td>\n",
       "      <td>0.000566</td>\n",
       "      <td>0.000123</td>\n",
       "    </tr>\n",
       "    <tr>\n",
       "      <th>3</th>\n",
       "      <td>West South Central</td>\n",
       "      <td>Arkansas</td>\n",
       "      <td>2280.0</td>\n",
       "      <td>432.0</td>\n",
       "      <td>3009733</td>\n",
       "      <td>0.000758</td>\n",
       "      <td>0.000144</td>\n",
       "    </tr>\n",
       "  </tbody>\n",
       "</table>\n",
       "</div>"
      ],
      "text/plain": [
       "                region          state  individuals  family_members  state_pop  \\\n",
       "34  West North Central   North Dakota        467.0            75.0     758080   \n",
       "24  East South Central    Mississippi       1024.0           328.0    2981020   \n",
       "18  West South Central      Louisiana       2540.0           519.0    4659690   \n",
       "48      South Atlantic  West Virginia       1021.0           222.0    1804291   \n",
       "3   West South Central       Arkansas       2280.0           432.0    3009733   \n",
       "\n",
       "    indiv_per_capita  fm_per_cap  \n",
       "34          0.000616    0.000099  \n",
       "24          0.000344    0.000110  \n",
       "18          0.000545    0.000111  \n",
       "48          0.000566    0.000123  \n",
       "3           0.000758    0.000144  "
      ]
     },
     "execution_count": 84,
     "metadata": {},
     "output_type": "execute_result"
    }
   ],
   "source": [
    "homeless['fm_per_cap'] = homeless['family_members'] / homeless['state_pop']\n",
    "hl_fm_per_c = homeless.sort_values('fm_per_cap')\n",
    "hl_fm_per_c.head()"
   ]
  },
  {
   "cell_type": "code",
   "execution_count": 85,
   "id": "675be6a7",
   "metadata": {},
   "outputs": [
    {
     "data": {
      "text/plain": [
       "'North Dakota'"
      ]
     },
     "execution_count": 85,
     "metadata": {},
     "output_type": "execute_result"
    }
   ],
   "source": [
    "# 1.\tWhich state has the fewest homeless family members per capita?\n",
    "st_few_hl_fm_p_c = hl_fm_per_c.iloc[0, 1]\n",
    "st_few_hl_fm_p_c"
   ]
  },
  {
   "cell_type": "code",
   "execution_count": 88,
   "id": "732b2fc5",
   "metadata": {},
   "outputs": [
    {
     "name": "stdout",
     "output_type": "stream",
     "text": [
      "0.004467270190022907\n"
     ]
    },
    {
     "data": {
      "text/html": [
       "<div>\n",
       "<style scoped>\n",
       "    .dataframe tbody tr th:only-of-type {\n",
       "        vertical-align: middle;\n",
       "    }\n",
       "\n",
       "    .dataframe tbody tr th {\n",
       "        vertical-align: top;\n",
       "    }\n",
       "\n",
       "    .dataframe thead th {\n",
       "        text-align: right;\n",
       "    }\n",
       "</style>\n",
       "<table border=\"1\" class=\"dataframe\">\n",
       "  <thead>\n",
       "    <tr style=\"text-align: right;\">\n",
       "      <th></th>\n",
       "      <th>region</th>\n",
       "      <th>state</th>\n",
       "      <th>individuals</th>\n",
       "      <th>family_members</th>\n",
       "      <th>state_pop</th>\n",
       "      <th>indiv_per_capita</th>\n",
       "      <th>fm_per_cap</th>\n",
       "    </tr>\n",
       "  </thead>\n",
       "  <tbody>\n",
       "    <tr>\n",
       "      <th>8</th>\n",
       "      <td>South Atlantic</td>\n",
       "      <td>District of Columbia</td>\n",
       "      <td>3770.0</td>\n",
       "      <td>3134.0</td>\n",
       "      <td>701547</td>\n",
       "      <td>0.005374</td>\n",
       "      <td>0.004467</td>\n",
       "    </tr>\n",
       "  </tbody>\n",
       "</table>\n",
       "</div>"
      ],
      "text/plain": [
       "           region                 state  individuals  family_members  \\\n",
       "8  South Atlantic  District of Columbia       3770.0          3134.0   \n",
       "\n",
       "   state_pop  indiv_per_capita  fm_per_cap  \n",
       "8     701547          0.005374    0.004467  "
      ]
     },
     "execution_count": 88,
     "metadata": {},
     "output_type": "execute_result"
    }
   ],
   "source": [
    "# 2.\tWhat is the per capita rate for the state with the highest number?\n",
    "p_c_st_hi = hl_fm_per_c.iloc[-1, 6]\n",
    "print(p_c_st_hi)\n",
    "hl_fm_per_c.tail(1)"
   ]
  },
  {
   "cell_type": "code",
   "execution_count": 90,
   "id": "85a44d81",
   "metadata": {},
   "outputs": [
    {
     "name": "stdout",
     "output_type": "stream",
     "text": [
      "['California', 'Colorado', 'Minnesota', 'Washington', 'Alaska', 'Maine', 'Oregon', 'Vermont', 'Hawaii', 'Massachusetts', 'New York', 'District of Columbia']\n"
     ]
    },
    {
     "data": {
      "text/html": [
       "<div>\n",
       "<style scoped>\n",
       "    .dataframe tbody tr th:only-of-type {\n",
       "        vertical-align: middle;\n",
       "    }\n",
       "\n",
       "    .dataframe tbody tr th {\n",
       "        vertical-align: top;\n",
       "    }\n",
       "\n",
       "    .dataframe thead th {\n",
       "        text-align: right;\n",
       "    }\n",
       "</style>\n",
       "<table border=\"1\" class=\"dataframe\">\n",
       "  <thead>\n",
       "    <tr style=\"text-align: right;\">\n",
       "      <th></th>\n",
       "      <th>region</th>\n",
       "      <th>state</th>\n",
       "      <th>individuals</th>\n",
       "      <th>family_members</th>\n",
       "      <th>state_pop</th>\n",
       "      <th>indiv_per_capita</th>\n",
       "      <th>fm_per_cap</th>\n",
       "    </tr>\n",
       "  </thead>\n",
       "  <tbody>\n",
       "    <tr>\n",
       "      <th>4</th>\n",
       "      <td>Pacific</td>\n",
       "      <td>California</td>\n",
       "      <td>109008.0</td>\n",
       "      <td>20964.0</td>\n",
       "      <td>39461588</td>\n",
       "      <td>0.002762</td>\n",
       "      <td>0.000531</td>\n",
       "    </tr>\n",
       "    <tr>\n",
       "      <th>5</th>\n",
       "      <td>Mountain</td>\n",
       "      <td>Colorado</td>\n",
       "      <td>7607.0</td>\n",
       "      <td>3250.0</td>\n",
       "      <td>5691287</td>\n",
       "      <td>0.001337</td>\n",
       "      <td>0.000571</td>\n",
       "    </tr>\n",
       "    <tr>\n",
       "      <th>23</th>\n",
       "      <td>West North Central</td>\n",
       "      <td>Minnesota</td>\n",
       "      <td>3993.0</td>\n",
       "      <td>3250.0</td>\n",
       "      <td>5606249</td>\n",
       "      <td>0.000712</td>\n",
       "      <td>0.000580</td>\n",
       "    </tr>\n",
       "    <tr>\n",
       "      <th>47</th>\n",
       "      <td>Pacific</td>\n",
       "      <td>Washington</td>\n",
       "      <td>16424.0</td>\n",
       "      <td>5880.0</td>\n",
       "      <td>7523869</td>\n",
       "      <td>0.002183</td>\n",
       "      <td>0.000782</td>\n",
       "    </tr>\n",
       "    <tr>\n",
       "      <th>1</th>\n",
       "      <td>Pacific</td>\n",
       "      <td>Alaska</td>\n",
       "      <td>1434.0</td>\n",
       "      <td>582.0</td>\n",
       "      <td>735139</td>\n",
       "      <td>0.001951</td>\n",
       "      <td>0.000792</td>\n",
       "    </tr>\n",
       "    <tr>\n",
       "      <th>19</th>\n",
       "      <td>New England</td>\n",
       "      <td>Maine</td>\n",
       "      <td>1450.0</td>\n",
       "      <td>1066.0</td>\n",
       "      <td>1339057</td>\n",
       "      <td>0.001083</td>\n",
       "      <td>0.000796</td>\n",
       "    </tr>\n",
       "    <tr>\n",
       "      <th>37</th>\n",
       "      <td>Pacific</td>\n",
       "      <td>Oregon</td>\n",
       "      <td>11139.0</td>\n",
       "      <td>3337.0</td>\n",
       "      <td>4181886</td>\n",
       "      <td>0.002664</td>\n",
       "      <td>0.000798</td>\n",
       "    </tr>\n",
       "    <tr>\n",
       "      <th>45</th>\n",
       "      <td>New England</td>\n",
       "      <td>Vermont</td>\n",
       "      <td>780.0</td>\n",
       "      <td>511.0</td>\n",
       "      <td>624358</td>\n",
       "      <td>0.001249</td>\n",
       "      <td>0.000818</td>\n",
       "    </tr>\n",
       "    <tr>\n",
       "      <th>11</th>\n",
       "      <td>Pacific</td>\n",
       "      <td>Hawaii</td>\n",
       "      <td>4131.0</td>\n",
       "      <td>2399.0</td>\n",
       "      <td>1420593</td>\n",
       "      <td>0.002908</td>\n",
       "      <td>0.001689</td>\n",
       "    </tr>\n",
       "    <tr>\n",
       "      <th>21</th>\n",
       "      <td>New England</td>\n",
       "      <td>Massachusetts</td>\n",
       "      <td>6811.0</td>\n",
       "      <td>13257.0</td>\n",
       "      <td>6882635</td>\n",
       "      <td>0.000990</td>\n",
       "      <td>0.001926</td>\n",
       "    </tr>\n",
       "    <tr>\n",
       "      <th>32</th>\n",
       "      <td>Mid-Atlantic</td>\n",
       "      <td>New York</td>\n",
       "      <td>39827.0</td>\n",
       "      <td>52070.0</td>\n",
       "      <td>19530351</td>\n",
       "      <td>0.002039</td>\n",
       "      <td>0.002666</td>\n",
       "    </tr>\n",
       "    <tr>\n",
       "      <th>8</th>\n",
       "      <td>South Atlantic</td>\n",
       "      <td>District of Columbia</td>\n",
       "      <td>3770.0</td>\n",
       "      <td>3134.0</td>\n",
       "      <td>701547</td>\n",
       "      <td>0.005374</td>\n",
       "      <td>0.004467</td>\n",
       "    </tr>\n",
       "  </tbody>\n",
       "</table>\n",
       "</div>"
      ],
      "text/plain": [
       "                region                 state  individuals  family_members  \\\n",
       "4              Pacific            California     109008.0         20964.0   \n",
       "5             Mountain              Colorado       7607.0          3250.0   \n",
       "23  West North Central             Minnesota       3993.0          3250.0   \n",
       "47             Pacific            Washington      16424.0          5880.0   \n",
       "1              Pacific                Alaska       1434.0           582.0   \n",
       "19         New England                 Maine       1450.0          1066.0   \n",
       "37             Pacific                Oregon      11139.0          3337.0   \n",
       "45         New England               Vermont        780.0           511.0   \n",
       "11             Pacific                Hawaii       4131.0          2399.0   \n",
       "21         New England         Massachusetts       6811.0         13257.0   \n",
       "32        Mid-Atlantic              New York      39827.0         52070.0   \n",
       "8       South Atlantic  District of Columbia       3770.0          3134.0   \n",
       "\n",
       "    state_pop  indiv_per_capita  fm_per_cap  \n",
       "4    39461588          0.002762    0.000531  \n",
       "5     5691287          0.001337    0.000571  \n",
       "23    5606249          0.000712    0.000580  \n",
       "47    7523869          0.002183    0.000782  \n",
       "1      735139          0.001951    0.000792  \n",
       "19    1339057          0.001083    0.000796  \n",
       "37    4181886          0.002664    0.000798  \n",
       "45     624358          0.001249    0.000818  \n",
       "11    1420593          0.002908    0.001689  \n",
       "21    6882635          0.000990    0.001926  \n",
       "32   19530351          0.002039    0.002666  \n",
       "8      701547          0.005374    0.004467  "
      ]
     },
     "execution_count": 90,
     "metadata": {},
     "output_type": "execute_result"
    }
   ],
   "source": [
    "# 3.\tWhich states have a per capita rate higher than 0.0005?\n",
    "st_p_c_h = []\n",
    "for lab, row in hl_fm_per_c[hl_fm_per_c['fm_per_cap'] > 0.0005].iterrows():\n",
    "    st_p_c_h.append(row['state'])\n",
    "print(st_p_c_h)\n",
    "hl_fm_per_c[hl_fm_per_c['fm_per_cap'] > 0.0005]"
   ]
  },
  {
   "cell_type": "code",
   "execution_count": 93,
   "id": "ff332e01",
   "metadata": {},
   "outputs": [
    {
     "name": "stdout",
     "output_type": "stream",
     "text": [
      "1\n"
     ]
    },
    {
     "data": {
      "text/html": [
       "<div>\n",
       "<style scoped>\n",
       "    .dataframe tbody tr th:only-of-type {\n",
       "        vertical-align: middle;\n",
       "    }\n",
       "\n",
       "    .dataframe tbody tr th {\n",
       "        vertical-align: top;\n",
       "    }\n",
       "\n",
       "    .dataframe thead th {\n",
       "        text-align: right;\n",
       "    }\n",
       "</style>\n",
       "<table border=\"1\" class=\"dataframe\">\n",
       "  <thead>\n",
       "    <tr style=\"text-align: right;\">\n",
       "      <th></th>\n",
       "      <th>region</th>\n",
       "      <th>state</th>\n",
       "      <th>individuals</th>\n",
       "      <th>family_members</th>\n",
       "      <th>state_pop</th>\n",
       "      <th>indiv_per_capita</th>\n",
       "      <th>fm_per_cap</th>\n",
       "    </tr>\n",
       "  </thead>\n",
       "  <tbody>\n",
       "    <tr>\n",
       "      <th>34</th>\n",
       "      <td>West North Central</td>\n",
       "      <td>North Dakota</td>\n",
       "      <td>467.0</td>\n",
       "      <td>75.0</td>\n",
       "      <td>758080</td>\n",
       "      <td>0.000616</td>\n",
       "      <td>0.000099</td>\n",
       "    </tr>\n",
       "  </tbody>\n",
       "</table>\n",
       "</div>"
      ],
      "text/plain": [
       "                region         state  individuals  family_members  state_pop  \\\n",
       "34  West North Central  North Dakota        467.0            75.0     758080   \n",
       "\n",
       "    indiv_per_capita  fm_per_cap  \n",
       "34          0.000616    0.000099  "
      ]
     },
     "execution_count": 93,
     "metadata": {},
     "output_type": "execute_result"
    }
   ],
   "source": [
    "# 4.\tHow many states have a per capita rate lower than 0.0001?\n",
    "count_fm_p_c_low = (hl_fm_per_c['fm_per_cap'] < 0.0001).sum()\n",
    "print(count_fm_p_c_low)\n",
    "hl_fm_per_c[hl_fm_per_c['fm_per_cap'] < 0.0001]"
   ]
  },
  {
   "cell_type": "markdown",
   "id": "86f257cb",
   "metadata": {},
   "source": [
    "## 8.\tSort by Total Homeless:\n",
    "o\tProblem: Add a new column for the total number of homeless people (individuals + family_members), then sort by this new column in descending order.\n",
    "\n",
    "o\tQuestions:\n",
    "\n",
    "1.\tWhich state has the highest total number of homeless people?\n",
    "\n",
    "2.\tWhat is the total number of homeless people in the state with the second-highest total?\n",
    "\n",
    "3.\tWhich state has the lowest total number of homeless people?\n",
    "\n",
    "4.\tHow many states have a total number of homeless people greater than 10,000?\n"
   ]
  },
  {
   "cell_type": "code",
   "execution_count": 95,
   "id": "c6dc57cf",
   "metadata": {
    "scrolled": true
   },
   "outputs": [
    {
     "data": {
      "text/html": [
       "<div>\n",
       "<style scoped>\n",
       "    .dataframe tbody tr th:only-of-type {\n",
       "        vertical-align: middle;\n",
       "    }\n",
       "\n",
       "    .dataframe tbody tr th {\n",
       "        vertical-align: top;\n",
       "    }\n",
       "\n",
       "    .dataframe thead th {\n",
       "        text-align: right;\n",
       "    }\n",
       "</style>\n",
       "<table border=\"1\" class=\"dataframe\">\n",
       "  <thead>\n",
       "    <tr style=\"text-align: right;\">\n",
       "      <th></th>\n",
       "      <th>region</th>\n",
       "      <th>state</th>\n",
       "      <th>individuals</th>\n",
       "      <th>family_members</th>\n",
       "      <th>state_pop</th>\n",
       "      <th>indiv_per_capita</th>\n",
       "      <th>fm_per_cap</th>\n",
       "      <th>total_homeless</th>\n",
       "    </tr>\n",
       "  </thead>\n",
       "  <tbody>\n",
       "    <tr>\n",
       "      <th>4</th>\n",
       "      <td>Pacific</td>\n",
       "      <td>California</td>\n",
       "      <td>109008.0</td>\n",
       "      <td>20964.0</td>\n",
       "      <td>39461588</td>\n",
       "      <td>0.002762</td>\n",
       "      <td>0.000531</td>\n",
       "      <td>129972.0</td>\n",
       "    </tr>\n",
       "    <tr>\n",
       "      <th>32</th>\n",
       "      <td>Mid-Atlantic</td>\n",
       "      <td>New York</td>\n",
       "      <td>39827.0</td>\n",
       "      <td>52070.0</td>\n",
       "      <td>19530351</td>\n",
       "      <td>0.002039</td>\n",
       "      <td>0.002666</td>\n",
       "      <td>91897.0</td>\n",
       "    </tr>\n",
       "    <tr>\n",
       "      <th>9</th>\n",
       "      <td>South Atlantic</td>\n",
       "      <td>Florida</td>\n",
       "      <td>21443.0</td>\n",
       "      <td>9587.0</td>\n",
       "      <td>21244317</td>\n",
       "      <td>0.001009</td>\n",
       "      <td>0.000451</td>\n",
       "      <td>31030.0</td>\n",
       "    </tr>\n",
       "    <tr>\n",
       "      <th>43</th>\n",
       "      <td>West South Central</td>\n",
       "      <td>Texas</td>\n",
       "      <td>19199.0</td>\n",
       "      <td>6111.0</td>\n",
       "      <td>28628666</td>\n",
       "      <td>0.000671</td>\n",
       "      <td>0.000213</td>\n",
       "      <td>25310.0</td>\n",
       "    </tr>\n",
       "    <tr>\n",
       "      <th>47</th>\n",
       "      <td>Pacific</td>\n",
       "      <td>Washington</td>\n",
       "      <td>16424.0</td>\n",
       "      <td>5880.0</td>\n",
       "      <td>7523869</td>\n",
       "      <td>0.002183</td>\n",
       "      <td>0.000782</td>\n",
       "      <td>22304.0</td>\n",
       "    </tr>\n",
       "  </tbody>\n",
       "</table>\n",
       "</div>"
      ],
      "text/plain": [
       "                region       state  individuals  family_members  state_pop  \\\n",
       "4              Pacific  California     109008.0         20964.0   39461588   \n",
       "32        Mid-Atlantic    New York      39827.0         52070.0   19530351   \n",
       "9       South Atlantic     Florida      21443.0          9587.0   21244317   \n",
       "43  West South Central       Texas      19199.0          6111.0   28628666   \n",
       "47             Pacific  Washington      16424.0          5880.0    7523869   \n",
       "\n",
       "    indiv_per_capita  fm_per_cap  total_homeless  \n",
       "4           0.002762    0.000531        129972.0  \n",
       "32          0.002039    0.002666         91897.0  \n",
       "9           0.001009    0.000451         31030.0  \n",
       "43          0.000671    0.000213         25310.0  \n",
       "47          0.002183    0.000782         22304.0  "
      ]
     },
     "execution_count": 95,
     "metadata": {},
     "output_type": "execute_result"
    }
   ],
   "source": [
    "homeless['total_homeless'] = homeless['individuals'] + homeless['family_members']\n",
    "hl_tot = homeless.sort_values('total_homeless', ascending=False)\n",
    "hl_tot.head()"
   ]
  },
  {
   "cell_type": "code",
   "execution_count": 96,
   "id": "cf12826d",
   "metadata": {},
   "outputs": [
    {
     "data": {
      "text/plain": [
       "'California'"
      ]
     },
     "execution_count": 96,
     "metadata": {},
     "output_type": "execute_result"
    }
   ],
   "source": [
    "# 1.\tWhich state has the highest total number of homeless people?\n",
    "st_hi_tot_hl = hl_tot.iloc[0, 1]\n",
    "st_hi_tot_hl"
   ]
  },
  {
   "cell_type": "code",
   "execution_count": 97,
   "id": "6441dcf7",
   "metadata": {},
   "outputs": [
    {
     "name": "stdout",
     "output_type": "stream",
     "text": [
      "91897.0\n"
     ]
    }
   ],
   "source": [
    "# 2.\tWhat is the total number of homeless people in the state with the second-highest total?\n",
    "tot_hl_2nd_hi = hl_tot.iloc[1, 7]\n",
    "print(tot_hl_2nd_hi)"
   ]
  },
  {
   "cell_type": "code",
   "execution_count": 99,
   "id": "bedfd910",
   "metadata": {},
   "outputs": [
    {
     "name": "stdout",
     "output_type": "stream",
     "text": [
      "North Dakota\n"
     ]
    },
    {
     "data": {
      "text/html": [
       "<div>\n",
       "<style scoped>\n",
       "    .dataframe tbody tr th:only-of-type {\n",
       "        vertical-align: middle;\n",
       "    }\n",
       "\n",
       "    .dataframe tbody tr th {\n",
       "        vertical-align: top;\n",
       "    }\n",
       "\n",
       "    .dataframe thead th {\n",
       "        text-align: right;\n",
       "    }\n",
       "</style>\n",
       "<table border=\"1\" class=\"dataframe\">\n",
       "  <thead>\n",
       "    <tr style=\"text-align: right;\">\n",
       "      <th></th>\n",
       "      <th>region</th>\n",
       "      <th>state</th>\n",
       "      <th>individuals</th>\n",
       "      <th>family_members</th>\n",
       "      <th>state_pop</th>\n",
       "      <th>indiv_per_capita</th>\n",
       "      <th>fm_per_cap</th>\n",
       "      <th>total_homeless</th>\n",
       "    </tr>\n",
       "  </thead>\n",
       "  <tbody>\n",
       "    <tr>\n",
       "      <th>34</th>\n",
       "      <td>West North Central</td>\n",
       "      <td>North Dakota</td>\n",
       "      <td>467.0</td>\n",
       "      <td>75.0</td>\n",
       "      <td>758080</td>\n",
       "      <td>0.000616</td>\n",
       "      <td>0.000099</td>\n",
       "      <td>542.0</td>\n",
       "    </tr>\n",
       "  </tbody>\n",
       "</table>\n",
       "</div>"
      ],
      "text/plain": [
       "                region         state  individuals  family_members  state_pop  \\\n",
       "34  West North Central  North Dakota        467.0            75.0     758080   \n",
       "\n",
       "    indiv_per_capita  fm_per_cap  total_homeless  \n",
       "34          0.000616    0.000099           542.0  "
      ]
     },
     "execution_count": 99,
     "metadata": {},
     "output_type": "execute_result"
    }
   ],
   "source": [
    "# 3.\tWhich state has the lowest total number of homeless people?\n",
    "st_low_hl_tot = hl_tot.iloc[-1, 1]\n",
    "print(st_low_hl_tot)\n",
    "hl_tot.tail(1)"
   ]
  },
  {
   "cell_type": "code",
   "execution_count": 101,
   "id": "95f10b64",
   "metadata": {},
   "outputs": [
    {
     "name": "stdout",
     "output_type": "stream",
     "text": [
      "11\n"
     ]
    },
    {
     "data": {
      "text/html": [
       "<div>\n",
       "<style scoped>\n",
       "    .dataframe tbody tr th:only-of-type {\n",
       "        vertical-align: middle;\n",
       "    }\n",
       "\n",
       "    .dataframe tbody tr th {\n",
       "        vertical-align: top;\n",
       "    }\n",
       "\n",
       "    .dataframe thead th {\n",
       "        text-align: right;\n",
       "    }\n",
       "</style>\n",
       "<table border=\"1\" class=\"dataframe\">\n",
       "  <thead>\n",
       "    <tr style=\"text-align: right;\">\n",
       "      <th></th>\n",
       "      <th>region</th>\n",
       "      <th>state</th>\n",
       "      <th>individuals</th>\n",
       "      <th>family_members</th>\n",
       "      <th>state_pop</th>\n",
       "      <th>indiv_per_capita</th>\n",
       "      <th>fm_per_cap</th>\n",
       "      <th>total_homeless</th>\n",
       "    </tr>\n",
       "  </thead>\n",
       "  <tbody>\n",
       "    <tr>\n",
       "      <th>4</th>\n",
       "      <td>Pacific</td>\n",
       "      <td>California</td>\n",
       "      <td>109008.0</td>\n",
       "      <td>20964.0</td>\n",
       "      <td>39461588</td>\n",
       "      <td>0.002762</td>\n",
       "      <td>0.000531</td>\n",
       "      <td>129972.0</td>\n",
       "    </tr>\n",
       "    <tr>\n",
       "      <th>32</th>\n",
       "      <td>Mid-Atlantic</td>\n",
       "      <td>New York</td>\n",
       "      <td>39827.0</td>\n",
       "      <td>52070.0</td>\n",
       "      <td>19530351</td>\n",
       "      <td>0.002039</td>\n",
       "      <td>0.002666</td>\n",
       "      <td>91897.0</td>\n",
       "    </tr>\n",
       "    <tr>\n",
       "      <th>9</th>\n",
       "      <td>South Atlantic</td>\n",
       "      <td>Florida</td>\n",
       "      <td>21443.0</td>\n",
       "      <td>9587.0</td>\n",
       "      <td>21244317</td>\n",
       "      <td>0.001009</td>\n",
       "      <td>0.000451</td>\n",
       "      <td>31030.0</td>\n",
       "    </tr>\n",
       "    <tr>\n",
       "      <th>43</th>\n",
       "      <td>West South Central</td>\n",
       "      <td>Texas</td>\n",
       "      <td>19199.0</td>\n",
       "      <td>6111.0</td>\n",
       "      <td>28628666</td>\n",
       "      <td>0.000671</td>\n",
       "      <td>0.000213</td>\n",
       "      <td>25310.0</td>\n",
       "    </tr>\n",
       "    <tr>\n",
       "      <th>47</th>\n",
       "      <td>Pacific</td>\n",
       "      <td>Washington</td>\n",
       "      <td>16424.0</td>\n",
       "      <td>5880.0</td>\n",
       "      <td>7523869</td>\n",
       "      <td>0.002183</td>\n",
       "      <td>0.000782</td>\n",
       "      <td>22304.0</td>\n",
       "    </tr>\n",
       "    <tr>\n",
       "      <th>21</th>\n",
       "      <td>New England</td>\n",
       "      <td>Massachusetts</td>\n",
       "      <td>6811.0</td>\n",
       "      <td>13257.0</td>\n",
       "      <td>6882635</td>\n",
       "      <td>0.000990</td>\n",
       "      <td>0.001926</td>\n",
       "      <td>20068.0</td>\n",
       "    </tr>\n",
       "    <tr>\n",
       "      <th>37</th>\n",
       "      <td>Pacific</td>\n",
       "      <td>Oregon</td>\n",
       "      <td>11139.0</td>\n",
       "      <td>3337.0</td>\n",
       "      <td>4181886</td>\n",
       "      <td>0.002664</td>\n",
       "      <td>0.000798</td>\n",
       "      <td>14476.0</td>\n",
       "    </tr>\n",
       "    <tr>\n",
       "      <th>38</th>\n",
       "      <td>Mid-Atlantic</td>\n",
       "      <td>Pennsylvania</td>\n",
       "      <td>8163.0</td>\n",
       "      <td>5349.0</td>\n",
       "      <td>12800922</td>\n",
       "      <td>0.000638</td>\n",
       "      <td>0.000418</td>\n",
       "      <td>13512.0</td>\n",
       "    </tr>\n",
       "    <tr>\n",
       "      <th>5</th>\n",
       "      <td>Mountain</td>\n",
       "      <td>Colorado</td>\n",
       "      <td>7607.0</td>\n",
       "      <td>3250.0</td>\n",
       "      <td>5691287</td>\n",
       "      <td>0.001337</td>\n",
       "      <td>0.000571</td>\n",
       "      <td>10857.0</td>\n",
       "    </tr>\n",
       "    <tr>\n",
       "      <th>13</th>\n",
       "      <td>East North Central</td>\n",
       "      <td>Illinois</td>\n",
       "      <td>6752.0</td>\n",
       "      <td>3891.0</td>\n",
       "      <td>12723071</td>\n",
       "      <td>0.000531</td>\n",
       "      <td>0.000306</td>\n",
       "      <td>10643.0</td>\n",
       "    </tr>\n",
       "    <tr>\n",
       "      <th>35</th>\n",
       "      <td>East North Central</td>\n",
       "      <td>Ohio</td>\n",
       "      <td>6929.0</td>\n",
       "      <td>3320.0</td>\n",
       "      <td>11676341</td>\n",
       "      <td>0.000593</td>\n",
       "      <td>0.000284</td>\n",
       "      <td>10249.0</td>\n",
       "    </tr>\n",
       "  </tbody>\n",
       "</table>\n",
       "</div>"
      ],
      "text/plain": [
       "                region          state  individuals  family_members  state_pop  \\\n",
       "4              Pacific     California     109008.0         20964.0   39461588   \n",
       "32        Mid-Atlantic       New York      39827.0         52070.0   19530351   \n",
       "9       South Atlantic        Florida      21443.0          9587.0   21244317   \n",
       "43  West South Central          Texas      19199.0          6111.0   28628666   \n",
       "47             Pacific     Washington      16424.0          5880.0    7523869   \n",
       "21         New England  Massachusetts       6811.0         13257.0    6882635   \n",
       "37             Pacific         Oregon      11139.0          3337.0    4181886   \n",
       "38        Mid-Atlantic   Pennsylvania       8163.0          5349.0   12800922   \n",
       "5             Mountain       Colorado       7607.0          3250.0    5691287   \n",
       "13  East North Central       Illinois       6752.0          3891.0   12723071   \n",
       "35  East North Central           Ohio       6929.0          3320.0   11676341   \n",
       "\n",
       "    indiv_per_capita  fm_per_cap  total_homeless  \n",
       "4           0.002762    0.000531        129972.0  \n",
       "32          0.002039    0.002666         91897.0  \n",
       "9           0.001009    0.000451         31030.0  \n",
       "43          0.000671    0.000213         25310.0  \n",
       "47          0.002183    0.000782         22304.0  \n",
       "21          0.000990    0.001926         20068.0  \n",
       "37          0.002664    0.000798         14476.0  \n",
       "38          0.000638    0.000418         13512.0  \n",
       "5           0.001337    0.000571         10857.0  \n",
       "13          0.000531    0.000306         10643.0  \n",
       "35          0.000593    0.000284         10249.0  "
      ]
     },
     "execution_count": 101,
     "metadata": {},
     "output_type": "execute_result"
    }
   ],
   "source": [
    "# 4.\tHow many states have a total number of homeless people greater than 10,000?\n",
    "count_tot_hl_gt_10000 = (hl_tot['total_homeless'] > 10000).sum()\n",
    "print(count_tot_hl_gt_10000)\n",
    "hl_tot[hl_tot['total_homeless'] > 10000]"
   ]
  },
  {
   "cell_type": "markdown",
   "id": "482aabd3",
   "metadata": {},
   "source": [
    "## 9.\tSort by Percentage of Family Members:\n",
    "o\tProblem: Add a new column for the percentage of family members among the homeless (family_members / (individuals + family_members)), then sort by this new column in ascending order.\n",
    "\n",
    "o\tQuestions:\n",
    "\n",
    "1.\tWhich state has the lowest percentage of family members among the homeless?\n",
    "\n",
    "2.\tWhat is the percentage for the state with the highest number?\n",
    "\n",
    "3.\tWhich states have a percentage higher than 50%?\n",
    "\n",
    "4.\tHow many states have a percentage lower than 10%?\n"
   ]
  },
  {
   "cell_type": "code",
   "execution_count": 103,
   "id": "4c32bbb3",
   "metadata": {},
   "outputs": [
    {
     "data": {
      "text/html": [
       "<div>\n",
       "<style scoped>\n",
       "    .dataframe tbody tr th:only-of-type {\n",
       "        vertical-align: middle;\n",
       "    }\n",
       "\n",
       "    .dataframe tbody tr th {\n",
       "        vertical-align: top;\n",
       "    }\n",
       "\n",
       "    .dataframe thead th {\n",
       "        text-align: right;\n",
       "    }\n",
       "</style>\n",
       "<table border=\"1\" class=\"dataframe\">\n",
       "  <thead>\n",
       "    <tr style=\"text-align: right;\">\n",
       "      <th></th>\n",
       "      <th>region</th>\n",
       "      <th>state</th>\n",
       "      <th>individuals</th>\n",
       "      <th>family_members</th>\n",
       "      <th>state_pop</th>\n",
       "      <th>indiv_per_capita</th>\n",
       "      <th>fm_per_cap</th>\n",
       "      <th>total_homeless</th>\n",
       "      <th>hl_percent_fam</th>\n",
       "    </tr>\n",
       "  </thead>\n",
       "  <tbody>\n",
       "    <tr>\n",
       "      <th>28</th>\n",
       "      <td>Mountain</td>\n",
       "      <td>Nevada</td>\n",
       "      <td>7058.0</td>\n",
       "      <td>486.0</td>\n",
       "      <td>3027341</td>\n",
       "      <td>0.002331</td>\n",
       "      <td>0.000161</td>\n",
       "      <td>7544.0</td>\n",
       "      <td>6.442206</td>\n",
       "    </tr>\n",
       "    <tr>\n",
       "      <th>34</th>\n",
       "      <td>West North Central</td>\n",
       "      <td>North Dakota</td>\n",
       "      <td>467.0</td>\n",
       "      <td>75.0</td>\n",
       "      <td>758080</td>\n",
       "      <td>0.000616</td>\n",
       "      <td>0.000099</td>\n",
       "      <td>542.0</td>\n",
       "      <td>13.837638</td>\n",
       "    </tr>\n",
       "    <tr>\n",
       "      <th>3</th>\n",
       "      <td>West South Central</td>\n",
       "      <td>Arkansas</td>\n",
       "      <td>2280.0</td>\n",
       "      <td>432.0</td>\n",
       "      <td>3009733</td>\n",
       "      <td>0.000758</td>\n",
       "      <td>0.000144</td>\n",
       "      <td>2712.0</td>\n",
       "      <td>15.929204</td>\n",
       "    </tr>\n",
       "    <tr>\n",
       "      <th>4</th>\n",
       "      <td>Pacific</td>\n",
       "      <td>California</td>\n",
       "      <td>109008.0</td>\n",
       "      <td>20964.0</td>\n",
       "      <td>39461588</td>\n",
       "      <td>0.002762</td>\n",
       "      <td>0.000531</td>\n",
       "      <td>129972.0</td>\n",
       "      <td>16.129628</td>\n",
       "    </tr>\n",
       "    <tr>\n",
       "      <th>18</th>\n",
       "      <td>West South Central</td>\n",
       "      <td>Louisiana</td>\n",
       "      <td>2540.0</td>\n",
       "      <td>519.0</td>\n",
       "      <td>4659690</td>\n",
       "      <td>0.000545</td>\n",
       "      <td>0.000111</td>\n",
       "      <td>3059.0</td>\n",
       "      <td>16.966329</td>\n",
       "    </tr>\n",
       "  </tbody>\n",
       "</table>\n",
       "</div>"
      ],
      "text/plain": [
       "                region         state  individuals  family_members  state_pop  \\\n",
       "28            Mountain        Nevada       7058.0           486.0    3027341   \n",
       "34  West North Central  North Dakota        467.0            75.0     758080   \n",
       "3   West South Central      Arkansas       2280.0           432.0    3009733   \n",
       "4              Pacific    California     109008.0         20964.0   39461588   \n",
       "18  West South Central     Louisiana       2540.0           519.0    4659690   \n",
       "\n",
       "    indiv_per_capita  fm_per_cap  total_homeless  hl_percent_fam  \n",
       "28          0.002331    0.000161          7544.0        6.442206  \n",
       "34          0.000616    0.000099           542.0       13.837638  \n",
       "3           0.000758    0.000144          2712.0       15.929204  \n",
       "4           0.002762    0.000531        129972.0       16.129628  \n",
       "18          0.000545    0.000111          3059.0       16.966329  "
      ]
     },
     "execution_count": 103,
     "metadata": {},
     "output_type": "execute_result"
    }
   ],
   "source": [
    "homeless['hl_percent_fam'] = (homeless['family_members'] / homeless['total_homeless']) * 100\n",
    "hl_percent_fam = homeless.sort_values('hl_percent_fam')\n",
    "hl_percent_fam.head()"
   ]
  },
  {
   "cell_type": "code",
   "execution_count": 105,
   "id": "475462d6",
   "metadata": {},
   "outputs": [
    {
     "name": "stdout",
     "output_type": "stream",
     "text": [
      "Nevada\n"
     ]
    }
   ],
   "source": [
    "# 1.\tWhich state has the lowest percentage of family members among the homeless?\n",
    "st_low_per_fam = hl_percent_fam.iloc[0, 1]\n",
    "print(st_low_per_fam)"
   ]
  },
  {
   "cell_type": "code",
   "execution_count": 107,
   "id": "6e676e20",
   "metadata": {},
   "outputs": [
    {
     "name": "stdout",
     "output_type": "stream",
     "text": [
      "66.06039465816225\n"
     ]
    },
    {
     "data": {
      "text/html": [
       "<div>\n",
       "<style scoped>\n",
       "    .dataframe tbody tr th:only-of-type {\n",
       "        vertical-align: middle;\n",
       "    }\n",
       "\n",
       "    .dataframe tbody tr th {\n",
       "        vertical-align: top;\n",
       "    }\n",
       "\n",
       "    .dataframe thead th {\n",
       "        text-align: right;\n",
       "    }\n",
       "</style>\n",
       "<table border=\"1\" class=\"dataframe\">\n",
       "  <thead>\n",
       "    <tr style=\"text-align: right;\">\n",
       "      <th></th>\n",
       "      <th>region</th>\n",
       "      <th>state</th>\n",
       "      <th>individuals</th>\n",
       "      <th>family_members</th>\n",
       "      <th>state_pop</th>\n",
       "      <th>indiv_per_capita</th>\n",
       "      <th>fm_per_cap</th>\n",
       "      <th>total_homeless</th>\n",
       "      <th>hl_percent_fam</th>\n",
       "    </tr>\n",
       "  </thead>\n",
       "  <tbody>\n",
       "    <tr>\n",
       "      <th>21</th>\n",
       "      <td>New England</td>\n",
       "      <td>Massachusetts</td>\n",
       "      <td>6811.0</td>\n",
       "      <td>13257.0</td>\n",
       "      <td>6882635</td>\n",
       "      <td>0.00099</td>\n",
       "      <td>0.001926</td>\n",
       "      <td>20068.0</td>\n",
       "      <td>66.060395</td>\n",
       "    </tr>\n",
       "  </tbody>\n",
       "</table>\n",
       "</div>"
      ],
      "text/plain": [
       "         region          state  individuals  family_members  state_pop  \\\n",
       "21  New England  Massachusetts       6811.0         13257.0    6882635   \n",
       "\n",
       "    indiv_per_capita  fm_per_cap  total_homeless  hl_percent_fam  \n",
       "21           0.00099    0.001926         20068.0       66.060395  "
      ]
     },
     "execution_count": 107,
     "metadata": {},
     "output_type": "execute_result"
    }
   ],
   "source": [
    "# 2.\tWhat is the percentage for the state with the highest number?\n",
    "per_hl_fam_hi = hl_percent_fam.iloc[-1, 8]\n",
    "print(per_hl_fam_hi)\n",
    "hl_percent_fam.tail(1)"
   ]
  },
  {
   "cell_type": "code",
   "execution_count": 109,
   "id": "8ce755c5",
   "metadata": {},
   "outputs": [
    {
     "name": "stdout",
     "output_type": "stream",
     "text": [
      "['New York', 'Massachusetts']\n"
     ]
    },
    {
     "data": {
      "text/html": [
       "<div>\n",
       "<style scoped>\n",
       "    .dataframe tbody tr th:only-of-type {\n",
       "        vertical-align: middle;\n",
       "    }\n",
       "\n",
       "    .dataframe tbody tr th {\n",
       "        vertical-align: top;\n",
       "    }\n",
       "\n",
       "    .dataframe thead th {\n",
       "        text-align: right;\n",
       "    }\n",
       "</style>\n",
       "<table border=\"1\" class=\"dataframe\">\n",
       "  <thead>\n",
       "    <tr style=\"text-align: right;\">\n",
       "      <th></th>\n",
       "      <th>region</th>\n",
       "      <th>state</th>\n",
       "      <th>individuals</th>\n",
       "      <th>family_members</th>\n",
       "      <th>state_pop</th>\n",
       "      <th>indiv_per_capita</th>\n",
       "      <th>fm_per_cap</th>\n",
       "      <th>total_homeless</th>\n",
       "      <th>hl_percent_fam</th>\n",
       "    </tr>\n",
       "  </thead>\n",
       "  <tbody>\n",
       "    <tr>\n",
       "      <th>32</th>\n",
       "      <td>Mid-Atlantic</td>\n",
       "      <td>New York</td>\n",
       "      <td>39827.0</td>\n",
       "      <td>52070.0</td>\n",
       "      <td>19530351</td>\n",
       "      <td>0.002039</td>\n",
       "      <td>0.002666</td>\n",
       "      <td>91897.0</td>\n",
       "      <td>56.661262</td>\n",
       "    </tr>\n",
       "    <tr>\n",
       "      <th>21</th>\n",
       "      <td>New England</td>\n",
       "      <td>Massachusetts</td>\n",
       "      <td>6811.0</td>\n",
       "      <td>13257.0</td>\n",
       "      <td>6882635</td>\n",
       "      <td>0.000990</td>\n",
       "      <td>0.001926</td>\n",
       "      <td>20068.0</td>\n",
       "      <td>66.060395</td>\n",
       "    </tr>\n",
       "  </tbody>\n",
       "</table>\n",
       "</div>"
      ],
      "text/plain": [
       "          region          state  individuals  family_members  state_pop  \\\n",
       "32  Mid-Atlantic       New York      39827.0         52070.0   19530351   \n",
       "21   New England  Massachusetts       6811.0         13257.0    6882635   \n",
       "\n",
       "    indiv_per_capita  fm_per_cap  total_homeless  hl_percent_fam  \n",
       "32          0.002039    0.002666         91897.0       56.661262  \n",
       "21          0.000990    0.001926         20068.0       66.060395  "
      ]
     },
     "execution_count": 109,
     "metadata": {},
     "output_type": "execute_result"
    }
   ],
   "source": [
    "# 3.\tWhich states have a percentage higher than 50%?\n",
    "states_hi_50 = []\n",
    "for lab, row in hl_percent_fam[hl_percent_fam['hl_percent_fam'] > 50].iterrows():\n",
    "    states_hi_50.append(row['state'])\n",
    "print(states_hi_50)\n",
    "hl_percent_fam[hl_percent_fam['hl_percent_fam'] > 50]"
   ]
  },
  {
   "cell_type": "code",
   "execution_count": 113,
   "id": "9b98b8a7",
   "metadata": {},
   "outputs": [
    {
     "name": "stdout",
     "output_type": "stream",
     "text": [
      "1\n"
     ]
    },
    {
     "data": {
      "text/html": [
       "<div>\n",
       "<style scoped>\n",
       "    .dataframe tbody tr th:only-of-type {\n",
       "        vertical-align: middle;\n",
       "    }\n",
       "\n",
       "    .dataframe tbody tr th {\n",
       "        vertical-align: top;\n",
       "    }\n",
       "\n",
       "    .dataframe thead th {\n",
       "        text-align: right;\n",
       "    }\n",
       "</style>\n",
       "<table border=\"1\" class=\"dataframe\">\n",
       "  <thead>\n",
       "    <tr style=\"text-align: right;\">\n",
       "      <th></th>\n",
       "      <th>region</th>\n",
       "      <th>state</th>\n",
       "      <th>individuals</th>\n",
       "      <th>family_members</th>\n",
       "      <th>state_pop</th>\n",
       "      <th>indiv_per_capita</th>\n",
       "      <th>fm_per_cap</th>\n",
       "      <th>total_homeless</th>\n",
       "      <th>hl_percent_fam</th>\n",
       "    </tr>\n",
       "  </thead>\n",
       "  <tbody>\n",
       "    <tr>\n",
       "      <th>28</th>\n",
       "      <td>Mountain</td>\n",
       "      <td>Nevada</td>\n",
       "      <td>7058.0</td>\n",
       "      <td>486.0</td>\n",
       "      <td>3027341</td>\n",
       "      <td>0.002331</td>\n",
       "      <td>0.000161</td>\n",
       "      <td>7544.0</td>\n",
       "      <td>6.442206</td>\n",
       "    </tr>\n",
       "  </tbody>\n",
       "</table>\n",
       "</div>"
      ],
      "text/plain": [
       "      region   state  individuals  family_members  state_pop  \\\n",
       "28  Mountain  Nevada       7058.0           486.0    3027341   \n",
       "\n",
       "    indiv_per_capita  fm_per_cap  total_homeless  hl_percent_fam  \n",
       "28          0.002331    0.000161          7544.0        6.442206  "
      ]
     },
     "execution_count": 113,
     "metadata": {},
     "output_type": "execute_result"
    }
   ],
   "source": [
    "# 4.\tHow many states have a percentage lower than 10%?\n",
    "count_per_low_10 = (hl_percent_fam['hl_percent_fam'] < 10).sum()\n",
    "print(count_per_low_10)\n",
    "hl_percent_fam[hl_percent_fam['hl_percent_fam'] < 10]"
   ]
  },
  {
   "cell_type": "markdown",
   "id": "2ba461d3",
   "metadata": {},
   "source": [
    "## 10.\tSort by Region and Total Homeless:\n",
    "o\tProblem: First, sort by the region column in ascending order, then by the total number of homeless people within each region in descending order.\n",
    "\n",
    "o\tQuestions:\n",
    "\n",
    "1.\tWhich state has the highest total number of homeless people in the Pacific region?\n",
    "\n",
    "2.\tWhat is the total number of homeless people in the state with the highest count in the Mountain region?\n",
    "\n",
    "3.\tWhich state has the lowest total number of homeless people in the East North Central region?\n",
    "\n",
    "4.\tHow many states in the South Atlantic region have a total number of homeless people greater than 5,000?\n"
   ]
  },
  {
   "cell_type": "code",
   "execution_count": 115,
   "id": "1f0aa7a8",
   "metadata": {},
   "outputs": [
    {
     "data": {
      "text/html": [
       "<div>\n",
       "<style scoped>\n",
       "    .dataframe tbody tr th:only-of-type {\n",
       "        vertical-align: middle;\n",
       "    }\n",
       "\n",
       "    .dataframe tbody tr th {\n",
       "        vertical-align: top;\n",
       "    }\n",
       "\n",
       "    .dataframe thead th {\n",
       "        text-align: right;\n",
       "    }\n",
       "</style>\n",
       "<table border=\"1\" class=\"dataframe\">\n",
       "  <thead>\n",
       "    <tr style=\"text-align: right;\">\n",
       "      <th></th>\n",
       "      <th>region</th>\n",
       "      <th>state</th>\n",
       "      <th>individuals</th>\n",
       "      <th>family_members</th>\n",
       "      <th>state_pop</th>\n",
       "      <th>indiv_per_capita</th>\n",
       "      <th>fm_per_cap</th>\n",
       "      <th>total_homeless</th>\n",
       "      <th>hl_percent_fam</th>\n",
       "    </tr>\n",
       "  </thead>\n",
       "  <tbody>\n",
       "    <tr>\n",
       "      <th>13</th>\n",
       "      <td>East North Central</td>\n",
       "      <td>Illinois</td>\n",
       "      <td>6752.0</td>\n",
       "      <td>3891.0</td>\n",
       "      <td>12723071</td>\n",
       "      <td>0.000531</td>\n",
       "      <td>0.000306</td>\n",
       "      <td>10643.0</td>\n",
       "      <td>36.559241</td>\n",
       "    </tr>\n",
       "    <tr>\n",
       "      <th>35</th>\n",
       "      <td>East North Central</td>\n",
       "      <td>Ohio</td>\n",
       "      <td>6929.0</td>\n",
       "      <td>3320.0</td>\n",
       "      <td>11676341</td>\n",
       "      <td>0.000593</td>\n",
       "      <td>0.000284</td>\n",
       "      <td>10249.0</td>\n",
       "      <td>32.393404</td>\n",
       "    </tr>\n",
       "    <tr>\n",
       "      <th>22</th>\n",
       "      <td>East North Central</td>\n",
       "      <td>Michigan</td>\n",
       "      <td>5209.0</td>\n",
       "      <td>3142.0</td>\n",
       "      <td>9984072</td>\n",
       "      <td>0.000522</td>\n",
       "      <td>0.000315</td>\n",
       "      <td>8351.0</td>\n",
       "      <td>37.624237</td>\n",
       "    </tr>\n",
       "    <tr>\n",
       "      <th>14</th>\n",
       "      <td>East North Central</td>\n",
       "      <td>Indiana</td>\n",
       "      <td>3776.0</td>\n",
       "      <td>1482.0</td>\n",
       "      <td>6695497</td>\n",
       "      <td>0.000564</td>\n",
       "      <td>0.000221</td>\n",
       "      <td>5258.0</td>\n",
       "      <td>28.185622</td>\n",
       "    </tr>\n",
       "    <tr>\n",
       "      <th>49</th>\n",
       "      <td>East North Central</td>\n",
       "      <td>Wisconsin</td>\n",
       "      <td>2740.0</td>\n",
       "      <td>2167.0</td>\n",
       "      <td>5807406</td>\n",
       "      <td>0.000472</td>\n",
       "      <td>0.000373</td>\n",
       "      <td>4907.0</td>\n",
       "      <td>44.161402</td>\n",
       "    </tr>\n",
       "  </tbody>\n",
       "</table>\n",
       "</div>"
      ],
      "text/plain": [
       "                region      state  individuals  family_members  state_pop  \\\n",
       "13  East North Central   Illinois       6752.0          3891.0   12723071   \n",
       "35  East North Central       Ohio       6929.0          3320.0   11676341   \n",
       "22  East North Central   Michigan       5209.0          3142.0    9984072   \n",
       "14  East North Central    Indiana       3776.0          1482.0    6695497   \n",
       "49  East North Central  Wisconsin       2740.0          2167.0    5807406   \n",
       "\n",
       "    indiv_per_capita  fm_per_cap  total_homeless  hl_percent_fam  \n",
       "13          0.000531    0.000306         10643.0       36.559241  \n",
       "35          0.000593    0.000284         10249.0       32.393404  \n",
       "22          0.000522    0.000315          8351.0       37.624237  \n",
       "14          0.000564    0.000221          5258.0       28.185622  \n",
       "49          0.000472    0.000373          4907.0       44.161402  "
      ]
     },
     "execution_count": 115,
     "metadata": {},
     "output_type": "execute_result"
    }
   ],
   "source": [
    "hl_reg_th = homeless.sort_values(['region', 'total_homeless'], ascending=[True, False])\n",
    "hl_reg_th.head()"
   ]
  },
  {
   "cell_type": "code",
   "execution_count": 118,
   "id": "0b2a9951",
   "metadata": {},
   "outputs": [
    {
     "name": "stdout",
     "output_type": "stream",
     "text": [
      "California\n"
     ]
    },
    {
     "data": {
      "text/html": [
       "<div>\n",
       "<style scoped>\n",
       "    .dataframe tbody tr th:only-of-type {\n",
       "        vertical-align: middle;\n",
       "    }\n",
       "\n",
       "    .dataframe tbody tr th {\n",
       "        vertical-align: top;\n",
       "    }\n",
       "\n",
       "    .dataframe thead th {\n",
       "        text-align: right;\n",
       "    }\n",
       "</style>\n",
       "<table border=\"1\" class=\"dataframe\">\n",
       "  <thead>\n",
       "    <tr style=\"text-align: right;\">\n",
       "      <th></th>\n",
       "      <th>region</th>\n",
       "      <th>state</th>\n",
       "      <th>individuals</th>\n",
       "      <th>family_members</th>\n",
       "      <th>state_pop</th>\n",
       "      <th>indiv_per_capita</th>\n",
       "      <th>fm_per_cap</th>\n",
       "      <th>total_homeless</th>\n",
       "      <th>hl_percent_fam</th>\n",
       "    </tr>\n",
       "  </thead>\n",
       "  <tbody>\n",
       "    <tr>\n",
       "      <th>4</th>\n",
       "      <td>Pacific</td>\n",
       "      <td>California</td>\n",
       "      <td>109008.0</td>\n",
       "      <td>20964.0</td>\n",
       "      <td>39461588</td>\n",
       "      <td>0.002762</td>\n",
       "      <td>0.000531</td>\n",
       "      <td>129972.0</td>\n",
       "      <td>16.129628</td>\n",
       "    </tr>\n",
       "    <tr>\n",
       "      <th>47</th>\n",
       "      <td>Pacific</td>\n",
       "      <td>Washington</td>\n",
       "      <td>16424.0</td>\n",
       "      <td>5880.0</td>\n",
       "      <td>7523869</td>\n",
       "      <td>0.002183</td>\n",
       "      <td>0.000782</td>\n",
       "      <td>22304.0</td>\n",
       "      <td>26.362984</td>\n",
       "    </tr>\n",
       "    <tr>\n",
       "      <th>37</th>\n",
       "      <td>Pacific</td>\n",
       "      <td>Oregon</td>\n",
       "      <td>11139.0</td>\n",
       "      <td>3337.0</td>\n",
       "      <td>4181886</td>\n",
       "      <td>0.002664</td>\n",
       "      <td>0.000798</td>\n",
       "      <td>14476.0</td>\n",
       "      <td>23.051948</td>\n",
       "    </tr>\n",
       "    <tr>\n",
       "      <th>11</th>\n",
       "      <td>Pacific</td>\n",
       "      <td>Hawaii</td>\n",
       "      <td>4131.0</td>\n",
       "      <td>2399.0</td>\n",
       "      <td>1420593</td>\n",
       "      <td>0.002908</td>\n",
       "      <td>0.001689</td>\n",
       "      <td>6530.0</td>\n",
       "      <td>36.738132</td>\n",
       "    </tr>\n",
       "    <tr>\n",
       "      <th>1</th>\n",
       "      <td>Pacific</td>\n",
       "      <td>Alaska</td>\n",
       "      <td>1434.0</td>\n",
       "      <td>582.0</td>\n",
       "      <td>735139</td>\n",
       "      <td>0.001951</td>\n",
       "      <td>0.000792</td>\n",
       "      <td>2016.0</td>\n",
       "      <td>28.869048</td>\n",
       "    </tr>\n",
       "  </tbody>\n",
       "</table>\n",
       "</div>"
      ],
      "text/plain": [
       "     region       state  individuals  family_members  state_pop  \\\n",
       "4   Pacific  California     109008.0         20964.0   39461588   \n",
       "47  Pacific  Washington      16424.0          5880.0    7523869   \n",
       "37  Pacific      Oregon      11139.0          3337.0    4181886   \n",
       "11  Pacific      Hawaii       4131.0          2399.0    1420593   \n",
       "1   Pacific      Alaska       1434.0           582.0     735139   \n",
       "\n",
       "    indiv_per_capita  fm_per_cap  total_homeless  hl_percent_fam  \n",
       "4           0.002762    0.000531        129972.0       16.129628  \n",
       "47          0.002183    0.000782         22304.0       26.362984  \n",
       "37          0.002664    0.000798         14476.0       23.051948  \n",
       "11          0.002908    0.001689          6530.0       36.738132  \n",
       "1           0.001951    0.000792          2016.0       28.869048  "
      ]
     },
     "execution_count": 118,
     "metadata": {},
     "output_type": "execute_result"
    }
   ],
   "source": [
    "# 1.\tWhich state has the highest total number of homeless people in the Pacific region?\n",
    "hl_pacific = hl_reg_th[hl_reg_th['region'] == 'Pacific']\n",
    "st_hi_hl_pacific = hl_pacific.iloc[0, 1]\n",
    "print(st_hi_hl_pacific)\n",
    "hl_pacific"
   ]
  },
  {
   "cell_type": "code",
   "execution_count": 120,
   "id": "3782a0b0",
   "metadata": {
    "scrolled": true
   },
   "outputs": [
    {
     "name": "stdout",
     "output_type": "stream",
     "text": [
      "10857.0\n"
     ]
    },
    {
     "data": {
      "text/html": [
       "<div>\n",
       "<style scoped>\n",
       "    .dataframe tbody tr th:only-of-type {\n",
       "        vertical-align: middle;\n",
       "    }\n",
       "\n",
       "    .dataframe tbody tr th {\n",
       "        vertical-align: top;\n",
       "    }\n",
       "\n",
       "    .dataframe thead th {\n",
       "        text-align: right;\n",
       "    }\n",
       "</style>\n",
       "<table border=\"1\" class=\"dataframe\">\n",
       "  <thead>\n",
       "    <tr style=\"text-align: right;\">\n",
       "      <th></th>\n",
       "      <th>region</th>\n",
       "      <th>state</th>\n",
       "      <th>individuals</th>\n",
       "      <th>family_members</th>\n",
       "      <th>state_pop</th>\n",
       "      <th>indiv_per_capita</th>\n",
       "      <th>fm_per_cap</th>\n",
       "      <th>total_homeless</th>\n",
       "      <th>hl_percent_fam</th>\n",
       "    </tr>\n",
       "  </thead>\n",
       "  <tbody>\n",
       "    <tr>\n",
       "      <th>5</th>\n",
       "      <td>Mountain</td>\n",
       "      <td>Colorado</td>\n",
       "      <td>7607.0</td>\n",
       "      <td>3250.0</td>\n",
       "      <td>5691287</td>\n",
       "      <td>0.001337</td>\n",
       "      <td>0.000571</td>\n",
       "      <td>10857.0</td>\n",
       "      <td>29.934604</td>\n",
       "    </tr>\n",
       "    <tr>\n",
       "      <th>2</th>\n",
       "      <td>Mountain</td>\n",
       "      <td>Arizona</td>\n",
       "      <td>7259.0</td>\n",
       "      <td>2606.0</td>\n",
       "      <td>7158024</td>\n",
       "      <td>0.001014</td>\n",
       "      <td>0.000364</td>\n",
       "      <td>9865.0</td>\n",
       "      <td>26.416624</td>\n",
       "    </tr>\n",
       "    <tr>\n",
       "      <th>28</th>\n",
       "      <td>Mountain</td>\n",
       "      <td>Nevada</td>\n",
       "      <td>7058.0</td>\n",
       "      <td>486.0</td>\n",
       "      <td>3027341</td>\n",
       "      <td>0.002331</td>\n",
       "      <td>0.000161</td>\n",
       "      <td>7544.0</td>\n",
       "      <td>6.442206</td>\n",
       "    </tr>\n",
       "    <tr>\n",
       "      <th>44</th>\n",
       "      <td>Mountain</td>\n",
       "      <td>Utah</td>\n",
       "      <td>1904.0</td>\n",
       "      <td>972.0</td>\n",
       "      <td>3153550</td>\n",
       "      <td>0.000604</td>\n",
       "      <td>0.000308</td>\n",
       "      <td>2876.0</td>\n",
       "      <td>33.796940</td>\n",
       "    </tr>\n",
       "    <tr>\n",
       "      <th>31</th>\n",
       "      <td>Mountain</td>\n",
       "      <td>New Mexico</td>\n",
       "      <td>1949.0</td>\n",
       "      <td>602.0</td>\n",
       "      <td>2092741</td>\n",
       "      <td>0.000931</td>\n",
       "      <td>0.000288</td>\n",
       "      <td>2551.0</td>\n",
       "      <td>23.598589</td>\n",
       "    </tr>\n",
       "    <tr>\n",
       "      <th>12</th>\n",
       "      <td>Mountain</td>\n",
       "      <td>Idaho</td>\n",
       "      <td>1297.0</td>\n",
       "      <td>715.0</td>\n",
       "      <td>1750536</td>\n",
       "      <td>0.000741</td>\n",
       "      <td>0.000408</td>\n",
       "      <td>2012.0</td>\n",
       "      <td>35.536779</td>\n",
       "    </tr>\n",
       "    <tr>\n",
       "      <th>26</th>\n",
       "      <td>Mountain</td>\n",
       "      <td>Montana</td>\n",
       "      <td>983.0</td>\n",
       "      <td>422.0</td>\n",
       "      <td>1060665</td>\n",
       "      <td>0.000927</td>\n",
       "      <td>0.000398</td>\n",
       "      <td>1405.0</td>\n",
       "      <td>30.035587</td>\n",
       "    </tr>\n",
       "    <tr>\n",
       "      <th>50</th>\n",
       "      <td>Mountain</td>\n",
       "      <td>Wyoming</td>\n",
       "      <td>434.0</td>\n",
       "      <td>205.0</td>\n",
       "      <td>577601</td>\n",
       "      <td>0.000751</td>\n",
       "      <td>0.000355</td>\n",
       "      <td>639.0</td>\n",
       "      <td>32.081377</td>\n",
       "    </tr>\n",
       "  </tbody>\n",
       "</table>\n",
       "</div>"
      ],
      "text/plain": [
       "      region       state  individuals  family_members  state_pop  \\\n",
       "5   Mountain    Colorado       7607.0          3250.0    5691287   \n",
       "2   Mountain     Arizona       7259.0          2606.0    7158024   \n",
       "28  Mountain      Nevada       7058.0           486.0    3027341   \n",
       "44  Mountain        Utah       1904.0           972.0    3153550   \n",
       "31  Mountain  New Mexico       1949.0           602.0    2092741   \n",
       "12  Mountain       Idaho       1297.0           715.0    1750536   \n",
       "26  Mountain     Montana        983.0           422.0    1060665   \n",
       "50  Mountain     Wyoming        434.0           205.0     577601   \n",
       "\n",
       "    indiv_per_capita  fm_per_cap  total_homeless  hl_percent_fam  \n",
       "5           0.001337    0.000571         10857.0       29.934604  \n",
       "2           0.001014    0.000364          9865.0       26.416624  \n",
       "28          0.002331    0.000161          7544.0        6.442206  \n",
       "44          0.000604    0.000308          2876.0       33.796940  \n",
       "31          0.000931    0.000288          2551.0       23.598589  \n",
       "12          0.000741    0.000408          2012.0       35.536779  \n",
       "26          0.000927    0.000398          1405.0       30.035587  \n",
       "50          0.000751    0.000355           639.0       32.081377  "
      ]
     },
     "execution_count": 120,
     "metadata": {},
     "output_type": "execute_result"
    }
   ],
   "source": [
    "# 2.\tWhat is the total number of homeless people in the state with the highest count in the Mountain region?\n",
    "hl_tot_mountain = hl_reg_th[hl_reg_th['region'] == 'Mountain']\n",
    "tot_num_hl_hi_mountain = hl_tot_mountain.iloc[0, 7]\n",
    "print(tot_num_hl_hi_mountain)\n",
    "hl_tot_mountain"
   ]
  },
  {
   "cell_type": "code",
   "execution_count": 122,
   "id": "0a57c9d8",
   "metadata": {},
   "outputs": [
    {
     "name": "stdout",
     "output_type": "stream",
     "text": [
      "Wisconsin\n"
     ]
    },
    {
     "data": {
      "text/html": [
       "<div>\n",
       "<style scoped>\n",
       "    .dataframe tbody tr th:only-of-type {\n",
       "        vertical-align: middle;\n",
       "    }\n",
       "\n",
       "    .dataframe tbody tr th {\n",
       "        vertical-align: top;\n",
       "    }\n",
       "\n",
       "    .dataframe thead th {\n",
       "        text-align: right;\n",
       "    }\n",
       "</style>\n",
       "<table border=\"1\" class=\"dataframe\">\n",
       "  <thead>\n",
       "    <tr style=\"text-align: right;\">\n",
       "      <th></th>\n",
       "      <th>region</th>\n",
       "      <th>state</th>\n",
       "      <th>individuals</th>\n",
       "      <th>family_members</th>\n",
       "      <th>state_pop</th>\n",
       "      <th>indiv_per_capita</th>\n",
       "      <th>fm_per_cap</th>\n",
       "      <th>total_homeless</th>\n",
       "      <th>hl_percent_fam</th>\n",
       "    </tr>\n",
       "  </thead>\n",
       "  <tbody>\n",
       "    <tr>\n",
       "      <th>13</th>\n",
       "      <td>East North Central</td>\n",
       "      <td>Illinois</td>\n",
       "      <td>6752.0</td>\n",
       "      <td>3891.0</td>\n",
       "      <td>12723071</td>\n",
       "      <td>0.000531</td>\n",
       "      <td>0.000306</td>\n",
       "      <td>10643.0</td>\n",
       "      <td>36.559241</td>\n",
       "    </tr>\n",
       "    <tr>\n",
       "      <th>35</th>\n",
       "      <td>East North Central</td>\n",
       "      <td>Ohio</td>\n",
       "      <td>6929.0</td>\n",
       "      <td>3320.0</td>\n",
       "      <td>11676341</td>\n",
       "      <td>0.000593</td>\n",
       "      <td>0.000284</td>\n",
       "      <td>10249.0</td>\n",
       "      <td>32.393404</td>\n",
       "    </tr>\n",
       "    <tr>\n",
       "      <th>22</th>\n",
       "      <td>East North Central</td>\n",
       "      <td>Michigan</td>\n",
       "      <td>5209.0</td>\n",
       "      <td>3142.0</td>\n",
       "      <td>9984072</td>\n",
       "      <td>0.000522</td>\n",
       "      <td>0.000315</td>\n",
       "      <td>8351.0</td>\n",
       "      <td>37.624237</td>\n",
       "    </tr>\n",
       "    <tr>\n",
       "      <th>14</th>\n",
       "      <td>East North Central</td>\n",
       "      <td>Indiana</td>\n",
       "      <td>3776.0</td>\n",
       "      <td>1482.0</td>\n",
       "      <td>6695497</td>\n",
       "      <td>0.000564</td>\n",
       "      <td>0.000221</td>\n",
       "      <td>5258.0</td>\n",
       "      <td>28.185622</td>\n",
       "    </tr>\n",
       "    <tr>\n",
       "      <th>49</th>\n",
       "      <td>East North Central</td>\n",
       "      <td>Wisconsin</td>\n",
       "      <td>2740.0</td>\n",
       "      <td>2167.0</td>\n",
       "      <td>5807406</td>\n",
       "      <td>0.000472</td>\n",
       "      <td>0.000373</td>\n",
       "      <td>4907.0</td>\n",
       "      <td>44.161402</td>\n",
       "    </tr>\n",
       "  </tbody>\n",
       "</table>\n",
       "</div>"
      ],
      "text/plain": [
       "                region      state  individuals  family_members  state_pop  \\\n",
       "13  East North Central   Illinois       6752.0          3891.0   12723071   \n",
       "35  East North Central       Ohio       6929.0          3320.0   11676341   \n",
       "22  East North Central   Michigan       5209.0          3142.0    9984072   \n",
       "14  East North Central    Indiana       3776.0          1482.0    6695497   \n",
       "49  East North Central  Wisconsin       2740.0          2167.0    5807406   \n",
       "\n",
       "    indiv_per_capita  fm_per_cap  total_homeless  hl_percent_fam  \n",
       "13          0.000531    0.000306         10643.0       36.559241  \n",
       "35          0.000593    0.000284         10249.0       32.393404  \n",
       "22          0.000522    0.000315          8351.0       37.624237  \n",
       "14          0.000564    0.000221          5258.0       28.185622  \n",
       "49          0.000472    0.000373          4907.0       44.161402  "
      ]
     },
     "execution_count": 122,
     "metadata": {},
     "output_type": "execute_result"
    }
   ],
   "source": [
    "# 3.\tWhich state has the lowest total number of homeless people in the East North Central region?\n",
    "hl_encr = hl_reg_th[hl_reg_th['region'] == 'East North Central']\n",
    "st_low_tot_hl_encr = hl_encr.iloc[-1, 1]\n",
    "print(st_low_tot_hl_encr)\n",
    "hl_encr"
   ]
  },
  {
   "cell_type": "code",
   "execution_count": 127,
   "id": "0bcd64af",
   "metadata": {},
   "outputs": [
    {
     "name": "stdout",
     "output_type": "stream",
     "text": [
      "['Florida', 'Georgia', 'North Carolina', 'Maryland', 'District of Columbia', 'Virginia']\n",
      "6\n"
     ]
    },
    {
     "data": {
      "text/html": [
       "<div>\n",
       "<style scoped>\n",
       "    .dataframe tbody tr th:only-of-type {\n",
       "        vertical-align: middle;\n",
       "    }\n",
       "\n",
       "    .dataframe tbody tr th {\n",
       "        vertical-align: top;\n",
       "    }\n",
       "\n",
       "    .dataframe thead th {\n",
       "        text-align: right;\n",
       "    }\n",
       "</style>\n",
       "<table border=\"1\" class=\"dataframe\">\n",
       "  <thead>\n",
       "    <tr style=\"text-align: right;\">\n",
       "      <th></th>\n",
       "      <th>region</th>\n",
       "      <th>state</th>\n",
       "      <th>individuals</th>\n",
       "      <th>family_members</th>\n",
       "      <th>state_pop</th>\n",
       "      <th>indiv_per_capita</th>\n",
       "      <th>fm_per_cap</th>\n",
       "      <th>total_homeless</th>\n",
       "      <th>hl_percent_fam</th>\n",
       "    </tr>\n",
       "  </thead>\n",
       "  <tbody>\n",
       "    <tr>\n",
       "      <th>9</th>\n",
       "      <td>South Atlantic</td>\n",
       "      <td>Florida</td>\n",
       "      <td>21443.0</td>\n",
       "      <td>9587.0</td>\n",
       "      <td>21244317</td>\n",
       "      <td>0.001009</td>\n",
       "      <td>0.000451</td>\n",
       "      <td>31030.0</td>\n",
       "      <td>30.895907</td>\n",
       "    </tr>\n",
       "    <tr>\n",
       "      <th>10</th>\n",
       "      <td>South Atlantic</td>\n",
       "      <td>Georgia</td>\n",
       "      <td>6943.0</td>\n",
       "      <td>2556.0</td>\n",
       "      <td>10511131</td>\n",
       "      <td>0.000661</td>\n",
       "      <td>0.000243</td>\n",
       "      <td>9499.0</td>\n",
       "      <td>26.908096</td>\n",
       "    </tr>\n",
       "    <tr>\n",
       "      <th>33</th>\n",
       "      <td>South Atlantic</td>\n",
       "      <td>North Carolina</td>\n",
       "      <td>6451.0</td>\n",
       "      <td>2817.0</td>\n",
       "      <td>10381615</td>\n",
       "      <td>0.000621</td>\n",
       "      <td>0.000271</td>\n",
       "      <td>9268.0</td>\n",
       "      <td>30.394907</td>\n",
       "    </tr>\n",
       "    <tr>\n",
       "      <th>20</th>\n",
       "      <td>South Atlantic</td>\n",
       "      <td>Maryland</td>\n",
       "      <td>4914.0</td>\n",
       "      <td>2230.0</td>\n",
       "      <td>6035802</td>\n",
       "      <td>0.000814</td>\n",
       "      <td>0.000369</td>\n",
       "      <td>7144.0</td>\n",
       "      <td>31.215006</td>\n",
       "    </tr>\n",
       "    <tr>\n",
       "      <th>8</th>\n",
       "      <td>South Atlantic</td>\n",
       "      <td>District of Columbia</td>\n",
       "      <td>3770.0</td>\n",
       "      <td>3134.0</td>\n",
       "      <td>701547</td>\n",
       "      <td>0.005374</td>\n",
       "      <td>0.004467</td>\n",
       "      <td>6904.0</td>\n",
       "      <td>45.393975</td>\n",
       "    </tr>\n",
       "    <tr>\n",
       "      <th>46</th>\n",
       "      <td>South Atlantic</td>\n",
       "      <td>Virginia</td>\n",
       "      <td>3928.0</td>\n",
       "      <td>2047.0</td>\n",
       "      <td>8501286</td>\n",
       "      <td>0.000462</td>\n",
       "      <td>0.000241</td>\n",
       "      <td>5975.0</td>\n",
       "      <td>34.259414</td>\n",
       "    </tr>\n",
       "    <tr>\n",
       "      <th>40</th>\n",
       "      <td>South Atlantic</td>\n",
       "      <td>South Carolina</td>\n",
       "      <td>3082.0</td>\n",
       "      <td>851.0</td>\n",
       "      <td>5084156</td>\n",
       "      <td>0.000606</td>\n",
       "      <td>0.000167</td>\n",
       "      <td>3933.0</td>\n",
       "      <td>21.637427</td>\n",
       "    </tr>\n",
       "    <tr>\n",
       "      <th>48</th>\n",
       "      <td>South Atlantic</td>\n",
       "      <td>West Virginia</td>\n",
       "      <td>1021.0</td>\n",
       "      <td>222.0</td>\n",
       "      <td>1804291</td>\n",
       "      <td>0.000566</td>\n",
       "      <td>0.000123</td>\n",
       "      <td>1243.0</td>\n",
       "      <td>17.860016</td>\n",
       "    </tr>\n",
       "    <tr>\n",
       "      <th>7</th>\n",
       "      <td>South Atlantic</td>\n",
       "      <td>Delaware</td>\n",
       "      <td>708.0</td>\n",
       "      <td>374.0</td>\n",
       "      <td>965479</td>\n",
       "      <td>0.000733</td>\n",
       "      <td>0.000387</td>\n",
       "      <td>1082.0</td>\n",
       "      <td>34.565619</td>\n",
       "    </tr>\n",
       "  </tbody>\n",
       "</table>\n",
       "</div>"
      ],
      "text/plain": [
       "            region                 state  individuals  family_members  \\\n",
       "9   South Atlantic               Florida      21443.0          9587.0   \n",
       "10  South Atlantic               Georgia       6943.0          2556.0   \n",
       "33  South Atlantic        North Carolina       6451.0          2817.0   \n",
       "20  South Atlantic              Maryland       4914.0          2230.0   \n",
       "8   South Atlantic  District of Columbia       3770.0          3134.0   \n",
       "46  South Atlantic              Virginia       3928.0          2047.0   \n",
       "40  South Atlantic        South Carolina       3082.0           851.0   \n",
       "48  South Atlantic         West Virginia       1021.0           222.0   \n",
       "7   South Atlantic              Delaware        708.0           374.0   \n",
       "\n",
       "    state_pop  indiv_per_capita  fm_per_cap  total_homeless  hl_percent_fam  \n",
       "9    21244317          0.001009    0.000451         31030.0       30.895907  \n",
       "10   10511131          0.000661    0.000243          9499.0       26.908096  \n",
       "33   10381615          0.000621    0.000271          9268.0       30.394907  \n",
       "20    6035802          0.000814    0.000369          7144.0       31.215006  \n",
       "8      701547          0.005374    0.004467          6904.0       45.393975  \n",
       "46    8501286          0.000462    0.000241          5975.0       34.259414  \n",
       "40    5084156          0.000606    0.000167          3933.0       21.637427  \n",
       "48    1804291          0.000566    0.000123          1243.0       17.860016  \n",
       "7      965479          0.000733    0.000387          1082.0       34.565619  "
      ]
     },
     "execution_count": 127,
     "metadata": {},
     "output_type": "execute_result"
    }
   ],
   "source": [
    "# 4.\tHow many states in the South Atlantic region have a total number of homeless people greater than 5,000?\n",
    "hl_tot_hl_sa = hl_reg_th[hl_reg_th['region'] == 'South Atlantic']\n",
    "states_hl_toh_sa_gt_5000 = []\n",
    "for lab, row in hl_tot_hl_sa[hl_tot_hl_sa['total_homeless'] > 5000].iterrows():\n",
    "    states_hl_toh_sa_gt_5000.append(row['state'])\n",
    "print(states_hl_toh_sa_gt_5000)\n",
    "count_st_hl_toh_sa_gt_5000 = len(states_hl_toh_sa_gt_5000)\n",
    "print(count_st_hl_toh_sa_gt_5000)\n",
    "hl_tot_hl_sa"
   ]
  },
  {
   "cell_type": "markdown",
   "id": "02bdcba6",
   "metadata": {},
   "source": [
    "# SUBSETTING PROBLEMS"
   ]
  },
  {
   "cell_type": "markdown",
   "id": "81ca600c",
   "metadata": {},
   "source": [
    "### 1.\tSubset by Region:\n",
    "o\tProblem: Create a subset of the dataset containing only the states from the \"Pacific\" region.\n",
    "\n",
    "o\tQuestions:\n",
    "\n",
    "1.\tHow many states are in the Pacific region?\n",
    "\n",
    "2.\tWhich state in the Pacific region has the highest number of homeless individuals?\n",
    "\n",
    "3.\tWhat is the total population of the Pacific region?\n",
    "\n",
    "4.\tHow many family members are homeless in the Pacific region in total?\n"
   ]
  },
  {
   "cell_type": "code",
   "execution_count": 128,
   "id": "43181b1e",
   "metadata": {},
   "outputs": [
    {
     "data": {
      "text/html": [
       "<div>\n",
       "<style scoped>\n",
       "    .dataframe tbody tr th:only-of-type {\n",
       "        vertical-align: middle;\n",
       "    }\n",
       "\n",
       "    .dataframe tbody tr th {\n",
       "        vertical-align: top;\n",
       "    }\n",
       "\n",
       "    .dataframe thead th {\n",
       "        text-align: right;\n",
       "    }\n",
       "</style>\n",
       "<table border=\"1\" class=\"dataframe\">\n",
       "  <thead>\n",
       "    <tr style=\"text-align: right;\">\n",
       "      <th></th>\n",
       "      <th>region</th>\n",
       "      <th>state</th>\n",
       "      <th>individuals</th>\n",
       "      <th>family_members</th>\n",
       "      <th>state_pop</th>\n",
       "      <th>indiv_per_capita</th>\n",
       "      <th>fm_per_cap</th>\n",
       "      <th>total_homeless</th>\n",
       "      <th>hl_percent_fam</th>\n",
       "    </tr>\n",
       "  </thead>\n",
       "  <tbody>\n",
       "    <tr>\n",
       "      <th>1</th>\n",
       "      <td>Pacific</td>\n",
       "      <td>Alaska</td>\n",
       "      <td>1434.0</td>\n",
       "      <td>582.0</td>\n",
       "      <td>735139</td>\n",
       "      <td>0.001951</td>\n",
       "      <td>0.000792</td>\n",
       "      <td>2016.0</td>\n",
       "      <td>28.869048</td>\n",
       "    </tr>\n",
       "    <tr>\n",
       "      <th>4</th>\n",
       "      <td>Pacific</td>\n",
       "      <td>California</td>\n",
       "      <td>109008.0</td>\n",
       "      <td>20964.0</td>\n",
       "      <td>39461588</td>\n",
       "      <td>0.002762</td>\n",
       "      <td>0.000531</td>\n",
       "      <td>129972.0</td>\n",
       "      <td>16.129628</td>\n",
       "    </tr>\n",
       "    <tr>\n",
       "      <th>11</th>\n",
       "      <td>Pacific</td>\n",
       "      <td>Hawaii</td>\n",
       "      <td>4131.0</td>\n",
       "      <td>2399.0</td>\n",
       "      <td>1420593</td>\n",
       "      <td>0.002908</td>\n",
       "      <td>0.001689</td>\n",
       "      <td>6530.0</td>\n",
       "      <td>36.738132</td>\n",
       "    </tr>\n",
       "    <tr>\n",
       "      <th>37</th>\n",
       "      <td>Pacific</td>\n",
       "      <td>Oregon</td>\n",
       "      <td>11139.0</td>\n",
       "      <td>3337.0</td>\n",
       "      <td>4181886</td>\n",
       "      <td>0.002664</td>\n",
       "      <td>0.000798</td>\n",
       "      <td>14476.0</td>\n",
       "      <td>23.051948</td>\n",
       "    </tr>\n",
       "    <tr>\n",
       "      <th>47</th>\n",
       "      <td>Pacific</td>\n",
       "      <td>Washington</td>\n",
       "      <td>16424.0</td>\n",
       "      <td>5880.0</td>\n",
       "      <td>7523869</td>\n",
       "      <td>0.002183</td>\n",
       "      <td>0.000782</td>\n",
       "      <td>22304.0</td>\n",
       "      <td>26.362984</td>\n",
       "    </tr>\n",
       "  </tbody>\n",
       "</table>\n",
       "</div>"
      ],
      "text/plain": [
       "     region       state  individuals  family_members  state_pop  \\\n",
       "1   Pacific      Alaska       1434.0           582.0     735139   \n",
       "4   Pacific  California     109008.0         20964.0   39461588   \n",
       "11  Pacific      Hawaii       4131.0          2399.0    1420593   \n",
       "37  Pacific      Oregon      11139.0          3337.0    4181886   \n",
       "47  Pacific  Washington      16424.0          5880.0    7523869   \n",
       "\n",
       "    indiv_per_capita  fm_per_cap  total_homeless  hl_percent_fam  \n",
       "1           0.001951    0.000792          2016.0       28.869048  \n",
       "4           0.002762    0.000531        129972.0       16.129628  \n",
       "11          0.002908    0.001689          6530.0       36.738132  \n",
       "37          0.002664    0.000798         14476.0       23.051948  \n",
       "47          0.002183    0.000782         22304.0       26.362984  "
      ]
     },
     "execution_count": 128,
     "metadata": {},
     "output_type": "execute_result"
    }
   ],
   "source": [
    "hl_pacific = homeless[homeless['region'] == \"Pacific\"]\n",
    "hl_pacific"
   ]
  },
  {
   "cell_type": "code",
   "execution_count": 133,
   "id": "d7ac7bc9",
   "metadata": {},
   "outputs": [
    {
     "name": "stdout",
     "output_type": "stream",
     "text": [
      "5\n",
      "['Alaska', 'California', 'Hawaii', 'Oregon', 'Washington']\n"
     ]
    }
   ],
   "source": [
    "# 1.\tHow many states are in the Pacific region?\n",
    "states_pac = []\n",
    "for lab, row in hl_pacific.iterrows():\n",
    "    states_pac.append(row['state'])\n",
    "ct_st_pac = len(states_pac)\n",
    "print(ct_st_pac)\n",
    "print(states_pac)"
   ]
  },
  {
   "cell_type": "code",
   "execution_count": 137,
   "id": "e8d6feb4",
   "metadata": {},
   "outputs": [
    {
     "name": "stdout",
     "output_type": "stream",
     "text": [
      "California\n"
     ]
    },
    {
     "data": {
      "text/html": [
       "<div>\n",
       "<style scoped>\n",
       "    .dataframe tbody tr th:only-of-type {\n",
       "        vertical-align: middle;\n",
       "    }\n",
       "\n",
       "    .dataframe tbody tr th {\n",
       "        vertical-align: top;\n",
       "    }\n",
       "\n",
       "    .dataframe thead th {\n",
       "        text-align: right;\n",
       "    }\n",
       "</style>\n",
       "<table border=\"1\" class=\"dataframe\">\n",
       "  <thead>\n",
       "    <tr style=\"text-align: right;\">\n",
       "      <th></th>\n",
       "      <th>region</th>\n",
       "      <th>state</th>\n",
       "      <th>individuals</th>\n",
       "      <th>family_members</th>\n",
       "      <th>state_pop</th>\n",
       "      <th>indiv_per_capita</th>\n",
       "      <th>fm_per_cap</th>\n",
       "      <th>total_homeless</th>\n",
       "      <th>hl_percent_fam</th>\n",
       "    </tr>\n",
       "  </thead>\n",
       "  <tbody>\n",
       "    <tr>\n",
       "      <th>1</th>\n",
       "      <td>Pacific</td>\n",
       "      <td>Alaska</td>\n",
       "      <td>1434.0</td>\n",
       "      <td>582.0</td>\n",
       "      <td>735139</td>\n",
       "      <td>0.001951</td>\n",
       "      <td>0.000792</td>\n",
       "      <td>2016.0</td>\n",
       "      <td>28.869048</td>\n",
       "    </tr>\n",
       "    <tr>\n",
       "      <th>11</th>\n",
       "      <td>Pacific</td>\n",
       "      <td>Hawaii</td>\n",
       "      <td>4131.0</td>\n",
       "      <td>2399.0</td>\n",
       "      <td>1420593</td>\n",
       "      <td>0.002908</td>\n",
       "      <td>0.001689</td>\n",
       "      <td>6530.0</td>\n",
       "      <td>36.738132</td>\n",
       "    </tr>\n",
       "    <tr>\n",
       "      <th>37</th>\n",
       "      <td>Pacific</td>\n",
       "      <td>Oregon</td>\n",
       "      <td>11139.0</td>\n",
       "      <td>3337.0</td>\n",
       "      <td>4181886</td>\n",
       "      <td>0.002664</td>\n",
       "      <td>0.000798</td>\n",
       "      <td>14476.0</td>\n",
       "      <td>23.051948</td>\n",
       "    </tr>\n",
       "    <tr>\n",
       "      <th>47</th>\n",
       "      <td>Pacific</td>\n",
       "      <td>Washington</td>\n",
       "      <td>16424.0</td>\n",
       "      <td>5880.0</td>\n",
       "      <td>7523869</td>\n",
       "      <td>0.002183</td>\n",
       "      <td>0.000782</td>\n",
       "      <td>22304.0</td>\n",
       "      <td>26.362984</td>\n",
       "    </tr>\n",
       "    <tr>\n",
       "      <th>4</th>\n",
       "      <td>Pacific</td>\n",
       "      <td>California</td>\n",
       "      <td>109008.0</td>\n",
       "      <td>20964.0</td>\n",
       "      <td>39461588</td>\n",
       "      <td>0.002762</td>\n",
       "      <td>0.000531</td>\n",
       "      <td>129972.0</td>\n",
       "      <td>16.129628</td>\n",
       "    </tr>\n",
       "  </tbody>\n",
       "</table>\n",
       "</div>"
      ],
      "text/plain": [
       "     region       state  individuals  family_members  state_pop  \\\n",
       "1   Pacific      Alaska       1434.0           582.0     735139   \n",
       "11  Pacific      Hawaii       4131.0          2399.0    1420593   \n",
       "37  Pacific      Oregon      11139.0          3337.0    4181886   \n",
       "47  Pacific  Washington      16424.0          5880.0    7523869   \n",
       "4   Pacific  California     109008.0         20964.0   39461588   \n",
       "\n",
       "    indiv_per_capita  fm_per_cap  total_homeless  hl_percent_fam  \n",
       "1           0.001951    0.000792          2016.0       28.869048  \n",
       "11          0.002908    0.001689          6530.0       36.738132  \n",
       "37          0.002664    0.000798         14476.0       23.051948  \n",
       "47          0.002183    0.000782         22304.0       26.362984  \n",
       "4           0.002762    0.000531        129972.0       16.129628  "
      ]
     },
     "execution_count": 137,
     "metadata": {},
     "output_type": "execute_result"
    }
   ],
   "source": [
    "# 2.\tWhich state in the Pacific region has the highest number of homeless individuals?\n",
    "st_hi_hl_ind_pac = hl_pacific.sort_values('individuals').iloc[-1, 1]\n",
    "print(st_hi_hl_ind_pac)\n",
    "hl_pacific.sort_values('individuals')"
   ]
  },
  {
   "cell_type": "code",
   "execution_count": 138,
   "id": "937a5b6c",
   "metadata": {},
   "outputs": [
    {
     "name": "stdout",
     "output_type": "stream",
     "text": [
      "53323075\n"
     ]
    }
   ],
   "source": [
    "# 3.\tWhat is the total population of the Pacific region?\n",
    "total_pop_pac = hl_pacific['state_pop'].sum()\n",
    "print(total_pop_pac)"
   ]
  },
  {
   "cell_type": "code",
   "execution_count": 139,
   "id": "830bb0d2",
   "metadata": {},
   "outputs": [
    {
     "name": "stdout",
     "output_type": "stream",
     "text": [
      "33162.0\n"
     ]
    }
   ],
   "source": [
    "# 4.\tHow many family members are homeless in the Pacific region in total?\n",
    "tot_hl_fam_pac = hl_pacific['family_members'].sum()\n",
    "print(tot_hl_fam_pac)"
   ]
  },
  {
   "cell_type": "markdown",
   "id": "6655268d",
   "metadata": {},
   "source": [
    "### 2.\tSubset by Homeless Individuals:\n",
    "o\tProblem: Subset the dataset to include only states with more than 10,000 homeless individuals.\n",
    "\n",
    "o\tQuestions:\n",
    "\n",
    "1.\tHow many states have more than 10,000 homeless individuals?\n",
    "\n",
    "2.\tWhich state has the most homeless individuals among this subset?\n",
    "\n",
    "3.\tWhat is the average number of homeless individuals in this subset?\n",
    "\n",
    "4.\tHow does the total population of this subset compare to the total population of all states?\n"
   ]
  },
  {
   "cell_type": "code",
   "execution_count": 140,
   "id": "4d0d2666",
   "metadata": {},
   "outputs": [
    {
     "data": {
      "text/html": [
       "<div>\n",
       "<style scoped>\n",
       "    .dataframe tbody tr th:only-of-type {\n",
       "        vertical-align: middle;\n",
       "    }\n",
       "\n",
       "    .dataframe tbody tr th {\n",
       "        vertical-align: top;\n",
       "    }\n",
       "\n",
       "    .dataframe thead th {\n",
       "        text-align: right;\n",
       "    }\n",
       "</style>\n",
       "<table border=\"1\" class=\"dataframe\">\n",
       "  <thead>\n",
       "    <tr style=\"text-align: right;\">\n",
       "      <th></th>\n",
       "      <th>region</th>\n",
       "      <th>state</th>\n",
       "      <th>individuals</th>\n",
       "      <th>family_members</th>\n",
       "      <th>state_pop</th>\n",
       "      <th>indiv_per_capita</th>\n",
       "      <th>fm_per_cap</th>\n",
       "      <th>total_homeless</th>\n",
       "      <th>hl_percent_fam</th>\n",
       "    </tr>\n",
       "  </thead>\n",
       "  <tbody>\n",
       "    <tr>\n",
       "      <th>4</th>\n",
       "      <td>Pacific</td>\n",
       "      <td>California</td>\n",
       "      <td>109008.0</td>\n",
       "      <td>20964.0</td>\n",
       "      <td>39461588</td>\n",
       "      <td>0.002762</td>\n",
       "      <td>0.000531</td>\n",
       "      <td>129972.0</td>\n",
       "      <td>16.129628</td>\n",
       "    </tr>\n",
       "    <tr>\n",
       "      <th>9</th>\n",
       "      <td>South Atlantic</td>\n",
       "      <td>Florida</td>\n",
       "      <td>21443.0</td>\n",
       "      <td>9587.0</td>\n",
       "      <td>21244317</td>\n",
       "      <td>0.001009</td>\n",
       "      <td>0.000451</td>\n",
       "      <td>31030.0</td>\n",
       "      <td>30.895907</td>\n",
       "    </tr>\n",
       "    <tr>\n",
       "      <th>32</th>\n",
       "      <td>Mid-Atlantic</td>\n",
       "      <td>New York</td>\n",
       "      <td>39827.0</td>\n",
       "      <td>52070.0</td>\n",
       "      <td>19530351</td>\n",
       "      <td>0.002039</td>\n",
       "      <td>0.002666</td>\n",
       "      <td>91897.0</td>\n",
       "      <td>56.661262</td>\n",
       "    </tr>\n",
       "    <tr>\n",
       "      <th>37</th>\n",
       "      <td>Pacific</td>\n",
       "      <td>Oregon</td>\n",
       "      <td>11139.0</td>\n",
       "      <td>3337.0</td>\n",
       "      <td>4181886</td>\n",
       "      <td>0.002664</td>\n",
       "      <td>0.000798</td>\n",
       "      <td>14476.0</td>\n",
       "      <td>23.051948</td>\n",
       "    </tr>\n",
       "    <tr>\n",
       "      <th>43</th>\n",
       "      <td>West South Central</td>\n",
       "      <td>Texas</td>\n",
       "      <td>19199.0</td>\n",
       "      <td>6111.0</td>\n",
       "      <td>28628666</td>\n",
       "      <td>0.000671</td>\n",
       "      <td>0.000213</td>\n",
       "      <td>25310.0</td>\n",
       "      <td>24.144607</td>\n",
       "    </tr>\n",
       "    <tr>\n",
       "      <th>47</th>\n",
       "      <td>Pacific</td>\n",
       "      <td>Washington</td>\n",
       "      <td>16424.0</td>\n",
       "      <td>5880.0</td>\n",
       "      <td>7523869</td>\n",
       "      <td>0.002183</td>\n",
       "      <td>0.000782</td>\n",
       "      <td>22304.0</td>\n",
       "      <td>26.362984</td>\n",
       "    </tr>\n",
       "  </tbody>\n",
       "</table>\n",
       "</div>"
      ],
      "text/plain": [
       "                region       state  individuals  family_members  state_pop  \\\n",
       "4              Pacific  California     109008.0         20964.0   39461588   \n",
       "9       South Atlantic     Florida      21443.0          9587.0   21244317   \n",
       "32        Mid-Atlantic    New York      39827.0         52070.0   19530351   \n",
       "37             Pacific      Oregon      11139.0          3337.0    4181886   \n",
       "43  West South Central       Texas      19199.0          6111.0   28628666   \n",
       "47             Pacific  Washington      16424.0          5880.0    7523869   \n",
       "\n",
       "    indiv_per_capita  fm_per_cap  total_homeless  hl_percent_fam  \n",
       "4           0.002762    0.000531        129972.0       16.129628  \n",
       "9           0.001009    0.000451         31030.0       30.895907  \n",
       "32          0.002039    0.002666         91897.0       56.661262  \n",
       "37          0.002664    0.000798         14476.0       23.051948  \n",
       "43          0.000671    0.000213         25310.0       24.144607  \n",
       "47          0.002183    0.000782         22304.0       26.362984  "
      ]
     },
     "execution_count": 140,
     "metadata": {},
     "output_type": "execute_result"
    }
   ],
   "source": [
    "hl_indiv_10000 = homeless[homeless['individuals'] > 10000]\n",
    "hl_indiv_10000"
   ]
  },
  {
   "cell_type": "code",
   "execution_count": 141,
   "id": "33ff368f",
   "metadata": {},
   "outputs": [
    {
     "name": "stdout",
     "output_type": "stream",
     "text": [
      "6\n"
     ]
    }
   ],
   "source": [
    "# 1.\tHow many states have more than 10,000 homeless individuals?\n",
    "ct_st_mt_10k_hl_indiv = len(hl_indiv_10000)\n",
    "print(ct_st_mt_10k_hl_indiv)"
   ]
  },
  {
   "cell_type": "code",
   "execution_count": 142,
   "id": "d963eb01",
   "metadata": {},
   "outputs": [
    {
     "name": "stdout",
     "output_type": "stream",
     "text": [
      "California\n"
     ]
    }
   ],
   "source": [
    "# 2.\tWhich state has the most homeless individuals among this subset?\n",
    "most_hl_indiv = hl_indiv_10000.sort_values('individuals', ascending=False).iloc[0, 1]\n",
    "print(most_hl_indiv)"
   ]
  },
  {
   "cell_type": "code",
   "execution_count": 143,
   "id": "8115a35f",
   "metadata": {},
   "outputs": [
    {
     "name": "stdout",
     "output_type": "stream",
     "text": [
      "36173.333333333336\n"
     ]
    }
   ],
   "source": [
    "# 3.\tWhat is the average number of homeless individuals in this subset?\n",
    "avg_hl_indiv = hl_indiv_10000['individuals'].mean()\n",
    "print(avg_hl_indiv)"
   ]
  },
  {
   "cell_type": "code",
   "execution_count": 150,
   "id": "0862b08d",
   "metadata": {},
   "outputs": [
    {
     "name": "stdout",
     "output_type": "stream",
     "text": [
      "120570677 326687501\n",
      "total population of this subset is 37 percent of total population\n"
     ]
    }
   ],
   "source": [
    "# 4.\tHow does the total population of this subset compare to the total population of all states?\n",
    "tot_pop_10k_hl_indiv = hl_indiv_10000['state_pop'].sum()\n",
    "tot_pop_all_st = homeless['state_pop'].sum()\n",
    "print(tot_pop_10k_hl_indiv, tot_pop_all_st)\n",
    "comp_10k_hl_tot_pop = (tot_pop_10k_hl_indiv / tot_pop_all_st) * 100\n",
    "print('total population of this subset is {} percent of total population'.format(round(comp_10k_hl_tot_pop)))"
   ]
  },
  {
   "cell_type": "markdown",
   "id": "ffc9dbb7",
   "metadata": {},
   "source": [
    "### 3.\tSubset by Family Members:\n",
    "o\tProblem: Create a subset of the dataset with states where the number of family members is between 500 and 2000.\n",
    "\n",
    "o\tQuestions:\n",
    "\n",
    "1.\tHow many states fall within this range?\n",
    "\n",
    "2.\tWhich state has the highest number of family members within this range?\n",
    "\n",
    "3.\tWhat is the average number of family members in this subset?\n",
    "\n",
    "4.\tHow many individuals are homeless in these states in total?\n"
   ]
  },
  {
   "cell_type": "code",
   "execution_count": 151,
   "id": "7c04dd33",
   "metadata": {},
   "outputs": [
    {
     "data": {
      "text/html": [
       "<div>\n",
       "<style scoped>\n",
       "    .dataframe tbody tr th:only-of-type {\n",
       "        vertical-align: middle;\n",
       "    }\n",
       "\n",
       "    .dataframe tbody tr th {\n",
       "        vertical-align: top;\n",
       "    }\n",
       "\n",
       "    .dataframe thead th {\n",
       "        text-align: right;\n",
       "    }\n",
       "</style>\n",
       "<table border=\"1\" class=\"dataframe\">\n",
       "  <thead>\n",
       "    <tr style=\"text-align: right;\">\n",
       "      <th></th>\n",
       "      <th>region</th>\n",
       "      <th>state</th>\n",
       "      <th>individuals</th>\n",
       "      <th>family_members</th>\n",
       "      <th>state_pop</th>\n",
       "      <th>indiv_per_capita</th>\n",
       "      <th>fm_per_cap</th>\n",
       "      <th>total_homeless</th>\n",
       "      <th>hl_percent_fam</th>\n",
       "    </tr>\n",
       "  </thead>\n",
       "  <tbody>\n",
       "    <tr>\n",
       "      <th>0</th>\n",
       "      <td>East South Central</td>\n",
       "      <td>Alabama</td>\n",
       "      <td>2570.0</td>\n",
       "      <td>864.0</td>\n",
       "      <td>4887681</td>\n",
       "      <td>0.000526</td>\n",
       "      <td>0.000177</td>\n",
       "      <td>3434.0</td>\n",
       "      <td>25.160163</td>\n",
       "    </tr>\n",
       "    <tr>\n",
       "      <th>1</th>\n",
       "      <td>Pacific</td>\n",
       "      <td>Alaska</td>\n",
       "      <td>1434.0</td>\n",
       "      <td>582.0</td>\n",
       "      <td>735139</td>\n",
       "      <td>0.001951</td>\n",
       "      <td>0.000792</td>\n",
       "      <td>2016.0</td>\n",
       "      <td>28.869048</td>\n",
       "    </tr>\n",
       "    <tr>\n",
       "      <th>6</th>\n",
       "      <td>New England</td>\n",
       "      <td>Connecticut</td>\n",
       "      <td>2280.0</td>\n",
       "      <td>1696.0</td>\n",
       "      <td>3571520</td>\n",
       "      <td>0.000638</td>\n",
       "      <td>0.000475</td>\n",
       "      <td>3976.0</td>\n",
       "      <td>42.655936</td>\n",
       "    </tr>\n",
       "    <tr>\n",
       "      <th>12</th>\n",
       "      <td>Mountain</td>\n",
       "      <td>Idaho</td>\n",
       "      <td>1297.0</td>\n",
       "      <td>715.0</td>\n",
       "      <td>1750536</td>\n",
       "      <td>0.000741</td>\n",
       "      <td>0.000408</td>\n",
       "      <td>2012.0</td>\n",
       "      <td>35.536779</td>\n",
       "    </tr>\n",
       "    <tr>\n",
       "      <th>14</th>\n",
       "      <td>East North Central</td>\n",
       "      <td>Indiana</td>\n",
       "      <td>3776.0</td>\n",
       "      <td>1482.0</td>\n",
       "      <td>6695497</td>\n",
       "      <td>0.000564</td>\n",
       "      <td>0.000221</td>\n",
       "      <td>5258.0</td>\n",
       "      <td>28.185622</td>\n",
       "    </tr>\n",
       "  </tbody>\n",
       "</table>\n",
       "</div>"
      ],
      "text/plain": [
       "                region        state  individuals  family_members  state_pop  \\\n",
       "0   East South Central      Alabama       2570.0           864.0    4887681   \n",
       "1              Pacific       Alaska       1434.0           582.0     735139   \n",
       "6          New England  Connecticut       2280.0          1696.0    3571520   \n",
       "12            Mountain        Idaho       1297.0           715.0    1750536   \n",
       "14  East North Central      Indiana       3776.0          1482.0    6695497   \n",
       "\n",
       "    indiv_per_capita  fm_per_cap  total_homeless  hl_percent_fam  \n",
       "0           0.000526    0.000177          3434.0       25.160163  \n",
       "1           0.001951    0.000792          2016.0       28.869048  \n",
       "6           0.000638    0.000475          3976.0       42.655936  \n",
       "12          0.000741    0.000408          2012.0       35.536779  \n",
       "14          0.000564    0.000221          5258.0       28.185622  "
      ]
     },
     "execution_count": 151,
     "metadata": {},
     "output_type": "execute_result"
    }
   ],
   "source": [
    "hl_fam_500_2000 = homeless[(homeless['family_members'] >= 500) & (homeless['family_members'] <= 2000)]\n",
    "hl_fam_500_2000.head()"
   ]
  },
  {
   "cell_type": "code",
   "execution_count": 152,
   "id": "d7be470f",
   "metadata": {},
   "outputs": [
    {
     "name": "stdout",
     "output_type": "stream",
     "text": [
      "18\n"
     ]
    }
   ],
   "source": [
    "# 1.\tHow many states fall within this range?\n",
    "ct_st_fam_500_2k = len(hl_fam_500_2000)\n",
    "print(ct_st_fam_500_2k)"
   ]
  },
  {
   "cell_type": "code",
   "execution_count": 156,
   "id": "0bdb2480",
   "metadata": {},
   "outputs": [
    {
     "name": "stdout",
     "output_type": "stream",
     "text": [
      "Tennessee\n"
     ]
    },
    {
     "data": {
      "text/html": [
       "<div>\n",
       "<style scoped>\n",
       "    .dataframe tbody tr th:only-of-type {\n",
       "        vertical-align: middle;\n",
       "    }\n",
       "\n",
       "    .dataframe tbody tr th {\n",
       "        vertical-align: top;\n",
       "    }\n",
       "\n",
       "    .dataframe thead th {\n",
       "        text-align: right;\n",
       "    }\n",
       "</style>\n",
       "<table border=\"1\" class=\"dataframe\">\n",
       "  <thead>\n",
       "    <tr style=\"text-align: right;\">\n",
       "      <th></th>\n",
       "      <th>region</th>\n",
       "      <th>state</th>\n",
       "      <th>individuals</th>\n",
       "      <th>family_members</th>\n",
       "      <th>state_pop</th>\n",
       "      <th>indiv_per_capita</th>\n",
       "      <th>fm_per_cap</th>\n",
       "      <th>total_homeless</th>\n",
       "      <th>hl_percent_fam</th>\n",
       "    </tr>\n",
       "  </thead>\n",
       "  <tbody>\n",
       "    <tr>\n",
       "      <th>42</th>\n",
       "      <td>East South Central</td>\n",
       "      <td>Tennessee</td>\n",
       "      <td>6139.0</td>\n",
       "      <td>1744.0</td>\n",
       "      <td>6771631</td>\n",
       "      <td>0.000907</td>\n",
       "      <td>0.000258</td>\n",
       "      <td>7883.0</td>\n",
       "      <td>22.123557</td>\n",
       "    </tr>\n",
       "    <tr>\n",
       "      <th>6</th>\n",
       "      <td>New England</td>\n",
       "      <td>Connecticut</td>\n",
       "      <td>2280.0</td>\n",
       "      <td>1696.0</td>\n",
       "      <td>3571520</td>\n",
       "      <td>0.000638</td>\n",
       "      <td>0.000475</td>\n",
       "      <td>3976.0</td>\n",
       "      <td>42.655936</td>\n",
       "    </tr>\n",
       "    <tr>\n",
       "      <th>14</th>\n",
       "      <td>East North Central</td>\n",
       "      <td>Indiana</td>\n",
       "      <td>3776.0</td>\n",
       "      <td>1482.0</td>\n",
       "      <td>6695497</td>\n",
       "      <td>0.000564</td>\n",
       "      <td>0.000221</td>\n",
       "      <td>5258.0</td>\n",
       "      <td>28.185622</td>\n",
       "    </tr>\n",
       "    <tr>\n",
       "      <th>19</th>\n",
       "      <td>New England</td>\n",
       "      <td>Maine</td>\n",
       "      <td>1450.0</td>\n",
       "      <td>1066.0</td>\n",
       "      <td>1339057</td>\n",
       "      <td>0.001083</td>\n",
       "      <td>0.000796</td>\n",
       "      <td>2516.0</td>\n",
       "      <td>42.368839</td>\n",
       "    </tr>\n",
       "    <tr>\n",
       "      <th>36</th>\n",
       "      <td>West South Central</td>\n",
       "      <td>Oklahoma</td>\n",
       "      <td>2823.0</td>\n",
       "      <td>1048.0</td>\n",
       "      <td>3940235</td>\n",
       "      <td>0.000716</td>\n",
       "      <td>0.000266</td>\n",
       "      <td>3871.0</td>\n",
       "      <td>27.073108</td>\n",
       "    </tr>\n",
       "  </tbody>\n",
       "</table>\n",
       "</div>"
      ],
      "text/plain": [
       "                region        state  individuals  family_members  state_pop  \\\n",
       "42  East South Central    Tennessee       6139.0          1744.0    6771631   \n",
       "6          New England  Connecticut       2280.0          1696.0    3571520   \n",
       "14  East North Central      Indiana       3776.0          1482.0    6695497   \n",
       "19         New England        Maine       1450.0          1066.0    1339057   \n",
       "36  West South Central     Oklahoma       2823.0          1048.0    3940235   \n",
       "\n",
       "    indiv_per_capita  fm_per_cap  total_homeless  hl_percent_fam  \n",
       "42          0.000907    0.000258          7883.0       22.123557  \n",
       "6           0.000638    0.000475          3976.0       42.655936  \n",
       "14          0.000564    0.000221          5258.0       28.185622  \n",
       "19          0.001083    0.000796          2516.0       42.368839  \n",
       "36          0.000716    0.000266          3871.0       27.073108  "
      ]
     },
     "execution_count": 156,
     "metadata": {},
     "output_type": "execute_result"
    }
   ],
   "source": [
    "# 2.\tWhich state has the highest number of family members within this range?\n",
    "st_hi_fam_hl_500_2k = hl_fam_500_2000.sort_values('family_members', ascending=False).iloc[0, 1]\n",
    "print(st_hi_fam_hl_500_2k)\n",
    "hl_fam_500_2000.sort_values('family_members', ascending=False).head()"
   ]
  },
  {
   "cell_type": "code",
   "execution_count": 158,
   "id": "d20c372d",
   "metadata": {},
   "outputs": [
    {
     "name": "stdout",
     "output_type": "stream",
     "text": [
      "928.1666666666666\n"
     ]
    }
   ],
   "source": [
    "# 3.\tWhat is the average number of family members in this subset?\n",
    "avg_num_hl_fam_500_2k = hl_fam_500_2000['family_members'].mean()\n",
    "print(avg_num_hl_fam_500_2k)"
   ]
  },
  {
   "cell_type": "code",
   "execution_count": 159,
   "id": "71906e22",
   "metadata": {},
   "outputs": [
    {
     "name": "stdout",
     "output_type": "stream",
     "text": [
      "40493.0\n"
     ]
    }
   ],
   "source": [
    "# 4.\tHow many individuals are homeless in these states in total?\n",
    "num_hl_indiv = hl_fam_500_2000['individuals'].sum()\n",
    "print(num_hl_indiv)"
   ]
  },
  {
   "cell_type": "markdown",
   "id": "88cc2767",
   "metadata": {},
   "source": [
    "### 4.\tSubset by State Population:\n",
    "o\tProblem: Subset the dataset to include states with a population of less than 1 million.\n",
    "\n",
    "o\tQuestions:\n",
    "\n",
    "1.\tWhich states have a population of less than 1 million?\n",
    "\n",
    "2.\tWhat is the total population of these states?\n",
    "\n",
    "3.\tHow many homeless individuals are there in total in these states?\n",
    "\n",
    "4.\tWhich state has the highest number of homeless individuals in this subset?\n"
   ]
  },
  {
   "cell_type": "code",
   "execution_count": 160,
   "id": "c115ea71",
   "metadata": {},
   "outputs": [
    {
     "data": {
      "text/html": [
       "<div>\n",
       "<style scoped>\n",
       "    .dataframe tbody tr th:only-of-type {\n",
       "        vertical-align: middle;\n",
       "    }\n",
       "\n",
       "    .dataframe tbody tr th {\n",
       "        vertical-align: top;\n",
       "    }\n",
       "\n",
       "    .dataframe thead th {\n",
       "        text-align: right;\n",
       "    }\n",
       "</style>\n",
       "<table border=\"1\" class=\"dataframe\">\n",
       "  <thead>\n",
       "    <tr style=\"text-align: right;\">\n",
       "      <th></th>\n",
       "      <th>region</th>\n",
       "      <th>state</th>\n",
       "      <th>individuals</th>\n",
       "      <th>family_members</th>\n",
       "      <th>state_pop</th>\n",
       "      <th>indiv_per_capita</th>\n",
       "      <th>fm_per_cap</th>\n",
       "      <th>total_homeless</th>\n",
       "      <th>hl_percent_fam</th>\n",
       "    </tr>\n",
       "  </thead>\n",
       "  <tbody>\n",
       "    <tr>\n",
       "      <th>1</th>\n",
       "      <td>Pacific</td>\n",
       "      <td>Alaska</td>\n",
       "      <td>1434.0</td>\n",
       "      <td>582.0</td>\n",
       "      <td>735139</td>\n",
       "      <td>0.001951</td>\n",
       "      <td>0.000792</td>\n",
       "      <td>2016.0</td>\n",
       "      <td>28.869048</td>\n",
       "    </tr>\n",
       "    <tr>\n",
       "      <th>7</th>\n",
       "      <td>South Atlantic</td>\n",
       "      <td>Delaware</td>\n",
       "      <td>708.0</td>\n",
       "      <td>374.0</td>\n",
       "      <td>965479</td>\n",
       "      <td>0.000733</td>\n",
       "      <td>0.000387</td>\n",
       "      <td>1082.0</td>\n",
       "      <td>34.565619</td>\n",
       "    </tr>\n",
       "    <tr>\n",
       "      <th>8</th>\n",
       "      <td>South Atlantic</td>\n",
       "      <td>District of Columbia</td>\n",
       "      <td>3770.0</td>\n",
       "      <td>3134.0</td>\n",
       "      <td>701547</td>\n",
       "      <td>0.005374</td>\n",
       "      <td>0.004467</td>\n",
       "      <td>6904.0</td>\n",
       "      <td>45.393975</td>\n",
       "    </tr>\n",
       "    <tr>\n",
       "      <th>34</th>\n",
       "      <td>West North Central</td>\n",
       "      <td>North Dakota</td>\n",
       "      <td>467.0</td>\n",
       "      <td>75.0</td>\n",
       "      <td>758080</td>\n",
       "      <td>0.000616</td>\n",
       "      <td>0.000099</td>\n",
       "      <td>542.0</td>\n",
       "      <td>13.837638</td>\n",
       "    </tr>\n",
       "    <tr>\n",
       "      <th>41</th>\n",
       "      <td>West North Central</td>\n",
       "      <td>South Dakota</td>\n",
       "      <td>836.0</td>\n",
       "      <td>323.0</td>\n",
       "      <td>878698</td>\n",
       "      <td>0.000951</td>\n",
       "      <td>0.000368</td>\n",
       "      <td>1159.0</td>\n",
       "      <td>27.868852</td>\n",
       "    </tr>\n",
       "  </tbody>\n",
       "</table>\n",
       "</div>"
      ],
      "text/plain": [
       "                region                 state  individuals  family_members  \\\n",
       "1              Pacific                Alaska       1434.0           582.0   \n",
       "7       South Atlantic              Delaware        708.0           374.0   \n",
       "8       South Atlantic  District of Columbia       3770.0          3134.0   \n",
       "34  West North Central          North Dakota        467.0            75.0   \n",
       "41  West North Central          South Dakota        836.0           323.0   \n",
       "\n",
       "    state_pop  indiv_per_capita  fm_per_cap  total_homeless  hl_percent_fam  \n",
       "1      735139          0.001951    0.000792          2016.0       28.869048  \n",
       "7      965479          0.000733    0.000387          1082.0       34.565619  \n",
       "8      701547          0.005374    0.004467          6904.0       45.393975  \n",
       "34     758080          0.000616    0.000099           542.0       13.837638  \n",
       "41     878698          0.000951    0.000368          1159.0       27.868852  "
      ]
     },
     "execution_count": 160,
     "metadata": {},
     "output_type": "execute_result"
    }
   ],
   "source": [
    "hl_pop_lt_1m = homeless[homeless['state_pop'] < 1000000]\n",
    "hl_pop_lt_1m.head()"
   ]
  },
  {
   "cell_type": "code",
   "execution_count": 161,
   "id": "18ea429b",
   "metadata": {},
   "outputs": [
    {
     "name": "stdout",
     "output_type": "stream",
     "text": [
      "7\n",
      "7\n"
     ]
    }
   ],
   "source": [
    "# 1.\tWhich states have a population of less than 1 million?\n",
    "st_pop_lt_1m = []\n",
    "for lab, row in hl_pop_lt_1m.iterrows():\n",
    "    if row['state_pop'] < 1000000:\n",
    "        st_pop_lt_1m.append(row['state'])\n",
    "print(len(st_pop_lt_1m))\n",
    "print(len(hl_pop_lt_1m))"
   ]
  },
  {
   "cell_type": "code",
   "execution_count": 162,
   "id": "6d4e43d1",
   "metadata": {},
   "outputs": [
    {
     "name": "stdout",
     "output_type": "stream",
     "text": [
      "5240902\n"
     ]
    }
   ],
   "source": [
    "# 2.\tWhat is the total population of these states?\n",
    "tot_pop_1m = hl_pop_lt_1m['state_pop'].sum()\n",
    "print(tot_pop_1m)"
   ]
  },
  {
   "cell_type": "markdown",
   "id": "e477c9cd",
   "metadata": {},
   "source": [
    "### 5.\tSubset by Region and Homeless Individuals:\n",
    "o\tProblem: Create a subset of states from the \"Mountain\" region with more than 2,000 homeless individuals.\n",
    "\n",
    "o\tQuestions:\n",
    "\n",
    "1.\tHow many states in the Mountain region have more than 2,000 homeless individuals?\n",
    "\n",
    "2.\tWhich state in this subset has the highest number of homeless individuals?\n",
    "\n",
    "3.\tWhat is the total number of homeless individuals in this subset?\n",
    "\n",
    "4.\tHow does the average number of homeless individuals in this subset compare to the overall average?\n"
   ]
  },
  {
   "cell_type": "code",
   "execution_count": 165,
   "id": "b424d6e3",
   "metadata": {},
   "outputs": [
    {
     "data": {
      "text/html": [
       "<div>\n",
       "<style scoped>\n",
       "    .dataframe tbody tr th:only-of-type {\n",
       "        vertical-align: middle;\n",
       "    }\n",
       "\n",
       "    .dataframe tbody tr th {\n",
       "        vertical-align: top;\n",
       "    }\n",
       "\n",
       "    .dataframe thead th {\n",
       "        text-align: right;\n",
       "    }\n",
       "</style>\n",
       "<table border=\"1\" class=\"dataframe\">\n",
       "  <thead>\n",
       "    <tr style=\"text-align: right;\">\n",
       "      <th></th>\n",
       "      <th>region</th>\n",
       "      <th>state</th>\n",
       "      <th>individuals</th>\n",
       "      <th>family_members</th>\n",
       "      <th>state_pop</th>\n",
       "      <th>indiv_per_capita</th>\n",
       "      <th>fm_per_cap</th>\n",
       "      <th>total_homeless</th>\n",
       "      <th>hl_percent_fam</th>\n",
       "    </tr>\n",
       "  </thead>\n",
       "  <tbody>\n",
       "    <tr>\n",
       "      <th>2</th>\n",
       "      <td>Mountain</td>\n",
       "      <td>Arizona</td>\n",
       "      <td>7259.0</td>\n",
       "      <td>2606.0</td>\n",
       "      <td>7158024</td>\n",
       "      <td>0.001014</td>\n",
       "      <td>0.000364</td>\n",
       "      <td>9865.0</td>\n",
       "      <td>26.416624</td>\n",
       "    </tr>\n",
       "    <tr>\n",
       "      <th>5</th>\n",
       "      <td>Mountain</td>\n",
       "      <td>Colorado</td>\n",
       "      <td>7607.0</td>\n",
       "      <td>3250.0</td>\n",
       "      <td>5691287</td>\n",
       "      <td>0.001337</td>\n",
       "      <td>0.000571</td>\n",
       "      <td>10857.0</td>\n",
       "      <td>29.934604</td>\n",
       "    </tr>\n",
       "    <tr>\n",
       "      <th>28</th>\n",
       "      <td>Mountain</td>\n",
       "      <td>Nevada</td>\n",
       "      <td>7058.0</td>\n",
       "      <td>486.0</td>\n",
       "      <td>3027341</td>\n",
       "      <td>0.002331</td>\n",
       "      <td>0.000161</td>\n",
       "      <td>7544.0</td>\n",
       "      <td>6.442206</td>\n",
       "    </tr>\n",
       "  </tbody>\n",
       "</table>\n",
       "</div>"
      ],
      "text/plain": [
       "      region     state  individuals  family_members  state_pop  \\\n",
       "2   Mountain   Arizona       7259.0          2606.0    7158024   \n",
       "5   Mountain  Colorado       7607.0          3250.0    5691287   \n",
       "28  Mountain    Nevada       7058.0           486.0    3027341   \n",
       "\n",
       "    indiv_per_capita  fm_per_cap  total_homeless  hl_percent_fam  \n",
       "2           0.001014    0.000364          9865.0       26.416624  \n",
       "5           0.001337    0.000571         10857.0       29.934604  \n",
       "28          0.002331    0.000161          7544.0        6.442206  "
      ]
     },
     "execution_count": 165,
     "metadata": {},
     "output_type": "execute_result"
    }
   ],
   "source": [
    "hl_mount_indiv_2k = homeless[(homeless['region'] == 'Mountain') & (homeless['individuals'] > 2000)]\n",
    "hl_mount_indiv_2k"
   ]
  },
  {
   "cell_type": "code",
   "execution_count": 166,
   "id": "1afdb85a",
   "metadata": {},
   "outputs": [
    {
     "name": "stdout",
     "output_type": "stream",
     "text": [
      "3\n"
     ]
    }
   ],
   "source": [
    "# 1.\tHow many states in the Mountain region have more than 2,000 homeless individuals?\n",
    "ct_st_mount_2kindiv = len(hl_mount_indiv_2k)\n",
    "print(ct_st_mount_2kindiv)"
   ]
  },
  {
   "cell_type": "code",
   "execution_count": 168,
   "id": "d6e7ca86",
   "metadata": {},
   "outputs": [
    {
     "name": "stdout",
     "output_type": "stream",
     "text": [
      "Colorado\n"
     ]
    },
    {
     "data": {
      "text/html": [
       "<div>\n",
       "<style scoped>\n",
       "    .dataframe tbody tr th:only-of-type {\n",
       "        vertical-align: middle;\n",
       "    }\n",
       "\n",
       "    .dataframe tbody tr th {\n",
       "        vertical-align: top;\n",
       "    }\n",
       "\n",
       "    .dataframe thead th {\n",
       "        text-align: right;\n",
       "    }\n",
       "</style>\n",
       "<table border=\"1\" class=\"dataframe\">\n",
       "  <thead>\n",
       "    <tr style=\"text-align: right;\">\n",
       "      <th></th>\n",
       "      <th>region</th>\n",
       "      <th>state</th>\n",
       "      <th>individuals</th>\n",
       "      <th>family_members</th>\n",
       "      <th>state_pop</th>\n",
       "      <th>indiv_per_capita</th>\n",
       "      <th>fm_per_cap</th>\n",
       "      <th>total_homeless</th>\n",
       "      <th>hl_percent_fam</th>\n",
       "    </tr>\n",
       "  </thead>\n",
       "  <tbody>\n",
       "    <tr>\n",
       "      <th>28</th>\n",
       "      <td>Mountain</td>\n",
       "      <td>Nevada</td>\n",
       "      <td>7058.0</td>\n",
       "      <td>486.0</td>\n",
       "      <td>3027341</td>\n",
       "      <td>0.002331</td>\n",
       "      <td>0.000161</td>\n",
       "      <td>7544.0</td>\n",
       "      <td>6.442206</td>\n",
       "    </tr>\n",
       "    <tr>\n",
       "      <th>2</th>\n",
       "      <td>Mountain</td>\n",
       "      <td>Arizona</td>\n",
       "      <td>7259.0</td>\n",
       "      <td>2606.0</td>\n",
       "      <td>7158024</td>\n",
       "      <td>0.001014</td>\n",
       "      <td>0.000364</td>\n",
       "      <td>9865.0</td>\n",
       "      <td>26.416624</td>\n",
       "    </tr>\n",
       "    <tr>\n",
       "      <th>5</th>\n",
       "      <td>Mountain</td>\n",
       "      <td>Colorado</td>\n",
       "      <td>7607.0</td>\n",
       "      <td>3250.0</td>\n",
       "      <td>5691287</td>\n",
       "      <td>0.001337</td>\n",
       "      <td>0.000571</td>\n",
       "      <td>10857.0</td>\n",
       "      <td>29.934604</td>\n",
       "    </tr>\n",
       "  </tbody>\n",
       "</table>\n",
       "</div>"
      ],
      "text/plain": [
       "      region     state  individuals  family_members  state_pop  \\\n",
       "28  Mountain    Nevada       7058.0           486.0    3027341   \n",
       "2   Mountain   Arizona       7259.0          2606.0    7158024   \n",
       "5   Mountain  Colorado       7607.0          3250.0    5691287   \n",
       "\n",
       "    indiv_per_capita  fm_per_cap  total_homeless  hl_percent_fam  \n",
       "28          0.002331    0.000161          7544.0        6.442206  \n",
       "2           0.001014    0.000364          9865.0       26.416624  \n",
       "5           0.001337    0.000571         10857.0       29.934604  "
      ]
     },
     "execution_count": 168,
     "metadata": {},
     "output_type": "execute_result"
    }
   ],
   "source": [
    "# 2.\tWhich state in this subset has the highest number of homeless individuals?\n",
    "st_hi_hl_indiv = hl_mount_indiv_2k.sort_values('individuals').iloc[-1, 1]\n",
    "print(st_hi_hl_indiv)\n",
    "hl_mount_indiv_2k.sort_values('individuals')"
   ]
  },
  {
   "cell_type": "code",
   "execution_count": 169,
   "id": "1135516b",
   "metadata": {},
   "outputs": [
    {
     "name": "stdout",
     "output_type": "stream",
     "text": [
      "21924.0\n"
     ]
    }
   ],
   "source": [
    "# 3.\tWhat is the total number of homeless individuals in this subset?\n",
    "tot_hl_indiv_mount = hl_mount_indiv_2k['individuals'].sum()\n",
    "print(tot_hl_indiv_mount)"
   ]
  },
  {
   "cell_type": "code",
   "execution_count": 172,
   "id": "ef632139",
   "metadata": {},
   "outputs": [
    {
     "name": "stdout",
     "output_type": "stream",
     "text": [
      "7308.0 7225.78431372549\n",
      "Average number of Homeless individuals in this subset is 7308.0 and overall average of homeless individuals is 7225.78431372549. By Looking at the numbers we can say average homeless individuals in this subset is higher than overall average homeless individuals\n"
     ]
    }
   ],
   "source": [
    "# 4.\tHow does the average number of homeless individuals in this subset compare to the overall average?\n",
    "avg_hl_ind_mount = hl_mount_indiv_2k['individuals'].mean()\n",
    "avg_hl_ind_overall = homeless['individuals'].mean()\n",
    "print(avg_hl_ind_mount, avg_hl_ind_overall)\n",
    "print('Average number of Homeless individuals in this subset is {} and overall average of homeless individuals is {}. By Looking at the numbers we can say average homeless individuals in this subset is higher than overall average homeless individuals'.format(avg_hl_ind_mount, avg_hl_ind_overall)) "
   ]
  },
  {
   "cell_type": "markdown",
   "id": "449ec4c3",
   "metadata": {},
   "source": [
    "### 6.\tSubset by Multiple Conditions:\n",
    "o\tProblem: Create a subset where the number of homeless individuals is greater than 5,000 and the number of family members is greater than 1,000.\n",
    "\n",
    "o\tQuestions:\n",
    "\n",
    "1.\tWhich states meet both of these criteria?\n",
    "\n",
    "2.\tWhat is the total number of homeless individuals in these states?\n",
    "\n",
    "3.\tHow many family members are homeless in total in these states?\n",
    "\n",
    "4.\tWhat is the average state population in this subset?\n"
   ]
  },
  {
   "cell_type": "code",
   "execution_count": 174,
   "id": "0150677a",
   "metadata": {},
   "outputs": [
    {
     "data": {
      "text/html": [
       "<div>\n",
       "<style scoped>\n",
       "    .dataframe tbody tr th:only-of-type {\n",
       "        vertical-align: middle;\n",
       "    }\n",
       "\n",
       "    .dataframe tbody tr th {\n",
       "        vertical-align: top;\n",
       "    }\n",
       "\n",
       "    .dataframe thead th {\n",
       "        text-align: right;\n",
       "    }\n",
       "</style>\n",
       "<table border=\"1\" class=\"dataframe\">\n",
       "  <thead>\n",
       "    <tr style=\"text-align: right;\">\n",
       "      <th></th>\n",
       "      <th>region</th>\n",
       "      <th>state</th>\n",
       "      <th>individuals</th>\n",
       "      <th>family_members</th>\n",
       "      <th>state_pop</th>\n",
       "      <th>indiv_per_capita</th>\n",
       "      <th>fm_per_cap</th>\n",
       "      <th>total_homeless</th>\n",
       "      <th>hl_percent_fam</th>\n",
       "    </tr>\n",
       "  </thead>\n",
       "  <tbody>\n",
       "    <tr>\n",
       "      <th>2</th>\n",
       "      <td>Mountain</td>\n",
       "      <td>Arizona</td>\n",
       "      <td>7259.0</td>\n",
       "      <td>2606.0</td>\n",
       "      <td>7158024</td>\n",
       "      <td>0.001014</td>\n",
       "      <td>0.000364</td>\n",
       "      <td>9865.0</td>\n",
       "      <td>26.416624</td>\n",
       "    </tr>\n",
       "    <tr>\n",
       "      <th>4</th>\n",
       "      <td>Pacific</td>\n",
       "      <td>California</td>\n",
       "      <td>109008.0</td>\n",
       "      <td>20964.0</td>\n",
       "      <td>39461588</td>\n",
       "      <td>0.002762</td>\n",
       "      <td>0.000531</td>\n",
       "      <td>129972.0</td>\n",
       "      <td>16.129628</td>\n",
       "    </tr>\n",
       "    <tr>\n",
       "      <th>5</th>\n",
       "      <td>Mountain</td>\n",
       "      <td>Colorado</td>\n",
       "      <td>7607.0</td>\n",
       "      <td>3250.0</td>\n",
       "      <td>5691287</td>\n",
       "      <td>0.001337</td>\n",
       "      <td>0.000571</td>\n",
       "      <td>10857.0</td>\n",
       "      <td>29.934604</td>\n",
       "    </tr>\n",
       "    <tr>\n",
       "      <th>9</th>\n",
       "      <td>South Atlantic</td>\n",
       "      <td>Florida</td>\n",
       "      <td>21443.0</td>\n",
       "      <td>9587.0</td>\n",
       "      <td>21244317</td>\n",
       "      <td>0.001009</td>\n",
       "      <td>0.000451</td>\n",
       "      <td>31030.0</td>\n",
       "      <td>30.895907</td>\n",
       "    </tr>\n",
       "    <tr>\n",
       "      <th>10</th>\n",
       "      <td>South Atlantic</td>\n",
       "      <td>Georgia</td>\n",
       "      <td>6943.0</td>\n",
       "      <td>2556.0</td>\n",
       "      <td>10511131</td>\n",
       "      <td>0.000661</td>\n",
       "      <td>0.000243</td>\n",
       "      <td>9499.0</td>\n",
       "      <td>26.908096</td>\n",
       "    </tr>\n",
       "  </tbody>\n",
       "</table>\n",
       "</div>"
      ],
      "text/plain": [
       "            region       state  individuals  family_members  state_pop  \\\n",
       "2         Mountain     Arizona       7259.0          2606.0    7158024   \n",
       "4          Pacific  California     109008.0         20964.0   39461588   \n",
       "5         Mountain    Colorado       7607.0          3250.0    5691287   \n",
       "9   South Atlantic     Florida      21443.0          9587.0   21244317   \n",
       "10  South Atlantic     Georgia       6943.0          2556.0   10511131   \n",
       "\n",
       "    indiv_per_capita  fm_per_cap  total_homeless  hl_percent_fam  \n",
       "2           0.001014    0.000364          9865.0       26.416624  \n",
       "4           0.002762    0.000531        129972.0       16.129628  \n",
       "5           0.001337    0.000571         10857.0       29.934604  \n",
       "9           0.001009    0.000451         31030.0       30.895907  \n",
       "10          0.000661    0.000243          9499.0       26.908096  "
      ]
     },
     "execution_count": 174,
     "metadata": {},
     "output_type": "execute_result"
    }
   ],
   "source": [
    "hl_ind_gt_5k_fm_gt_1k = homeless[(homeless['individuals'] > 5000) & (homeless['family_members'] > 1000)]\n",
    "hl_ind_gt_5k_fm_gt_1k.head()"
   ]
  },
  {
   "cell_type": "code",
   "execution_count": 175,
   "id": "79e92ac9",
   "metadata": {},
   "outputs": [
    {
     "name": "stdout",
     "output_type": "stream",
     "text": [
      "['Arizona', 'California', 'Colorado', 'Florida', 'Georgia', 'Illinois', 'Massachusetts', 'Michigan', 'New Jersey', 'New York', 'North Carolina', 'Ohio', 'Oregon', 'Pennsylvania', 'Tennessee', 'Texas', 'Washington']\n"
     ]
    }
   ],
   "source": [
    "# 1.\tWhich states meet both of these criteria?\n",
    "st_in_5k_fm_1k = list(hl_ind_gt_5k_fm_gt_1k['state'])\n",
    "print(st_in_5k_fm_1k)"
   ]
  },
  {
   "cell_type": "code",
   "execution_count": 176,
   "id": "065f0242",
   "metadata": {},
   "outputs": [
    {
     "name": "stdout",
     "output_type": "stream",
     "text": [
      "291351.0\n"
     ]
    }
   ],
   "source": [
    "# 2.\tWhat is the total number of homeless individuals in these states?\n",
    "tot_hl_ind_5k_fm_1k = hl_ind_gt_5k_fm_gt_1k['individuals'].sum()\n",
    "print(tot_hl_ind_5k_fm_1k)"
   ]
  },
  {
   "cell_type": "code",
   "execution_count": 177,
   "id": "50e45583",
   "metadata": {},
   "outputs": [
    {
     "name": "stdout",
     "output_type": "stream",
     "text": [
      "143231.0\n"
     ]
    }
   ],
   "source": [
    "# 3.\tHow many family members are homeless in total in these states?\n",
    "tot_hl_fam_in5k_fm1k = hl_ind_gt_5k_fm_gt_1k['family_members'].sum()\n",
    "print(tot_hl_fam_in5k_fm1k)"
   ]
  },
  {
   "cell_type": "code",
   "execution_count": 178,
   "id": "8795e47f",
   "metadata": {},
   "outputs": [
    {
     "name": "stdout",
     "output_type": "stream",
     "text": [
      "13178672.411764706\n"
     ]
    }
   ],
   "source": [
    "# 4.\tWhat is the average state population in this subset?\n",
    "avf_st_pop_i5k_f1k = hl_ind_gt_5k_fm_gt_1k['state_pop'].mean()\n",
    "print(avf_st_pop_i5k_f1k)"
   ]
  },
  {
   "cell_type": "markdown",
   "id": "9c2531ff",
   "metadata": {},
   "source": [
    "### 7.\tSubset by High Population and Low Homelessness:\n",
    "o\tProblem: Subset the dataset to include states with a population greater than 5 million but with fewer than 5,000 homeless individuals.\n",
    "\n",
    "o\tQuestions:\n",
    "\n",
    "1.\tWhich states meet these criteria?\n",
    "\n",
    "2.\tWhat is the total population of these states?\n",
    "\n",
    "3.\tHow many homeless individuals are there in total in these states?\n",
    "\n",
    "4.\tWhat is the average number of homeless individuals in this subset?\n"
   ]
  },
  {
   "cell_type": "code",
   "execution_count": 179,
   "id": "231a0d0b",
   "metadata": {},
   "outputs": [
    {
     "data": {
      "text/html": [
       "<div>\n",
       "<style scoped>\n",
       "    .dataframe tbody tr th:only-of-type {\n",
       "        vertical-align: middle;\n",
       "    }\n",
       "\n",
       "    .dataframe tbody tr th {\n",
       "        vertical-align: top;\n",
       "    }\n",
       "\n",
       "    .dataframe thead th {\n",
       "        text-align: right;\n",
       "    }\n",
       "</style>\n",
       "<table border=\"1\" class=\"dataframe\">\n",
       "  <thead>\n",
       "    <tr style=\"text-align: right;\">\n",
       "      <th></th>\n",
       "      <th>region</th>\n",
       "      <th>state</th>\n",
       "      <th>individuals</th>\n",
       "      <th>family_members</th>\n",
       "      <th>state_pop</th>\n",
       "      <th>indiv_per_capita</th>\n",
       "      <th>fm_per_cap</th>\n",
       "      <th>total_homeless</th>\n",
       "      <th>hl_percent_fam</th>\n",
       "    </tr>\n",
       "  </thead>\n",
       "  <tbody>\n",
       "    <tr>\n",
       "      <th>14</th>\n",
       "      <td>East North Central</td>\n",
       "      <td>Indiana</td>\n",
       "      <td>3776.0</td>\n",
       "      <td>1482.0</td>\n",
       "      <td>6695497</td>\n",
       "      <td>0.000564</td>\n",
       "      <td>0.000221</td>\n",
       "      <td>5258.0</td>\n",
       "      <td>28.185622</td>\n",
       "    </tr>\n",
       "    <tr>\n",
       "      <th>20</th>\n",
       "      <td>South Atlantic</td>\n",
       "      <td>Maryland</td>\n",
       "      <td>4914.0</td>\n",
       "      <td>2230.0</td>\n",
       "      <td>6035802</td>\n",
       "      <td>0.000814</td>\n",
       "      <td>0.000369</td>\n",
       "      <td>7144.0</td>\n",
       "      <td>31.215006</td>\n",
       "    </tr>\n",
       "    <tr>\n",
       "      <th>23</th>\n",
       "      <td>West North Central</td>\n",
       "      <td>Minnesota</td>\n",
       "      <td>3993.0</td>\n",
       "      <td>3250.0</td>\n",
       "      <td>5606249</td>\n",
       "      <td>0.000712</td>\n",
       "      <td>0.000580</td>\n",
       "      <td>7243.0</td>\n",
       "      <td>44.870910</td>\n",
       "    </tr>\n",
       "    <tr>\n",
       "      <th>25</th>\n",
       "      <td>West North Central</td>\n",
       "      <td>Missouri</td>\n",
       "      <td>3776.0</td>\n",
       "      <td>2107.0</td>\n",
       "      <td>6121623</td>\n",
       "      <td>0.000617</td>\n",
       "      <td>0.000344</td>\n",
       "      <td>5883.0</td>\n",
       "      <td>35.815060</td>\n",
       "    </tr>\n",
       "    <tr>\n",
       "      <th>40</th>\n",
       "      <td>South Atlantic</td>\n",
       "      <td>South Carolina</td>\n",
       "      <td>3082.0</td>\n",
       "      <td>851.0</td>\n",
       "      <td>5084156</td>\n",
       "      <td>0.000606</td>\n",
       "      <td>0.000167</td>\n",
       "      <td>3933.0</td>\n",
       "      <td>21.637427</td>\n",
       "    </tr>\n",
       "    <tr>\n",
       "      <th>46</th>\n",
       "      <td>South Atlantic</td>\n",
       "      <td>Virginia</td>\n",
       "      <td>3928.0</td>\n",
       "      <td>2047.0</td>\n",
       "      <td>8501286</td>\n",
       "      <td>0.000462</td>\n",
       "      <td>0.000241</td>\n",
       "      <td>5975.0</td>\n",
       "      <td>34.259414</td>\n",
       "    </tr>\n",
       "    <tr>\n",
       "      <th>49</th>\n",
       "      <td>East North Central</td>\n",
       "      <td>Wisconsin</td>\n",
       "      <td>2740.0</td>\n",
       "      <td>2167.0</td>\n",
       "      <td>5807406</td>\n",
       "      <td>0.000472</td>\n",
       "      <td>0.000373</td>\n",
       "      <td>4907.0</td>\n",
       "      <td>44.161402</td>\n",
       "    </tr>\n",
       "  </tbody>\n",
       "</table>\n",
       "</div>"
      ],
      "text/plain": [
       "                region           state  individuals  family_members  \\\n",
       "14  East North Central         Indiana       3776.0          1482.0   \n",
       "20      South Atlantic        Maryland       4914.0          2230.0   \n",
       "23  West North Central       Minnesota       3993.0          3250.0   \n",
       "25  West North Central        Missouri       3776.0          2107.0   \n",
       "40      South Atlantic  South Carolina       3082.0           851.0   \n",
       "46      South Atlantic        Virginia       3928.0          2047.0   \n",
       "49  East North Central       Wisconsin       2740.0          2167.0   \n",
       "\n",
       "    state_pop  indiv_per_capita  fm_per_cap  total_homeless  hl_percent_fam  \n",
       "14    6695497          0.000564    0.000221          5258.0       28.185622  \n",
       "20    6035802          0.000814    0.000369          7144.0       31.215006  \n",
       "23    5606249          0.000712    0.000580          7243.0       44.870910  \n",
       "25    6121623          0.000617    0.000344          5883.0       35.815060  \n",
       "40    5084156          0.000606    0.000167          3933.0       21.637427  \n",
       "46    8501286          0.000462    0.000241          5975.0       34.259414  \n",
       "49    5807406          0.000472    0.000373          4907.0       44.161402  "
      ]
     },
     "execution_count": 179,
     "metadata": {},
     "output_type": "execute_result"
    }
   ],
   "source": [
    "hi_pop_low_hl = homeless[(homeless['state_pop'] > 5000000) & (homeless['individuals'] < 5000)]\n",
    "hi_pop_low_hl"
   ]
  },
  {
   "cell_type": "code",
   "execution_count": 180,
   "id": "7f7a3fe9",
   "metadata": {},
   "outputs": [
    {
     "data": {
      "text/plain": [
       "['Indiana',\n",
       " 'Maryland',\n",
       " 'Minnesota',\n",
       " 'Missouri',\n",
       " 'South Carolina',\n",
       " 'Virginia',\n",
       " 'Wisconsin']"
      ]
     },
     "execution_count": 180,
     "metadata": {},
     "output_type": "execute_result"
    }
   ],
   "source": [
    "# 1.\tWhich states meet these criteria?\n",
    "st_hi_pop_low_hl = list(hi_pop_low_hl['state'])\n",
    "st_hi_pop_low_hl"
   ]
  },
  {
   "cell_type": "code",
   "execution_count": 181,
   "id": "95cbedfd",
   "metadata": {},
   "outputs": [
    {
     "data": {
      "text/plain": [
       "43852019"
      ]
     },
     "execution_count": 181,
     "metadata": {},
     "output_type": "execute_result"
    }
   ],
   "source": [
    "# 2.\tWhat is the total population of these states?\n",
    "tot_pop_hi_pop_low_hl = hi_pop_low_hl['state_pop'].sum()\n",
    "tot_pop_hi_pop_low_hl"
   ]
  },
  {
   "cell_type": "code",
   "execution_count": 182,
   "id": "e74664cc",
   "metadata": {},
   "outputs": [
    {
     "data": {
      "text/plain": [
       "26209.0"
      ]
     },
     "execution_count": 182,
     "metadata": {},
     "output_type": "execute_result"
    }
   ],
   "source": [
    "# 3.\tHow many homeless individuals are there in total in these states?\n",
    "tot_hl_ind_hplh = hi_pop_low_hl['individuals'].sum()\n",
    "tot_hl_ind_hplh"
   ]
  },
  {
   "cell_type": "code",
   "execution_count": 183,
   "id": "c3d7ede4",
   "metadata": {},
   "outputs": [
    {
     "data": {
      "text/plain": [
       "3744.1428571428573"
      ]
     },
     "execution_count": 183,
     "metadata": {},
     "output_type": "execute_result"
    }
   ],
   "source": [
    "# 4.\tWhat is the average number of homeless individuals in this subset?\n",
    "avg_h_ind = hi_pop_low_hl['individuals'].mean()\n",
    "avg_h_ind"
   ]
  },
  {
   "cell_type": "markdown",
   "id": "069b3860",
   "metadata": {},
   "source": [
    "### 8.\tSubset by Region and Family Members:\n",
    "o\tProblem: Create a subset of states from the \"West South Central\" region with fewer than 1,000 homeless family members.\n",
    "\n",
    "o\tQuestions:\n",
    "\n",
    "1.\tHow many states in the West South Central region have fewer than 1,000 homeless family members?\n",
    "\n",
    "2.\tWhich state in this subset has the lowest number of family members?\n",
    "\n",
    "3.\tWhat is the total number of family members in this subset?\n",
    "\n",
    "4.\tHow does the total number of homeless individuals in this subset compare to the total number of family members?\n"
   ]
  },
  {
   "cell_type": "code",
   "execution_count": 184,
   "id": "c7dfc1fc",
   "metadata": {},
   "outputs": [
    {
     "data": {
      "text/html": [
       "<div>\n",
       "<style scoped>\n",
       "    .dataframe tbody tr th:only-of-type {\n",
       "        vertical-align: middle;\n",
       "    }\n",
       "\n",
       "    .dataframe tbody tr th {\n",
       "        vertical-align: top;\n",
       "    }\n",
       "\n",
       "    .dataframe thead th {\n",
       "        text-align: right;\n",
       "    }\n",
       "</style>\n",
       "<table border=\"1\" class=\"dataframe\">\n",
       "  <thead>\n",
       "    <tr style=\"text-align: right;\">\n",
       "      <th></th>\n",
       "      <th>region</th>\n",
       "      <th>state</th>\n",
       "      <th>individuals</th>\n",
       "      <th>family_members</th>\n",
       "      <th>state_pop</th>\n",
       "      <th>indiv_per_capita</th>\n",
       "      <th>fm_per_cap</th>\n",
       "      <th>total_homeless</th>\n",
       "      <th>hl_percent_fam</th>\n",
       "    </tr>\n",
       "  </thead>\n",
       "  <tbody>\n",
       "    <tr>\n",
       "      <th>3</th>\n",
       "      <td>West South Central</td>\n",
       "      <td>Arkansas</td>\n",
       "      <td>2280.0</td>\n",
       "      <td>432.0</td>\n",
       "      <td>3009733</td>\n",
       "      <td>0.000758</td>\n",
       "      <td>0.000144</td>\n",
       "      <td>2712.0</td>\n",
       "      <td>15.929204</td>\n",
       "    </tr>\n",
       "    <tr>\n",
       "      <th>18</th>\n",
       "      <td>West South Central</td>\n",
       "      <td>Louisiana</td>\n",
       "      <td>2540.0</td>\n",
       "      <td>519.0</td>\n",
       "      <td>4659690</td>\n",
       "      <td>0.000545</td>\n",
       "      <td>0.000111</td>\n",
       "      <td>3059.0</td>\n",
       "      <td>16.966329</td>\n",
       "    </tr>\n",
       "  </tbody>\n",
       "</table>\n",
       "</div>"
      ],
      "text/plain": [
       "                region      state  individuals  family_members  state_pop  \\\n",
       "3   West South Central   Arkansas       2280.0           432.0    3009733   \n",
       "18  West South Central  Louisiana       2540.0           519.0    4659690   \n",
       "\n",
       "    indiv_per_capita  fm_per_cap  total_homeless  hl_percent_fam  \n",
       "3           0.000758    0.000144          2712.0       15.929204  \n",
       "18          0.000545    0.000111          3059.0       16.966329  "
      ]
     },
     "execution_count": 184,
     "metadata": {},
     "output_type": "execute_result"
    }
   ],
   "source": [
    "hl_reg_fam = homeless[(homeless['region'] == 'West South Central') & (homeless['family_members'] < 1000)]\n",
    "hl_reg_fam"
   ]
  },
  {
   "cell_type": "code",
   "execution_count": 185,
   "id": "18e96d0a",
   "metadata": {},
   "outputs": [
    {
     "data": {
      "text/plain": [
       "2"
      ]
     },
     "execution_count": 185,
     "metadata": {},
     "output_type": "execute_result"
    }
   ],
   "source": [
    "# 1.\tHow many states in the West South Central region have fewer than 1,000 homeless family members?\n",
    "ct_st_wscr = len(hl_reg_fam)\n",
    "ct_st_wscr"
   ]
  },
  {
   "cell_type": "code",
   "execution_count": 186,
   "id": "384a9ab4",
   "metadata": {},
   "outputs": [
    {
     "data": {
      "text/plain": [
       "'Arkansas'"
      ]
     },
     "execution_count": 186,
     "metadata": {},
     "output_type": "execute_result"
    }
   ],
   "source": [
    "# 2.\tWhich state in this subset has the lowest number of family members?\n",
    "st_l_hl_fam = hl_reg_fam.sort_values('family_members').iloc[0, 1]\n",
    "st_l_hl_fam"
   ]
  },
  {
   "cell_type": "code",
   "execution_count": 187,
   "id": "e9b69f46",
   "metadata": {},
   "outputs": [
    {
     "data": {
      "text/plain": [
       "951.0"
      ]
     },
     "execution_count": 187,
     "metadata": {},
     "output_type": "execute_result"
    }
   ],
   "source": [
    "# 3.\tWhat is the total number of family members in this subset?\n",
    "tot_fam_mem = hl_reg_fam['family_members'].sum()\n",
    "tot_fam_mem"
   ]
  },
  {
   "cell_type": "code",
   "execution_count": 189,
   "id": "e3f78cae",
   "metadata": {},
   "outputs": [
    {
     "name": "stdout",
     "output_type": "stream",
     "text": [
      "Homeless individuals 4820.0 are higher as compared homeless family members 951.0\n"
     ]
    }
   ],
   "source": [
    "# 4.\tHow does the total number of homeless individuals in this subset compare to the total number of family members?\n",
    "tot_hl_indiv = hl_reg_fam['individuals'].sum()\n",
    "if tot_fam_mem > tot_hl_indiv:\n",
    "    print('Homeless family members {} are higher as compared homeless individuals {}'.format(tot_fam_mem, tot_hl_indiv))\n",
    "else:\n",
    "    print('Homeless individuals {} are higher as compared homeless family members {}'.format(tot_hl_indiv, tot_fam_mem))"
   ]
  },
  {
   "cell_type": "markdown",
   "id": "cae50233",
   "metadata": {},
   "source": [
    "### 9.\tSubset by High Homelessness per Capita:\n",
    "o\tProblem: Subset the dataset to include states with homeless individuals per capita (individuals/state_pop) greater than 0.001.\n",
    "\n",
    "o\tQuestions:\n",
    "\n",
    "1.\tWhich states have a per capita rate greater than 0.001?\n",
    "\n",
    "2.\tWhat is the highest per capita rate in this subset?\n",
    "\n",
    "3.\tHow many total homeless individuals are there in this subset?\n",
    "\n",
    "4.\tWhat is the average number of homeless individuals in this subset?\n"
   ]
  },
  {
   "cell_type": "code",
   "execution_count": 191,
   "id": "36e28182",
   "metadata": {
    "scrolled": true
   },
   "outputs": [
    {
     "data": {
      "text/html": [
       "<div>\n",
       "<style scoped>\n",
       "    .dataframe tbody tr th:only-of-type {\n",
       "        vertical-align: middle;\n",
       "    }\n",
       "\n",
       "    .dataframe tbody tr th {\n",
       "        vertical-align: top;\n",
       "    }\n",
       "\n",
       "    .dataframe thead th {\n",
       "        text-align: right;\n",
       "    }\n",
       "</style>\n",
       "<table border=\"1\" class=\"dataframe\">\n",
       "  <thead>\n",
       "    <tr style=\"text-align: right;\">\n",
       "      <th></th>\n",
       "      <th>region</th>\n",
       "      <th>state</th>\n",
       "      <th>individuals</th>\n",
       "      <th>family_members</th>\n",
       "      <th>state_pop</th>\n",
       "      <th>indiv_per_capita</th>\n",
       "      <th>fm_per_cap</th>\n",
       "      <th>total_homeless</th>\n",
       "      <th>hl_percent_fam</th>\n",
       "    </tr>\n",
       "  </thead>\n",
       "  <tbody>\n",
       "    <tr>\n",
       "      <th>1</th>\n",
       "      <td>Pacific</td>\n",
       "      <td>Alaska</td>\n",
       "      <td>1434.0</td>\n",
       "      <td>582.0</td>\n",
       "      <td>735139</td>\n",
       "      <td>0.001951</td>\n",
       "      <td>0.000792</td>\n",
       "      <td>2016.0</td>\n",
       "      <td>28.869048</td>\n",
       "    </tr>\n",
       "    <tr>\n",
       "      <th>2</th>\n",
       "      <td>Mountain</td>\n",
       "      <td>Arizona</td>\n",
       "      <td>7259.0</td>\n",
       "      <td>2606.0</td>\n",
       "      <td>7158024</td>\n",
       "      <td>0.001014</td>\n",
       "      <td>0.000364</td>\n",
       "      <td>9865.0</td>\n",
       "      <td>26.416624</td>\n",
       "    </tr>\n",
       "    <tr>\n",
       "      <th>4</th>\n",
       "      <td>Pacific</td>\n",
       "      <td>California</td>\n",
       "      <td>109008.0</td>\n",
       "      <td>20964.0</td>\n",
       "      <td>39461588</td>\n",
       "      <td>0.002762</td>\n",
       "      <td>0.000531</td>\n",
       "      <td>129972.0</td>\n",
       "      <td>16.129628</td>\n",
       "    </tr>\n",
       "    <tr>\n",
       "      <th>5</th>\n",
       "      <td>Mountain</td>\n",
       "      <td>Colorado</td>\n",
       "      <td>7607.0</td>\n",
       "      <td>3250.0</td>\n",
       "      <td>5691287</td>\n",
       "      <td>0.001337</td>\n",
       "      <td>0.000571</td>\n",
       "      <td>10857.0</td>\n",
       "      <td>29.934604</td>\n",
       "    </tr>\n",
       "    <tr>\n",
       "      <th>8</th>\n",
       "      <td>South Atlantic</td>\n",
       "      <td>District of Columbia</td>\n",
       "      <td>3770.0</td>\n",
       "      <td>3134.0</td>\n",
       "      <td>701547</td>\n",
       "      <td>0.005374</td>\n",
       "      <td>0.004467</td>\n",
       "      <td>6904.0</td>\n",
       "      <td>45.393975</td>\n",
       "    </tr>\n",
       "  </tbody>\n",
       "</table>\n",
       "</div>"
      ],
      "text/plain": [
       "           region                 state  individuals  family_members  \\\n",
       "1         Pacific                Alaska       1434.0           582.0   \n",
       "2        Mountain               Arizona       7259.0          2606.0   \n",
       "4         Pacific            California     109008.0         20964.0   \n",
       "5        Mountain              Colorado       7607.0          3250.0   \n",
       "8  South Atlantic  District of Columbia       3770.0          3134.0   \n",
       "\n",
       "   state_pop  indiv_per_capita  fm_per_cap  total_homeless  hl_percent_fam  \n",
       "1     735139          0.001951    0.000792          2016.0       28.869048  \n",
       "2    7158024          0.001014    0.000364          9865.0       26.416624  \n",
       "4   39461588          0.002762    0.000531        129972.0       16.129628  \n",
       "5    5691287          0.001337    0.000571         10857.0       29.934604  \n",
       "8     701547          0.005374    0.004467          6904.0       45.393975  "
      ]
     },
     "execution_count": 191,
     "metadata": {},
     "output_type": "execute_result"
    }
   ],
   "source": [
    "hi_hl_p_cap = homeless[homeless['indiv_per_capita'] > 0.001]\n",
    "hi_hl_p_cap.head()"
   ]
  },
  {
   "cell_type": "code",
   "execution_count": 192,
   "id": "dc451061",
   "metadata": {},
   "outputs": [
    {
     "data": {
      "text/plain": [
       "['Alaska',\n",
       " 'Arizona',\n",
       " 'California',\n",
       " 'Colorado',\n",
       " 'District of Columbia',\n",
       " 'Florida',\n",
       " 'Hawaii',\n",
       " 'Maine',\n",
       " 'Nevada',\n",
       " 'New York',\n",
       " 'Oregon',\n",
       " 'Vermont',\n",
       " 'Washington']"
      ]
     },
     "execution_count": 192,
     "metadata": {},
     "output_type": "execute_result"
    }
   ],
   "source": [
    "# 1.\tWhich states have a per capita rate greater than 0.001?\n",
    "st_per_cap = list(hi_hl_p_cap['state'])\n",
    "st_per_cap"
   ]
  },
  {
   "cell_type": "code",
   "execution_count": 193,
   "id": "fc66a5ae",
   "metadata": {},
   "outputs": [
    {
     "data": {
      "text/plain": [
       "0.005373838103505538"
      ]
     },
     "execution_count": 193,
     "metadata": {},
     "output_type": "execute_result"
    }
   ],
   "source": [
    "# 2.\tWhat is the highest per capita rate in this subset?\n",
    "hi_ind_per_cap_r = hi_hl_p_cap.sort_values('indiv_per_capita').iloc[-1, 5]\n",
    "hi_ind_per_cap_r"
   ]
  },
  {
   "cell_type": "markdown",
   "id": "ec00b893",
   "metadata": {},
   "source": [
    "### 10.\tSubset by Low Homelessness per Capita:\n",
    "o\tProblem: Subset the dataset to include states with homeless individuals per capita (individuals/state_pop) less than 0.0005.\n",
    "\n",
    "o\tQuestions:\n",
    "\n",
    "1.\tWhich states have a per capita rate less than 0.0005?\n",
    "\n",
    "2.\tWhat is the lowest per capita rate in this subset?\n",
    "\n",
    "3.\tHow many total homeless individuals are there in this subset?\n",
    "\n",
    "4.\tWhat is the average number of homeless individuals in this subset?\n"
   ]
  },
  {
   "cell_type": "code",
   "execution_count": 194,
   "id": "5fff85cf",
   "metadata": {},
   "outputs": [
    {
     "data": {
      "text/html": [
       "<div>\n",
       "<style scoped>\n",
       "    .dataframe tbody tr th:only-of-type {\n",
       "        vertical-align: middle;\n",
       "    }\n",
       "\n",
       "    .dataframe tbody tr th {\n",
       "        vertical-align: top;\n",
       "    }\n",
       "\n",
       "    .dataframe thead th {\n",
       "        text-align: right;\n",
       "    }\n",
       "</style>\n",
       "<table border=\"1\" class=\"dataframe\">\n",
       "  <thead>\n",
       "    <tr style=\"text-align: right;\">\n",
       "      <th></th>\n",
       "      <th>region</th>\n",
       "      <th>state</th>\n",
       "      <th>individuals</th>\n",
       "      <th>family_members</th>\n",
       "      <th>state_pop</th>\n",
       "      <th>indiv_per_capita</th>\n",
       "      <th>fm_per_cap</th>\n",
       "      <th>total_homeless</th>\n",
       "      <th>hl_percent_fam</th>\n",
       "    </tr>\n",
       "  </thead>\n",
       "  <tbody>\n",
       "    <tr>\n",
       "      <th>16</th>\n",
       "      <td>West North Central</td>\n",
       "      <td>Kansas</td>\n",
       "      <td>1443.0</td>\n",
       "      <td>773.0</td>\n",
       "      <td>2911359</td>\n",
       "      <td>0.000496</td>\n",
       "      <td>0.000266</td>\n",
       "      <td>2216.0</td>\n",
       "      <td>34.882671</td>\n",
       "    </tr>\n",
       "    <tr>\n",
       "      <th>24</th>\n",
       "      <td>East South Central</td>\n",
       "      <td>Mississippi</td>\n",
       "      <td>1024.0</td>\n",
       "      <td>328.0</td>\n",
       "      <td>2981020</td>\n",
       "      <td>0.000344</td>\n",
       "      <td>0.000110</td>\n",
       "      <td>1352.0</td>\n",
       "      <td>24.260355</td>\n",
       "    </tr>\n",
       "    <tr>\n",
       "      <th>46</th>\n",
       "      <td>South Atlantic</td>\n",
       "      <td>Virginia</td>\n",
       "      <td>3928.0</td>\n",
       "      <td>2047.0</td>\n",
       "      <td>8501286</td>\n",
       "      <td>0.000462</td>\n",
       "      <td>0.000241</td>\n",
       "      <td>5975.0</td>\n",
       "      <td>34.259414</td>\n",
       "    </tr>\n",
       "    <tr>\n",
       "      <th>49</th>\n",
       "      <td>East North Central</td>\n",
       "      <td>Wisconsin</td>\n",
       "      <td>2740.0</td>\n",
       "      <td>2167.0</td>\n",
       "      <td>5807406</td>\n",
       "      <td>0.000472</td>\n",
       "      <td>0.000373</td>\n",
       "      <td>4907.0</td>\n",
       "      <td>44.161402</td>\n",
       "    </tr>\n",
       "  </tbody>\n",
       "</table>\n",
       "</div>"
      ],
      "text/plain": [
       "                region        state  individuals  family_members  state_pop  \\\n",
       "16  West North Central       Kansas       1443.0           773.0    2911359   \n",
       "24  East South Central  Mississippi       1024.0           328.0    2981020   \n",
       "46      South Atlantic     Virginia       3928.0          2047.0    8501286   \n",
       "49  East North Central    Wisconsin       2740.0          2167.0    5807406   \n",
       "\n",
       "    indiv_per_capita  fm_per_cap  total_homeless  hl_percent_fam  \n",
       "16          0.000496    0.000266          2216.0       34.882671  \n",
       "24          0.000344    0.000110          1352.0       24.260355  \n",
       "46          0.000462    0.000241          5975.0       34.259414  \n",
       "49          0.000472    0.000373          4907.0       44.161402  "
      ]
     },
     "execution_count": 194,
     "metadata": {},
     "output_type": "execute_result"
    }
   ],
   "source": [
    "low_hl_per_cap = homeless[homeless['indiv_per_capita'] < 0.0005]\n",
    "low_hl_per_cap.head()"
   ]
  },
  {
   "cell_type": "code",
   "execution_count": 196,
   "id": "1a1c6715",
   "metadata": {},
   "outputs": [
    {
     "data": {
      "text/plain": [
       "['Kansas', 'Mississippi', 'Virginia', 'Wisconsin']"
      ]
     },
     "execution_count": 196,
     "metadata": {},
     "output_type": "execute_result"
    }
   ],
   "source": [
    "# 1.\tWhich states have a per capita rate less than 0.0005?\n",
    "st_p_c_r = list(low_hl_per_cap['state'])\n",
    "st_p_c_r"
   ]
  },
  {
   "cell_type": "code",
   "execution_count": 198,
   "id": "f737fd09",
   "metadata": {},
   "outputs": [
    {
     "data": {
      "text/plain": [
       "0.0003435065849943979"
      ]
     },
     "execution_count": 198,
     "metadata": {},
     "output_type": "execute_result"
    }
   ],
   "source": [
    "# 2.\tWhat is the lowest per capita rate in this subset?\n",
    "low_per_cap_rate = low_hl_per_cap.sort_values('indiv_per_capita').iloc[0, 5]\n",
    "low_per_cap_rate"
   ]
  },
  {
   "cell_type": "code",
   "execution_count": 199,
   "id": "55037749",
   "metadata": {},
   "outputs": [
    {
     "data": {
      "text/plain": [
       "9135.0"
      ]
     },
     "execution_count": 199,
     "metadata": {},
     "output_type": "execute_result"
    }
   ],
   "source": [
    "# 3.\tHow many total homeless individuals are there in this subset?\n",
    "tot_hl_indiv_low_hl = low_hl_per_cap['individuals'].sum()\n",
    "tot_hl_indiv_low_hl"
   ]
  },
  {
   "cell_type": "code",
   "execution_count": 200,
   "id": "dd8cba06",
   "metadata": {},
   "outputs": [
    {
     "data": {
      "text/plain": [
       "2283.75"
      ]
     },
     "execution_count": 200,
     "metadata": {},
     "output_type": "execute_result"
    }
   ],
   "source": [
    "# 4.\tWhat is the average number of homeless individuals in this subset?\n",
    "avg_hl_indiv_low_hl = low_hl_per_cap['individuals'].mean()\n",
    "avg_hl_indiv_low_hl"
   ]
  },
  {
   "cell_type": "markdown",
   "id": "da91ca8f",
   "metadata": {},
   "source": [
    "# FEATURE ENGINEERING"
   ]
  },
  {
   "cell_type": "markdown",
   "id": "93b0f91d",
   "metadata": {},
   "source": [
    "### 1.\tHomeless Individuals per Capita:\n",
    "o\tProblem: Add a new column for homeless individuals per capita (individuals/state_pop).\n",
    "\n",
    "o\tQuestions:\n",
    "\n",
    "1.\tWhich state has the highest number of homeless individuals per capita?\n",
    "\n",
    "2.\tWhat is the per capita rate for the state with the second-highest number?\n",
    "\n",
    "3.\tWhich state has the lowest number of homeless individuals per capita?\n",
    "\n",
    "4.\tHow many states have a per capita rate higher than 0.001?\n"
   ]
  },
  {
   "cell_type": "code",
   "execution_count": 201,
   "id": "668620f9",
   "metadata": {},
   "outputs": [
    {
     "data": {
      "text/html": [
       "<div>\n",
       "<style scoped>\n",
       "    .dataframe tbody tr th:only-of-type {\n",
       "        vertical-align: middle;\n",
       "    }\n",
       "\n",
       "    .dataframe tbody tr th {\n",
       "        vertical-align: top;\n",
       "    }\n",
       "\n",
       "    .dataframe thead th {\n",
       "        text-align: right;\n",
       "    }\n",
       "</style>\n",
       "<table border=\"1\" class=\"dataframe\">\n",
       "  <thead>\n",
       "    <tr style=\"text-align: right;\">\n",
       "      <th></th>\n",
       "      <th>region</th>\n",
       "      <th>state</th>\n",
       "      <th>individuals</th>\n",
       "      <th>family_members</th>\n",
       "      <th>state_pop</th>\n",
       "      <th>indiv_per_capita</th>\n",
       "      <th>fm_per_cap</th>\n",
       "      <th>total_homeless</th>\n",
       "      <th>hl_percent_fam</th>\n",
       "    </tr>\n",
       "  </thead>\n",
       "  <tbody>\n",
       "    <tr>\n",
       "      <th>0</th>\n",
       "      <td>East South Central</td>\n",
       "      <td>Alabama</td>\n",
       "      <td>2570.0</td>\n",
       "      <td>864.0</td>\n",
       "      <td>4887681</td>\n",
       "      <td>0.000526</td>\n",
       "      <td>0.000177</td>\n",
       "      <td>3434.0</td>\n",
       "      <td>25.160163</td>\n",
       "    </tr>\n",
       "    <tr>\n",
       "      <th>1</th>\n",
       "      <td>Pacific</td>\n",
       "      <td>Alaska</td>\n",
       "      <td>1434.0</td>\n",
       "      <td>582.0</td>\n",
       "      <td>735139</td>\n",
       "      <td>0.001951</td>\n",
       "      <td>0.000792</td>\n",
       "      <td>2016.0</td>\n",
       "      <td>28.869048</td>\n",
       "    </tr>\n",
       "    <tr>\n",
       "      <th>2</th>\n",
       "      <td>Mountain</td>\n",
       "      <td>Arizona</td>\n",
       "      <td>7259.0</td>\n",
       "      <td>2606.0</td>\n",
       "      <td>7158024</td>\n",
       "      <td>0.001014</td>\n",
       "      <td>0.000364</td>\n",
       "      <td>9865.0</td>\n",
       "      <td>26.416624</td>\n",
       "    </tr>\n",
       "    <tr>\n",
       "      <th>3</th>\n",
       "      <td>West South Central</td>\n",
       "      <td>Arkansas</td>\n",
       "      <td>2280.0</td>\n",
       "      <td>432.0</td>\n",
       "      <td>3009733</td>\n",
       "      <td>0.000758</td>\n",
       "      <td>0.000144</td>\n",
       "      <td>2712.0</td>\n",
       "      <td>15.929204</td>\n",
       "    </tr>\n",
       "    <tr>\n",
       "      <th>4</th>\n",
       "      <td>Pacific</td>\n",
       "      <td>California</td>\n",
       "      <td>109008.0</td>\n",
       "      <td>20964.0</td>\n",
       "      <td>39461588</td>\n",
       "      <td>0.002762</td>\n",
       "      <td>0.000531</td>\n",
       "      <td>129972.0</td>\n",
       "      <td>16.129628</td>\n",
       "    </tr>\n",
       "  </tbody>\n",
       "</table>\n",
       "</div>"
      ],
      "text/plain": [
       "               region       state  individuals  family_members  state_pop  \\\n",
       "0  East South Central     Alabama       2570.0           864.0    4887681   \n",
       "1             Pacific      Alaska       1434.0           582.0     735139   \n",
       "2            Mountain     Arizona       7259.0          2606.0    7158024   \n",
       "3  West South Central    Arkansas       2280.0           432.0    3009733   \n",
       "4             Pacific  California     109008.0         20964.0   39461588   \n",
       "\n",
       "   indiv_per_capita  fm_per_cap  total_homeless  hl_percent_fam  \n",
       "0          0.000526    0.000177          3434.0       25.160163  \n",
       "1          0.001951    0.000792          2016.0       28.869048  \n",
       "2          0.001014    0.000364          9865.0       26.416624  \n",
       "3          0.000758    0.000144          2712.0       15.929204  \n",
       "4          0.002762    0.000531        129972.0       16.129628  "
      ]
     },
     "execution_count": 201,
     "metadata": {},
     "output_type": "execute_result"
    }
   ],
   "source": [
    "homeless.head()"
   ]
  },
  {
   "cell_type": "code",
   "execution_count": 203,
   "id": "bb095d9a",
   "metadata": {},
   "outputs": [
    {
     "data": {
      "text/plain": [
       "'District of Columbia'"
      ]
     },
     "execution_count": 203,
     "metadata": {},
     "output_type": "execute_result"
    }
   ],
   "source": [
    "# 1.\tWhich state has the highest number of homeless individuals per capita?\n",
    "st_hi_ind_hl_percap = homeless.sort_values('indiv_per_capita')\n",
    "st_hi_ind_hl_percap.iloc[-1, 1]"
   ]
  },
  {
   "cell_type": "code",
   "execution_count": 204,
   "id": "f458bf79",
   "metadata": {},
   "outputs": [
    {
     "data": {
      "text/plain": [
       "0.002907940557218007"
      ]
     },
     "execution_count": 204,
     "metadata": {},
     "output_type": "execute_result"
    }
   ],
   "source": [
    "# 2.\tWhat is the per capita rate for the state with the second-highest number?\n",
    "per_cap_rate_st_hi_indhl = st_hi_ind_hl_percap.iloc[-2, 5]\n",
    "per_cap_rate_st_hi_indhl"
   ]
  },
  {
   "cell_type": "code",
   "execution_count": 209,
   "id": "9b2f5562",
   "metadata": {},
   "outputs": [
    {
     "data": {
      "text/plain": [
       "'Mississippi'"
      ]
     },
     "execution_count": 209,
     "metadata": {},
     "output_type": "execute_result"
    }
   ],
   "source": [
    "# 3.\tWhich state has the lowest number of homeless individuals per capita?\n",
    "st_low_hlindipercap = st_hi_ind_hl_percap.iloc[0, 1]\n",
    "st_low_hlindipercap"
   ]
  },
  {
   "cell_type": "code",
   "execution_count": 210,
   "id": "5ab90f93",
   "metadata": {},
   "outputs": [
    {
     "name": "stdout",
     "output_type": "stream",
     "text": [
      "['Florida', 'Arizona', 'Maine', 'Vermont', 'Colorado', 'Alaska', 'New York', 'Washington', 'Nevada', 'Oregon', 'California', 'Hawaii', 'District of Columbia']\n",
      "13\n"
     ]
    }
   ],
   "source": [
    "# 4.\tHow many states have a per capita rate higher than 0.001?\n",
    "st_cap_ht = []\n",
    "for lab, row in st_hi_ind_hl_percap.iterrows():\n",
    "    if row['indiv_per_capita'] > 0.001:\n",
    "        st_cap_ht.append(row['state'])\n",
    "print(st_cap_ht)\n",
    "print(len(st_cap_ht))"
   ]
  },
  {
   "cell_type": "markdown",
   "id": "c71f244b",
   "metadata": {},
   "source": [
    "### 2.\tFamily Members per Capita:\n",
    "o\tProblem: Add a new column for homeless family members per capita (family_members/state_pop).\n",
    "\n",
    "o\tQuestions:\n",
    "\n",
    "1.\tWhich state has the fewest homeless family members per capita?\n",
    "\n",
    "2.\tWhat is the per capita rate for the state with the highest number?\n",
    "\n",
    "3.\tWhich states have a per capita rate higher than 0.0005?\n",
    "\n",
    "4.\tHow many states have a per capita rate lower than 0.0001?\n"
   ]
  },
  {
   "cell_type": "code",
   "execution_count": 212,
   "id": "700800d9",
   "metadata": {},
   "outputs": [
    {
     "data": {
      "text/html": [
       "<div>\n",
       "<style scoped>\n",
       "    .dataframe tbody tr th:only-of-type {\n",
       "        vertical-align: middle;\n",
       "    }\n",
       "\n",
       "    .dataframe tbody tr th {\n",
       "        vertical-align: top;\n",
       "    }\n",
       "\n",
       "    .dataframe thead th {\n",
       "        text-align: right;\n",
       "    }\n",
       "</style>\n",
       "<table border=\"1\" class=\"dataframe\">\n",
       "  <thead>\n",
       "    <tr style=\"text-align: right;\">\n",
       "      <th></th>\n",
       "      <th>region</th>\n",
       "      <th>state</th>\n",
       "      <th>individuals</th>\n",
       "      <th>family_members</th>\n",
       "      <th>state_pop</th>\n",
       "      <th>indiv_per_capita</th>\n",
       "      <th>fm_per_cap</th>\n",
       "      <th>total_homeless</th>\n",
       "      <th>hl_percent_fam</th>\n",
       "    </tr>\n",
       "  </thead>\n",
       "  <tbody>\n",
       "    <tr>\n",
       "      <th>34</th>\n",
       "      <td>West North Central</td>\n",
       "      <td>North Dakota</td>\n",
       "      <td>467.0</td>\n",
       "      <td>75.0</td>\n",
       "      <td>758080</td>\n",
       "      <td>0.000616</td>\n",
       "      <td>0.000099</td>\n",
       "      <td>542.0</td>\n",
       "      <td>13.837638</td>\n",
       "    </tr>\n",
       "    <tr>\n",
       "      <th>24</th>\n",
       "      <td>East South Central</td>\n",
       "      <td>Mississippi</td>\n",
       "      <td>1024.0</td>\n",
       "      <td>328.0</td>\n",
       "      <td>2981020</td>\n",
       "      <td>0.000344</td>\n",
       "      <td>0.000110</td>\n",
       "      <td>1352.0</td>\n",
       "      <td>24.260355</td>\n",
       "    </tr>\n",
       "    <tr>\n",
       "      <th>18</th>\n",
       "      <td>West South Central</td>\n",
       "      <td>Louisiana</td>\n",
       "      <td>2540.0</td>\n",
       "      <td>519.0</td>\n",
       "      <td>4659690</td>\n",
       "      <td>0.000545</td>\n",
       "      <td>0.000111</td>\n",
       "      <td>3059.0</td>\n",
       "      <td>16.966329</td>\n",
       "    </tr>\n",
       "    <tr>\n",
       "      <th>48</th>\n",
       "      <td>South Atlantic</td>\n",
       "      <td>West Virginia</td>\n",
       "      <td>1021.0</td>\n",
       "      <td>222.0</td>\n",
       "      <td>1804291</td>\n",
       "      <td>0.000566</td>\n",
       "      <td>0.000123</td>\n",
       "      <td>1243.0</td>\n",
       "      <td>17.860016</td>\n",
       "    </tr>\n",
       "    <tr>\n",
       "      <th>3</th>\n",
       "      <td>West South Central</td>\n",
       "      <td>Arkansas</td>\n",
       "      <td>2280.0</td>\n",
       "      <td>432.0</td>\n",
       "      <td>3009733</td>\n",
       "      <td>0.000758</td>\n",
       "      <td>0.000144</td>\n",
       "      <td>2712.0</td>\n",
       "      <td>15.929204</td>\n",
       "    </tr>\n",
       "  </tbody>\n",
       "</table>\n",
       "</div>"
      ],
      "text/plain": [
       "                region          state  individuals  family_members  state_pop  \\\n",
       "34  West North Central   North Dakota        467.0            75.0     758080   \n",
       "24  East South Central    Mississippi       1024.0           328.0    2981020   \n",
       "18  West South Central      Louisiana       2540.0           519.0    4659690   \n",
       "48      South Atlantic  West Virginia       1021.0           222.0    1804291   \n",
       "3   West South Central       Arkansas       2280.0           432.0    3009733   \n",
       "\n",
       "    indiv_per_capita  fm_per_cap  total_homeless  hl_percent_fam  \n",
       "34          0.000616    0.000099           542.0       13.837638  \n",
       "24          0.000344    0.000110          1352.0       24.260355  \n",
       "18          0.000545    0.000111          3059.0       16.966329  \n",
       "48          0.000566    0.000123          1243.0       17.860016  \n",
       "3           0.000758    0.000144          2712.0       15.929204  "
      ]
     },
     "execution_count": 212,
     "metadata": {},
     "output_type": "execute_result"
    }
   ],
   "source": [
    "hl_fam_percap = homeless.sort_values('fm_per_cap')\n",
    "hl_fam_percap.head()"
   ]
  },
  {
   "cell_type": "code",
   "execution_count": 214,
   "id": "2e679cef",
   "metadata": {},
   "outputs": [
    {
     "data": {
      "text/plain": [
       "'North Dakota'"
      ]
     },
     "execution_count": 214,
     "metadata": {},
     "output_type": "execute_result"
    }
   ],
   "source": [
    "# 1.\tWhich state has the fewest homeless family members per capita?\n",
    "few_hl_fam_percap = hl_fam_percap.iloc[0, 1]\n",
    "few_hl_fam_percap"
   ]
  },
  {
   "cell_type": "code",
   "execution_count": 215,
   "id": "4c4e300f",
   "metadata": {},
   "outputs": [
    {
     "data": {
      "text/plain": [
       "0.004467270190022907"
      ]
     },
     "execution_count": 215,
     "metadata": {},
     "output_type": "execute_result"
    }
   ],
   "source": [
    "# 2.\tWhat is the per capita rate for the state with the highest number?\n",
    "per_caprate_hlfam = hl_fam_percap.iloc[-1, 6]\n",
    "per_caprate_hlfam"
   ]
  },
  {
   "cell_type": "code",
   "execution_count": 216,
   "id": "93766409",
   "metadata": {},
   "outputs": [
    {
     "name": "stdout",
     "output_type": "stream",
     "text": [
      "['California', 'Colorado', 'Minnesota', 'Washington', 'Alaska', 'Maine', 'Oregon', 'Vermont', 'Hawaii', 'Massachusetts', 'New York', 'District of Columbia']\n"
     ]
    }
   ],
   "source": [
    "# 3.\tWhich states have a per capita rate higher than 0.0005?\n",
    "st_fampercaprate = []\n",
    "for lab, row in hl_fam_percap.iterrows():\n",
    "    if row['fm_per_cap'] > 0.0005:\n",
    "        st_fampercaprate.append(row['state'])\n",
    "print(st_fampercaprate)"
   ]
  },
  {
   "cell_type": "code",
   "execution_count": 218,
   "id": "4fdd1989",
   "metadata": {},
   "outputs": [
    {
     "name": "stdout",
     "output_type": "stream",
     "text": [
      "1\n"
     ]
    },
    {
     "data": {
      "text/html": [
       "<div>\n",
       "<style scoped>\n",
       "    .dataframe tbody tr th:only-of-type {\n",
       "        vertical-align: middle;\n",
       "    }\n",
       "\n",
       "    .dataframe tbody tr th {\n",
       "        vertical-align: top;\n",
       "    }\n",
       "\n",
       "    .dataframe thead th {\n",
       "        text-align: right;\n",
       "    }\n",
       "</style>\n",
       "<table border=\"1\" class=\"dataframe\">\n",
       "  <thead>\n",
       "    <tr style=\"text-align: right;\">\n",
       "      <th></th>\n",
       "      <th>region</th>\n",
       "      <th>state</th>\n",
       "      <th>individuals</th>\n",
       "      <th>family_members</th>\n",
       "      <th>state_pop</th>\n",
       "      <th>indiv_per_capita</th>\n",
       "      <th>fm_per_cap</th>\n",
       "      <th>total_homeless</th>\n",
       "      <th>hl_percent_fam</th>\n",
       "    </tr>\n",
       "  </thead>\n",
       "  <tbody>\n",
       "    <tr>\n",
       "      <th>34</th>\n",
       "      <td>West North Central</td>\n",
       "      <td>North Dakota</td>\n",
       "      <td>467.0</td>\n",
       "      <td>75.0</td>\n",
       "      <td>758080</td>\n",
       "      <td>0.000616</td>\n",
       "      <td>0.000099</td>\n",
       "      <td>542.0</td>\n",
       "      <td>13.837638</td>\n",
       "    </tr>\n",
       "  </tbody>\n",
       "</table>\n",
       "</div>"
      ],
      "text/plain": [
       "                region         state  individuals  family_members  state_pop  \\\n",
       "34  West North Central  North Dakota        467.0            75.0     758080   \n",
       "\n",
       "    indiv_per_capita  fm_per_cap  total_homeless  hl_percent_fam  \n",
       "34          0.000616    0.000099           542.0       13.837638  "
      ]
     },
     "execution_count": 218,
     "metadata": {},
     "output_type": "execute_result"
    }
   ],
   "source": [
    "# 4.\tHow many states have a per capita rate lower than 0.0001?\n",
    "ct_st_fm_percaprate = (hl_fam_percap['fm_per_cap'] < 0.0001).sum()\n",
    "print(ct_st_fm_percaprate)\n",
    "hl_fam_percap[hl_fam_percap['fm_per_cap'] < 0.0001]"
   ]
  },
  {
   "cell_type": "markdown",
   "id": "384f0e18",
   "metadata": {},
   "source": [
    "### 3.\tTotal Homeless:\n",
    "o\tProblem: Add a new column for the total number of homeless people (individuals + family_members).\n",
    "\n",
    "o\tQuestions:\n",
    "\n",
    "1.\tWhich state has the highest total number of homeless people?\n",
    "\n",
    "2.\tWhat is the total number of homeless people in the state with the second-highest total?\n",
    "\n",
    "3.\tWhich state has the lowest total number of homeless people?\n",
    "\n",
    "4.\tHow many states have a total number of homeless people greater than 10,000?"
   ]
  },
  {
   "cell_type": "code",
   "execution_count": 220,
   "id": "f080ae93",
   "metadata": {},
   "outputs": [
    {
     "data": {
      "text/html": [
       "<div>\n",
       "<style scoped>\n",
       "    .dataframe tbody tr th:only-of-type {\n",
       "        vertical-align: middle;\n",
       "    }\n",
       "\n",
       "    .dataframe tbody tr th {\n",
       "        vertical-align: top;\n",
       "    }\n",
       "\n",
       "    .dataframe thead th {\n",
       "        text-align: right;\n",
       "    }\n",
       "</style>\n",
       "<table border=\"1\" class=\"dataframe\">\n",
       "  <thead>\n",
       "    <tr style=\"text-align: right;\">\n",
       "      <th></th>\n",
       "      <th>region</th>\n",
       "      <th>state</th>\n",
       "      <th>individuals</th>\n",
       "      <th>family_members</th>\n",
       "      <th>state_pop</th>\n",
       "      <th>indiv_per_capita</th>\n",
       "      <th>fm_per_cap</th>\n",
       "      <th>total_homeless</th>\n",
       "      <th>hl_percent_fam</th>\n",
       "    </tr>\n",
       "  </thead>\n",
       "  <tbody>\n",
       "    <tr>\n",
       "      <th>34</th>\n",
       "      <td>West North Central</td>\n",
       "      <td>North Dakota</td>\n",
       "      <td>467.0</td>\n",
       "      <td>75.0</td>\n",
       "      <td>758080</td>\n",
       "      <td>0.000616</td>\n",
       "      <td>0.000099</td>\n",
       "      <td>542.0</td>\n",
       "      <td>13.837638</td>\n",
       "    </tr>\n",
       "    <tr>\n",
       "      <th>50</th>\n",
       "      <td>Mountain</td>\n",
       "      <td>Wyoming</td>\n",
       "      <td>434.0</td>\n",
       "      <td>205.0</td>\n",
       "      <td>577601</td>\n",
       "      <td>0.000751</td>\n",
       "      <td>0.000355</td>\n",
       "      <td>639.0</td>\n",
       "      <td>32.081377</td>\n",
       "    </tr>\n",
       "    <tr>\n",
       "      <th>7</th>\n",
       "      <td>South Atlantic</td>\n",
       "      <td>Delaware</td>\n",
       "      <td>708.0</td>\n",
       "      <td>374.0</td>\n",
       "      <td>965479</td>\n",
       "      <td>0.000733</td>\n",
       "      <td>0.000387</td>\n",
       "      <td>1082.0</td>\n",
       "      <td>34.565619</td>\n",
       "    </tr>\n",
       "    <tr>\n",
       "      <th>39</th>\n",
       "      <td>New England</td>\n",
       "      <td>Rhode Island</td>\n",
       "      <td>747.0</td>\n",
       "      <td>354.0</td>\n",
       "      <td>1058287</td>\n",
       "      <td>0.000706</td>\n",
       "      <td>0.000335</td>\n",
       "      <td>1101.0</td>\n",
       "      <td>32.152589</td>\n",
       "    </tr>\n",
       "    <tr>\n",
       "      <th>41</th>\n",
       "      <td>West North Central</td>\n",
       "      <td>South Dakota</td>\n",
       "      <td>836.0</td>\n",
       "      <td>323.0</td>\n",
       "      <td>878698</td>\n",
       "      <td>0.000951</td>\n",
       "      <td>0.000368</td>\n",
       "      <td>1159.0</td>\n",
       "      <td>27.868852</td>\n",
       "    </tr>\n",
       "  </tbody>\n",
       "</table>\n",
       "</div>"
      ],
      "text/plain": [
       "                region         state  individuals  family_members  state_pop  \\\n",
       "34  West North Central  North Dakota        467.0            75.0     758080   \n",
       "50            Mountain       Wyoming        434.0           205.0     577601   \n",
       "7       South Atlantic      Delaware        708.0           374.0     965479   \n",
       "39         New England  Rhode Island        747.0           354.0    1058287   \n",
       "41  West North Central  South Dakota        836.0           323.0     878698   \n",
       "\n",
       "    indiv_per_capita  fm_per_cap  total_homeless  hl_percent_fam  \n",
       "34          0.000616    0.000099           542.0       13.837638  \n",
       "50          0.000751    0.000355           639.0       32.081377  \n",
       "7           0.000733    0.000387          1082.0       34.565619  \n",
       "39          0.000706    0.000335          1101.0       32.152589  \n",
       "41          0.000951    0.000368          1159.0       27.868852  "
      ]
     },
     "execution_count": 220,
     "metadata": {},
     "output_type": "execute_result"
    }
   ],
   "source": [
    "tot_hl = homeless.sort_values('total_homeless')\n",
    "tot_hl.head()"
   ]
  },
  {
   "cell_type": "code",
   "execution_count": 223,
   "id": "4ba8b7f1",
   "metadata": {},
   "outputs": [
    {
     "data": {
      "text/plain": [
       "'California'"
      ]
     },
     "execution_count": 223,
     "metadata": {},
     "output_type": "execute_result"
    }
   ],
   "source": [
    "# 1.\tWhich state has the highest total number of homeless people?\n",
    "st_hi_tot_hl = tot_hl.iloc[-1, 1]\n",
    "st_hi_tot_hl"
   ]
  },
  {
   "cell_type": "code",
   "execution_count": 224,
   "id": "ac33a0da",
   "metadata": {},
   "outputs": [
    {
     "data": {
      "text/plain": [
       "91897.0"
      ]
     },
     "execution_count": 224,
     "metadata": {},
     "output_type": "execute_result"
    }
   ],
   "source": [
    "# 2.\tWhat is the total number of homeless people in the state with the second-highest total?\n",
    "tot_hl_2nd_hi = tot_hl.iloc[-2, 7]\n",
    "tot_hl_2nd_hi"
   ]
  },
  {
   "cell_type": "code",
   "execution_count": 225,
   "id": "47f5feca",
   "metadata": {},
   "outputs": [
    {
     "data": {
      "text/plain": [
       "'North Dakota'"
      ]
     },
     "execution_count": 225,
     "metadata": {},
     "output_type": "execute_result"
    }
   ],
   "source": [
    "# 3.\tWhich state has the lowest total number of homeless people?\n",
    "st_low_tot_hl = tot_hl.iloc[0, 1]\n",
    "st_low_tot_hl"
   ]
  },
  {
   "cell_type": "code",
   "execution_count": 228,
   "id": "1a752ea8",
   "metadata": {},
   "outputs": [
    {
     "name": "stdout",
     "output_type": "stream",
     "text": [
      "11\n"
     ]
    },
    {
     "data": {
      "text/html": [
       "<div>\n",
       "<style scoped>\n",
       "    .dataframe tbody tr th:only-of-type {\n",
       "        vertical-align: middle;\n",
       "    }\n",
       "\n",
       "    .dataframe tbody tr th {\n",
       "        vertical-align: top;\n",
       "    }\n",
       "\n",
       "    .dataframe thead th {\n",
       "        text-align: right;\n",
       "    }\n",
       "</style>\n",
       "<table border=\"1\" class=\"dataframe\">\n",
       "  <thead>\n",
       "    <tr style=\"text-align: right;\">\n",
       "      <th></th>\n",
       "      <th>region</th>\n",
       "      <th>state</th>\n",
       "      <th>individuals</th>\n",
       "      <th>family_members</th>\n",
       "      <th>state_pop</th>\n",
       "      <th>indiv_per_capita</th>\n",
       "      <th>fm_per_cap</th>\n",
       "      <th>total_homeless</th>\n",
       "      <th>hl_percent_fam</th>\n",
       "    </tr>\n",
       "  </thead>\n",
       "  <tbody>\n",
       "    <tr>\n",
       "      <th>35</th>\n",
       "      <td>East North Central</td>\n",
       "      <td>Ohio</td>\n",
       "      <td>6929.0</td>\n",
       "      <td>3320.0</td>\n",
       "      <td>11676341</td>\n",
       "      <td>0.000593</td>\n",
       "      <td>0.000284</td>\n",
       "      <td>10249.0</td>\n",
       "      <td>32.393404</td>\n",
       "    </tr>\n",
       "    <tr>\n",
       "      <th>13</th>\n",
       "      <td>East North Central</td>\n",
       "      <td>Illinois</td>\n",
       "      <td>6752.0</td>\n",
       "      <td>3891.0</td>\n",
       "      <td>12723071</td>\n",
       "      <td>0.000531</td>\n",
       "      <td>0.000306</td>\n",
       "      <td>10643.0</td>\n",
       "      <td>36.559241</td>\n",
       "    </tr>\n",
       "    <tr>\n",
       "      <th>5</th>\n",
       "      <td>Mountain</td>\n",
       "      <td>Colorado</td>\n",
       "      <td>7607.0</td>\n",
       "      <td>3250.0</td>\n",
       "      <td>5691287</td>\n",
       "      <td>0.001337</td>\n",
       "      <td>0.000571</td>\n",
       "      <td>10857.0</td>\n",
       "      <td>29.934604</td>\n",
       "    </tr>\n",
       "    <tr>\n",
       "      <th>38</th>\n",
       "      <td>Mid-Atlantic</td>\n",
       "      <td>Pennsylvania</td>\n",
       "      <td>8163.0</td>\n",
       "      <td>5349.0</td>\n",
       "      <td>12800922</td>\n",
       "      <td>0.000638</td>\n",
       "      <td>0.000418</td>\n",
       "      <td>13512.0</td>\n",
       "      <td>39.587034</td>\n",
       "    </tr>\n",
       "    <tr>\n",
       "      <th>37</th>\n",
       "      <td>Pacific</td>\n",
       "      <td>Oregon</td>\n",
       "      <td>11139.0</td>\n",
       "      <td>3337.0</td>\n",
       "      <td>4181886</td>\n",
       "      <td>0.002664</td>\n",
       "      <td>0.000798</td>\n",
       "      <td>14476.0</td>\n",
       "      <td>23.051948</td>\n",
       "    </tr>\n",
       "    <tr>\n",
       "      <th>21</th>\n",
       "      <td>New England</td>\n",
       "      <td>Massachusetts</td>\n",
       "      <td>6811.0</td>\n",
       "      <td>13257.0</td>\n",
       "      <td>6882635</td>\n",
       "      <td>0.000990</td>\n",
       "      <td>0.001926</td>\n",
       "      <td>20068.0</td>\n",
       "      <td>66.060395</td>\n",
       "    </tr>\n",
       "    <tr>\n",
       "      <th>47</th>\n",
       "      <td>Pacific</td>\n",
       "      <td>Washington</td>\n",
       "      <td>16424.0</td>\n",
       "      <td>5880.0</td>\n",
       "      <td>7523869</td>\n",
       "      <td>0.002183</td>\n",
       "      <td>0.000782</td>\n",
       "      <td>22304.0</td>\n",
       "      <td>26.362984</td>\n",
       "    </tr>\n",
       "    <tr>\n",
       "      <th>43</th>\n",
       "      <td>West South Central</td>\n",
       "      <td>Texas</td>\n",
       "      <td>19199.0</td>\n",
       "      <td>6111.0</td>\n",
       "      <td>28628666</td>\n",
       "      <td>0.000671</td>\n",
       "      <td>0.000213</td>\n",
       "      <td>25310.0</td>\n",
       "      <td>24.144607</td>\n",
       "    </tr>\n",
       "    <tr>\n",
       "      <th>9</th>\n",
       "      <td>South Atlantic</td>\n",
       "      <td>Florida</td>\n",
       "      <td>21443.0</td>\n",
       "      <td>9587.0</td>\n",
       "      <td>21244317</td>\n",
       "      <td>0.001009</td>\n",
       "      <td>0.000451</td>\n",
       "      <td>31030.0</td>\n",
       "      <td>30.895907</td>\n",
       "    </tr>\n",
       "    <tr>\n",
       "      <th>32</th>\n",
       "      <td>Mid-Atlantic</td>\n",
       "      <td>New York</td>\n",
       "      <td>39827.0</td>\n",
       "      <td>52070.0</td>\n",
       "      <td>19530351</td>\n",
       "      <td>0.002039</td>\n",
       "      <td>0.002666</td>\n",
       "      <td>91897.0</td>\n",
       "      <td>56.661262</td>\n",
       "    </tr>\n",
       "    <tr>\n",
       "      <th>4</th>\n",
       "      <td>Pacific</td>\n",
       "      <td>California</td>\n",
       "      <td>109008.0</td>\n",
       "      <td>20964.0</td>\n",
       "      <td>39461588</td>\n",
       "      <td>0.002762</td>\n",
       "      <td>0.000531</td>\n",
       "      <td>129972.0</td>\n",
       "      <td>16.129628</td>\n",
       "    </tr>\n",
       "  </tbody>\n",
       "</table>\n",
       "</div>"
      ],
      "text/plain": [
       "                region          state  individuals  family_members  state_pop  \\\n",
       "35  East North Central           Ohio       6929.0          3320.0   11676341   \n",
       "13  East North Central       Illinois       6752.0          3891.0   12723071   \n",
       "5             Mountain       Colorado       7607.0          3250.0    5691287   \n",
       "38        Mid-Atlantic   Pennsylvania       8163.0          5349.0   12800922   \n",
       "37             Pacific         Oregon      11139.0          3337.0    4181886   \n",
       "21         New England  Massachusetts       6811.0         13257.0    6882635   \n",
       "47             Pacific     Washington      16424.0          5880.0    7523869   \n",
       "43  West South Central          Texas      19199.0          6111.0   28628666   \n",
       "9       South Atlantic        Florida      21443.0          9587.0   21244317   \n",
       "32        Mid-Atlantic       New York      39827.0         52070.0   19530351   \n",
       "4              Pacific     California     109008.0         20964.0   39461588   \n",
       "\n",
       "    indiv_per_capita  fm_per_cap  total_homeless  hl_percent_fam  \n",
       "35          0.000593    0.000284         10249.0       32.393404  \n",
       "13          0.000531    0.000306         10643.0       36.559241  \n",
       "5           0.001337    0.000571         10857.0       29.934604  \n",
       "38          0.000638    0.000418         13512.0       39.587034  \n",
       "37          0.002664    0.000798         14476.0       23.051948  \n",
       "21          0.000990    0.001926         20068.0       66.060395  \n",
       "47          0.002183    0.000782         22304.0       26.362984  \n",
       "43          0.000671    0.000213         25310.0       24.144607  \n",
       "9           0.001009    0.000451         31030.0       30.895907  \n",
       "32          0.002039    0.002666         91897.0       56.661262  \n",
       "4           0.002762    0.000531        129972.0       16.129628  "
      ]
     },
     "execution_count": 228,
     "metadata": {},
     "output_type": "execute_result"
    }
   ],
   "source": [
    "# 4.\tHow many states have a total number of homeless people greater than 10,000?\n",
    "ct_st_tot_hl_gt10k = (tot_hl['total_homeless'] > 10000).sum()\n",
    "print(ct_st_tot_hl_gt10k)\n",
    "tot_hl[tot_hl['total_homeless'] > 10000]"
   ]
  },
  {
   "cell_type": "markdown",
   "id": "7e64f967",
   "metadata": {},
   "source": [
    "### 4.\tPercentage of Family Members:\n",
    "o\tProblem: Add a new column for the percentage of family members among the homeless (family_members / (individuals + family_members)).\n",
    "\n",
    "o\tQuestions:\n",
    "\n",
    "1.\tWhich state has the lowest percentage of family members among the homeless?\n",
    "\n",
    "2.\tWhat is the percentage for the state with the highest number?\n",
    "\n",
    "3.\tWhich states have a percentage higher than 50%?\n",
    "\n",
    "4.\tHow many states have a percentage lower than 10%?\n"
   ]
  },
  {
   "cell_type": "code",
   "execution_count": 229,
   "id": "0b039d26",
   "metadata": {},
   "outputs": [
    {
     "data": {
      "text/html": [
       "<div>\n",
       "<style scoped>\n",
       "    .dataframe tbody tr th:only-of-type {\n",
       "        vertical-align: middle;\n",
       "    }\n",
       "\n",
       "    .dataframe tbody tr th {\n",
       "        vertical-align: top;\n",
       "    }\n",
       "\n",
       "    .dataframe thead th {\n",
       "        text-align: right;\n",
       "    }\n",
       "</style>\n",
       "<table border=\"1\" class=\"dataframe\">\n",
       "  <thead>\n",
       "    <tr style=\"text-align: right;\">\n",
       "      <th></th>\n",
       "      <th>region</th>\n",
       "      <th>state</th>\n",
       "      <th>individuals</th>\n",
       "      <th>family_members</th>\n",
       "      <th>state_pop</th>\n",
       "      <th>indiv_per_capita</th>\n",
       "      <th>fm_per_cap</th>\n",
       "      <th>total_homeless</th>\n",
       "      <th>hl_percent_fam</th>\n",
       "    </tr>\n",
       "  </thead>\n",
       "  <tbody>\n",
       "    <tr>\n",
       "      <th>28</th>\n",
       "      <td>Mountain</td>\n",
       "      <td>Nevada</td>\n",
       "      <td>7058.0</td>\n",
       "      <td>486.0</td>\n",
       "      <td>3027341</td>\n",
       "      <td>0.002331</td>\n",
       "      <td>0.000161</td>\n",
       "      <td>7544.0</td>\n",
       "      <td>6.442206</td>\n",
       "    </tr>\n",
       "    <tr>\n",
       "      <th>34</th>\n",
       "      <td>West North Central</td>\n",
       "      <td>North Dakota</td>\n",
       "      <td>467.0</td>\n",
       "      <td>75.0</td>\n",
       "      <td>758080</td>\n",
       "      <td>0.000616</td>\n",
       "      <td>0.000099</td>\n",
       "      <td>542.0</td>\n",
       "      <td>13.837638</td>\n",
       "    </tr>\n",
       "    <tr>\n",
       "      <th>3</th>\n",
       "      <td>West South Central</td>\n",
       "      <td>Arkansas</td>\n",
       "      <td>2280.0</td>\n",
       "      <td>432.0</td>\n",
       "      <td>3009733</td>\n",
       "      <td>0.000758</td>\n",
       "      <td>0.000144</td>\n",
       "      <td>2712.0</td>\n",
       "      <td>15.929204</td>\n",
       "    </tr>\n",
       "    <tr>\n",
       "      <th>4</th>\n",
       "      <td>Pacific</td>\n",
       "      <td>California</td>\n",
       "      <td>109008.0</td>\n",
       "      <td>20964.0</td>\n",
       "      <td>39461588</td>\n",
       "      <td>0.002762</td>\n",
       "      <td>0.000531</td>\n",
       "      <td>129972.0</td>\n",
       "      <td>16.129628</td>\n",
       "    </tr>\n",
       "    <tr>\n",
       "      <th>18</th>\n",
       "      <td>West South Central</td>\n",
       "      <td>Louisiana</td>\n",
       "      <td>2540.0</td>\n",
       "      <td>519.0</td>\n",
       "      <td>4659690</td>\n",
       "      <td>0.000545</td>\n",
       "      <td>0.000111</td>\n",
       "      <td>3059.0</td>\n",
       "      <td>16.966329</td>\n",
       "    </tr>\n",
       "  </tbody>\n",
       "</table>\n",
       "</div>"
      ],
      "text/plain": [
       "                region         state  individuals  family_members  state_pop  \\\n",
       "28            Mountain        Nevada       7058.0           486.0    3027341   \n",
       "34  West North Central  North Dakota        467.0            75.0     758080   \n",
       "3   West South Central      Arkansas       2280.0           432.0    3009733   \n",
       "4              Pacific    California     109008.0         20964.0   39461588   \n",
       "18  West South Central     Louisiana       2540.0           519.0    4659690   \n",
       "\n",
       "    indiv_per_capita  fm_per_cap  total_homeless  hl_percent_fam  \n",
       "28          0.002331    0.000161          7544.0        6.442206  \n",
       "34          0.000616    0.000099           542.0       13.837638  \n",
       "3           0.000758    0.000144          2712.0       15.929204  \n",
       "4           0.002762    0.000531        129972.0       16.129628  \n",
       "18          0.000545    0.000111          3059.0       16.966329  "
      ]
     },
     "execution_count": 229,
     "metadata": {},
     "output_type": "execute_result"
    }
   ],
   "source": [
    "percent_fam_hl = homeless.sort_values('hl_percent_fam')\n",
    "percent_fam_hl.head()"
   ]
  },
  {
   "cell_type": "code",
   "execution_count": 230,
   "id": "343927dc",
   "metadata": {},
   "outputs": [
    {
     "data": {
      "text/plain": [
       "'Nevada'"
      ]
     },
     "execution_count": 230,
     "metadata": {},
     "output_type": "execute_result"
    }
   ],
   "source": [
    "# 1.\tWhich state has the lowest percentage of family members among the homeless?\n",
    "st_low_per_fam = percent_fam_hl.iloc[0, 1]\n",
    "st_low_per_fam"
   ]
  },
  {
   "cell_type": "code",
   "execution_count": 231,
   "id": "571384b9",
   "metadata": {},
   "outputs": [
    {
     "data": {
      "text/plain": [
       "66.06039465816225"
      ]
     },
     "execution_count": 231,
     "metadata": {},
     "output_type": "execute_result"
    }
   ],
   "source": [
    "# 2.\tWhat is the percentage for the state with the highest number?\n",
    "percent_st_hi_fam = percent_fam_hl.iloc[-1, 8]\n",
    "percent_st_hi_fam"
   ]
  },
  {
   "cell_type": "code",
   "execution_count": 232,
   "id": "0dd4f41b",
   "metadata": {},
   "outputs": [
    {
     "name": "stdout",
     "output_type": "stream",
     "text": [
      "['New York', 'Massachusetts']\n"
     ]
    }
   ],
   "source": [
    "# 3.\tWhich states have a percentage higher than 50%?\n",
    "st_per_ht_50 = []\n",
    "for lab, row in percent_fam_hl.iterrows():\n",
    "    if row['hl_percent_fam'] > 50:\n",
    "        st_per_ht_50.append(row['state'])\n",
    "print(st_per_ht_50)"
   ]
  },
  {
   "cell_type": "code",
   "execution_count": 233,
   "id": "ca993923",
   "metadata": {},
   "outputs": [
    {
     "data": {
      "text/plain": [
       "1"
      ]
     },
     "execution_count": 233,
     "metadata": {},
     "output_type": "execute_result"
    }
   ],
   "source": [
    "# 4.\tHow many states have a percentage lower than 10%?\n",
    "ct_St_per_lt_10 = (percent_fam_hl['hl_percent_fam'] < 10).sum()\n",
    "ct_St_per_lt_10"
   ]
  },
  {
   "cell_type": "markdown",
   "id": "06d4d5c6",
   "metadata": {},
   "source": [
    "### 5.\tHomeless per Thousand Residents:\n",
    "o\tProblem: Add a new column for the number of homeless individuals per thousand residents (individuals / state_pop * 1000).\n",
    "\n",
    "o\tQuestions:\n",
    "\n",
    "1.\tWhich state has the highest number of homeless individuals per thousand residents?\n",
    "\n",
    "2.\tWhat is the rate for the state with the second-highest number?\n",
    "\n",
    "3.\tWhich state has the lowest number of homeless individuals per thousand residents?\n",
    "\n",
    "4.\tHow many states have a rate higher than 1?\n"
   ]
  },
  {
   "cell_type": "code",
   "execution_count": 234,
   "id": "086cedef",
   "metadata": {},
   "outputs": [
    {
     "data": {
      "text/html": [
       "<div>\n",
       "<style scoped>\n",
       "    .dataframe tbody tr th:only-of-type {\n",
       "        vertical-align: middle;\n",
       "    }\n",
       "\n",
       "    .dataframe tbody tr th {\n",
       "        vertical-align: top;\n",
       "    }\n",
       "\n",
       "    .dataframe thead th {\n",
       "        text-align: right;\n",
       "    }\n",
       "</style>\n",
       "<table border=\"1\" class=\"dataframe\">\n",
       "  <thead>\n",
       "    <tr style=\"text-align: right;\">\n",
       "      <th></th>\n",
       "      <th>region</th>\n",
       "      <th>state</th>\n",
       "      <th>individuals</th>\n",
       "      <th>family_members</th>\n",
       "      <th>state_pop</th>\n",
       "      <th>indiv_per_capita</th>\n",
       "      <th>fm_per_cap</th>\n",
       "      <th>total_homeless</th>\n",
       "      <th>hl_percent_fam</th>\n",
       "      <th>indiv_per_1000_res</th>\n",
       "    </tr>\n",
       "  </thead>\n",
       "  <tbody>\n",
       "    <tr>\n",
       "      <th>24</th>\n",
       "      <td>East South Central</td>\n",
       "      <td>Mississippi</td>\n",
       "      <td>1024.0</td>\n",
       "      <td>328.0</td>\n",
       "      <td>2981020</td>\n",
       "      <td>0.000344</td>\n",
       "      <td>0.000110</td>\n",
       "      <td>1352.0</td>\n",
       "      <td>24.260355</td>\n",
       "      <td>0.343507</td>\n",
       "    </tr>\n",
       "    <tr>\n",
       "      <th>46</th>\n",
       "      <td>South Atlantic</td>\n",
       "      <td>Virginia</td>\n",
       "      <td>3928.0</td>\n",
       "      <td>2047.0</td>\n",
       "      <td>8501286</td>\n",
       "      <td>0.000462</td>\n",
       "      <td>0.000241</td>\n",
       "      <td>5975.0</td>\n",
       "      <td>34.259414</td>\n",
       "      <td>0.462048</td>\n",
       "    </tr>\n",
       "    <tr>\n",
       "      <th>49</th>\n",
       "      <td>East North Central</td>\n",
       "      <td>Wisconsin</td>\n",
       "      <td>2740.0</td>\n",
       "      <td>2167.0</td>\n",
       "      <td>5807406</td>\n",
       "      <td>0.000472</td>\n",
       "      <td>0.000373</td>\n",
       "      <td>4907.0</td>\n",
       "      <td>44.161402</td>\n",
       "      <td>0.471811</td>\n",
       "    </tr>\n",
       "    <tr>\n",
       "      <th>16</th>\n",
       "      <td>West North Central</td>\n",
       "      <td>Kansas</td>\n",
       "      <td>1443.0</td>\n",
       "      <td>773.0</td>\n",
       "      <td>2911359</td>\n",
       "      <td>0.000496</td>\n",
       "      <td>0.000266</td>\n",
       "      <td>2216.0</td>\n",
       "      <td>34.882671</td>\n",
       "      <td>0.495645</td>\n",
       "    </tr>\n",
       "    <tr>\n",
       "      <th>22</th>\n",
       "      <td>East North Central</td>\n",
       "      <td>Michigan</td>\n",
       "      <td>5209.0</td>\n",
       "      <td>3142.0</td>\n",
       "      <td>9984072</td>\n",
       "      <td>0.000522</td>\n",
       "      <td>0.000315</td>\n",
       "      <td>8351.0</td>\n",
       "      <td>37.624237</td>\n",
       "      <td>0.521731</td>\n",
       "    </tr>\n",
       "  </tbody>\n",
       "</table>\n",
       "</div>"
      ],
      "text/plain": [
       "                region        state  individuals  family_members  state_pop  \\\n",
       "24  East South Central  Mississippi       1024.0           328.0    2981020   \n",
       "46      South Atlantic     Virginia       3928.0          2047.0    8501286   \n",
       "49  East North Central    Wisconsin       2740.0          2167.0    5807406   \n",
       "16  West North Central       Kansas       1443.0           773.0    2911359   \n",
       "22  East North Central     Michigan       5209.0          3142.0    9984072   \n",
       "\n",
       "    indiv_per_capita  fm_per_cap  total_homeless  hl_percent_fam  \\\n",
       "24          0.000344    0.000110          1352.0       24.260355   \n",
       "46          0.000462    0.000241          5975.0       34.259414   \n",
       "49          0.000472    0.000373          4907.0       44.161402   \n",
       "16          0.000496    0.000266          2216.0       34.882671   \n",
       "22          0.000522    0.000315          8351.0       37.624237   \n",
       "\n",
       "    indiv_per_1000_res  \n",
       "24            0.343507  \n",
       "46            0.462048  \n",
       "49            0.471811  \n",
       "16            0.495645  \n",
       "22            0.521731  "
      ]
     },
     "execution_count": 234,
     "metadata": {},
     "output_type": "execute_result"
    }
   ],
   "source": [
    "homeless['indiv_per_1000_res'] = 1000 * homeless['individuals'] / homeless['state_pop']\n",
    "hl_ind_per1000res = homeless.sort_values('indiv_per_1000_res')\n",
    "hl_ind_per1000res.head()"
   ]
  },
  {
   "cell_type": "code",
   "execution_count": 235,
   "id": "6869b46e",
   "metadata": {},
   "outputs": [
    {
     "data": {
      "text/plain": [
       "'District of Columbia'"
      ]
     },
     "execution_count": 235,
     "metadata": {},
     "output_type": "execute_result"
    }
   ],
   "source": [
    "# 1.\tWhich state has the highest number of homeless individuals per thousand residents?\n",
    "st_hi_hl_ind_per1000res = hl_ind_per1000res.iloc[-1, 1]\n",
    "st_hi_hl_ind_per1000res"
   ]
  },
  {
   "cell_type": "code",
   "execution_count": 237,
   "id": "80262958",
   "metadata": {},
   "outputs": [
    {
     "data": {
      "text/plain": [
       "2.907940557218007"
      ]
     },
     "execution_count": 237,
     "metadata": {},
     "output_type": "execute_result"
    }
   ],
   "source": [
    "# 2.\tWhat is the rate for the state with the second-highest number?\n",
    "rate_st_2nd_hi = hl_ind_per1000res.iloc[-2, 9]\n",
    "rate_st_2nd_hi"
   ]
  },
  {
   "cell_type": "code",
   "execution_count": 238,
   "id": "78bf4751",
   "metadata": {},
   "outputs": [
    {
     "data": {
      "text/plain": [
       "'Mississippi'"
      ]
     },
     "execution_count": 238,
     "metadata": {},
     "output_type": "execute_result"
    }
   ],
   "source": [
    "# 3.\tWhich state has the lowest number of homeless individuals per thousand residents?\n",
    "st_low_ind_per1000res = hl_ind_per1000res.iloc[0, 1]\n",
    "st_low_ind_per1000res"
   ]
  },
  {
   "cell_type": "code",
   "execution_count": 239,
   "id": "2bd9c2a0",
   "metadata": {},
   "outputs": [
    {
     "data": {
      "text/plain": [
       "13"
      ]
     },
     "execution_count": 239,
     "metadata": {},
     "output_type": "execute_result"
    }
   ],
   "source": [
    "# 4.\tHow many states have a rate higher than 1?\n",
    "st_st_rate_ht_1 = (hl_ind_per1000res['indiv_per_1000_res'] > 1).sum()\n",
    "st_st_rate_ht_1"
   ]
  },
  {
   "cell_type": "markdown",
   "id": "8ac5a262",
   "metadata": {},
   "source": [
    "### 6.\tFamily Members per Thousand Residents:\n",
    "o\tProblem: Add a new column for the number of homeless family members per thousand residents (family_members / state_pop * 1000).\n",
    "\n",
    "o\tQuestions:\n",
    "\n",
    "1.\tWhich state has the fewest homeless family members per thousand residents?\n",
    "\n",
    "2.\tWhat is the rate for the state with the highest number?\n",
    "\n",
    "3.\tWhich states have a rate higher than 0.5?\n",
    "\n",
    "4.\tHow many states have a rate lower than 0.1?\n"
   ]
  },
  {
   "cell_type": "code",
   "execution_count": 240,
   "id": "d5f6da79",
   "metadata": {},
   "outputs": [
    {
     "data": {
      "text/html": [
       "<div>\n",
       "<style scoped>\n",
       "    .dataframe tbody tr th:only-of-type {\n",
       "        vertical-align: middle;\n",
       "    }\n",
       "\n",
       "    .dataframe tbody tr th {\n",
       "        vertical-align: top;\n",
       "    }\n",
       "\n",
       "    .dataframe thead th {\n",
       "        text-align: right;\n",
       "    }\n",
       "</style>\n",
       "<table border=\"1\" class=\"dataframe\">\n",
       "  <thead>\n",
       "    <tr style=\"text-align: right;\">\n",
       "      <th></th>\n",
       "      <th>region</th>\n",
       "      <th>state</th>\n",
       "      <th>individuals</th>\n",
       "      <th>family_members</th>\n",
       "      <th>state_pop</th>\n",
       "      <th>indiv_per_capita</th>\n",
       "      <th>fm_per_cap</th>\n",
       "      <th>total_homeless</th>\n",
       "      <th>hl_percent_fam</th>\n",
       "      <th>indiv_per_1000_res</th>\n",
       "      <th>fam_per_1000</th>\n",
       "    </tr>\n",
       "  </thead>\n",
       "  <tbody>\n",
       "    <tr>\n",
       "      <th>34</th>\n",
       "      <td>West North Central</td>\n",
       "      <td>North Dakota</td>\n",
       "      <td>467.0</td>\n",
       "      <td>75.0</td>\n",
       "      <td>758080</td>\n",
       "      <td>0.000616</td>\n",
       "      <td>0.000099</td>\n",
       "      <td>542.0</td>\n",
       "      <td>13.837638</td>\n",
       "      <td>0.616030</td>\n",
       "      <td>0.098934</td>\n",
       "    </tr>\n",
       "    <tr>\n",
       "      <th>24</th>\n",
       "      <td>East South Central</td>\n",
       "      <td>Mississippi</td>\n",
       "      <td>1024.0</td>\n",
       "      <td>328.0</td>\n",
       "      <td>2981020</td>\n",
       "      <td>0.000344</td>\n",
       "      <td>0.000110</td>\n",
       "      <td>1352.0</td>\n",
       "      <td>24.260355</td>\n",
       "      <td>0.343507</td>\n",
       "      <td>0.110029</td>\n",
       "    </tr>\n",
       "    <tr>\n",
       "      <th>18</th>\n",
       "      <td>West South Central</td>\n",
       "      <td>Louisiana</td>\n",
       "      <td>2540.0</td>\n",
       "      <td>519.0</td>\n",
       "      <td>4659690</td>\n",
       "      <td>0.000545</td>\n",
       "      <td>0.000111</td>\n",
       "      <td>3059.0</td>\n",
       "      <td>16.966329</td>\n",
       "      <td>0.545101</td>\n",
       "      <td>0.111381</td>\n",
       "    </tr>\n",
       "    <tr>\n",
       "      <th>48</th>\n",
       "      <td>South Atlantic</td>\n",
       "      <td>West Virginia</td>\n",
       "      <td>1021.0</td>\n",
       "      <td>222.0</td>\n",
       "      <td>1804291</td>\n",
       "      <td>0.000566</td>\n",
       "      <td>0.000123</td>\n",
       "      <td>1243.0</td>\n",
       "      <td>17.860016</td>\n",
       "      <td>0.565873</td>\n",
       "      <td>0.123040</td>\n",
       "    </tr>\n",
       "    <tr>\n",
       "      <th>3</th>\n",
       "      <td>West South Central</td>\n",
       "      <td>Arkansas</td>\n",
       "      <td>2280.0</td>\n",
       "      <td>432.0</td>\n",
       "      <td>3009733</td>\n",
       "      <td>0.000758</td>\n",
       "      <td>0.000144</td>\n",
       "      <td>2712.0</td>\n",
       "      <td>15.929204</td>\n",
       "      <td>0.757542</td>\n",
       "      <td>0.143534</td>\n",
       "    </tr>\n",
       "  </tbody>\n",
       "</table>\n",
       "</div>"
      ],
      "text/plain": [
       "                region          state  individuals  family_members  state_pop  \\\n",
       "34  West North Central   North Dakota        467.0            75.0     758080   \n",
       "24  East South Central    Mississippi       1024.0           328.0    2981020   \n",
       "18  West South Central      Louisiana       2540.0           519.0    4659690   \n",
       "48      South Atlantic  West Virginia       1021.0           222.0    1804291   \n",
       "3   West South Central       Arkansas       2280.0           432.0    3009733   \n",
       "\n",
       "    indiv_per_capita  fm_per_cap  total_homeless  hl_percent_fam  \\\n",
       "34          0.000616    0.000099           542.0       13.837638   \n",
       "24          0.000344    0.000110          1352.0       24.260355   \n",
       "18          0.000545    0.000111          3059.0       16.966329   \n",
       "48          0.000566    0.000123          1243.0       17.860016   \n",
       "3           0.000758    0.000144          2712.0       15.929204   \n",
       "\n",
       "    indiv_per_1000_res  fam_per_1000  \n",
       "34            0.616030      0.098934  \n",
       "24            0.343507      0.110029  \n",
       "18            0.545101      0.111381  \n",
       "48            0.565873      0.123040  \n",
       "3             0.757542      0.143534  "
      ]
     },
     "execution_count": 240,
     "metadata": {},
     "output_type": "execute_result"
    }
   ],
   "source": [
    "homeless['fam_per_1000'] = 1000 * (homeless['family_members'] / homeless['state_pop'])\n",
    "hl_fam_per1000res = homeless.sort_values('fam_per_1000')\n",
    "hl_fam_per1000res.head()"
   ]
  },
  {
   "cell_type": "code",
   "execution_count": 241,
   "id": "a9f405c4",
   "metadata": {},
   "outputs": [
    {
     "data": {
      "text/plain": [
       "'North Dakota'"
      ]
     },
     "execution_count": 241,
     "metadata": {},
     "output_type": "execute_result"
    }
   ],
   "source": [
    "# 1.\tWhich state has the fewest homeless family members per thousand residents?\n",
    "st_least_hl_fam_per1000res = hl_fam_per1000res.iloc[0, 1]\n",
    "st_least_hl_fam_per1000res"
   ]
  },
  {
   "cell_type": "code",
   "execution_count": 242,
   "id": "40db4bc9",
   "metadata": {},
   "outputs": [
    {
     "data": {
      "text/plain": [
       "4.467270190022907"
      ]
     },
     "execution_count": 242,
     "metadata": {},
     "output_type": "execute_result"
    }
   ],
   "source": [
    "# 2.\tWhat is the rate for the state with the highest number?\n",
    "rate_st_hi = hl_fam_per1000res.iloc[-1, 10]\n",
    "rate_st_hi"
   ]
  },
  {
   "cell_type": "code",
   "execution_count": 244,
   "id": "d87d1712",
   "metadata": {},
   "outputs": [
    {
     "name": "stdout",
     "output_type": "stream",
     "text": [
      "['California', 'Colorado', 'Minnesota', 'Washington', 'Alaska', 'Maine', 'Oregon', 'Vermont', 'Hawaii', 'Massachusetts', 'New York', 'District of Columbia']\n"
     ]
    }
   ],
   "source": [
    "# 3.\tWhich states have a rate higher than 0.5?\n",
    "st_rate_ht_point5 = []\n",
    "for lab, row in hl_fam_per1000res.iterrows():\n",
    "    if row['fam_per_1000'] > 0.5:\n",
    "        st_rate_ht_point5.append(row['state'])\n",
    "print(st_rate_ht_point5)"
   ]
  },
  {
   "cell_type": "code",
   "execution_count": 245,
   "id": "7837e849",
   "metadata": {},
   "outputs": [
    {
     "data": {
      "text/plain": [
       "1"
      ]
     },
     "execution_count": 245,
     "metadata": {},
     "output_type": "execute_result"
    }
   ],
   "source": [
    "# 4.\tHow many states have a rate lower than 0.1?\n",
    "ct_st_rate_lt_point1 = (hl_fam_per1000res['fam_per_1000'] < 0.1).sum()\n",
    "ct_st_rate_lt_point1"
   ]
  },
  {
   "cell_type": "markdown",
   "id": "1a5f17de",
   "metadata": {},
   "source": [
    "### 7.\tTotal Homeless per Thousand Residents:\n",
    "o\tProblem: Add a new column for the total number of homeless people per thousand residents ((individuals + family_members) / state_pop * 1000).\n",
    "\n",
    "o\tQuestions:\n",
    "\n",
    "1.\tWhich state has the highest total number of homeless people per thousand residents?\n",
    "\n",
    "2.\tWhat is the rate for the state with the second-highest number?\n",
    "\n",
    "3.\tWhich state has the lowest total number of homeless people per thousand residents?\n",
    "\n",
    "4.\tHow many states have a rate higher than 1?\n"
   ]
  },
  {
   "cell_type": "code",
   "execution_count": 246,
   "id": "ecde9f4f",
   "metadata": {},
   "outputs": [
    {
     "data": {
      "text/html": [
       "<div>\n",
       "<style scoped>\n",
       "    .dataframe tbody tr th:only-of-type {\n",
       "        vertical-align: middle;\n",
       "    }\n",
       "\n",
       "    .dataframe tbody tr th {\n",
       "        vertical-align: top;\n",
       "    }\n",
       "\n",
       "    .dataframe thead th {\n",
       "        text-align: right;\n",
       "    }\n",
       "</style>\n",
       "<table border=\"1\" class=\"dataframe\">\n",
       "  <thead>\n",
       "    <tr style=\"text-align: right;\">\n",
       "      <th></th>\n",
       "      <th>region</th>\n",
       "      <th>state</th>\n",
       "      <th>individuals</th>\n",
       "      <th>family_members</th>\n",
       "      <th>state_pop</th>\n",
       "      <th>indiv_per_capita</th>\n",
       "      <th>fm_per_cap</th>\n",
       "      <th>total_homeless</th>\n",
       "      <th>hl_percent_fam</th>\n",
       "      <th>indiv_per_1000_res</th>\n",
       "      <th>fam_per_1000</th>\n",
       "      <th>total_hl_per_1000</th>\n",
       "    </tr>\n",
       "  </thead>\n",
       "  <tbody>\n",
       "    <tr>\n",
       "      <th>24</th>\n",
       "      <td>East South Central</td>\n",
       "      <td>Mississippi</td>\n",
       "      <td>1024.0</td>\n",
       "      <td>328.0</td>\n",
       "      <td>2981020</td>\n",
       "      <td>0.000344</td>\n",
       "      <td>0.000110</td>\n",
       "      <td>1352.0</td>\n",
       "      <td>24.260355</td>\n",
       "      <td>0.343507</td>\n",
       "      <td>0.110029</td>\n",
       "      <td>0.453536</td>\n",
       "    </tr>\n",
       "    <tr>\n",
       "      <th>18</th>\n",
       "      <td>West South Central</td>\n",
       "      <td>Louisiana</td>\n",
       "      <td>2540.0</td>\n",
       "      <td>519.0</td>\n",
       "      <td>4659690</td>\n",
       "      <td>0.000545</td>\n",
       "      <td>0.000111</td>\n",
       "      <td>3059.0</td>\n",
       "      <td>16.966329</td>\n",
       "      <td>0.545101</td>\n",
       "      <td>0.111381</td>\n",
       "      <td>0.656481</td>\n",
       "    </tr>\n",
       "    <tr>\n",
       "      <th>48</th>\n",
       "      <td>South Atlantic</td>\n",
       "      <td>West Virginia</td>\n",
       "      <td>1021.0</td>\n",
       "      <td>222.0</td>\n",
       "      <td>1804291</td>\n",
       "      <td>0.000566</td>\n",
       "      <td>0.000123</td>\n",
       "      <td>1243.0</td>\n",
       "      <td>17.860016</td>\n",
       "      <td>0.565873</td>\n",
       "      <td>0.123040</td>\n",
       "      <td>0.688913</td>\n",
       "    </tr>\n",
       "    <tr>\n",
       "      <th>0</th>\n",
       "      <td>East South Central</td>\n",
       "      <td>Alabama</td>\n",
       "      <td>2570.0</td>\n",
       "      <td>864.0</td>\n",
       "      <td>4887681</td>\n",
       "      <td>0.000526</td>\n",
       "      <td>0.000177</td>\n",
       "      <td>3434.0</td>\n",
       "      <td>25.160163</td>\n",
       "      <td>0.525812</td>\n",
       "      <td>0.176771</td>\n",
       "      <td>0.702583</td>\n",
       "    </tr>\n",
       "    <tr>\n",
       "      <th>46</th>\n",
       "      <td>South Atlantic</td>\n",
       "      <td>Virginia</td>\n",
       "      <td>3928.0</td>\n",
       "      <td>2047.0</td>\n",
       "      <td>8501286</td>\n",
       "      <td>0.000462</td>\n",
       "      <td>0.000241</td>\n",
       "      <td>5975.0</td>\n",
       "      <td>34.259414</td>\n",
       "      <td>0.462048</td>\n",
       "      <td>0.240787</td>\n",
       "      <td>0.702835</td>\n",
       "    </tr>\n",
       "  </tbody>\n",
       "</table>\n",
       "</div>"
      ],
      "text/plain": [
       "                region          state  individuals  family_members  state_pop  \\\n",
       "24  East South Central    Mississippi       1024.0           328.0    2981020   \n",
       "18  West South Central      Louisiana       2540.0           519.0    4659690   \n",
       "48      South Atlantic  West Virginia       1021.0           222.0    1804291   \n",
       "0   East South Central        Alabama       2570.0           864.0    4887681   \n",
       "46      South Atlantic       Virginia       3928.0          2047.0    8501286   \n",
       "\n",
       "    indiv_per_capita  fm_per_cap  total_homeless  hl_percent_fam  \\\n",
       "24          0.000344    0.000110          1352.0       24.260355   \n",
       "18          0.000545    0.000111          3059.0       16.966329   \n",
       "48          0.000566    0.000123          1243.0       17.860016   \n",
       "0           0.000526    0.000177          3434.0       25.160163   \n",
       "46          0.000462    0.000241          5975.0       34.259414   \n",
       "\n",
       "    indiv_per_1000_res  fam_per_1000  total_hl_per_1000  \n",
       "24            0.343507      0.110029           0.453536  \n",
       "18            0.545101      0.111381           0.656481  \n",
       "48            0.565873      0.123040           0.688913  \n",
       "0             0.525812      0.176771           0.702583  \n",
       "46            0.462048      0.240787           0.702835  "
      ]
     },
     "execution_count": 246,
     "metadata": {},
     "output_type": "execute_result"
    }
   ],
   "source": [
    "homeless['total_hl_per_1000'] = 1000 * (homeless['total_homeless'] / homeless['state_pop'])\n",
    "hl_tot_per1000res = homeless.sort_values('total_hl_per_1000')\n",
    "hl_tot_per1000res.head()"
   ]
  },
  {
   "cell_type": "code",
   "execution_count": 247,
   "id": "2c61af01",
   "metadata": {},
   "outputs": [
    {
     "data": {
      "text/plain": [
       "'District of Columbia'"
      ]
     },
     "execution_count": 247,
     "metadata": {},
     "output_type": "execute_result"
    }
   ],
   "source": [
    "# 1.\tWhich state has the highest total number of homeless people per thousand residents?\n",
    "st_hi_tot_hl_per1000 = hl_tot_per1000res.iloc[-1, 1]\n",
    "st_hi_tot_hl_per1000"
   ]
  },
  {
   "cell_type": "code",
   "execution_count": 249,
   "id": "c5976b4f",
   "metadata": {},
   "outputs": [
    {
     "data": {
      "text/plain": [
       "4.705342981291017"
      ]
     },
     "execution_count": 249,
     "metadata": {},
     "output_type": "execute_result"
    }
   ],
   "source": [
    "# 2.\tWhat is the rate for the state with the second-highest number?\n",
    "rate_st_2nd_hi_per1000 = hl_tot_per1000res.iloc[-2, 11]\n",
    "rate_st_2nd_hi_per1000"
   ]
  },
  {
   "cell_type": "code",
   "execution_count": 250,
   "id": "6a145fd1",
   "metadata": {},
   "outputs": [
    {
     "data": {
      "text/plain": [
       "'Mississippi'"
      ]
     },
     "execution_count": 250,
     "metadata": {},
     "output_type": "execute_result"
    }
   ],
   "source": [
    "# 3.\tWhich state has the lowest total number of homeless people per thousand residents?\n",
    "st_low_tot_hl_per1000 = hl_tot_per1000res.iloc[0, 1]\n",
    "st_low_tot_hl_per1000"
   ]
  },
  {
   "cell_type": "code",
   "execution_count": 251,
   "id": "0af14cdf",
   "metadata": {},
   "outputs": [
    {
     "data": {
      "text/plain": [
       "29"
      ]
     },
     "execution_count": 251,
     "metadata": {},
     "output_type": "execute_result"
    }
   ],
   "source": [
    "# 4.\tHow many states have a rate higher than 1?\n",
    "ct_st_rate_ht_1 = (hl_tot_per1000res['total_hl_per_1000'] > 1).sum()\n",
    "ct_st_rate_ht_1"
   ]
  },
  {
   "cell_type": "markdown",
   "id": "ced0423c",
   "metadata": {},
   "source": [
    "### 8.\tPercentage of Homeless Individuals:\n",
    "o\tProblem: Add a new column for the percentage of homeless individuals among the total homeless population (individuals / (individuals + family_members) * 100).\n",
    "\n",
    "o\tQuestions:\n",
    "\n",
    "1.\tWhich state has the highest percentage of homeless individuals among the total homeless population?\n",
    "\n",
    "2.\tWhat is the percentage for the state with the lowest number?\n",
    "\n",
    "3.\tWhich states have a percentage higher than 90%?\n",
    "\n",
    "4.\tHow many states have a percentage lower than 50%?\n"
   ]
  },
  {
   "cell_type": "code",
   "execution_count": 252,
   "id": "0094b2cb",
   "metadata": {
    "scrolled": false
   },
   "outputs": [
    {
     "data": {
      "text/html": [
       "<div>\n",
       "<style scoped>\n",
       "    .dataframe tbody tr th:only-of-type {\n",
       "        vertical-align: middle;\n",
       "    }\n",
       "\n",
       "    .dataframe tbody tr th {\n",
       "        vertical-align: top;\n",
       "    }\n",
       "\n",
       "    .dataframe thead th {\n",
       "        text-align: right;\n",
       "    }\n",
       "</style>\n",
       "<table border=\"1\" class=\"dataframe\">\n",
       "  <thead>\n",
       "    <tr style=\"text-align: right;\">\n",
       "      <th></th>\n",
       "      <th>region</th>\n",
       "      <th>state</th>\n",
       "      <th>individuals</th>\n",
       "      <th>family_members</th>\n",
       "      <th>state_pop</th>\n",
       "      <th>indiv_per_capita</th>\n",
       "      <th>fm_per_cap</th>\n",
       "      <th>total_homeless</th>\n",
       "      <th>hl_percent_fam</th>\n",
       "      <th>indiv_per_1000_res</th>\n",
       "      <th>fam_per_1000</th>\n",
       "      <th>total_hl_per_1000</th>\n",
       "      <th>percent_homeless_indiv</th>\n",
       "    </tr>\n",
       "  </thead>\n",
       "  <tbody>\n",
       "    <tr>\n",
       "      <th>21</th>\n",
       "      <td>New England</td>\n",
       "      <td>Massachusetts</td>\n",
       "      <td>6811.0</td>\n",
       "      <td>13257.0</td>\n",
       "      <td>6882635</td>\n",
       "      <td>0.000990</td>\n",
       "      <td>0.001926</td>\n",
       "      <td>20068.0</td>\n",
       "      <td>66.060395</td>\n",
       "      <td>0.989592</td>\n",
       "      <td>1.926152</td>\n",
       "      <td>2.915744</td>\n",
       "      <td>33.939605</td>\n",
       "    </tr>\n",
       "    <tr>\n",
       "      <th>32</th>\n",
       "      <td>Mid-Atlantic</td>\n",
       "      <td>New York</td>\n",
       "      <td>39827.0</td>\n",
       "      <td>52070.0</td>\n",
       "      <td>19530351</td>\n",
       "      <td>0.002039</td>\n",
       "      <td>0.002666</td>\n",
       "      <td>91897.0</td>\n",
       "      <td>56.661262</td>\n",
       "      <td>2.039236</td>\n",
       "      <td>2.666107</td>\n",
       "      <td>4.705343</td>\n",
       "      <td>43.338738</td>\n",
       "    </tr>\n",
       "    <tr>\n",
       "      <th>8</th>\n",
       "      <td>South Atlantic</td>\n",
       "      <td>District of Columbia</td>\n",
       "      <td>3770.0</td>\n",
       "      <td>3134.0</td>\n",
       "      <td>701547</td>\n",
       "      <td>0.005374</td>\n",
       "      <td>0.004467</td>\n",
       "      <td>6904.0</td>\n",
       "      <td>45.393975</td>\n",
       "      <td>5.373838</td>\n",
       "      <td>4.467270</td>\n",
       "      <td>9.841108</td>\n",
       "      <td>54.606025</td>\n",
       "    </tr>\n",
       "    <tr>\n",
       "      <th>23</th>\n",
       "      <td>West North Central</td>\n",
       "      <td>Minnesota</td>\n",
       "      <td>3993.0</td>\n",
       "      <td>3250.0</td>\n",
       "      <td>5606249</td>\n",
       "      <td>0.000712</td>\n",
       "      <td>0.000580</td>\n",
       "      <td>7243.0</td>\n",
       "      <td>44.870910</td>\n",
       "      <td>0.712241</td>\n",
       "      <td>0.579710</td>\n",
       "      <td>1.291951</td>\n",
       "      <td>55.129090</td>\n",
       "    </tr>\n",
       "    <tr>\n",
       "      <th>49</th>\n",
       "      <td>East North Central</td>\n",
       "      <td>Wisconsin</td>\n",
       "      <td>2740.0</td>\n",
       "      <td>2167.0</td>\n",
       "      <td>5807406</td>\n",
       "      <td>0.000472</td>\n",
       "      <td>0.000373</td>\n",
       "      <td>4907.0</td>\n",
       "      <td>44.161402</td>\n",
       "      <td>0.471811</td>\n",
       "      <td>0.373144</td>\n",
       "      <td>0.844956</td>\n",
       "      <td>55.838598</td>\n",
       "    </tr>\n",
       "  </tbody>\n",
       "</table>\n",
       "</div>"
      ],
      "text/plain": [
       "                region                 state  individuals  family_members  \\\n",
       "21         New England         Massachusetts       6811.0         13257.0   \n",
       "32        Mid-Atlantic              New York      39827.0         52070.0   \n",
       "8       South Atlantic  District of Columbia       3770.0          3134.0   \n",
       "23  West North Central             Minnesota       3993.0          3250.0   \n",
       "49  East North Central             Wisconsin       2740.0          2167.0   \n",
       "\n",
       "    state_pop  indiv_per_capita  fm_per_cap  total_homeless  hl_percent_fam  \\\n",
       "21    6882635          0.000990    0.001926         20068.0       66.060395   \n",
       "32   19530351          0.002039    0.002666         91897.0       56.661262   \n",
       "8      701547          0.005374    0.004467          6904.0       45.393975   \n",
       "23    5606249          0.000712    0.000580          7243.0       44.870910   \n",
       "49    5807406          0.000472    0.000373          4907.0       44.161402   \n",
       "\n",
       "    indiv_per_1000_res  fam_per_1000  total_hl_per_1000  \\\n",
       "21            0.989592      1.926152           2.915744   \n",
       "32            2.039236      2.666107           4.705343   \n",
       "8             5.373838      4.467270           9.841108   \n",
       "23            0.712241      0.579710           1.291951   \n",
       "49            0.471811      0.373144           0.844956   \n",
       "\n",
       "    percent_homeless_indiv  \n",
       "21               33.939605  \n",
       "32               43.338738  \n",
       "8                54.606025  \n",
       "23               55.129090  \n",
       "49               55.838598  "
      ]
     },
     "execution_count": 252,
     "metadata": {},
     "output_type": "execute_result"
    }
   ],
   "source": [
    "homeless['percent_homeless_indiv'] = 100 * (homeless['individuals'] / homeless['total_homeless'])\n",
    "hl_percent_hl_indiv = homeless.sort_values('percent_homeless_indiv')\n",
    "hl_percent_hl_indiv.head()"
   ]
  },
  {
   "cell_type": "code",
   "execution_count": 253,
   "id": "9af9cab5",
   "metadata": {},
   "outputs": [
    {
     "data": {
      "text/plain": [
       "'Nevada'"
      ]
     },
     "execution_count": 253,
     "metadata": {},
     "output_type": "execute_result"
    }
   ],
   "source": [
    "# 1.\tWhich state has the highest percentage of homeless individuals among the total homeless population?\n",
    "st_hi_percent_hl_indiv = hl_percent_hl_indiv.iloc[-1, 1]\n",
    "st_hi_percent_hl_indiv"
   ]
  },
  {
   "cell_type": "code",
   "execution_count": 254,
   "id": "99fbf9b6",
   "metadata": {},
   "outputs": [
    {
     "data": {
      "text/plain": [
       "33.939605341837755"
      ]
     },
     "execution_count": 254,
     "metadata": {},
     "output_type": "execute_result"
    }
   ],
   "source": [
    "# 2.\tWhat is the percentage for the state with the lowest number?\n",
    "per_st_low = hl_percent_hl_indiv.iloc[0, 12]\n",
    "per_st_low"
   ]
  },
  {
   "cell_type": "code",
   "execution_count": 255,
   "id": "253d023b",
   "metadata": {},
   "outputs": [
    {
     "name": "stdout",
     "output_type": "stream",
     "text": [
      "['Nevada']\n"
     ]
    }
   ],
   "source": [
    "# 3.\tWhich states have a percentage higher than 90%?\n",
    "st_percent_ht_90 = []\n",
    "for lab, row in hl_percent_hl_indiv.iterrows():\n",
    "    if row['percent_homeless_indiv'] > 90:\n",
    "        st_percent_ht_90.append(row['state'])\n",
    "print(st_percent_ht_90)"
   ]
  },
  {
   "cell_type": "code",
   "execution_count": 256,
   "id": "60f44189",
   "metadata": {},
   "outputs": [
    {
     "data": {
      "text/plain": [
       "2"
      ]
     },
     "execution_count": 256,
     "metadata": {},
     "output_type": "execute_result"
    }
   ],
   "source": [
    "# 4.\tHow many states have a percentage lower than 50%?\n",
    "ct_st_percent_lt_50 = (hl_percent_hl_indiv['percent_homeless_indiv'] < 50).sum()\n",
    "ct_st_percent_lt_50"
   ]
  },
  {
   "cell_type": "markdown",
   "id": "a31161b7",
   "metadata": {},
   "source": [
    "### 9.\tPercentage of Homeless Family Members:\n",
    "o\tProblem: Add a new column for the percentage of homeless family members among the total homeless population (family_members / (individuals + family_members) * 100).\n",
    "\n",
    "o\tQuestions:\n",
    "\n",
    "1.\tWhich state has the highest percentage of homeless family members among the total homeless population?\n",
    "\n",
    "2.\tWhat is the percentage for the state with the lowest number?\n",
    "\n",
    "3.\tWhich states have a percentage higher than 50%?\n",
    "\n",
    "4.\tHow many states have a percentage lower than 10%?\n"
   ]
  },
  {
   "cell_type": "code",
   "execution_count": 258,
   "id": "9352a916",
   "metadata": {},
   "outputs": [
    {
     "data": {
      "text/html": [
       "<div>\n",
       "<style scoped>\n",
       "    .dataframe tbody tr th:only-of-type {\n",
       "        vertical-align: middle;\n",
       "    }\n",
       "\n",
       "    .dataframe tbody tr th {\n",
       "        vertical-align: top;\n",
       "    }\n",
       "\n",
       "    .dataframe thead th {\n",
       "        text-align: right;\n",
       "    }\n",
       "</style>\n",
       "<table border=\"1\" class=\"dataframe\">\n",
       "  <thead>\n",
       "    <tr style=\"text-align: right;\">\n",
       "      <th></th>\n",
       "      <th>region</th>\n",
       "      <th>state</th>\n",
       "      <th>individuals</th>\n",
       "      <th>family_members</th>\n",
       "      <th>state_pop</th>\n",
       "      <th>indiv_per_capita</th>\n",
       "      <th>fm_per_cap</th>\n",
       "      <th>total_homeless</th>\n",
       "      <th>hl_percent_fam</th>\n",
       "      <th>indiv_per_1000_res</th>\n",
       "      <th>fam_per_1000</th>\n",
       "      <th>total_hl_per_1000</th>\n",
       "      <th>percent_homeless_indiv</th>\n",
       "    </tr>\n",
       "  </thead>\n",
       "  <tbody>\n",
       "    <tr>\n",
       "      <th>28</th>\n",
       "      <td>Mountain</td>\n",
       "      <td>Nevada</td>\n",
       "      <td>7058.0</td>\n",
       "      <td>486.0</td>\n",
       "      <td>3027341</td>\n",
       "      <td>0.002331</td>\n",
       "      <td>0.000161</td>\n",
       "      <td>7544.0</td>\n",
       "      <td>6.442206</td>\n",
       "      <td>2.331419</td>\n",
       "      <td>0.160537</td>\n",
       "      <td>2.491956</td>\n",
       "      <td>93.557794</td>\n",
       "    </tr>\n",
       "    <tr>\n",
       "      <th>34</th>\n",
       "      <td>West North Central</td>\n",
       "      <td>North Dakota</td>\n",
       "      <td>467.0</td>\n",
       "      <td>75.0</td>\n",
       "      <td>758080</td>\n",
       "      <td>0.000616</td>\n",
       "      <td>0.000099</td>\n",
       "      <td>542.0</td>\n",
       "      <td>13.837638</td>\n",
       "      <td>0.616030</td>\n",
       "      <td>0.098934</td>\n",
       "      <td>0.714964</td>\n",
       "      <td>86.162362</td>\n",
       "    </tr>\n",
       "    <tr>\n",
       "      <th>3</th>\n",
       "      <td>West South Central</td>\n",
       "      <td>Arkansas</td>\n",
       "      <td>2280.0</td>\n",
       "      <td>432.0</td>\n",
       "      <td>3009733</td>\n",
       "      <td>0.000758</td>\n",
       "      <td>0.000144</td>\n",
       "      <td>2712.0</td>\n",
       "      <td>15.929204</td>\n",
       "      <td>0.757542</td>\n",
       "      <td>0.143534</td>\n",
       "      <td>0.901077</td>\n",
       "      <td>84.070796</td>\n",
       "    </tr>\n",
       "    <tr>\n",
       "      <th>4</th>\n",
       "      <td>Pacific</td>\n",
       "      <td>California</td>\n",
       "      <td>109008.0</td>\n",
       "      <td>20964.0</td>\n",
       "      <td>39461588</td>\n",
       "      <td>0.002762</td>\n",
       "      <td>0.000531</td>\n",
       "      <td>129972.0</td>\n",
       "      <td>16.129628</td>\n",
       "      <td>2.762382</td>\n",
       "      <td>0.531251</td>\n",
       "      <td>3.293633</td>\n",
       "      <td>83.870372</td>\n",
       "    </tr>\n",
       "    <tr>\n",
       "      <th>18</th>\n",
       "      <td>West South Central</td>\n",
       "      <td>Louisiana</td>\n",
       "      <td>2540.0</td>\n",
       "      <td>519.0</td>\n",
       "      <td>4659690</td>\n",
       "      <td>0.000545</td>\n",
       "      <td>0.000111</td>\n",
       "      <td>3059.0</td>\n",
       "      <td>16.966329</td>\n",
       "      <td>0.545101</td>\n",
       "      <td>0.111381</td>\n",
       "      <td>0.656481</td>\n",
       "      <td>83.033671</td>\n",
       "    </tr>\n",
       "  </tbody>\n",
       "</table>\n",
       "</div>"
      ],
      "text/plain": [
       "                region         state  individuals  family_members  state_pop  \\\n",
       "28            Mountain        Nevada       7058.0           486.0    3027341   \n",
       "34  West North Central  North Dakota        467.0            75.0     758080   \n",
       "3   West South Central      Arkansas       2280.0           432.0    3009733   \n",
       "4              Pacific    California     109008.0         20964.0   39461588   \n",
       "18  West South Central     Louisiana       2540.0           519.0    4659690   \n",
       "\n",
       "    indiv_per_capita  fm_per_cap  total_homeless  hl_percent_fam  \\\n",
       "28          0.002331    0.000161          7544.0        6.442206   \n",
       "34          0.000616    0.000099           542.0       13.837638   \n",
       "3           0.000758    0.000144          2712.0       15.929204   \n",
       "4           0.002762    0.000531        129972.0       16.129628   \n",
       "18          0.000545    0.000111          3059.0       16.966329   \n",
       "\n",
       "    indiv_per_1000_res  fam_per_1000  total_hl_per_1000  \\\n",
       "28            2.331419      0.160537           2.491956   \n",
       "34            0.616030      0.098934           0.714964   \n",
       "3             0.757542      0.143534           0.901077   \n",
       "4             2.762382      0.531251           3.293633   \n",
       "18            0.545101      0.111381           0.656481   \n",
       "\n",
       "    percent_homeless_indiv  \n",
       "28               93.557794  \n",
       "34               86.162362  \n",
       "3                84.070796  \n",
       "4                83.870372  \n",
       "18               83.033671  "
      ]
     },
     "execution_count": 258,
     "metadata": {},
     "output_type": "execute_result"
    }
   ],
   "source": [
    "hl_percent_fam = homeless.sort_values('hl_percent_fam')\n",
    "hl_percent_fam.head()"
   ]
  },
  {
   "cell_type": "code",
   "execution_count": 259,
   "id": "afcd0e1b",
   "metadata": {},
   "outputs": [
    {
     "data": {
      "text/plain": [
       "'Massachusetts'"
      ]
     },
     "execution_count": 259,
     "metadata": {},
     "output_type": "execute_result"
    }
   ],
   "source": [
    "# 1.\tWhich state has the highest percentage of homeless family members among the total homeless population?\n",
    "st_hi_fam_hl = hl_percent_fam.iloc[-1, 1]\n",
    "st_hi_fam_hl"
   ]
  },
  {
   "cell_type": "code",
   "execution_count": 260,
   "id": "f840ea52",
   "metadata": {},
   "outputs": [
    {
     "data": {
      "text/plain": [
       "6.442205726405089"
      ]
     },
     "execution_count": 260,
     "metadata": {},
     "output_type": "execute_result"
    }
   ],
   "source": [
    "# 2.\tWhat is the percentage for the state with the lowest number?\n",
    "percent_st_low = hl_percent_fam.iloc[0, 8]\n",
    "percent_st_low"
   ]
  },
  {
   "cell_type": "code",
   "execution_count": 261,
   "id": "9f028247",
   "metadata": {},
   "outputs": [
    {
     "name": "stdout",
     "output_type": "stream",
     "text": [
      "['New York', 'Massachusetts']\n"
     ]
    }
   ],
   "source": [
    "# 3.\tWhich states have a percentage higher than 50%?\n",
    "st_percent_ht_50 = []\n",
    "for lab, row in hl_percent_fam.iterrows():\n",
    "    if row['hl_percent_fam'] > 50:\n",
    "        st_percent_ht_50.append(row['state'])\n",
    "print(st_percent_ht_50)"
   ]
  },
  {
   "cell_type": "code",
   "execution_count": 262,
   "id": "771b4194",
   "metadata": {},
   "outputs": [
    {
     "data": {
      "text/plain": [
       "1"
      ]
     },
     "execution_count": 262,
     "metadata": {},
     "output_type": "execute_result"
    }
   ],
   "source": [
    "# 4.\tHow many states have a percentage lower than 10%?\n",
    "ct_st_percent_lt_10 = (hl_percent_fam['hl_percent_fam'] < 10).sum()\n",
    "ct_st_percent_lt_10"
   ]
  },
  {
   "cell_type": "markdown",
   "id": "ced76810",
   "metadata": {},
   "source": [
    "### 10.\tHomeless Rate Change:\n",
    "o\tProblem: Assuming you have a dataset with previous year’s homeless numbers, add a new column for the percentage change in the number of homeless individuals from the previous year to the current year.\n",
    "\n",
    "o\tQuestions:\n",
    "\n",
    "1.\tWhich state had the highest percentage increase in homeless individuals?\n",
    "\n",
    "2.\tWhich state had the highest percentage decrease in homeless individuals?\n",
    "\n",
    "3.\tWhat is the average percentage change across all states?\n",
    "\n",
    "4.\tHow many states had a positive percentage change?\n"
   ]
  },
  {
   "cell_type": "code",
   "execution_count": 263,
   "id": "b63343b6",
   "metadata": {},
   "outputs": [
    {
     "data": {
      "text/plain": [
       "count        51.000000\n",
       "mean       7225.784314\n",
       "std       15991.025083\n",
       "min         434.000000\n",
       "25%        1446.500000\n",
       "50%        3082.000000\n",
       "75%        6781.500000\n",
       "max      109008.000000\n",
       "Name: individuals, dtype: float64"
      ]
     },
     "execution_count": 263,
     "metadata": {},
     "output_type": "execute_result"
    }
   ],
   "source": [
    "homeless['individuals'].describe()"
   ]
  },
  {
   "cell_type": "code",
   "execution_count": 278,
   "id": "4428f093",
   "metadata": {},
   "outputs": [],
   "source": [
    "homeless['prev_year_individuals'] = homeless['individuals'] * np.random.uniform(0.1, 1.5, size=homeless.shape[0])"
   ]
  },
  {
   "cell_type": "code",
   "execution_count": 279,
   "id": "f9624502",
   "metadata": {},
   "outputs": [
    {
     "data": {
      "text/html": [
       "<div>\n",
       "<style scoped>\n",
       "    .dataframe tbody tr th:only-of-type {\n",
       "        vertical-align: middle;\n",
       "    }\n",
       "\n",
       "    .dataframe tbody tr th {\n",
       "        vertical-align: top;\n",
       "    }\n",
       "\n",
       "    .dataframe thead th {\n",
       "        text-align: right;\n",
       "    }\n",
       "</style>\n",
       "<table border=\"1\" class=\"dataframe\">\n",
       "  <thead>\n",
       "    <tr style=\"text-align: right;\">\n",
       "      <th></th>\n",
       "      <th>region</th>\n",
       "      <th>state</th>\n",
       "      <th>individuals</th>\n",
       "      <th>family_members</th>\n",
       "      <th>state_pop</th>\n",
       "      <th>indiv_per_capita</th>\n",
       "      <th>fm_per_cap</th>\n",
       "      <th>total_homeless</th>\n",
       "      <th>hl_percent_fam</th>\n",
       "      <th>indiv_per_1000_res</th>\n",
       "      <th>fam_per_1000</th>\n",
       "      <th>total_hl_per_1000</th>\n",
       "      <th>percent_homeless_indiv</th>\n",
       "      <th>prev_year_individuals</th>\n",
       "      <th>hl_percent_change</th>\n",
       "    </tr>\n",
       "  </thead>\n",
       "  <tbody>\n",
       "    <tr>\n",
       "      <th>0</th>\n",
       "      <td>East South Central</td>\n",
       "      <td>Alabama</td>\n",
       "      <td>2570.0</td>\n",
       "      <td>864.0</td>\n",
       "      <td>4887681</td>\n",
       "      <td>0.000526</td>\n",
       "      <td>0.000177</td>\n",
       "      <td>3434.0</td>\n",
       "      <td>25.160163</td>\n",
       "      <td>0.525812</td>\n",
       "      <td>0.176771</td>\n",
       "      <td>0.702583</td>\n",
       "      <td>74.839837</td>\n",
       "      <td>3022.173944</td>\n",
       "      <td>103.041095</td>\n",
       "    </tr>\n",
       "    <tr>\n",
       "      <th>1</th>\n",
       "      <td>Pacific</td>\n",
       "      <td>Alaska</td>\n",
       "      <td>1434.0</td>\n",
       "      <td>582.0</td>\n",
       "      <td>735139</td>\n",
       "      <td>0.001951</td>\n",
       "      <td>0.000792</td>\n",
       "      <td>2016.0</td>\n",
       "      <td>28.869048</td>\n",
       "      <td>1.950652</td>\n",
       "      <td>0.791687</td>\n",
       "      <td>2.742339</td>\n",
       "      <td>71.130952</td>\n",
       "      <td>846.996575</td>\n",
       "      <td>111.761324</td>\n",
       "    </tr>\n",
       "    <tr>\n",
       "      <th>2</th>\n",
       "      <td>Mountain</td>\n",
       "      <td>Arizona</td>\n",
       "      <td>7259.0</td>\n",
       "      <td>2606.0</td>\n",
       "      <td>7158024</td>\n",
       "      <td>0.001014</td>\n",
       "      <td>0.000364</td>\n",
       "      <td>9865.0</td>\n",
       "      <td>26.416624</td>\n",
       "      <td>1.014107</td>\n",
       "      <td>0.364067</td>\n",
       "      <td>1.378174</td>\n",
       "      <td>73.583376</td>\n",
       "      <td>2366.415663</td>\n",
       "      <td>96.932672</td>\n",
       "    </tr>\n",
       "    <tr>\n",
       "      <th>3</th>\n",
       "      <td>West South Central</td>\n",
       "      <td>Arkansas</td>\n",
       "      <td>2280.0</td>\n",
       "      <td>432.0</td>\n",
       "      <td>3009733</td>\n",
       "      <td>0.000758</td>\n",
       "      <td>0.000144</td>\n",
       "      <td>2712.0</td>\n",
       "      <td>15.929204</td>\n",
       "      <td>0.757542</td>\n",
       "      <td>0.143534</td>\n",
       "      <td>0.901077</td>\n",
       "      <td>84.070796</td>\n",
       "      <td>2404.483861</td>\n",
       "      <td>83.217203</td>\n",
       "    </tr>\n",
       "    <tr>\n",
       "      <th>4</th>\n",
       "      <td>Pacific</td>\n",
       "      <td>California</td>\n",
       "      <td>109008.0</td>\n",
       "      <td>20964.0</td>\n",
       "      <td>39461588</td>\n",
       "      <td>0.002762</td>\n",
       "      <td>0.000531</td>\n",
       "      <td>129972.0</td>\n",
       "      <td>16.129628</td>\n",
       "      <td>2.762382</td>\n",
       "      <td>0.531251</td>\n",
       "      <td>3.293633</td>\n",
       "      <td>83.870372</td>\n",
       "      <td>112720.673186</td>\n",
       "      <td>94.847538</td>\n",
       "    </tr>\n",
       "  </tbody>\n",
       "</table>\n",
       "</div>"
      ],
      "text/plain": [
       "               region       state  individuals  family_members  state_pop  \\\n",
       "0  East South Central     Alabama       2570.0           864.0    4887681   \n",
       "1             Pacific      Alaska       1434.0           582.0     735139   \n",
       "2            Mountain     Arizona       7259.0          2606.0    7158024   \n",
       "3  West South Central    Arkansas       2280.0           432.0    3009733   \n",
       "4             Pacific  California     109008.0         20964.0   39461588   \n",
       "\n",
       "   indiv_per_capita  fm_per_cap  total_homeless  hl_percent_fam  \\\n",
       "0          0.000526    0.000177          3434.0       25.160163   \n",
       "1          0.001951    0.000792          2016.0       28.869048   \n",
       "2          0.001014    0.000364          9865.0       26.416624   \n",
       "3          0.000758    0.000144          2712.0       15.929204   \n",
       "4          0.002762    0.000531        129972.0       16.129628   \n",
       "\n",
       "   indiv_per_1000_res  fam_per_1000  total_hl_per_1000  \\\n",
       "0            0.525812      0.176771           0.702583   \n",
       "1            1.950652      0.791687           2.742339   \n",
       "2            1.014107      0.364067           1.378174   \n",
       "3            0.757542      0.143534           0.901077   \n",
       "4            2.762382      0.531251           3.293633   \n",
       "\n",
       "   percent_homeless_indiv  prev_year_individuals  hl_percent_change  \n",
       "0               74.839837            3022.173944         103.041095  \n",
       "1               71.130952             846.996575         111.761324  \n",
       "2               73.583376            2366.415663          96.932672  \n",
       "3               84.070796            2404.483861          83.217203  \n",
       "4               83.870372          112720.673186          94.847538  "
      ]
     },
     "execution_count": 279,
     "metadata": {},
     "output_type": "execute_result"
    }
   ],
   "source": [
    "homeless.head()"
   ]
  },
  {
   "cell_type": "code",
   "execution_count": 280,
   "id": "e9f99b03",
   "metadata": {},
   "outputs": [
    {
     "data": {
      "text/html": [
       "<div>\n",
       "<style scoped>\n",
       "    .dataframe tbody tr th:only-of-type {\n",
       "        vertical-align: middle;\n",
       "    }\n",
       "\n",
       "    .dataframe tbody tr th {\n",
       "        vertical-align: top;\n",
       "    }\n",
       "\n",
       "    .dataframe thead th {\n",
       "        text-align: right;\n",
       "    }\n",
       "</style>\n",
       "<table border=\"1\" class=\"dataframe\">\n",
       "  <thead>\n",
       "    <tr style=\"text-align: right;\">\n",
       "      <th></th>\n",
       "      <th>region</th>\n",
       "      <th>state</th>\n",
       "      <th>individuals</th>\n",
       "      <th>family_members</th>\n",
       "      <th>state_pop</th>\n",
       "      <th>indiv_per_capita</th>\n",
       "      <th>fm_per_cap</th>\n",
       "      <th>total_homeless</th>\n",
       "      <th>hl_percent_fam</th>\n",
       "      <th>indiv_per_1000_res</th>\n",
       "      <th>fam_per_1000</th>\n",
       "      <th>total_hl_per_1000</th>\n",
       "      <th>percent_homeless_indiv</th>\n",
       "      <th>prev_year_individuals</th>\n",
       "      <th>hl_percent_change</th>\n",
       "    </tr>\n",
       "  </thead>\n",
       "  <tbody>\n",
       "    <tr>\n",
       "      <th>20</th>\n",
       "      <td>South Atlantic</td>\n",
       "      <td>Maryland</td>\n",
       "      <td>4914.0</td>\n",
       "      <td>2230.0</td>\n",
       "      <td>6035802</td>\n",
       "      <td>0.000814</td>\n",
       "      <td>0.000369</td>\n",
       "      <td>7144.0</td>\n",
       "      <td>31.215006</td>\n",
       "      <td>0.814142</td>\n",
       "      <td>0.369462</td>\n",
       "      <td>1.183604</td>\n",
       "      <td>68.784994</td>\n",
       "      <td>635.005655</td>\n",
       "      <td>12.922378</td>\n",
       "    </tr>\n",
       "    <tr>\n",
       "      <th>39</th>\n",
       "      <td>New England</td>\n",
       "      <td>Rhode Island</td>\n",
       "      <td>747.0</td>\n",
       "      <td>354.0</td>\n",
       "      <td>1058287</td>\n",
       "      <td>0.000706</td>\n",
       "      <td>0.000335</td>\n",
       "      <td>1101.0</td>\n",
       "      <td>32.152589</td>\n",
       "      <td>0.705858</td>\n",
       "      <td>0.334503</td>\n",
       "      <td>1.040361</td>\n",
       "      <td>67.847411</td>\n",
       "      <td>99.078003</td>\n",
       "      <td>13.263454</td>\n",
       "    </tr>\n",
       "    <tr>\n",
       "      <th>49</th>\n",
       "      <td>East North Central</td>\n",
       "      <td>Wisconsin</td>\n",
       "      <td>2740.0</td>\n",
       "      <td>2167.0</td>\n",
       "      <td>5807406</td>\n",
       "      <td>0.000472</td>\n",
       "      <td>0.000373</td>\n",
       "      <td>4907.0</td>\n",
       "      <td>44.161402</td>\n",
       "      <td>0.471811</td>\n",
       "      <td>0.373144</td>\n",
       "      <td>0.844956</td>\n",
       "      <td>55.838598</td>\n",
       "      <td>529.442841</td>\n",
       "      <td>19.322731</td>\n",
       "    </tr>\n",
       "    <tr>\n",
       "      <th>24</th>\n",
       "      <td>East South Central</td>\n",
       "      <td>Mississippi</td>\n",
       "      <td>1024.0</td>\n",
       "      <td>328.0</td>\n",
       "      <td>2981020</td>\n",
       "      <td>0.000344</td>\n",
       "      <td>0.000110</td>\n",
       "      <td>1352.0</td>\n",
       "      <td>24.260355</td>\n",
       "      <td>0.343507</td>\n",
       "      <td>0.110029</td>\n",
       "      <td>0.453536</td>\n",
       "      <td>75.739645</td>\n",
       "      <td>223.128083</td>\n",
       "      <td>21.789852</td>\n",
       "    </tr>\n",
       "    <tr>\n",
       "      <th>27</th>\n",
       "      <td>West North Central</td>\n",
       "      <td>Nebraska</td>\n",
       "      <td>1745.0</td>\n",
       "      <td>676.0</td>\n",
       "      <td>1925614</td>\n",
       "      <td>0.000906</td>\n",
       "      <td>0.000351</td>\n",
       "      <td>2421.0</td>\n",
       "      <td>27.922346</td>\n",
       "      <td>0.906204</td>\n",
       "      <td>0.351057</td>\n",
       "      <td>1.257261</td>\n",
       "      <td>72.077654</td>\n",
       "      <td>422.589453</td>\n",
       "      <td>24.217161</td>\n",
       "    </tr>\n",
       "  </tbody>\n",
       "</table>\n",
       "</div>"
      ],
      "text/plain": [
       "                region         state  individuals  family_members  state_pop  \\\n",
       "20      South Atlantic      Maryland       4914.0          2230.0    6035802   \n",
       "39         New England  Rhode Island        747.0           354.0    1058287   \n",
       "49  East North Central     Wisconsin       2740.0          2167.0    5807406   \n",
       "24  East South Central   Mississippi       1024.0           328.0    2981020   \n",
       "27  West North Central      Nebraska       1745.0           676.0    1925614   \n",
       "\n",
       "    indiv_per_capita  fm_per_cap  total_homeless  hl_percent_fam  \\\n",
       "20          0.000814    0.000369          7144.0       31.215006   \n",
       "39          0.000706    0.000335          1101.0       32.152589   \n",
       "49          0.000472    0.000373          4907.0       44.161402   \n",
       "24          0.000344    0.000110          1352.0       24.260355   \n",
       "27          0.000906    0.000351          2421.0       27.922346   \n",
       "\n",
       "    indiv_per_1000_res  fam_per_1000  total_hl_per_1000  \\\n",
       "20            0.814142      0.369462           1.183604   \n",
       "39            0.705858      0.334503           1.040361   \n",
       "49            0.471811      0.373144           0.844956   \n",
       "24            0.343507      0.110029           0.453536   \n",
       "27            0.906204      0.351057           1.257261   \n",
       "\n",
       "    percent_homeless_indiv  prev_year_individuals  hl_percent_change  \n",
       "20               68.784994             635.005655          12.922378  \n",
       "39               67.847411              99.078003          13.263454  \n",
       "49               55.838598             529.442841          19.322731  \n",
       "24               75.739645             223.128083          21.789852  \n",
       "27               72.077654             422.589453          24.217161  "
      ]
     },
     "execution_count": 280,
     "metadata": {},
     "output_type": "execute_result"
    }
   ],
   "source": [
    "homeless['hl_percent_change'] = (homeless['prev_year_individuals'] / homeless['individuals']) * 100\n",
    "hl_percent_change_data_sorted = homeless.sort_values('hl_percent_change')\n",
    "hl_percent_change_data_sorted.head()"
   ]
  },
  {
   "cell_type": "code",
   "execution_count": 281,
   "id": "3df9856d",
   "metadata": {},
   "outputs": [
    {
     "data": {
      "text/plain": [
       "'New Mexico'"
      ]
     },
     "execution_count": 281,
     "metadata": {},
     "output_type": "execute_result"
    }
   ],
   "source": [
    "# 1.\tWhich state had the highest percentage increase in homeless individuals?\n",
    "st_hi_percent_inc_ind = hl_percent_change_data_sorted.iloc[-1, 1]\n",
    "st_hi_percent_inc_ind"
   ]
  },
  {
   "cell_type": "code",
   "execution_count": 282,
   "id": "7568b68a",
   "metadata": {},
   "outputs": [
    {
     "data": {
      "text/plain": [
       "'Maryland'"
      ]
     },
     "execution_count": 282,
     "metadata": {},
     "output_type": "execute_result"
    }
   ],
   "source": [
    "# 2.\tWhich state had the highest percentage decrease in homeless individuals?\n",
    "st_hi_percent_dec_ind = hl_percent_change_data_sorted.iloc[0, 1]\n",
    "st_hi_percent_dec_ind"
   ]
  },
  {
   "cell_type": "code",
   "execution_count": 283,
   "id": "1b26fda8",
   "metadata": {},
   "outputs": [
    {
     "data": {
      "text/plain": [
       "79.74654528814028"
      ]
     },
     "execution_count": 283,
     "metadata": {},
     "output_type": "execute_result"
    }
   ],
   "source": [
    "# 3.\tWhat is the average percentage change across all states?\n",
    "avg_percent_change_all_st = hl_percent_change_data_sorted['hl_percent_change'].mean()\n",
    "avg_percent_change_all_st"
   ]
  },
  {
   "cell_type": "code",
   "execution_count": 284,
   "id": "26f84605",
   "metadata": {},
   "outputs": [
    {
     "data": {
      "text/plain": [
       "51"
      ]
     },
     "execution_count": 284,
     "metadata": {},
     "output_type": "execute_result"
    }
   ],
   "source": [
    "# 4.\tHow many states had a positive percentage change?\n",
    "st_pos_percent_change = (hl_percent_change_data_sorted['hl_percent_change'] > 0).sum()\n",
    "st_pos_percent_change"
   ]
  },
  {
   "cell_type": "markdown",
   "id": "54c1f154",
   "metadata": {},
   "source": [
    "# COMBINED"
   ]
  },
  {
   "cell_type": "code",
   "execution_count": null,
   "id": "2b752cee",
   "metadata": {},
   "outputs": [],
   "source": []
  },
  {
   "cell_type": "code",
   "execution_count": null,
   "id": "52344c54",
   "metadata": {},
   "outputs": [],
   "source": []
  }
 ],
 "metadata": {
  "kernelspec": {
   "display_name": "Python 3 (ipykernel)",
   "language": "python",
   "name": "python3"
  },
  "language_info": {
   "codemirror_mode": {
    "name": "ipython",
    "version": 3
   },
   "file_extension": ".py",
   "mimetype": "text/x-python",
   "name": "python",
   "nbconvert_exporter": "python",
   "pygments_lexer": "ipython3",
   "version": "3.10.9"
  }
 },
 "nbformat": 4,
 "nbformat_minor": 5
}
