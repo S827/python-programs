{
 "cells": [
  {
   "cell_type": "code",
   "execution_count": 1,
   "id": "5ec8cdb9",
   "metadata": {},
   "outputs": [],
   "source": [
    "import pandas as pd\n",
    "import numpy as np\n",
    "import matplotlib.pyplot as plt"
   ]
  },
  {
   "cell_type": "code",
   "execution_count": 3,
   "id": "42f938c7",
   "metadata": {},
   "outputs": [
    {
     "data": {
      "text/html": [
       "<div>\n",
       "<style scoped>\n",
       "    .dataframe tbody tr th:only-of-type {\n",
       "        vertical-align: middle;\n",
       "    }\n",
       "\n",
       "    .dataframe tbody tr th {\n",
       "        vertical-align: top;\n",
       "    }\n",
       "\n",
       "    .dataframe thead th {\n",
       "        text-align: right;\n",
       "    }\n",
       "</style>\n",
       "<table border=\"1\" class=\"dataframe\">\n",
       "  <thead>\n",
       "    <tr style=\"text-align: right;\">\n",
       "      <th></th>\n",
       "      <th>date</th>\n",
       "      <th>type</th>\n",
       "      <th>year</th>\n",
       "      <th>avg_price</th>\n",
       "      <th>size</th>\n",
       "      <th>nb_sold</th>\n",
       "    </tr>\n",
       "  </thead>\n",
       "  <tbody>\n",
       "    <tr>\n",
       "      <th>0</th>\n",
       "      <td>2015-12-27</td>\n",
       "      <td>conventional</td>\n",
       "      <td>2015</td>\n",
       "      <td>0.95</td>\n",
       "      <td>small</td>\n",
       "      <td>9626901.09</td>\n",
       "    </tr>\n",
       "    <tr>\n",
       "      <th>1</th>\n",
       "      <td>2015-12-20</td>\n",
       "      <td>conventional</td>\n",
       "      <td>2015</td>\n",
       "      <td>0.98</td>\n",
       "      <td>small</td>\n",
       "      <td>8710021.76</td>\n",
       "    </tr>\n",
       "    <tr>\n",
       "      <th>2</th>\n",
       "      <td>2015-12-13</td>\n",
       "      <td>conventional</td>\n",
       "      <td>2015</td>\n",
       "      <td>0.93</td>\n",
       "      <td>small</td>\n",
       "      <td>9855053.66</td>\n",
       "    </tr>\n",
       "    <tr>\n",
       "      <th>3</th>\n",
       "      <td>2015-12-06</td>\n",
       "      <td>conventional</td>\n",
       "      <td>2015</td>\n",
       "      <td>0.89</td>\n",
       "      <td>small</td>\n",
       "      <td>9405464.36</td>\n",
       "    </tr>\n",
       "    <tr>\n",
       "      <th>4</th>\n",
       "      <td>2015-11-29</td>\n",
       "      <td>conventional</td>\n",
       "      <td>2015</td>\n",
       "      <td>0.99</td>\n",
       "      <td>small</td>\n",
       "      <td>8094803.56</td>\n",
       "    </tr>\n",
       "  </tbody>\n",
       "</table>\n",
       "</div>"
      ],
      "text/plain": [
       "         date          type  year  avg_price   size     nb_sold\n",
       "0  2015-12-27  conventional  2015       0.95  small  9626901.09\n",
       "1  2015-12-20  conventional  2015       0.98  small  8710021.76\n",
       "2  2015-12-13  conventional  2015       0.93  small  9855053.66\n",
       "3  2015-12-06  conventional  2015       0.89  small  9405464.36\n",
       "4  2015-11-29  conventional  2015       0.99  small  8094803.56"
      ]
     },
     "execution_count": 3,
     "metadata": {},
     "output_type": "execute_result"
    }
   ],
   "source": [
    "avocado = pd.read_pickle('../../avoplotto.pkl')\n",
    "avocado.head()"
   ]
  },
  {
   "cell_type": "code",
   "execution_count": 4,
   "id": "1e6b2612",
   "metadata": {},
   "outputs": [],
   "source": [
    "avocado.to_csv('../../avocado.csv')"
   ]
  },
  {
   "cell_type": "markdown",
   "id": "c99f4212",
   "metadata": {},
   "source": [
    "\n",
    "\n",
    "Correlation Between Sales and Price:\n",
    "\n",
    "Investigate the correlation between the number of avocados sold and the average price. Discuss any patterns or anomalies observed.\n",
    "Seasonal Sales Patterns:\n",
    "\n",
    "Identify any seasonal patterns in avocado sales. Which months show the highest and lowest sales, and how do these patterns differ between organic and conventional avocados?\n",
    "Regional Sales Analysis:\n",
    "\n",
    "Analyze the sales performance of avocados in different regions. Which region had the highest total sales, and how did sales vary across regions?\n",
    "Impact of Type on Sales and Price:\n",
    "\n",
    "Compare the sales and average prices of organic vs. conventional avocados. Are there any notable differences in their sales performance and pricing trends?\n",
    "Top Performing Regions:\n",
    "\n",
    "Identify the top 5 regions with the highest sales for organic avocados and the top 5 regions for conventional avocados. Compare the sales trends and average prices in these regions.\n",
    "Outlier Detection:\n",
    "\n",
    "Identify any outliers in the dataset regarding the number of avocados sold or the average price. Discuss possible reasons for these outliers and their impact on the overall analysis.\n",
    "Sales Distribution by PLU:\n",
    "\n",
    "Analyze the distribution of avocado sales across different PLU (Price Look-Up) codes. Determine if certain PLUs are more popular than others and the reasons behind this.\n",
    "Yearly Sales Comparison:\n",
    "\n",
    "Compare the total sales of avocados for each year in the dataset. Identify the years with the highest and lowest sales, and discuss any potential factors contributing to these trends."
   ]
  },
  {
   "cell_type": "markdown",
   "id": "42e778b1",
   "metadata": {},
   "source": [
    "## 1. Sales Trends Over Time:\n",
    "\n",
    "Calculate the monthly total number of avocados sold for each year and plot the trends. Identify any significant changes or trends over the years."
   ]
  },
  {
   "cell_type": "code",
   "execution_count": 5,
   "id": "35547477",
   "metadata": {},
   "outputs": [
    {
     "data": {
      "text/html": [
       "<div>\n",
       "<style scoped>\n",
       "    .dataframe tbody tr th:only-of-type {\n",
       "        vertical-align: middle;\n",
       "    }\n",
       "\n",
       "    .dataframe tbody tr th {\n",
       "        vertical-align: top;\n",
       "    }\n",
       "\n",
       "    .dataframe thead th {\n",
       "        text-align: right;\n",
       "    }\n",
       "</style>\n",
       "<table border=\"1\" class=\"dataframe\">\n",
       "  <thead>\n",
       "    <tr style=\"text-align: right;\">\n",
       "      <th></th>\n",
       "      <th>date</th>\n",
       "      <th>type</th>\n",
       "      <th>year</th>\n",
       "      <th>avg_price</th>\n",
       "      <th>size</th>\n",
       "      <th>nb_sold</th>\n",
       "    </tr>\n",
       "  </thead>\n",
       "  <tbody>\n",
       "    <tr>\n",
       "      <th>0</th>\n",
       "      <td>2015-12-27</td>\n",
       "      <td>conventional</td>\n",
       "      <td>2015</td>\n",
       "      <td>0.95</td>\n",
       "      <td>small</td>\n",
       "      <td>9626901.09</td>\n",
       "    </tr>\n",
       "    <tr>\n",
       "      <th>1</th>\n",
       "      <td>2015-12-20</td>\n",
       "      <td>conventional</td>\n",
       "      <td>2015</td>\n",
       "      <td>0.98</td>\n",
       "      <td>small</td>\n",
       "      <td>8710021.76</td>\n",
       "    </tr>\n",
       "    <tr>\n",
       "      <th>2</th>\n",
       "      <td>2015-12-13</td>\n",
       "      <td>conventional</td>\n",
       "      <td>2015</td>\n",
       "      <td>0.93</td>\n",
       "      <td>small</td>\n",
       "      <td>9855053.66</td>\n",
       "    </tr>\n",
       "    <tr>\n",
       "      <th>3</th>\n",
       "      <td>2015-12-06</td>\n",
       "      <td>conventional</td>\n",
       "      <td>2015</td>\n",
       "      <td>0.89</td>\n",
       "      <td>small</td>\n",
       "      <td>9405464.36</td>\n",
       "    </tr>\n",
       "    <tr>\n",
       "      <th>4</th>\n",
       "      <td>2015-11-29</td>\n",
       "      <td>conventional</td>\n",
       "      <td>2015</td>\n",
       "      <td>0.99</td>\n",
       "      <td>small</td>\n",
       "      <td>8094803.56</td>\n",
       "    </tr>\n",
       "  </tbody>\n",
       "</table>\n",
       "</div>"
      ],
      "text/plain": [
       "         date          type  year  avg_price   size     nb_sold\n",
       "0  2015-12-27  conventional  2015       0.95  small  9626901.09\n",
       "1  2015-12-20  conventional  2015       0.98  small  8710021.76\n",
       "2  2015-12-13  conventional  2015       0.93  small  9855053.66\n",
       "3  2015-12-06  conventional  2015       0.89  small  9405464.36\n",
       "4  2015-11-29  conventional  2015       0.99  small  8094803.56"
      ]
     },
     "execution_count": 5,
     "metadata": {},
     "output_type": "execute_result"
    }
   ],
   "source": [
    "avocado.head()"
   ]
  },
  {
   "cell_type": "code",
   "execution_count": 6,
   "id": "f43e40f1",
   "metadata": {},
   "outputs": [
    {
     "name": "stdout",
     "output_type": "stream",
     "text": [
      "<class 'pandas.core.frame.DataFrame'>\n",
      "RangeIndex: 1014 entries, 0 to 1013\n",
      "Data columns (total 6 columns):\n",
      " #   Column     Non-Null Count  Dtype  \n",
      "---  ------     --------------  -----  \n",
      " 0   date       1014 non-null   object \n",
      " 1   type       1014 non-null   object \n",
      " 2   year       1014 non-null   int64  \n",
      " 3   avg_price  1014 non-null   float64\n",
      " 4   size       1014 non-null   object \n",
      " 5   nb_sold    1014 non-null   float64\n",
      "dtypes: float64(2), int64(1), object(3)\n",
      "memory usage: 47.7+ KB\n"
     ]
    }
   ],
   "source": [
    "avocado.info()"
   ]
  },
  {
   "cell_type": "code",
   "execution_count": 9,
   "id": "8687f6a9",
   "metadata": {},
   "outputs": [
    {
     "data": {
      "image/png": "[encoded data removed]",
      "text/plain": [
       "<Figure size 640x480 with 1 Axes>"
      ]
     },
     "metadata": {},
     "output_type": "display_data"
    }
   ],
   "source": [
    "avocado['month'] = avocado['date'].str[5:7]\n",
    "avocado_month = avocado.groupby('month')['nb_sold'].sum()\n",
    "avocado_month.plot(x='month', y = 'nb_sold', kind='bar', title='Monthly sales of avocados over the years');"
   ]
  },
  {
   "cell_type": "markdown",
   "id": "b0246a41",
   "metadata": {},
   "source": [
    " By looking at the plot we can say that, In January and February, avocado sales are the highest and after May month sales of avocados decreases. "
   ]
  },
  {
   "cell_type": "markdown",
   "id": "96d0f310",
   "metadata": {},
   "source": [
    "## 2. Price Analysis by Region:\n",
    "\n",
    "Determine which region had the highest and lowest average prices for organic and conventional avocados over the entire dataset. Compare the price trends in these regions over time."
   ]
  },
  {
   "cell_type": "code",
   "execution_count": 10,
   "id": "6979e977",
   "metadata": {},
   "outputs": [
    {
     "name": "stdout",
     "output_type": "stream",
     "text": [
      "<class 'pandas.core.frame.DataFrame'>\n",
      "RangeIndex: 1014 entries, 0 to 1013\n",
      "Data columns (total 7 columns):\n",
      " #   Column     Non-Null Count  Dtype  \n",
      "---  ------     --------------  -----  \n",
      " 0   date       1014 non-null   object \n",
      " 1   type       1014 non-null   object \n",
      " 2   year       1014 non-null   int64  \n",
      " 3   avg_price  1014 non-null   float64\n",
      " 4   size       1014 non-null   object \n",
      " 5   nb_sold    1014 non-null   float64\n",
      " 6   month      1014 non-null   object \n",
      "dtypes: float64(2), int64(1), object(4)\n",
      "memory usage: 55.6+ KB\n"
     ]
    }
   ],
   "source": [
    "avocado.info()"
   ]
  },
  {
   "cell_type": "code",
   "execution_count": 11,
   "id": "d776e3bb",
   "metadata": {},
   "outputs": [
    {
     "data": {
      "text/html": [
       "<div>\n",
       "<style scoped>\n",
       "    .dataframe tbody tr th:only-of-type {\n",
       "        vertical-align: middle;\n",
       "    }\n",
       "\n",
       "    .dataframe tbody tr th {\n",
       "        vertical-align: top;\n",
       "    }\n",
       "\n",
       "    .dataframe thead th {\n",
       "        text-align: right;\n",
       "    }\n",
       "</style>\n",
       "<table border=\"1\" class=\"dataframe\">\n",
       "  <thead>\n",
       "    <tr style=\"text-align: right;\">\n",
       "      <th></th>\n",
       "      <th>year</th>\n",
       "      <th>avg_price</th>\n",
       "      <th>nb_sold</th>\n",
       "    </tr>\n",
       "  </thead>\n",
       "  <tbody>\n",
       "    <tr>\n",
       "      <th>count</th>\n",
       "      <td>1014.000000</td>\n",
       "      <td>1014.000000</td>\n",
       "      <td>1.014000e+03</td>\n",
       "    </tr>\n",
       "    <tr>\n",
       "      <th>mean</th>\n",
       "      <td>2016.147929</td>\n",
       "      <td>1.319024</td>\n",
       "      <td>4.167774e+06</td>\n",
       "    </tr>\n",
       "    <tr>\n",
       "      <th>std</th>\n",
       "      <td>0.940380</td>\n",
       "      <td>0.295168</td>\n",
       "      <td>5.596185e+06</td>\n",
       "    </tr>\n",
       "    <tr>\n",
       "      <th>min</th>\n",
       "      <td>2015.000000</td>\n",
       "      <td>0.760000</td>\n",
       "      <td>8.343000e+02</td>\n",
       "    </tr>\n",
       "    <tr>\n",
       "      <th>25%</th>\n",
       "      <td>2015.000000</td>\n",
       "      <td>1.040000</td>\n",
       "      <td>1.320755e+05</td>\n",
       "    </tr>\n",
       "    <tr>\n",
       "      <th>50%</th>\n",
       "      <td>2016.000000</td>\n",
       "      <td>1.325000</td>\n",
       "      <td>4.232327e+05</td>\n",
       "    </tr>\n",
       "    <tr>\n",
       "      <th>75%</th>\n",
       "      <td>2017.000000</td>\n",
       "      <td>1.540000</td>\n",
       "      <td>1.019066e+07</td>\n",
       "    </tr>\n",
       "    <tr>\n",
       "      <th>max</th>\n",
       "      <td>2018.000000</td>\n",
       "      <td>2.090000</td>\n",
       "      <td>2.274362e+07</td>\n",
       "    </tr>\n",
       "  </tbody>\n",
       "</table>\n",
       "</div>"
      ],
      "text/plain": [
       "              year    avg_price       nb_sold\n",
       "count  1014.000000  1014.000000  1.014000e+03\n",
       "mean   2016.147929     1.319024  4.167774e+06\n",
       "std       0.940380     0.295168  5.596185e+06\n",
       "min    2015.000000     0.760000  8.343000e+02\n",
       "25%    2015.000000     1.040000  1.320755e+05\n",
       "50%    2016.000000     1.325000  4.232327e+05\n",
       "75%    2017.000000     1.540000  1.019066e+07\n",
       "max    2018.000000     2.090000  2.274362e+07"
      ]
     },
     "execution_count": 11,
     "metadata": {},
     "output_type": "execute_result"
    }
   ],
   "source": [
    "avocado.describe()"
   ]
  },
  {
   "cell_type": "code",
   "execution_count": null,
   "id": "c5cfa2b3",
   "metadata": {},
   "outputs": [],
   "source": []
  }
 ],
 "metadata": {
  "kernelspec": {
   "display_name": "Python 3 (ipykernel)",
   "language": "python",
   "name": "python3"
  },
  "language_info": {
   "codemirror_mode": {
    "name": "ipython",
    "version": 3
   },
   "file_extension": ".py",
   "mimetype": "text/x-python",
   "name": "python",
   "nbconvert_exporter": "python",
   "pygments_lexer": "ipython3",
   "version": "3.10.9"
  }
 },
 "nbformat": 4,
 "nbformat_minor": 5
}
