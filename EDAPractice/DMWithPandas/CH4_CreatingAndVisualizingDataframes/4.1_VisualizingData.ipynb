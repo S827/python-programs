{
 "cells": [
  {
   "cell_type": "code",
   "execution_count": 1,
   "id": "9098358d",
   "metadata": {},
   "outputs": [],
   "source": [
    "import pandas as pd\n",
    "import numpy as np\n",
    "import matplotlib.pyplot as plt"
   ]
  },
  {
   "cell_type": "code",
   "execution_count": 3,
   "id": "be30bf5b",
   "metadata": {},
   "outputs": [
    {
     "data": {
      "text/html": [
       "<div>\n",
       "<style scoped>\n",
       "    .dataframe tbody tr th:only-of-type {\n",
       "        vertical-align: middle;\n",
       "    }\n",
       "\n",
       "    .dataframe tbody tr th {\n",
       "        vertical-align: top;\n",
       "    }\n",
       "\n",
       "    .dataframe thead th {\n",
       "        text-align: right;\n",
       "    }\n",
       "</style>\n",
       "<table border=\"1\" class=\"dataframe\">\n",
       "  <thead>\n",
       "    <tr style=\"text-align: right;\">\n",
       "      <th></th>\n",
       "      <th>date</th>\n",
       "      <th>type</th>\n",
       "      <th>year</th>\n",
       "      <th>avg_price</th>\n",
       "      <th>size</th>\n",
       "      <th>nb_sold</th>\n",
       "    </tr>\n",
       "  </thead>\n",
       "  <tbody>\n",
       "    <tr>\n",
       "      <th>0</th>\n",
       "      <td>2015-12-27</td>\n",
       "      <td>conventional</td>\n",
       "      <td>2015</td>\n",
       "      <td>0.95</td>\n",
       "      <td>small</td>\n",
       "      <td>9626901.09</td>\n",
       "    </tr>\n",
       "    <tr>\n",
       "      <th>1</th>\n",
       "      <td>2015-12-20</td>\n",
       "      <td>conventional</td>\n",
       "      <td>2015</td>\n",
       "      <td>0.98</td>\n",
       "      <td>small</td>\n",
       "      <td>8710021.76</td>\n",
       "    </tr>\n",
       "    <tr>\n",
       "      <th>2</th>\n",
       "      <td>2015-12-13</td>\n",
       "      <td>conventional</td>\n",
       "      <td>2015</td>\n",
       "      <td>0.93</td>\n",
       "      <td>small</td>\n",
       "      <td>9855053.66</td>\n",
       "    </tr>\n",
       "    <tr>\n",
       "      <th>3</th>\n",
       "      <td>2015-12-06</td>\n",
       "      <td>conventional</td>\n",
       "      <td>2015</td>\n",
       "      <td>0.89</td>\n",
       "      <td>small</td>\n",
       "      <td>9405464.36</td>\n",
       "    </tr>\n",
       "    <tr>\n",
       "      <th>4</th>\n",
       "      <td>2015-11-29</td>\n",
       "      <td>conventional</td>\n",
       "      <td>2015</td>\n",
       "      <td>0.99</td>\n",
       "      <td>small</td>\n",
       "      <td>8094803.56</td>\n",
       "    </tr>\n",
       "  </tbody>\n",
       "</table>\n",
       "</div>"
      ],
      "text/plain": [
       "         date          type  year  avg_price   size     nb_sold\n",
       "0  2015-12-27  conventional  2015       0.95  small  9626901.09\n",
       "1  2015-12-20  conventional  2015       0.98  small  8710021.76\n",
       "2  2015-12-13  conventional  2015       0.93  small  9855053.66\n",
       "3  2015-12-06  conventional  2015       0.89  small  9405464.36\n",
       "4  2015-11-29  conventional  2015       0.99  small  8094803.56"
      ]
     },
     "execution_count": 3,
     "metadata": {},
     "output_type": "execute_result"
    }
   ],
   "source": [
    "avocado = pd.read_pickle('../../avoplotto.pkl')\n",
    "avocado.head()"
   ]
  },
  {
   "cell_type": "code",
   "execution_count": 4,
   "id": "40c477d2",
   "metadata": {},
   "outputs": [],
   "source": [
    "avocado.to_csv('../../avocado.csv')"
   ]
  },
  {
   "cell_type": "markdown",
   "id": "bf38c4ac",
   "metadata": {},
   "source": [
    "\n",
    "Price Distribution Analysis:\n",
    "\n",
    "Create a box plot to show the distribution of avocado prices for each size category.\n",
    "Monthly Price Fluctuations:\n",
    "\n",
    "Calculate the monthly average price of avocados for each year.\n",
    "Create a heatmap to visualize the price fluctuations over the years for each month.\n",
    "Correlation Analysis:\n",
    "\n",
    "Calculate the correlation between the number of avocados sold and the average price.\n",
    "Create a heatmap to visualize the correlation matrix for all numerical columns in the dataset.\n",
    "Top Selling Months:\n",
    "\n",
    "Identify the top 3 months with the highest avocado sales for each type (conventional and organic).\n",
    "Plot a bar chart to compare the sales of these top months.\n",
    "Price Trends for Sizes:\n",
    "\n",
    "Plot the trend of average prices over the years for each avocado size category.\n",
    "Sales Comparison:\n",
    "\n",
    "Compare the total number of avocados sold between conventional and organic types for each year.\n",
    "Plot a stacked bar chart to show the comparison.\n",
    "Price Outliers:\n",
    "\n",
    "Identify any outliers in the average price of avocados using the IQR method.\n",
    "Plot these outliers on a scatter plot.\n",
    "Sales and Price Grouping:\n",
    "\n",
    "Group the dataset by year and size, then calculate the total number of avocados sold and the average price for each group.\n",
    "Create a scatter plot to visualize the relationship between total sales and average price for each year and size group."
   ]
  },
  {
   "cell_type": "markdown",
   "id": "33774f13",
   "metadata": {},
   "source": [
    "## 1. Sales Trends Over Time:\n",
    "\n",
    "Calculate the monthly total number of avocados sold for each year and plot the trends. Identify any significant changes or trends over the years."
   ]
  },
  {
   "cell_type": "code",
   "execution_count": 5,
   "id": "410f5b2e",
   "metadata": {},
   "outputs": [
    {
     "data": {
      "text/html": [
       "<div>\n",
       "<style scoped>\n",
       "    .dataframe tbody tr th:only-of-type {\n",
       "        vertical-align: middle;\n",
       "    }\n",
       "\n",
       "    .dataframe tbody tr th {\n",
       "        vertical-align: top;\n",
       "    }\n",
       "\n",
       "    .dataframe thead th {\n",
       "        text-align: right;\n",
       "    }\n",
       "</style>\n",
       "<table border=\"1\" class=\"dataframe\">\n",
       "  <thead>\n",
       "    <tr style=\"text-align: right;\">\n",
       "      <th></th>\n",
       "      <th>date</th>\n",
       "      <th>type</th>\n",
       "      <th>year</th>\n",
       "      <th>avg_price</th>\n",
       "      <th>size</th>\n",
       "      <th>nb_sold</th>\n",
       "    </tr>\n",
       "  </thead>\n",
       "  <tbody>\n",
       "    <tr>\n",
       "      <th>0</th>\n",
       "      <td>2015-12-27</td>\n",
       "      <td>conventional</td>\n",
       "      <td>2015</td>\n",
       "      <td>0.95</td>\n",
       "      <td>small</td>\n",
       "      <td>9626901.09</td>\n",
       "    </tr>\n",
       "    <tr>\n",
       "      <th>1</th>\n",
       "      <td>2015-12-20</td>\n",
       "      <td>conventional</td>\n",
       "      <td>2015</td>\n",
       "      <td>0.98</td>\n",
       "      <td>small</td>\n",
       "      <td>8710021.76</td>\n",
       "    </tr>\n",
       "    <tr>\n",
       "      <th>2</th>\n",
       "      <td>2015-12-13</td>\n",
       "      <td>conventional</td>\n",
       "      <td>2015</td>\n",
       "      <td>0.93</td>\n",
       "      <td>small</td>\n",
       "      <td>9855053.66</td>\n",
       "    </tr>\n",
       "    <tr>\n",
       "      <th>3</th>\n",
       "      <td>2015-12-06</td>\n",
       "      <td>conventional</td>\n",
       "      <td>2015</td>\n",
       "      <td>0.89</td>\n",
       "      <td>small</td>\n",
       "      <td>9405464.36</td>\n",
       "    </tr>\n",
       "    <tr>\n",
       "      <th>4</th>\n",
       "      <td>2015-11-29</td>\n",
       "      <td>conventional</td>\n",
       "      <td>2015</td>\n",
       "      <td>0.99</td>\n",
       "      <td>small</td>\n",
       "      <td>8094803.56</td>\n",
       "    </tr>\n",
       "  </tbody>\n",
       "</table>\n",
       "</div>"
      ],
      "text/plain": [
       "         date          type  year  avg_price   size     nb_sold\n",
       "0  2015-12-27  conventional  2015       0.95  small  9626901.09\n",
       "1  2015-12-20  conventional  2015       0.98  small  8710021.76\n",
       "2  2015-12-13  conventional  2015       0.93  small  9855053.66\n",
       "3  2015-12-06  conventional  2015       0.89  small  9405464.36\n",
       "4  2015-11-29  conventional  2015       0.99  small  8094803.56"
      ]
     },
     "execution_count": 5,
     "metadata": {},
     "output_type": "execute_result"
    }
   ],
   "source": [
    "avocado.head()"
   ]
  },
  {
   "cell_type": "code",
   "execution_count": 6,
   "id": "019d76aa",
   "metadata": {},
   "outputs": [
    {
     "name": "stdout",
     "output_type": "stream",
     "text": [
      "<class 'pandas.core.frame.DataFrame'>\n",
      "RangeIndex: 1014 entries, 0 to 1013\n",
      "Data columns (total 6 columns):\n",
      " #   Column     Non-Null Count  Dtype  \n",
      "---  ------     --------------  -----  \n",
      " 0   date       1014 non-null   object \n",
      " 1   type       1014 non-null   object \n",
      " 2   year       1014 non-null   int64  \n",
      " 3   avg_price  1014 non-null   float64\n",
      " 4   size       1014 non-null   object \n",
      " 5   nb_sold    1014 non-null   float64\n",
      "dtypes: float64(2), int64(1), object(3)\n",
      "memory usage: 47.7+ KB\n"
     ]
    }
   ],
   "source": [
    "avocado.info()"
   ]
  },
  {
   "cell_type": "code",
   "execution_count": 12,
   "id": "c4422412",
   "metadata": {},
   "outputs": [
    {
     "data": {
      "image/png": "[encoded data removed]",
      "text/plain": [
       "<Figure size 640x480 with 1 Axes>"
      ]
     },
     "metadata": {},
     "output_type": "display_data"
    }
   ],
   "source": [
    "avocado['month'] = avocado['date'].str[5:7]\n",
    "avocado_month = avocado.groupby('month')['nb_sold'].sum()\n",
    "avocado_month.plot(x='month', y = 'nb_sold', kind='line', title='Monthly sales of avocados over the years');"
   ]
  },
  {
   "cell_type": "markdown",
   "id": "f7762a03",
   "metadata": {},
   "source": [
    " By looking at the plot we can say that, In January and February, avocado sales are the highest and after May month sales of avocados decreases. "
   ]
  },
  {
   "cell_type": "markdown",
   "id": "d99f2054",
   "metadata": {},
   "source": [
    "## 2. Yearly Price Analysis:\n",
    "\n",
    "Calculate the average price of avocados for each year and plot a bar chart comparing the average prices for conventional and organic types.."
   ]
  },
  {
   "cell_type": "code",
   "execution_count": 27,
   "id": "dac1da97",
   "metadata": {},
   "outputs": [
    {
     "data": {
      "text/html": [
       "<div>\n",
       "<style scoped>\n",
       "    .dataframe tbody tr th:only-of-type {\n",
       "        vertical-align: middle;\n",
       "    }\n",
       "\n",
       "    .dataframe tbody tr th {\n",
       "        vertical-align: top;\n",
       "    }\n",
       "\n",
       "    .dataframe thead th {\n",
       "        text-align: right;\n",
       "    }\n",
       "</style>\n",
       "<table border=\"1\" class=\"dataframe\">\n",
       "  <thead>\n",
       "    <tr style=\"text-align: right;\">\n",
       "      <th></th>\n",
       "      <th>year</th>\n",
       "      <th>type</th>\n",
       "      <th>avg_price</th>\n",
       "    </tr>\n",
       "  </thead>\n",
       "  <tbody>\n",
       "    <tr>\n",
       "      <th>0</th>\n",
       "      <td>2015</td>\n",
       "      <td>conventional</td>\n",
       "      <td>1.012500</td>\n",
       "    </tr>\n",
       "    <tr>\n",
       "      <th>1</th>\n",
       "      <td>2015</td>\n",
       "      <td>organic</td>\n",
       "      <td>1.502308</td>\n",
       "    </tr>\n",
       "    <tr>\n",
       "      <th>2</th>\n",
       "      <td>2016</td>\n",
       "      <td>conventional</td>\n",
       "      <td>1.046731</td>\n",
       "    </tr>\n",
       "    <tr>\n",
       "      <th>3</th>\n",
       "      <td>2016</td>\n",
       "      <td>organic</td>\n",
       "      <td>1.480385</td>\n",
       "    </tr>\n",
       "    <tr>\n",
       "      <th>4</th>\n",
       "      <td>2017</td>\n",
       "      <td>conventional</td>\n",
       "      <td>1.221698</td>\n",
       "    </tr>\n",
       "    <tr>\n",
       "      <th>5</th>\n",
       "      <td>2017</td>\n",
       "      <td>organic</td>\n",
       "      <td>1.651509</td>\n",
       "    </tr>\n",
       "    <tr>\n",
       "      <th>6</th>\n",
       "      <td>2018</td>\n",
       "      <td>conventional</td>\n",
       "      <td>1.060000</td>\n",
       "    </tr>\n",
       "    <tr>\n",
       "      <th>7</th>\n",
       "      <td>2018</td>\n",
       "      <td>organic</td>\n",
       "      <td>1.554167</td>\n",
       "    </tr>\n",
       "  </tbody>\n",
       "</table>\n",
       "</div>"
      ],
      "text/plain": [
       "   year          type  avg_price\n",
       "0  2015  conventional   1.012500\n",
       "1  2015       organic   1.502308\n",
       "2  2016  conventional   1.046731\n",
       "3  2016       organic   1.480385\n",
       "4  2017  conventional   1.221698\n",
       "5  2017       organic   1.651509\n",
       "6  2018  conventional   1.060000\n",
       "7  2018       organic   1.554167"
      ]
     },
     "execution_count": 27,
     "metadata": {},
     "output_type": "execute_result"
    }
   ],
   "source": [
    "avocado_year = avocado.groupby(['year', 'type'])['avg_price'].mean().reset_index()\n",
    "avocado_year"
   ]
  },
  {
   "cell_type": "code",
   "execution_count": 28,
   "id": "e0f9e803",
   "metadata": {},
   "outputs": [
    {
     "data": {
      "image/png": "[encoded data removed]",
      "text/plain": [
       "<Figure size 640x480 with 1 Axes>"
      ]
     },
     "metadata": {},
     "output_type": "display_data"
    }
   ],
   "source": [
    "avocado[avocado['type'] == 'conventional']['avg_price'].plot(x='year', y='avg_price', kind='bar', rot=90);"
   ]
  },
  {
   "cell_type": "code",
   "execution_count": null,
   "id": "3a0f9596",
   "metadata": {},
   "outputs": [],
   "source": []
  }
 ],
 "metadata": {
  "kernelspec": {
   "display_name": "Python 3 (ipykernel)",
   "language": "python",
   "name": "python3"
  },
  "language_info": {
   "codemirror_mode": {
    "name": "ipython",
    "version": 3
   },
   "file_extension": ".py",
   "mimetype": "text/x-python",
   "name": "python",
   "nbconvert_exporter": "python",
   "pygments_lexer": "ipython3",
   "version": "3.10.9"
  }
 },
 "nbformat": 4,
 "nbformat_minor": 5
}
