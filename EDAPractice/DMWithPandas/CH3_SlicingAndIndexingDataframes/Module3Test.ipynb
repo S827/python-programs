{
 "cells": [
  {
   "cell_type": "markdown",
   "id": "2f766e97",
   "metadata": {},
   "source": [
    "# TEST ON SLICING AND INDEXING DATAFRAMES"
   ]
  },
  {
   "cell_type": "code",
   "execution_count": 2,
   "id": "0e8b6519",
   "metadata": {},
   "outputs": [
    {
     "data": {
      "text/html": [
       "<div>\n",
       "<style scoped>\n",
       "    .dataframe tbody tr th:only-of-type {\n",
       "        vertical-align: middle;\n",
       "    }\n",
       "\n",
       "    .dataframe tbody tr th {\n",
       "        vertical-align: top;\n",
       "    }\n",
       "\n",
       "    .dataframe thead th {\n",
       "        text-align: right;\n",
       "    }\n",
       "</style>\n",
       "<table border=\"1\" class=\"dataframe\">\n",
       "  <thead>\n",
       "    <tr style=\"text-align: right;\">\n",
       "      <th></th>\n",
       "      <th>date</th>\n",
       "      <th>city</th>\n",
       "      <th>country</th>\n",
       "      <th>avg_temp_c</th>\n",
       "    </tr>\n",
       "  </thead>\n",
       "  <tbody>\n",
       "    <tr>\n",
       "      <th>0</th>\n",
       "      <td>2000-01-01</td>\n",
       "      <td>Abidjan</td>\n",
       "      <td>Côte D'Ivoire</td>\n",
       "      <td>27.293</td>\n",
       "    </tr>\n",
       "    <tr>\n",
       "      <th>1</th>\n",
       "      <td>2000-02-01</td>\n",
       "      <td>Abidjan</td>\n",
       "      <td>Côte D'Ivoire</td>\n",
       "      <td>27.685</td>\n",
       "    </tr>\n",
       "    <tr>\n",
       "      <th>2</th>\n",
       "      <td>2000-03-01</td>\n",
       "      <td>Abidjan</td>\n",
       "      <td>Côte D'Ivoire</td>\n",
       "      <td>29.061</td>\n",
       "    </tr>\n",
       "    <tr>\n",
       "      <th>3</th>\n",
       "      <td>2000-04-01</td>\n",
       "      <td>Abidjan</td>\n",
       "      <td>Côte D'Ivoire</td>\n",
       "      <td>28.162</td>\n",
       "    </tr>\n",
       "    <tr>\n",
       "      <th>4</th>\n",
       "      <td>2000-05-01</td>\n",
       "      <td>Abidjan</td>\n",
       "      <td>Côte D'Ivoire</td>\n",
       "      <td>27.547</td>\n",
       "    </tr>\n",
       "  </tbody>\n",
       "</table>\n",
       "</div>"
      ],
      "text/plain": [
       "         date     city        country  avg_temp_c\n",
       "0  2000-01-01  Abidjan  Côte D'Ivoire      27.293\n",
       "1  2000-02-01  Abidjan  Côte D'Ivoire      27.685\n",
       "2  2000-03-01  Abidjan  Côte D'Ivoire      29.061\n",
       "3  2000-04-01  Abidjan  Côte D'Ivoire      28.162\n",
       "4  2000-05-01  Abidjan  Côte D'Ivoire      27.547"
      ]
     },
     "execution_count": 2,
     "metadata": {},
     "output_type": "execute_result"
    }
   ],
   "source": [
    "import pandas as pd\n",
    "import numpy as np\n",
    "temp = pd.read_csv('../../temperatures.csv', index_col=0)\n",
    "temp.head()"
   ]
  },
  {
   "cell_type": "markdown",
   "id": "dd2ece9d",
   "metadata": {},
   "source": [
    "## 1•  City Temperature Analysis:\n",
    "\tCreate an analysis to find the average temperature for each city across different years. Filter the results to show only the cities with an average temperature above 25°C from 2000 to 2010.\n",
    "\n"
   ]
  },
  {
   "cell_type": "code",
   "execution_count": 11,
   "id": "0b29de91",
   "metadata": {},
   "outputs": [
    {
     "data": {
      "text/html": [
       "<div>\n",
       "<style scoped>\n",
       "    .dataframe tbody tr th:only-of-type {\n",
       "        vertical-align: middle;\n",
       "    }\n",
       "\n",
       "    .dataframe tbody tr th {\n",
       "        vertical-align: top;\n",
       "    }\n",
       "\n",
       "    .dataframe thead th {\n",
       "        text-align: right;\n",
       "    }\n",
       "</style>\n",
       "<table border=\"1\" class=\"dataframe\">\n",
       "  <thead>\n",
       "    <tr style=\"text-align: right;\">\n",
       "      <th>year</th>\n",
       "      <th>2000</th>\n",
       "      <th>2001</th>\n",
       "      <th>2002</th>\n",
       "      <th>2003</th>\n",
       "      <th>2004</th>\n",
       "      <th>2005</th>\n",
       "      <th>2006</th>\n",
       "      <th>2007</th>\n",
       "      <th>2008</th>\n",
       "      <th>2009</th>\n",
       "      <th>2010</th>\n",
       "    </tr>\n",
       "    <tr>\n",
       "      <th>city</th>\n",
       "      <th></th>\n",
       "      <th></th>\n",
       "      <th></th>\n",
       "      <th></th>\n",
       "      <th></th>\n",
       "      <th></th>\n",
       "      <th></th>\n",
       "      <th></th>\n",
       "      <th></th>\n",
       "      <th></th>\n",
       "      <th></th>\n",
       "    </tr>\n",
       "  </thead>\n",
       "  <tbody>\n",
       "    <tr>\n",
       "      <th>Abidjan</th>\n",
       "      <td>27.128300</td>\n",
       "      <td>27.378333</td>\n",
       "      <td>27.046545</td>\n",
       "      <td>27.248000</td>\n",
       "      <td>27.420800</td>\n",
       "      <td>27.427900</td>\n",
       "      <td>26.988083</td>\n",
       "      <td>27.006833</td>\n",
       "      <td>26.944500</td>\n",
       "      <td>27.167182</td>\n",
       "      <td>27.445417</td>\n",
       "    </tr>\n",
       "    <tr>\n",
       "      <th>Ahmadabad</th>\n",
       "      <td>29.491111</td>\n",
       "      <td>29.112111</td>\n",
       "      <td>29.775556</td>\n",
       "      <td>29.262444</td>\n",
       "      <td>29.579111</td>\n",
       "      <td>29.552500</td>\n",
       "      <td>28.515800</td>\n",
       "      <td>29.393889</td>\n",
       "      <td>29.093667</td>\n",
       "      <td>29.873667</td>\n",
       "      <td>30.165444</td>\n",
       "    </tr>\n",
       "    <tr>\n",
       "      <th>Aleppo</th>\n",
       "      <td>28.872000</td>\n",
       "      <td>28.849500</td>\n",
       "      <td>28.358750</td>\n",
       "      <td>28.530250</td>\n",
       "      <td>28.348250</td>\n",
       "      <td>28.272250</td>\n",
       "      <td>28.622500</td>\n",
       "      <td>29.072000</td>\n",
       "      <td>29.099750</td>\n",
       "      <td>29.462000</td>\n",
       "      <td>29.958500</td>\n",
       "    </tr>\n",
       "    <tr>\n",
       "      <th>Alexandria</th>\n",
       "      <td>26.653333</td>\n",
       "      <td>27.434333</td>\n",
       "      <td>27.866667</td>\n",
       "      <td>26.721500</td>\n",
       "      <td>26.784667</td>\n",
       "      <td>27.215333</td>\n",
       "      <td>26.740500</td>\n",
       "      <td>27.008500</td>\n",
       "      <td>27.242000</td>\n",
       "      <td>27.036500</td>\n",
       "      <td>26.932600</td>\n",
       "    </tr>\n",
       "    <tr>\n",
       "      <th>Ankara</th>\n",
       "      <td>NaN</td>\n",
       "      <td>NaN</td>\n",
       "      <td>NaN</td>\n",
       "      <td>NaN</td>\n",
       "      <td>NaN</td>\n",
       "      <td>NaN</td>\n",
       "      <td>25.751000</td>\n",
       "      <td>NaN</td>\n",
       "      <td>NaN</td>\n",
       "      <td>NaN</td>\n",
       "      <td>26.044000</td>\n",
       "    </tr>\n",
       "    <tr>\n",
       "      <th>...</th>\n",
       "      <td>...</td>\n",
       "      <td>...</td>\n",
       "      <td>...</td>\n",
       "      <td>...</td>\n",
       "      <td>...</td>\n",
       "      <td>...</td>\n",
       "      <td>...</td>\n",
       "      <td>...</td>\n",
       "      <td>...</td>\n",
       "      <td>...</td>\n",
       "      <td>...</td>\n",
       "    </tr>\n",
       "    <tr>\n",
       "      <th>Tianjin</th>\n",
       "      <td>27.169333</td>\n",
       "      <td>26.445000</td>\n",
       "      <td>26.816000</td>\n",
       "      <td>25.774500</td>\n",
       "      <td>25.672000</td>\n",
       "      <td>26.441333</td>\n",
       "      <td>26.023333</td>\n",
       "      <td>26.483000</td>\n",
       "      <td>26.385500</td>\n",
       "      <td>26.066333</td>\n",
       "      <td>26.891000</td>\n",
       "    </tr>\n",
       "    <tr>\n",
       "      <th>Tokyo</th>\n",
       "      <td>25.528500</td>\n",
       "      <td>26.326000</td>\n",
       "      <td>25.658000</td>\n",
       "      <td>NaN</td>\n",
       "      <td>25.975000</td>\n",
       "      <td>25.567000</td>\n",
       "      <td>25.503000</td>\n",
       "      <td>26.360000</td>\n",
       "      <td>NaN</td>\n",
       "      <td>NaN</td>\n",
       "      <td>26.426500</td>\n",
       "    </tr>\n",
       "    <tr>\n",
       "      <th>Umm Durman</th>\n",
       "      <td>31.505556</td>\n",
       "      <td>31.016900</td>\n",
       "      <td>31.579800</td>\n",
       "      <td>30.769000</td>\n",
       "      <td>31.925778</td>\n",
       "      <td>30.929818</td>\n",
       "      <td>30.239636</td>\n",
       "      <td>30.975700</td>\n",
       "      <td>31.251600</td>\n",
       "      <td>31.669500</td>\n",
       "      <td>30.730167</td>\n",
       "    </tr>\n",
       "    <tr>\n",
       "      <th>Wuhan</th>\n",
       "      <td>28.379000</td>\n",
       "      <td>27.478750</td>\n",
       "      <td>27.918333</td>\n",
       "      <td>27.724000</td>\n",
       "      <td>27.540000</td>\n",
       "      <td>27.766000</td>\n",
       "      <td>28.773333</td>\n",
       "      <td>28.371333</td>\n",
       "      <td>27.276500</td>\n",
       "      <td>27.862250</td>\n",
       "      <td>27.401750</td>\n",
       "    </tr>\n",
       "    <tr>\n",
       "      <th>Xian</th>\n",
       "      <td>25.578000</td>\n",
       "      <td>26.094000</td>\n",
       "      <td>25.513000</td>\n",
       "      <td>NaN</td>\n",
       "      <td>NaN</td>\n",
       "      <td>25.045000</td>\n",
       "      <td>25.957000</td>\n",
       "      <td>NaN</td>\n",
       "      <td>NaN</td>\n",
       "      <td>25.500000</td>\n",
       "      <td>25.722000</td>\n",
       "    </tr>\n",
       "  </tbody>\n",
       "</table>\n",
       "<p>77 rows × 11 columns</p>\n",
       "</div>"
      ],
      "text/plain": [
       "year             2000       2001       2002       2003       2004       2005  \\\n",
       "city                                                                           \n",
       "Abidjan     27.128300  27.378333  27.046545  27.248000  27.420800  27.427900   \n",
       "Ahmadabad   29.491111  29.112111  29.775556  29.262444  29.579111  29.552500   \n",
       "Aleppo      28.872000  28.849500  28.358750  28.530250  28.348250  28.272250   \n",
       "Alexandria  26.653333  27.434333  27.866667  26.721500  26.784667  27.215333   \n",
       "Ankara            NaN        NaN        NaN        NaN        NaN        NaN   \n",
       "...               ...        ...        ...        ...        ...        ...   \n",
       "Tianjin     27.169333  26.445000  26.816000  25.774500  25.672000  26.441333   \n",
       "Tokyo       25.528500  26.326000  25.658000        NaN  25.975000  25.567000   \n",
       "Umm Durman  31.505556  31.016900  31.579800  30.769000  31.925778  30.929818   \n",
       "Wuhan       28.379000  27.478750  27.918333  27.724000  27.540000  27.766000   \n",
       "Xian        25.578000  26.094000  25.513000        NaN        NaN  25.045000   \n",
       "\n",
       "year             2006       2007       2008       2009       2010  \n",
       "city                                                               \n",
       "Abidjan     26.988083  27.006833  26.944500  27.167182  27.445417  \n",
       "Ahmadabad   28.515800  29.393889  29.093667  29.873667  30.165444  \n",
       "Aleppo      28.622500  29.072000  29.099750  29.462000  29.958500  \n",
       "Alexandria  26.740500  27.008500  27.242000  27.036500  26.932600  \n",
       "Ankara      25.751000        NaN        NaN        NaN  26.044000  \n",
       "...               ...        ...        ...        ...        ...  \n",
       "Tianjin     26.023333  26.483000  26.385500  26.066333  26.891000  \n",
       "Tokyo       25.503000  26.360000        NaN        NaN  26.426500  \n",
       "Umm Durman  30.239636  30.975700  31.251600  31.669500  30.730167  \n",
       "Wuhan       28.773333  28.371333  27.276500  27.862250  27.401750  \n",
       "Xian        25.957000        NaN        NaN  25.500000  25.722000  \n",
       "\n",
       "[77 rows x 11 columns]"
      ]
     },
     "execution_count": 11,
     "metadata": {},
     "output_type": "execute_result"
    }
   ],
   "source": [
    "temp['year'] = temp['date'].str[:4]\n",
    "temp_above_25 = temp[temp['avg_temp_c'] > 25]\n",
    "temp_city_year = temp_above_25.pivot_table('avg_temp_c', index='city', columns='year')\n",
    "temp_city_year.loc[:, '2000':'2010']"
   ]
  },
  {
   "cell_type": "markdown",
   "id": "b0a75436",
   "metadata": {},
   "source": [
    "## 2•  Country-Based Temperature Trends:\n",
    "\tIdentify the cities in 'India' and 'China' and calculate the mean temperature for these cities from 2005 to 2012. Compare the results and determine which country had a higher average temperature during this period.\n"
   ]
  },
  {
   "cell_type": "code",
   "execution_count": 35,
   "id": "d92a8049",
   "metadata": {},
   "outputs": [
    {
     "name": "stdout",
     "output_type": "stream",
     "text": [
      "India has higher average temperature of 26 degrees\n"
     ]
    },
    {
     "data": {
      "text/plain": [
       "country\n",
       "China    13.020714\n",
       "India    26.666893\n",
       "dtype: float64"
      ]
     },
     "execution_count": 35,
     "metadata": {},
     "output_type": "execute_result"
    }
   ],
   "source": [
    "temp_ind_china = temp[temp['country'].isin(['India', 'China'])]\n",
    "temp_ind_ch = temp_ind_china.pivot_table('avg_temp_c', index=['country'], columns='year').loc[:,'2005':'2010']\n",
    "\n",
    "print('India has higher average temperature of 26 degrees')\n",
    "temp_ind_ch.mean(axis='columns')"
   ]
  },
  {
   "cell_type": "markdown",
   "id": "2f871291",
   "metadata": {},
   "source": [
    "## 3•  Maximum Temperature Comparison:\n",
    "\tFind the maximum temperature recorded for each city and then subset the data to include only the top 5 cities with the highest maximum temperatures. List these cities and their corresponding maximum temperatures.\n"
   ]
  },
  {
   "cell_type": "code",
   "execution_count": 40,
   "id": "c94ad123",
   "metadata": {},
   "outputs": [
    {
     "data": {
      "text/html": [
       "<div>\n",
       "<style scoped>\n",
       "    .dataframe tbody tr th:only-of-type {\n",
       "        vertical-align: middle;\n",
       "    }\n",
       "\n",
       "    .dataframe tbody tr th {\n",
       "        vertical-align: top;\n",
       "    }\n",
       "\n",
       "    .dataframe thead th {\n",
       "        text-align: right;\n",
       "    }\n",
       "</style>\n",
       "<table border=\"1\" class=\"dataframe\">\n",
       "  <thead>\n",
       "    <tr style=\"text-align: right;\">\n",
       "      <th></th>\n",
       "      <th>avg_temp_c</th>\n",
       "    </tr>\n",
       "    <tr>\n",
       "      <th>city</th>\n",
       "      <th></th>\n",
       "    </tr>\n",
       "  </thead>\n",
       "  <tbody>\n",
       "    <tr>\n",
       "      <th>Baghdad</th>\n",
       "      <td>38.283</td>\n",
       "    </tr>\n",
       "    <tr>\n",
       "      <th>Riyadh</th>\n",
       "      <td>37.859</td>\n",
       "    </tr>\n",
       "    <tr>\n",
       "      <th>Jaipur</th>\n",
       "      <td>36.477</td>\n",
       "    </tr>\n",
       "    <tr>\n",
       "      <th>Delhi</th>\n",
       "      <td>36.339</td>\n",
       "    </tr>\n",
       "    <tr>\n",
       "      <th>New Delhi</th>\n",
       "      <td>36.339</td>\n",
       "    </tr>\n",
       "  </tbody>\n",
       "</table>\n",
       "</div>"
      ],
      "text/plain": [
       "           avg_temp_c\n",
       "city                 \n",
       "Baghdad        38.283\n",
       "Riyadh         37.859\n",
       "Jaipur         36.477\n",
       "Delhi          36.339\n",
       "New Delhi      36.339"
      ]
     },
     "execution_count": 40,
     "metadata": {},
     "output_type": "execute_result"
    }
   ],
   "source": [
    "temp_max = temp.pivot_table('avg_temp_c', index='city', aggfunc=np.max)\n",
    "temp_max.sort_values('avg_temp_c', ascending=False).head()"
   ]
  },
  {
   "cell_type": "markdown",
   "id": "9e4a2630",
   "metadata": {},
   "source": [
    "## 4•  Yearly Temperature Range:\n",
    "\tCreate a pivot table to show the range (difference between maximum and minimum) of temperatures for each city for the years 2003 to 2008. Identify the city with the highest range of temperatures.\n"
   ]
  },
  {
   "cell_type": "code",
   "execution_count": 56,
   "id": "c76bbe2f",
   "metadata": {},
   "outputs": [
    {
     "ename": "KeyError",
     "evalue": "'amax'",
     "output_type": "error",
     "traceback": [
      "\u001b[1;31m---------------------------------------------------------------------------\u001b[0m",
      "\u001b[1;31mKeyError\u001b[0m                                  Traceback (most recent call last)",
      "File \u001b[1;32m~\\anaconda3\\lib\\site-packages\\pandas\\core\\indexes\\base.py:3802\u001b[0m, in \u001b[0;36mIndex.get_loc\u001b[1;34m(self, key, method, tolerance)\u001b[0m\n\u001b[0;32m   3801\u001b[0m \u001b[38;5;28;01mtry\u001b[39;00m:\n\u001b[1;32m-> 3802\u001b[0m     \u001b[38;5;28;01mreturn\u001b[39;00m \u001b[38;5;28;43mself\u001b[39;49m\u001b[38;5;241;43m.\u001b[39;49m\u001b[43m_engine\u001b[49m\u001b[38;5;241;43m.\u001b[39;49m\u001b[43mget_loc\u001b[49m\u001b[43m(\u001b[49m\u001b[43mcasted_key\u001b[49m\u001b[43m)\u001b[49m\n\u001b[0;32m   3803\u001b[0m \u001b[38;5;28;01mexcept\u001b[39;00m \u001b[38;5;167;01mKeyError\u001b[39;00m \u001b[38;5;28;01mas\u001b[39;00m err:\n",
      "File \u001b[1;32m~\\anaconda3\\lib\\site-packages\\pandas\\_libs\\index.pyx:138\u001b[0m, in \u001b[0;36mpandas._libs.index.IndexEngine.get_loc\u001b[1;34m()\u001b[0m\n",
      "File \u001b[1;32m~\\anaconda3\\lib\\site-packages\\pandas\\_libs\\index.pyx:165\u001b[0m, in \u001b[0;36mpandas._libs.index.IndexEngine.get_loc\u001b[1;34m()\u001b[0m\n",
      "File \u001b[1;32mpandas\\_libs\\hashtable_class_helper.pxi:5745\u001b[0m, in \u001b[0;36mpandas._libs.hashtable.PyObjectHashTable.get_item\u001b[1;34m()\u001b[0m\n",
      "File \u001b[1;32mpandas\\_libs\\hashtable_class_helper.pxi:5753\u001b[0m, in \u001b[0;36mpandas._libs.hashtable.PyObjectHashTable.get_item\u001b[1;34m()\u001b[0m\n",
      "\u001b[1;31mKeyError\u001b[0m: 'amax'",
      "\nThe above exception was the direct cause of the following exception:\n",
      "\u001b[1;31mKeyError\u001b[0m                                  Traceback (most recent call last)",
      "Cell \u001b[1;32mIn[56], line 4\u001b[0m\n\u001b[0;32m      2\u001b[0m temp_pt \u001b[38;5;241m=\u001b[39m temp_pt_yr\u001b[38;5;241m.\u001b[39mpivot_table(\u001b[38;5;124m'\u001b[39m\u001b[38;5;124mavg_temp_c\u001b[39m\u001b[38;5;124m'\u001b[39m, index\u001b[38;5;241m=\u001b[39m[\u001b[38;5;124m'\u001b[39m\u001b[38;5;124mcountry\u001b[39m\u001b[38;5;124m'\u001b[39m,\u001b[38;5;124m'\u001b[39m\u001b[38;5;124mcity\u001b[39m\u001b[38;5;124m'\u001b[39m], aggfunc\u001b[38;5;241m=\u001b[39m[np\u001b[38;5;241m.\u001b[39mmax,np\u001b[38;5;241m.\u001b[39mmin])\n\u001b[0;32m      3\u001b[0m temp_pt\u001b[38;5;241m.\u001b[39mcolumns \u001b[38;5;241m=\u001b[39m [\u001b[38;5;124m'\u001b[39m\u001b[38;5;124mmax_temp\u001b[39m\u001b[38;5;124m'\u001b[39m, \u001b[38;5;124m'\u001b[39m\u001b[38;5;124mmin_temp\u001b[39m\u001b[38;5;124m'\u001b[39m]\n\u001b[1;32m----> 4\u001b[0m temp_pt[\u001b[38;5;124m'\u001b[39m\u001b[38;5;124mtemp_range\u001b[39m\u001b[38;5;124m'\u001b[39m] \u001b[38;5;241m=\u001b[39m \u001b[43mtemp_pt\u001b[49m\u001b[43m[\u001b[49m\u001b[38;5;124;43m'\u001b[39;49m\u001b[38;5;124;43mamax\u001b[39;49m\u001b[38;5;124;43m'\u001b[39;49m\u001b[43m]\u001b[49m \u001b[38;5;241m-\u001b[39m temp_pt[\u001b[38;5;124m'\u001b[39m\u001b[38;5;124mamin\u001b[39m\u001b[38;5;124m'\u001b[39m]\n\u001b[0;32m      5\u001b[0m temp_pt\u001b[38;5;241m.\u001b[39msort_values(\u001b[38;5;124m'\u001b[39m\u001b[38;5;124mtemp_range\u001b[39m\u001b[38;5;124m'\u001b[39m, ascending\u001b[38;5;241m=\u001b[39m\u001b[38;5;28;01mFalse\u001b[39;00m)\u001b[38;5;241m.\u001b[39mhead(\u001b[38;5;241m20\u001b[39m)\n",
      "File \u001b[1;32m~\\anaconda3\\lib\\site-packages\\pandas\\core\\frame.py:3807\u001b[0m, in \u001b[0;36mDataFrame.__getitem__\u001b[1;34m(self, key)\u001b[0m\n\u001b[0;32m   3805\u001b[0m \u001b[38;5;28;01mif\u001b[39;00m \u001b[38;5;28mself\u001b[39m\u001b[38;5;241m.\u001b[39mcolumns\u001b[38;5;241m.\u001b[39mnlevels \u001b[38;5;241m>\u001b[39m \u001b[38;5;241m1\u001b[39m:\n\u001b[0;32m   3806\u001b[0m     \u001b[38;5;28;01mreturn\u001b[39;00m \u001b[38;5;28mself\u001b[39m\u001b[38;5;241m.\u001b[39m_getitem_multilevel(key)\n\u001b[1;32m-> 3807\u001b[0m indexer \u001b[38;5;241m=\u001b[39m \u001b[38;5;28;43mself\u001b[39;49m\u001b[38;5;241;43m.\u001b[39;49m\u001b[43mcolumns\u001b[49m\u001b[38;5;241;43m.\u001b[39;49m\u001b[43mget_loc\u001b[49m\u001b[43m(\u001b[49m\u001b[43mkey\u001b[49m\u001b[43m)\u001b[49m\n\u001b[0;32m   3808\u001b[0m \u001b[38;5;28;01mif\u001b[39;00m is_integer(indexer):\n\u001b[0;32m   3809\u001b[0m     indexer \u001b[38;5;241m=\u001b[39m [indexer]\n",
      "File \u001b[1;32m~\\anaconda3\\lib\\site-packages\\pandas\\core\\indexes\\base.py:3804\u001b[0m, in \u001b[0;36mIndex.get_loc\u001b[1;34m(self, key, method, tolerance)\u001b[0m\n\u001b[0;32m   3802\u001b[0m     \u001b[38;5;28;01mreturn\u001b[39;00m \u001b[38;5;28mself\u001b[39m\u001b[38;5;241m.\u001b[39m_engine\u001b[38;5;241m.\u001b[39mget_loc(casted_key)\n\u001b[0;32m   3803\u001b[0m \u001b[38;5;28;01mexcept\u001b[39;00m \u001b[38;5;167;01mKeyError\u001b[39;00m \u001b[38;5;28;01mas\u001b[39;00m err:\n\u001b[1;32m-> 3804\u001b[0m     \u001b[38;5;28;01mraise\u001b[39;00m \u001b[38;5;167;01mKeyError\u001b[39;00m(key) \u001b[38;5;28;01mfrom\u001b[39;00m \u001b[38;5;21;01merr\u001b[39;00m\n\u001b[0;32m   3805\u001b[0m \u001b[38;5;28;01mexcept\u001b[39;00m \u001b[38;5;167;01mTypeError\u001b[39;00m:\n\u001b[0;32m   3806\u001b[0m     \u001b[38;5;66;03m# If we have a listlike key, _check_indexing_error will raise\u001b[39;00m\n\u001b[0;32m   3807\u001b[0m     \u001b[38;5;66;03m#  InvalidIndexError. Otherwise we fall through and re-raise\u001b[39;00m\n\u001b[0;32m   3808\u001b[0m     \u001b[38;5;66;03m#  the TypeError.\u001b[39;00m\n\u001b[0;32m   3809\u001b[0m     \u001b[38;5;28mself\u001b[39m\u001b[38;5;241m.\u001b[39m_check_indexing_error(key)\n",
      "\u001b[1;31mKeyError\u001b[0m: 'amax'"
     ]
    }
   ],
   "source": [
    "temp_pt_yr = temp[(temp['year'] >= '2003') & (temp['year'] <= '2008')]\n",
    "temp_pt = temp_pt_yr.pivot_table('avg_temp_c', index=['country','city'], aggfunc=[np.max,np.min])\n",
    "temp_pt.columns = ['max_temp', 'min_temp']\n",
    "temp_pt['temp_range'] = temp_pt['ama'] - temp_pt['amin']\n",
    "temp_pt.sort_values('temp_range', ascending=False).head(20)"
   ]
  },
  {
   "cell_type": "markdown",
   "id": "fbd7096e",
   "metadata": {},
   "source": [
    "## 5•  Seasonal Temperature Variations:\n",
    "\tExtract data for the months of June, July, and August for the years 2000 to 2010. Determine which city had the highest average summer temperature and provide the details.\n"
   ]
  },
  {
   "cell_type": "markdown",
   "id": "73145872",
   "metadata": {},
   "source": [
    "## 6•  Multi-Level Index Analysis:\n",
    "\tSet a multi-level index with 'country' and 'city'. Slice the data to get temperature records for 'Australia' and 'Brazil' for the years 2001 to 2005. Calculate the average temperature for each city in these countries during this period.\n"
   ]
  },
  {
   "cell_type": "markdown",
   "id": "d74e4973",
   "metadata": {},
   "source": [
    "## 7•  Date-Based Slicing:\n",
    "\tThe dataset is indexed by date. Slice the data to extract temperatures for the period from '2007-01-01' to '2009-12-31'. Identify the city with the lowest recorded temperature within this date range and provide the details.\n"
   ]
  },
  {
   "cell_type": "markdown",
   "id": "7652f9ae",
   "metadata": {},
   "source": [
    "## 8•  Temperature Extremes:\n",
    "\tFind the cities that recorded temperatures below 10°C or above 35°C at any point in the dataset. Create a list of these cities along with the respective minimum and maximum temperatures recorded.\n"
   ]
  },
  {
   "cell_type": "markdown",
   "id": "5186755f",
   "metadata": {},
   "source": [
    "## 9•  Pivot Table with Missing Values:\n",
    "\tCreate a pivot table to find the average temperature for each city in 'United States' and 'Canada' for each year from 2000 to 2010. Fill any missing values with the overall average temperature of the respective country.\n"
   ]
  },
  {
   "cell_type": "markdown",
   "id": "a4482870",
   "metadata": {},
   "source": [
    "## 10•  Historical Temperature Comparison:\n",
    "\tCompare the average temperatures of 'London' and 'New York' for each year from 2000 to 2012. Identify the year in which the difference in average temperature between these two cities was the greatest and provide the details."
   ]
  },
  {
   "cell_type": "code",
   "execution_count": null,
   "id": "a3cb0aa2",
   "metadata": {},
   "outputs": [],
   "source": []
  },
  {
   "cell_type": "code",
   "execution_count": null,
   "id": "596a8869",
   "metadata": {},
   "outputs": [],
   "source": []
  }
 ],
 "metadata": {
  "kernelspec": {
   "display_name": "Python 3 (ipykernel)",
   "language": "python",
   "name": "python3"
  },
  "language_info": {
   "codemirror_mode": {
    "name": "ipython",
    "version": 3
   },
   "file_extension": ".py",
   "mimetype": "text/x-python",
   "name": "python",
   "nbconvert_exporter": "python",
   "pygments_lexer": "ipython3",
   "version": "3.10.9"
  }
 },
 "nbformat": 4,
 "nbformat_minor": 5
}
