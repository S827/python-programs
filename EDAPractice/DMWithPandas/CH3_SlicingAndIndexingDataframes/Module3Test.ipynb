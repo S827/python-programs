{
 "cells": [
  {
   "cell_type": "markdown",
   "id": "d9b0bbae",
   "metadata": {},
   "source": [
    "# TEST ON SLICING AND INDEXING DATAFRAMES"
   ]
  },
  {
   "cell_type": "code",
   "execution_count": 2,
   "id": "cd0375c2",
   "metadata": {},
   "outputs": [
    {
     "data": {
      "text/html": [
       "<div>\n",
       "<style scoped>\n",
       "    .dataframe tbody tr th:only-of-type {\n",
       "        vertical-align: middle;\n",
       "    }\n",
       "\n",
       "    .dataframe tbody tr th {\n",
       "        vertical-align: top;\n",
       "    }\n",
       "\n",
       "    .dataframe thead th {\n",
       "        text-align: right;\n",
       "    }\n",
       "</style>\n",
       "<table border=\"1\" class=\"dataframe\">\n",
       "  <thead>\n",
       "    <tr style=\"text-align: right;\">\n",
       "      <th></th>\n",
       "      <th>date</th>\n",
       "      <th>city</th>\n",
       "      <th>country</th>\n",
       "      <th>avg_temp_c</th>\n",
       "    </tr>\n",
       "  </thead>\n",
       "  <tbody>\n",
       "    <tr>\n",
       "      <th>0</th>\n",
       "      <td>2000-01-01</td>\n",
       "      <td>Abidjan</td>\n",
       "      <td>Côte D'Ivoire</td>\n",
       "      <td>27.293</td>\n",
       "    </tr>\n",
       "    <tr>\n",
       "      <th>1</th>\n",
       "      <td>2000-02-01</td>\n",
       "      <td>Abidjan</td>\n",
       "      <td>Côte D'Ivoire</td>\n",
       "      <td>27.685</td>\n",
       "    </tr>\n",
       "    <tr>\n",
       "      <th>2</th>\n",
       "      <td>2000-03-01</td>\n",
       "      <td>Abidjan</td>\n",
       "      <td>Côte D'Ivoire</td>\n",
       "      <td>29.061</td>\n",
       "    </tr>\n",
       "    <tr>\n",
       "      <th>3</th>\n",
       "      <td>2000-04-01</td>\n",
       "      <td>Abidjan</td>\n",
       "      <td>Côte D'Ivoire</td>\n",
       "      <td>28.162</td>\n",
       "    </tr>\n",
       "    <tr>\n",
       "      <th>4</th>\n",
       "      <td>2000-05-01</td>\n",
       "      <td>Abidjan</td>\n",
       "      <td>Côte D'Ivoire</td>\n",
       "      <td>27.547</td>\n",
       "    </tr>\n",
       "  </tbody>\n",
       "</table>\n",
       "</div>"
      ],
      "text/plain": [
       "         date     city        country  avg_temp_c\n",
       "0  2000-01-01  Abidjan  Côte D'Ivoire      27.293\n",
       "1  2000-02-01  Abidjan  Côte D'Ivoire      27.685\n",
       "2  2000-03-01  Abidjan  Côte D'Ivoire      29.061\n",
       "3  2000-04-01  Abidjan  Côte D'Ivoire      28.162\n",
       "4  2000-05-01  Abidjan  Côte D'Ivoire      27.547"
      ]
     },
     "execution_count": 2,
     "metadata": {},
     "output_type": "execute_result"
    }
   ],
   "source": [
    "import pandas as pd\n",
    "import numpy as np\n",
    "temp = pd.read_csv('../../temperatures.csv', index_col=0)\n",
    "temp.head()"
   ]
  },
  {
   "cell_type": "markdown",
   "id": "0413755d",
   "metadata": {},
   "source": [
    "## 1•  City Temperature Analysis:\n",
    "\tCreate an analysis to find the average temperature for each city across different years. Filter the results to show only the cities with an average temperature above 25°C from 2000 to 2010.\n",
    "\n"
   ]
  },
  {
   "cell_type": "markdown",
   "id": "efdb203a",
   "metadata": {},
   "source": [
    "## 2•  Country-Based Temperature Trends:\n",
    "\tIdentify the cities in 'India' and 'China' and calculate the mean temperature for these cities from 2005 to 2012. Compare the results and determine which country had a higher average temperature during this period.\n"
   ]
  },
  {
   "cell_type": "markdown",
   "id": "397fb2e1",
   "metadata": {},
   "source": [
    "## 3•  Maximum Temperature Comparison:\n",
    "\tFind the maximum temperature recorded for each city and then subset the data to include only the top 5 cities with the highest maximum temperatures. List these cities and their corresponding maximum temperatures.\n"
   ]
  },
  {
   "cell_type": "markdown",
   "id": "3058c68d",
   "metadata": {},
   "source": [
    "## 4•  Yearly Temperature Range:\n",
    "\tCreate a pivot table to show the range (difference between maximum and minimum) of temperatures for each city for the years 2003 to 2008. Identify the city with the highest range of temperatures.\n"
   ]
  },
  {
   "cell_type": "markdown",
   "id": "60d01059",
   "metadata": {},
   "source": [
    "## 5•  Seasonal Temperature Variations:\n",
    "\tExtract data for the months of June, July, and August for the years 2000 to 2010. Determine which city had the highest average summer temperature and provide the details.\n"
   ]
  },
  {
   "cell_type": "markdown",
   "id": "e0483893",
   "metadata": {},
   "source": [
    "## 6•  Multi-Level Index Analysis:\n",
    "\tSet a multi-level index with 'country' and 'city'. Slice the data to get temperature records for 'Australia' and 'Brazil' for the years 2001 to 2005. Calculate the average temperature for each city in these countries during this period.\n"
   ]
  },
  {
   "cell_type": "markdown",
   "id": "007d7417",
   "metadata": {},
   "source": [
    "## 7•  Date-Based Slicing:\n",
    "\tThe dataset is indexed by date. Slice the data to extract temperatures for the period from '2007-01-01' to '2009-12-31'. Identify the city with the lowest recorded temperature within this date range and provide the details.\n"
   ]
  },
  {
   "cell_type": "markdown",
   "id": "23ac5833",
   "metadata": {},
   "source": [
    "## 8•  Temperature Extremes:\n",
    "\tFind the cities that recorded temperatures below 10°C or above 35°C at any point in the dataset. Create a list of these cities along with the respective minimum and maximum temperatures recorded.\n"
   ]
  },
  {
   "cell_type": "markdown",
   "id": "f35b91c6",
   "metadata": {},
   "source": [
    "## 9•  Pivot Table with Missing Values:\n",
    "\tCreate a pivot table to find the average temperature for each city in 'United States' and 'Canada' for each year from 2000 to 2010. Fill any missing values with the overall average temperature of the respective country.\n"
   ]
  },
  {
   "cell_type": "markdown",
   "id": "4074bc36",
   "metadata": {},
   "source": [
    "## 10•  Historical Temperature Comparison:\n",
    "\tCompare the average temperatures of 'London' and 'New York' for each year from 2000 to 2012. Identify the year in which the difference in average temperature between these two cities was the greatest and provide the details."
   ]
  },
  {
   "cell_type": "code",
   "execution_count": null,
   "id": "1baad7bf",
   "metadata": {},
   "outputs": [],
   "source": []
  },
  {
   "cell_type": "code",
   "execution_count": null,
   "id": "78464a8a",
   "metadata": {},
   "outputs": [],
   "source": []
  }
 ],
 "metadata": {
  "kernelspec": {
   "display_name": "Python 3 (ipykernel)",
   "language": "python",
   "name": "python3"
  },
  "language_info": {
   "codemirror_mode": {
    "name": "ipython",
    "version": 3
   },
   "file_extension": ".py",
   "mimetype": "text/x-python",
   "name": "python",
   "nbconvert_exporter": "python",
   "pygments_lexer": "ipython3",
   "version": "3.10.9"
  }
 },
 "nbformat": 4,
 "nbformat_minor": 5
}
