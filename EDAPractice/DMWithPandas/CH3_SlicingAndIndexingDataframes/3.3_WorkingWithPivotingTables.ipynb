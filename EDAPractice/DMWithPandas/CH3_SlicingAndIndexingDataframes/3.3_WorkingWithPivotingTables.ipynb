{
 "cells": [
  {
   "cell_type": "markdown",
   "id": "cd00d5b1",
   "metadata": {},
   "source": [
    "# Working with Pivot Tables\n"
   ]
  },
  {
   "cell_type": "code",
   "execution_count": 3,
   "id": "ae7408c9",
   "metadata": {},
   "outputs": [],
   "source": [
    "import pandas as pd\n",
    "import numpy as np"
   ]
  },
  {
   "cell_type": "code",
   "execution_count": 4,
   "id": "b4a8cdf7",
   "metadata": {},
   "outputs": [
    {
     "data": {
      "text/html": [
       "<div>\n",
       "<style scoped>\n",
       "    .dataframe tbody tr th:only-of-type {\n",
       "        vertical-align: middle;\n",
       "    }\n",
       "\n",
       "    .dataframe tbody tr th {\n",
       "        vertical-align: top;\n",
       "    }\n",
       "\n",
       "    .dataframe thead th {\n",
       "        text-align: right;\n",
       "    }\n",
       "</style>\n",
       "<table border=\"1\" class=\"dataframe\">\n",
       "  <thead>\n",
       "    <tr style=\"text-align: right;\">\n",
       "      <th></th>\n",
       "      <th>date</th>\n",
       "      <th>city</th>\n",
       "      <th>country</th>\n",
       "      <th>avg_temp_c</th>\n",
       "    </tr>\n",
       "  </thead>\n",
       "  <tbody>\n",
       "    <tr>\n",
       "      <th>0</th>\n",
       "      <td>2000-01-01</td>\n",
       "      <td>Abidjan</td>\n",
       "      <td>Côte D'Ivoire</td>\n",
       "      <td>27.293</td>\n",
       "    </tr>\n",
       "    <tr>\n",
       "      <th>1</th>\n",
       "      <td>2000-02-01</td>\n",
       "      <td>Abidjan</td>\n",
       "      <td>Côte D'Ivoire</td>\n",
       "      <td>27.685</td>\n",
       "    </tr>\n",
       "    <tr>\n",
       "      <th>2</th>\n",
       "      <td>2000-03-01</td>\n",
       "      <td>Abidjan</td>\n",
       "      <td>Côte D'Ivoire</td>\n",
       "      <td>29.061</td>\n",
       "    </tr>\n",
       "    <tr>\n",
       "      <th>3</th>\n",
       "      <td>2000-04-01</td>\n",
       "      <td>Abidjan</td>\n",
       "      <td>Côte D'Ivoire</td>\n",
       "      <td>28.162</td>\n",
       "    </tr>\n",
       "    <tr>\n",
       "      <th>4</th>\n",
       "      <td>2000-05-01</td>\n",
       "      <td>Abidjan</td>\n",
       "      <td>Côte D'Ivoire</td>\n",
       "      <td>27.547</td>\n",
       "    </tr>\n",
       "  </tbody>\n",
       "</table>\n",
       "</div>"
      ],
      "text/plain": [
       "         date     city        country  avg_temp_c\n",
       "0  2000-01-01  Abidjan  Côte D'Ivoire      27.293\n",
       "1  2000-02-01  Abidjan  Côte D'Ivoire      27.685\n",
       "2  2000-03-01  Abidjan  Côte D'Ivoire      29.061\n",
       "3  2000-04-01  Abidjan  Côte D'Ivoire      28.162\n",
       "4  2000-05-01  Abidjan  Côte D'Ivoire      27.547"
      ]
     },
     "execution_count": 4,
     "metadata": {},
     "output_type": "execute_result"
    }
   ],
   "source": [
    "temp = pd.read_csv('../../temperatures.csv', index_col=0)\n",
    "temp.head()"
   ]
  },
  {
   "cell_type": "markdown",
   "id": "eae13721",
   "metadata": {},
   "source": [
    "## 1.\tPivoting the Data Frame:\n",
    "\tCreate a pivot table to find the average temperature for each city across different years. Use date as columns and city as index.\n",
    "\n"
   ]
  },
  {
   "cell_type": "code",
   "execution_count": null,
   "id": "52692782",
   "metadata": {},
   "outputs": [],
   "source": []
  },
  {
   "cell_type": "markdown",
   "id": "491a5b88",
   "metadata": {},
   "source": [
    "## 2.\t.loc[] + Slicing:\n",
    "\tUsing the pivot table created in the previous question, slice the data to get the average temperatures for cities from 2005 to 2010.\n"
   ]
  },
  {
   "cell_type": "markdown",
   "id": "cd509c36",
   "metadata": {},
   "source": [
    "## 3.\tAxis Argument:\n",
    "\tCalculate the mean temperature across different cities for each year.\n",
    "\tCalculate the mean temperature for each city across all years.\n"
   ]
  },
  {
   "cell_type": "markdown",
   "id": "36dd572b",
   "metadata": {},
   "source": [
    "## Specific Questions\n"
   ]
  },
  {
   "cell_type": "markdown",
   "id": "16cb5ea5",
   "metadata": {},
   "source": [
    "## 4. \tPivot Table:\n",
    "\tCreate a pivot table to find the maximum temperature recorded for each city in each country. Use city as index and country as columns.\n"
   ]
  },
  {
   "cell_type": "markdown",
   "id": "0e48cccb",
   "metadata": {},
   "source": [
    "## 5. \tSlicing:\n",
    "\tFrom the pivot table in the previous question, slice the data to get the maximum temperatures recorded in Brazil and Australia.\n",
    "\n"
   ]
  },
  {
   "cell_type": "markdown",
   "id": "847741ed",
   "metadata": {},
   "source": [
    "## 6. \tAxis Argument:\n",
    "\tCalculate the sum of temperatures across different cities for each year from the pivot table created in the first question.\n",
    "\tCalculate the sum of temperatures for each city across all years from the pivot table created in the first question."
   ]
  },
  {
   "cell_type": "markdown",
   "id": "1efdb948",
   "metadata": {},
   "source": []
  }
 ],
 "metadata": {
  "kernelspec": {
   "display_name": "Python 3 (ipykernel)",
   "language": "python",
   "name": "python3"
  },
  "language_info": {
   "codemirror_mode": {
    "name": "ipython",
    "version": 3
   },
   "file_extension": ".py",
   "mimetype": "text/x-python",
   "name": "python",
   "nbconvert_exporter": "python",
   "pygments_lexer": "ipython3",
   "version": "3.10.9"
  }
 },
 "nbformat": 4,
 "nbformat_minor": 5
}
