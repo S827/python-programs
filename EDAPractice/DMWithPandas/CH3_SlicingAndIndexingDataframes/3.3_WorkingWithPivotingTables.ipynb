{
 "cells": [
  {
   "cell_type": "markdown",
   "id": "509843a4",
   "metadata": {},
   "source": [
    "# Working with Pivot Tables\n"
   ]
  },
  {
   "cell_type": "markdown",
   "id": "dea3e15f",
   "metadata": {},
   "source": [
    "## 1.\tPivoting the Data Frame:\n",
    "\tCreate a pivot table to find the average temperature for each city across different years. Use date as columns and city as index.\n",
    "\n"
   ]
  },
  {
   "cell_type": "markdown",
   "id": "a211cf05",
   "metadata": {},
   "source": [
    "## 2.\t.loc[] + Slicing:\n",
    "\tUsing the pivot table created in the previous question, slice the data to get the average temperatures for cities from 2005 to 2010.\n"
   ]
  },
  {
   "cell_type": "markdown",
   "id": "2641ba7d",
   "metadata": {},
   "source": [
    "## 3.\tAxis Argument:\n",
    "\tCalculate the mean temperature across different cities for each year.\n",
    "\tCalculate the mean temperature for each city across all years.\n"
   ]
  },
  {
   "cell_type": "markdown",
   "id": "6480c825",
   "metadata": {},
   "source": [
    "## Specific Questions\n"
   ]
  },
  {
   "cell_type": "markdown",
   "id": "44e39249",
   "metadata": {},
   "source": [
    "## 4. \tPivot Table:\n",
    "\tCreate a pivot table to find the maximum temperature recorded for each city in each country. Use city as index and country as columns.\n"
   ]
  },
  {
   "cell_type": "markdown",
   "id": "d911c0ea",
   "metadata": {},
   "source": [
    "## 5. \tSlicing:\n",
    "\tFrom the pivot table in the previous question, slice the data to get the maximum temperatures recorded in Brazil and Australia.\n",
    "\n"
   ]
  },
  {
   "cell_type": "markdown",
   "id": "2f90503d",
   "metadata": {},
   "source": [
    "## 6. \tAxis Argument:\n",
    "\tCalculate the sum of temperatures across different cities for each year from the pivot table created in the first question.\n",
    "\tCalculate the sum of temperatures for each city across all years from the pivot table created in the first question."
   ]
  },
  {
   "cell_type": "markdown",
   "id": "da8e535b",
   "metadata": {},
   "source": []
  }
 ],
 "metadata": {
  "kernelspec": {
   "display_name": "Python 3 (ipykernel)",
   "language": "python",
   "name": "python3"
  },
  "language_info": {
   "codemirror_mode": {
    "name": "ipython",
    "version": 3
   },
   "file_extension": ".py",
   "mimetype": "text/x-python",
   "name": "python",
   "nbconvert_exporter": "python",
   "pygments_lexer": "ipython3",
   "version": "3.10.9"
  }
 },
 "nbformat": 4,
 "nbformat_minor": 5
}
