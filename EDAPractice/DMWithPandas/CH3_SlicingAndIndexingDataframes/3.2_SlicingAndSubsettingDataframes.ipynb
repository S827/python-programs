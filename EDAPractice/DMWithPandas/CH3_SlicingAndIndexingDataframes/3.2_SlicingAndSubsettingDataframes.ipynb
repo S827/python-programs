{
 "cells": [
  {
   "cell_type": "markdown",
   "id": "4ac268b0",
   "metadata": {},
   "source": [
    "# Slicing and Subsetting with .loc and .iloc"
   ]
  },
  {
   "cell_type": "code",
   "execution_count": 1,
   "id": "54d5503d",
   "metadata": {},
   "outputs": [
    {
     "data": {
      "text/html": [
       "<div>\n",
       "<style scoped>\n",
       "    .dataframe tbody tr th:only-of-type {\n",
       "        vertical-align: middle;\n",
       "    }\n",
       "\n",
       "    .dataframe tbody tr th {\n",
       "        vertical-align: top;\n",
       "    }\n",
       "\n",
       "    .dataframe thead th {\n",
       "        text-align: right;\n",
       "    }\n",
       "</style>\n",
       "<table border=\"1\" class=\"dataframe\">\n",
       "  <thead>\n",
       "    <tr style=\"text-align: right;\">\n",
       "      <th></th>\n",
       "      <th>date</th>\n",
       "      <th>city</th>\n",
       "      <th>country</th>\n",
       "      <th>avg_temp_c</th>\n",
       "    </tr>\n",
       "  </thead>\n",
       "  <tbody>\n",
       "    <tr>\n",
       "      <th>0</th>\n",
       "      <td>2000-01-01</td>\n",
       "      <td>Abidjan</td>\n",
       "      <td>Côte D'Ivoire</td>\n",
       "      <td>27.293</td>\n",
       "    </tr>\n",
       "    <tr>\n",
       "      <th>1</th>\n",
       "      <td>2000-02-01</td>\n",
       "      <td>Abidjan</td>\n",
       "      <td>Côte D'Ivoire</td>\n",
       "      <td>27.685</td>\n",
       "    </tr>\n",
       "    <tr>\n",
       "      <th>2</th>\n",
       "      <td>2000-03-01</td>\n",
       "      <td>Abidjan</td>\n",
       "      <td>Côte D'Ivoire</td>\n",
       "      <td>29.061</td>\n",
       "    </tr>\n",
       "    <tr>\n",
       "      <th>3</th>\n",
       "      <td>2000-04-01</td>\n",
       "      <td>Abidjan</td>\n",
       "      <td>Côte D'Ivoire</td>\n",
       "      <td>28.162</td>\n",
       "    </tr>\n",
       "    <tr>\n",
       "      <th>4</th>\n",
       "      <td>2000-05-01</td>\n",
       "      <td>Abidjan</td>\n",
       "      <td>Côte D'Ivoire</td>\n",
       "      <td>27.547</td>\n",
       "    </tr>\n",
       "  </tbody>\n",
       "</table>\n",
       "</div>"
      ],
      "text/plain": [
       "         date     city        country  avg_temp_c\n",
       "0  2000-01-01  Abidjan  Côte D'Ivoire      27.293\n",
       "1  2000-02-01  Abidjan  Côte D'Ivoire      27.685\n",
       "2  2000-03-01  Abidjan  Côte D'Ivoire      29.061\n",
       "3  2000-04-01  Abidjan  Côte D'Ivoire      28.162\n",
       "4  2000-05-01  Abidjan  Côte D'Ivoire      27.547"
      ]
     },
     "execution_count": 1,
     "metadata": {},
     "output_type": "execute_result"
    }
   ],
   "source": [
    "import pandas as pd\n",
    "import numpy as np\n",
    "temperature = pd.read_csv('../../temperatures.csv', index_col=0)\n",
    "temperature.head()"
   ]
  },
  {
   "cell_type": "markdown",
   "id": "ef052042",
   "metadata": {},
   "source": [
    "### 1. Slicing Lists:\n",
    "\n",
    "Extract the temperature data for the first five entries using .iloc."
   ]
  },
  {
   "cell_type": "markdown",
   "id": "38801113",
   "metadata": {},
   "source": [
    "### 2. Slicing Outer Index Level:\n",
    "\n",
    "Set the 'date' column as the index and then slice the data to get temperatures from January 1, 2000, to March 1, 2000."
   ]
  },
  {
   "cell_type": "markdown",
   "id": "edc61263",
   "metadata": {},
   "source": [
    "\n",
    "### 3. Slicing Inner Index Level:\n",
    "\n",
    "Set a multi-level index with 'country' and 'city' and slice the data to get temperatures for a range of countries and cities."
   ]
  },
  {
   "cell_type": "markdown",
   "id": "e5811124",
   "metadata": {},
   "source": [
    "### 4. Slicing Rows and Columns:\n",
    "\n",
    "Set a multi-level index with 'country' and 'city' and slice the data to get temperatures for specific countries and cities while selecting only the 'avg_temp_c' column."
   ]
  },
  {
   "cell_type": "markdown",
   "id": "4ed1238c",
   "metadata": {},
   "source": [
    "### 5. Slicing Dates:\n",
    "\n",
    "Set the 'date' column as the index and slice the data to get temperatures from August 25, 2014, to September 16, 2016."
   ]
  },
  {
   "cell_type": "markdown",
   "id": "34b2fb0f",
   "metadata": {},
   "source": [
    "### 6. Slicing by Partial Dates:\n",
    "\n",
    "Set the 'date' column as the index and slice the data to get temperatures for the years 2016 to 2018."
   ]
  },
  {
   "cell_type": "markdown",
   "id": "2b7362b6",
   "metadata": {},
   "source": [
    "### 7. Subsetting by Row/Column Number:\n",
    "\n",
    "Use .iloc to extract a subset of rows and columns, specifically rows 2 to 5 and columns 1 to 4."
   ]
  },
  {
   "cell_type": "markdown",
   "id": "ddc40620",
   "metadata": {},
   "source": [
    "## Challenge Tasks"
   ]
  },
  {
   "cell_type": "markdown",
   "id": "2c706dae",
   "metadata": {},
   "source": [
    "### 8. Combination Slicing:\n",
    "\n",
    "Set a multi-level index with 'country' and 'city', then slice the data to get temperatures for 'Côte D'Ivoire' from January to March 2000."
   ]
  },
  {
   "cell_type": "markdown",
   "id": "1e606da7",
   "metadata": {},
   "source": [
    "### 9. Date Range Filtering:\n",
    "\n",
    "Filter the dataset to include only temperatures recorded in the year 2005."
   ]
  },
  {
   "cell_type": "markdown",
   "id": "3e9d3878",
   "metadata": {},
   "source": [
    "### 10. Multi-Level Indexing with Specific Rows and Columns:\n",
    "\n",
    "Set a multi-level index with 'country' and 'city', then slice to get temperatures for 'Côte D'Ivoire' and 'Abidjan' for specific date ranges while selecting only the 'avg_temp_c' column."
   ]
  },
  {
   "cell_type": "markdown",
   "id": "fd6cadb1",
   "metadata": {},
   "source": []
  }
 ],
 "metadata": {
  "kernelspec": {
   "display_name": "Python 3 (ipykernel)",
   "language": "python",
   "name": "python3"
  },
  "language_info": {
   "codemirror_mode": {
    "name": "ipython",
    "version": 3
   },
   "file_extension": ".py",
   "mimetype": "text/x-python",
   "name": "python",
   "nbconvert_exporter": "python",
   "pygments_lexer": "ipython3",
   "version": "3.10.9"
  }
 },
 "nbformat": 4,
 "nbformat_minor": 5
}
