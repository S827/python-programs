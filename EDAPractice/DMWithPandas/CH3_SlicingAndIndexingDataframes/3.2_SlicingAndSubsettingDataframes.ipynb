{
 "cells": [
  {
   "cell_type": "markdown",
   "id": "0cc35b47",
   "metadata": {},
   "source": [
    "# Slicing and Subsetting with .loc and .iloc"
   ]
  },
  {
   "cell_type": "code",
   "execution_count": 1,
   "id": "dc779bd5",
   "metadata": {},
   "outputs": [
    {
     "data": {
      "text/html": [
       "<div>\n",
       "<style scoped>\n",
       "    .dataframe tbody tr th:only-of-type {\n",
       "        vertical-align: middle;\n",
       "    }\n",
       "\n",
       "    .dataframe tbody tr th {\n",
       "        vertical-align: top;\n",
       "    }\n",
       "\n",
       "    .dataframe thead th {\n",
       "        text-align: right;\n",
       "    }\n",
       "</style>\n",
       "<table border=\"1\" class=\"dataframe\">\n",
       "  <thead>\n",
       "    <tr style=\"text-align: right;\">\n",
       "      <th></th>\n",
       "      <th>date</th>\n",
       "      <th>city</th>\n",
       "      <th>country</th>\n",
       "      <th>avg_temp_c</th>\n",
       "    </tr>\n",
       "  </thead>\n",
       "  <tbody>\n",
       "    <tr>\n",
       "      <th>0</th>\n",
       "      <td>2000-01-01</td>\n",
       "      <td>Abidjan</td>\n",
       "      <td>Côte D'Ivoire</td>\n",
       "      <td>27.293</td>\n",
       "    </tr>\n",
       "    <tr>\n",
       "      <th>1</th>\n",
       "      <td>2000-02-01</td>\n",
       "      <td>Abidjan</td>\n",
       "      <td>Côte D'Ivoire</td>\n",
       "      <td>27.685</td>\n",
       "    </tr>\n",
       "    <tr>\n",
       "      <th>2</th>\n",
       "      <td>2000-03-01</td>\n",
       "      <td>Abidjan</td>\n",
       "      <td>Côte D'Ivoire</td>\n",
       "      <td>29.061</td>\n",
       "    </tr>\n",
       "    <tr>\n",
       "      <th>3</th>\n",
       "      <td>2000-04-01</td>\n",
       "      <td>Abidjan</td>\n",
       "      <td>Côte D'Ivoire</td>\n",
       "      <td>28.162</td>\n",
       "    </tr>\n",
       "    <tr>\n",
       "      <th>4</th>\n",
       "      <td>2000-05-01</td>\n",
       "      <td>Abidjan</td>\n",
       "      <td>Côte D'Ivoire</td>\n",
       "      <td>27.547</td>\n",
       "    </tr>\n",
       "  </tbody>\n",
       "</table>\n",
       "</div>"
      ],
      "text/plain": [
       "         date     city        country  avg_temp_c\n",
       "0  2000-01-01  Abidjan  Côte D'Ivoire      27.293\n",
       "1  2000-02-01  Abidjan  Côte D'Ivoire      27.685\n",
       "2  2000-03-01  Abidjan  Côte D'Ivoire      29.061\n",
       "3  2000-04-01  Abidjan  Côte D'Ivoire      28.162\n",
       "4  2000-05-01  Abidjan  Côte D'Ivoire      27.547"
      ]
     },
     "execution_count": 1,
     "metadata": {},
     "output_type": "execute_result"
    }
   ],
   "source": [
    "import pandas as pd\n",
    "import numpy as np\n",
    "temperature = pd.read_csv('../../temperatures.csv', index_col=0)\n",
    "temperature.head()"
   ]
  },
  {
   "cell_type": "markdown",
   "id": "ecd1797d",
   "metadata": {},
   "source": [
    "### 1. Slicing Lists:\n",
    "\n",
    "Extract the temperature data for the first five entries using .iloc."
   ]
  },
  {
   "cell_type": "code",
   "execution_count": 2,
   "id": "a8186d8e",
   "metadata": {},
   "outputs": [
    {
     "data": {
      "text/html": [
       "<div>\n",
       "<style scoped>\n",
       "    .dataframe tbody tr th:only-of-type {\n",
       "        vertical-align: middle;\n",
       "    }\n",
       "\n",
       "    .dataframe tbody tr th {\n",
       "        vertical-align: top;\n",
       "    }\n",
       "\n",
       "    .dataframe thead th {\n",
       "        text-align: right;\n",
       "    }\n",
       "</style>\n",
       "<table border=\"1\" class=\"dataframe\">\n",
       "  <thead>\n",
       "    <tr style=\"text-align: right;\">\n",
       "      <th></th>\n",
       "      <th>date</th>\n",
       "      <th>city</th>\n",
       "      <th>country</th>\n",
       "      <th>avg_temp_c</th>\n",
       "    </tr>\n",
       "  </thead>\n",
       "  <tbody>\n",
       "    <tr>\n",
       "      <th>0</th>\n",
       "      <td>2000-01-01</td>\n",
       "      <td>Abidjan</td>\n",
       "      <td>Côte D'Ivoire</td>\n",
       "      <td>27.293</td>\n",
       "    </tr>\n",
       "    <tr>\n",
       "      <th>1</th>\n",
       "      <td>2000-02-01</td>\n",
       "      <td>Abidjan</td>\n",
       "      <td>Côte D'Ivoire</td>\n",
       "      <td>27.685</td>\n",
       "    </tr>\n",
       "    <tr>\n",
       "      <th>2</th>\n",
       "      <td>2000-03-01</td>\n",
       "      <td>Abidjan</td>\n",
       "      <td>Côte D'Ivoire</td>\n",
       "      <td>29.061</td>\n",
       "    </tr>\n",
       "    <tr>\n",
       "      <th>3</th>\n",
       "      <td>2000-04-01</td>\n",
       "      <td>Abidjan</td>\n",
       "      <td>Côte D'Ivoire</td>\n",
       "      <td>28.162</td>\n",
       "    </tr>\n",
       "    <tr>\n",
       "      <th>4</th>\n",
       "      <td>2000-05-01</td>\n",
       "      <td>Abidjan</td>\n",
       "      <td>Côte D'Ivoire</td>\n",
       "      <td>27.547</td>\n",
       "    </tr>\n",
       "  </tbody>\n",
       "</table>\n",
       "</div>"
      ],
      "text/plain": [
       "         date     city        country  avg_temp_c\n",
       "0  2000-01-01  Abidjan  Côte D'Ivoire      27.293\n",
       "1  2000-02-01  Abidjan  Côte D'Ivoire      27.685\n",
       "2  2000-03-01  Abidjan  Côte D'Ivoire      29.061\n",
       "3  2000-04-01  Abidjan  Côte D'Ivoire      28.162\n",
       "4  2000-05-01  Abidjan  Côte D'Ivoire      27.547"
      ]
     },
     "execution_count": 2,
     "metadata": {},
     "output_type": "execute_result"
    }
   ],
   "source": [
    "temperature.iloc[:5]"
   ]
  },
  {
   "cell_type": "markdown",
   "id": "b50569f2",
   "metadata": {},
   "source": [
    "### 2. Slicing Outer Index Level:\n",
    "\n",
    "Set the 'date' column as the index and then slice the data to get temperatures from January 1, 2000, to March 1, 2000."
   ]
  },
  {
   "cell_type": "code",
   "execution_count": 3,
   "id": "f9a8da04",
   "metadata": {},
   "outputs": [
    {
     "data": {
      "text/html": [
       "<div>\n",
       "<style scoped>\n",
       "    .dataframe tbody tr th:only-of-type {\n",
       "        vertical-align: middle;\n",
       "    }\n",
       "\n",
       "    .dataframe tbody tr th {\n",
       "        vertical-align: top;\n",
       "    }\n",
       "\n",
       "    .dataframe thead th {\n",
       "        text-align: right;\n",
       "    }\n",
       "</style>\n",
       "<table border=\"1\" class=\"dataframe\">\n",
       "  <thead>\n",
       "    <tr style=\"text-align: right;\">\n",
       "      <th></th>\n",
       "      <th>city</th>\n",
       "      <th>country</th>\n",
       "      <th>avg_temp_c</th>\n",
       "    </tr>\n",
       "    <tr>\n",
       "      <th>date</th>\n",
       "      <th></th>\n",
       "      <th></th>\n",
       "      <th></th>\n",
       "    </tr>\n",
       "  </thead>\n",
       "  <tbody>\n",
       "    <tr>\n",
       "      <th>2000-01-01</th>\n",
       "      <td>Abidjan</td>\n",
       "      <td>Côte D'Ivoire</td>\n",
       "      <td>27.293</td>\n",
       "    </tr>\n",
       "    <tr>\n",
       "      <th>2000-01-01</th>\n",
       "      <td>Lahore</td>\n",
       "      <td>Pakistan</td>\n",
       "      <td>12.792</td>\n",
       "    </tr>\n",
       "    <tr>\n",
       "      <th>2000-01-01</th>\n",
       "      <td>Tangshan</td>\n",
       "      <td>China</td>\n",
       "      <td>-5.406</td>\n",
       "    </tr>\n",
       "    <tr>\n",
       "      <th>2000-01-01</th>\n",
       "      <td>Gizeh</td>\n",
       "      <td>Egypt</td>\n",
       "      <td>12.669</td>\n",
       "    </tr>\n",
       "    <tr>\n",
       "      <th>2000-01-01</th>\n",
       "      <td>Lakhnau</td>\n",
       "      <td>India</td>\n",
       "      <td>15.152</td>\n",
       "    </tr>\n",
       "    <tr>\n",
       "      <th>...</th>\n",
       "      <td>...</td>\n",
       "      <td>...</td>\n",
       "      <td>...</td>\n",
       "    </tr>\n",
       "    <tr>\n",
       "      <th>2000-03-01</th>\n",
       "      <td>Shanghai</td>\n",
       "      <td>China</td>\n",
       "      <td>11.015</td>\n",
       "    </tr>\n",
       "    <tr>\n",
       "      <th>2000-03-01</th>\n",
       "      <td>Karachi</td>\n",
       "      <td>Pakistan</td>\n",
       "      <td>25.507</td>\n",
       "    </tr>\n",
       "    <tr>\n",
       "      <th>2000-03-01</th>\n",
       "      <td>Santiago</td>\n",
       "      <td>Chile</td>\n",
       "      <td>9.389</td>\n",
       "    </tr>\n",
       "    <tr>\n",
       "      <th>2000-03-01</th>\n",
       "      <td>New York</td>\n",
       "      <td>United States</td>\n",
       "      <td>6.391</td>\n",
       "    </tr>\n",
       "    <tr>\n",
       "      <th>2000-03-01</th>\n",
       "      <td>Durban</td>\n",
       "      <td>South Africa</td>\n",
       "      <td>23.997</td>\n",
       "    </tr>\n",
       "  </tbody>\n",
       "</table>\n",
       "<p>300 rows × 3 columns</p>\n",
       "</div>"
      ],
      "text/plain": [
       "                city        country  avg_temp_c\n",
       "date                                           \n",
       "2000-01-01   Abidjan  Côte D'Ivoire      27.293\n",
       "2000-01-01    Lahore       Pakistan      12.792\n",
       "2000-01-01  Tangshan          China      -5.406\n",
       "2000-01-01     Gizeh          Egypt      12.669\n",
       "2000-01-01   Lakhnau          India      15.152\n",
       "...              ...            ...         ...\n",
       "2000-03-01  Shanghai          China      11.015\n",
       "2000-03-01   Karachi       Pakistan      25.507\n",
       "2000-03-01  Santiago          Chile       9.389\n",
       "2000-03-01  New York  United States       6.391\n",
       "2000-03-01    Durban   South Africa      23.997\n",
       "\n",
       "[300 rows x 3 columns]"
      ]
     },
     "execution_count": 3,
     "metadata": {},
     "output_type": "execute_result"
    }
   ],
   "source": [
    "temp_ind_date = temperature.set_index('date').sort_index()\n",
    "temp_ind_date.loc['2000-01-01':'2000-03-01']"
   ]
  },
  {
   "cell_type": "markdown",
   "id": "e0dde316",
   "metadata": {},
   "source": [
    "\n",
    "### 3. Slicing Inner Index Level:\n",
    "\n",
    "Set a multi-level index with 'country' and 'city' and slice the data to get temperatures for a range of countries and cities."
   ]
  },
  {
   "cell_type": "code",
   "execution_count": 7,
   "id": "bcff917a",
   "metadata": {},
   "outputs": [
    {
     "data": {
      "text/plain": [
       "country   city    \n",
       "Chile     Santiago    12.444\n",
       "          Santiago    11.470\n",
       "          Santiago     9.389\n",
       "          Santiago     6.735\n",
       "          Santiago     2.347\n",
       "                       ...  \n",
       "Pakistan  Lahore      33.457\n",
       "          Lahore      34.456\n",
       "          Lahore      33.279\n",
       "          Lahore      31.511\n",
       "          Lahore         NaN\n",
       "Name: avg_temp_c, Length: 9570, dtype: float64"
      ]
     },
     "execution_count": 7,
     "metadata": {},
     "output_type": "execute_result"
    }
   ],
   "source": [
    "temp_ind_co_city = temperature.set_index(['country', 'city']).sort_index()\n",
    "temp_ind_co_city.loc[('Chile', 'Santiago'):('Pakistan','Lahore'), 'avg_temp_c']"
   ]
  },
  {
   "cell_type": "markdown",
   "id": "becc775d",
   "metadata": {},
   "source": [
    "### 4. Slicing Rows and Columns:\n",
    "\n",
    "Set a multi-level index with 'country' and 'city' and slice the data to get temperatures for specific countries and cities while selecting only the 'avg_temp_c' column."
   ]
  },
  {
   "cell_type": "code",
   "execution_count": 12,
   "id": "041d62e1",
   "metadata": {},
   "outputs": [
    {
     "data": {
      "text/plain": [
       "country  city     \n",
       "India    Hyderabad    23.779\n",
       "         Hyderabad    25.826\n",
       "         Hyderabad    28.821\n",
       "         Hyderabad    32.698\n",
       "         Hyderabad    32.438\n",
       "                       ...  \n",
       "         New Delhi    34.746\n",
       "         New Delhi    33.066\n",
       "         New Delhi    31.053\n",
       "         New Delhi    29.900\n",
       "         New Delhi       NaN\n",
       "Name: avg_temp_c, Length: 1155, dtype: float64"
      ]
     },
     "execution_count": 12,
     "metadata": {},
     "output_type": "execute_result"
    }
   ],
   "source": [
    "temp_ind_co_city.loc[('India', 'Hyderabad'):('India', 'New Delhi'), 'avg_temp_c']"
   ]
  },
  {
   "cell_type": "markdown",
   "id": "7d95b3cd",
   "metadata": {},
   "source": [
    "### 5. Slicing Dates:\n",
    "\n",
    "Set the 'date' column as the index and slice the data to get temperatures from August 25, 2012, to September 01, 2013."
   ]
  },
  {
   "cell_type": "code",
   "execution_count": 20,
   "id": "723d6936",
   "metadata": {},
   "outputs": [
    {
     "data": {
      "text/html": [
       "<div>\n",
       "<style scoped>\n",
       "    .dataframe tbody tr th:only-of-type {\n",
       "        vertical-align: middle;\n",
       "    }\n",
       "\n",
       "    .dataframe tbody tr th {\n",
       "        vertical-align: top;\n",
       "    }\n",
       "\n",
       "    .dataframe thead th {\n",
       "        text-align: right;\n",
       "    }\n",
       "</style>\n",
       "<table border=\"1\" class=\"dataframe\">\n",
       "  <thead>\n",
       "    <tr style=\"text-align: right;\">\n",
       "      <th></th>\n",
       "      <th>city</th>\n",
       "      <th>country</th>\n",
       "      <th>avg_temp_c</th>\n",
       "    </tr>\n",
       "    <tr>\n",
       "      <th>date</th>\n",
       "      <th></th>\n",
       "      <th></th>\n",
       "      <th></th>\n",
       "    </tr>\n",
       "  </thead>\n",
       "  <tbody>\n",
       "    <tr>\n",
       "      <th>2012-09-01</th>\n",
       "      <td>Casablanca</td>\n",
       "      <td>Morocco</td>\n",
       "      <td>23.689</td>\n",
       "    </tr>\n",
       "    <tr>\n",
       "      <th>2012-09-01</th>\n",
       "      <td>Ankara</td>\n",
       "      <td>Turkey</td>\n",
       "      <td>19.767</td>\n",
       "    </tr>\n",
       "    <tr>\n",
       "      <th>2012-09-01</th>\n",
       "      <td>Umm Durman</td>\n",
       "      <td>Sudan</td>\n",
       "      <td>32.003</td>\n",
       "    </tr>\n",
       "    <tr>\n",
       "      <th>2012-09-01</th>\n",
       "      <td>Pune</td>\n",
       "      <td>India</td>\n",
       "      <td>25.208</td>\n",
       "    </tr>\n",
       "    <tr>\n",
       "      <th>2012-09-01</th>\n",
       "      <td>Seoul</td>\n",
       "      <td>South Korea</td>\n",
       "      <td>20.333</td>\n",
       "    </tr>\n",
       "    <tr>\n",
       "      <th>...</th>\n",
       "      <td>...</td>\n",
       "      <td>...</td>\n",
       "      <td>...</td>\n",
       "    </tr>\n",
       "    <tr>\n",
       "      <th>2013-09-01</th>\n",
       "      <td>Nanjing</td>\n",
       "      <td>China</td>\n",
       "      <td>NaN</td>\n",
       "    </tr>\n",
       "    <tr>\n",
       "      <th>2013-09-01</th>\n",
       "      <td>New Delhi</td>\n",
       "      <td>India</td>\n",
       "      <td>NaN</td>\n",
       "    </tr>\n",
       "    <tr>\n",
       "      <th>2013-09-01</th>\n",
       "      <td>New York</td>\n",
       "      <td>United States</td>\n",
       "      <td>17.408</td>\n",
       "    </tr>\n",
       "    <tr>\n",
       "      <th>2013-09-01</th>\n",
       "      <td>Peking</td>\n",
       "      <td>China</td>\n",
       "      <td>NaN</td>\n",
       "    </tr>\n",
       "    <tr>\n",
       "      <th>2013-09-01</th>\n",
       "      <td>Xian</td>\n",
       "      <td>China</td>\n",
       "      <td>NaN</td>\n",
       "    </tr>\n",
       "  </tbody>\n",
       "</table>\n",
       "<p>1300 rows × 3 columns</p>\n",
       "</div>"
      ],
      "text/plain": [
       "                  city        country  avg_temp_c\n",
       "date                                             \n",
       "2012-09-01  Casablanca        Morocco      23.689\n",
       "2012-09-01      Ankara         Turkey      19.767\n",
       "2012-09-01  Umm Durman          Sudan      32.003\n",
       "2012-09-01        Pune          India      25.208\n",
       "2012-09-01       Seoul    South Korea      20.333\n",
       "...                ...            ...         ...\n",
       "2013-09-01     Nanjing          China         NaN\n",
       "2013-09-01   New Delhi          India         NaN\n",
       "2013-09-01    New York  United States      17.408\n",
       "2013-09-01      Peking          China         NaN\n",
       "2013-09-01        Xian          China         NaN\n",
       "\n",
       "[1300 rows x 3 columns]"
      ]
     },
     "execution_count": 20,
     "metadata": {},
     "output_type": "execute_result"
    }
   ],
   "source": [
    "temp_ind_date.loc['2012-08-25':'2013-09-01']"
   ]
  },
  {
   "cell_type": "code",
   "execution_count": 15,
   "id": "9a72a21c",
   "metadata": {},
   "outputs": [
    {
     "data": {
      "text/plain": [
       "'2013-09-01'"
      ]
     },
     "execution_count": 15,
     "metadata": {},
     "output_type": "execute_result"
    }
   ],
   "source": [
    "temperature['date'].max()"
   ]
  },
  {
   "cell_type": "markdown",
   "id": "b805da62",
   "metadata": {},
   "source": [
    "### 6. Slicing by Partial Dates:\n",
    "\n",
    "Set the 'date' column as the index and slice the data to get temperatures for the years 2010 to 2011."
   ]
  },
  {
   "cell_type": "code",
   "execution_count": 23,
   "id": "eb76c3f0",
   "metadata": {},
   "outputs": [
    {
     "data": {
      "text/html": [
       "<div>\n",
       "<style scoped>\n",
       "    .dataframe tbody tr th:only-of-type {\n",
       "        vertical-align: middle;\n",
       "    }\n",
       "\n",
       "    .dataframe tbody tr th {\n",
       "        vertical-align: top;\n",
       "    }\n",
       "\n",
       "    .dataframe thead th {\n",
       "        text-align: right;\n",
       "    }\n",
       "</style>\n",
       "<table border=\"1\" class=\"dataframe\">\n",
       "  <thead>\n",
       "    <tr style=\"text-align: right;\">\n",
       "      <th></th>\n",
       "      <th>city</th>\n",
       "      <th>country</th>\n",
       "      <th>avg_temp_c</th>\n",
       "    </tr>\n",
       "    <tr>\n",
       "      <th>date</th>\n",
       "      <th></th>\n",
       "      <th></th>\n",
       "      <th></th>\n",
       "    </tr>\n",
       "  </thead>\n",
       "  <tbody>\n",
       "    <tr>\n",
       "      <th>2010-01-01</th>\n",
       "      <td>Faisalabad</td>\n",
       "      <td>Pakistan</td>\n",
       "      <td>11.810</td>\n",
       "    </tr>\n",
       "    <tr>\n",
       "      <th>2010-01-01</th>\n",
       "      <td>Melbourne</td>\n",
       "      <td>Australia</td>\n",
       "      <td>20.016</td>\n",
       "    </tr>\n",
       "    <tr>\n",
       "      <th>2010-01-01</th>\n",
       "      <td>Chongqing</td>\n",
       "      <td>China</td>\n",
       "      <td>7.921</td>\n",
       "    </tr>\n",
       "    <tr>\n",
       "      <th>2010-01-01</th>\n",
       "      <td>São Paulo</td>\n",
       "      <td>Brazil</td>\n",
       "      <td>23.738</td>\n",
       "    </tr>\n",
       "    <tr>\n",
       "      <th>2010-01-01</th>\n",
       "      <td>Guangzhou</td>\n",
       "      <td>China</td>\n",
       "      <td>14.136</td>\n",
       "    </tr>\n",
       "    <tr>\n",
       "      <th>...</th>\n",
       "      <td>...</td>\n",
       "      <td>...</td>\n",
       "      <td>...</td>\n",
       "    </tr>\n",
       "    <tr>\n",
       "      <th>2011-12-01</th>\n",
       "      <td>Nagoya</td>\n",
       "      <td>Japan</td>\n",
       "      <td>6.476</td>\n",
       "    </tr>\n",
       "    <tr>\n",
       "      <th>2011-12-01</th>\n",
       "      <td>Hyderabad</td>\n",
       "      <td>India</td>\n",
       "      <td>23.613</td>\n",
       "    </tr>\n",
       "    <tr>\n",
       "      <th>2011-12-01</th>\n",
       "      <td>Cali</td>\n",
       "      <td>Colombia</td>\n",
       "      <td>21.559</td>\n",
       "    </tr>\n",
       "    <tr>\n",
       "      <th>2011-12-01</th>\n",
       "      <td>Lima</td>\n",
       "      <td>Peru</td>\n",
       "      <td>18.293</td>\n",
       "    </tr>\n",
       "    <tr>\n",
       "      <th>2011-12-01</th>\n",
       "      <td>Bangkok</td>\n",
       "      <td>Thailand</td>\n",
       "      <td>25.021</td>\n",
       "    </tr>\n",
       "  </tbody>\n",
       "</table>\n",
       "<p>2400 rows × 3 columns</p>\n",
       "</div>"
      ],
      "text/plain": [
       "                  city    country  avg_temp_c\n",
       "date                                         \n",
       "2010-01-01  Faisalabad   Pakistan      11.810\n",
       "2010-01-01   Melbourne  Australia      20.016\n",
       "2010-01-01   Chongqing      China       7.921\n",
       "2010-01-01   São Paulo     Brazil      23.738\n",
       "2010-01-01   Guangzhou      China      14.136\n",
       "...                ...        ...         ...\n",
       "2011-12-01      Nagoya      Japan       6.476\n",
       "2011-12-01   Hyderabad      India      23.613\n",
       "2011-12-01        Cali   Colombia      21.559\n",
       "2011-12-01        Lima       Peru      18.293\n",
       "2011-12-01     Bangkok   Thailand      25.021\n",
       "\n",
       "[2400 rows x 3 columns]"
      ]
     },
     "execution_count": 23,
     "metadata": {},
     "output_type": "execute_result"
    }
   ],
   "source": [
    "temp_ind_date.loc['2010':'2011']"
   ]
  },
  {
   "cell_type": "markdown",
   "id": "770b3ba9",
   "metadata": {},
   "source": [
    "### 7. Subsetting by Row/Column Number:\n",
    "\n",
    "Use .iloc to extract a subset of rows and columns, specifically rows 2 to 5 and columns 1 to 4."
   ]
  },
  {
   "cell_type": "code",
   "execution_count": 24,
   "id": "d3039c94",
   "metadata": {},
   "outputs": [
    {
     "data": {
      "text/html": [
       "<div>\n",
       "<style scoped>\n",
       "    .dataframe tbody tr th:only-of-type {\n",
       "        vertical-align: middle;\n",
       "    }\n",
       "\n",
       "    .dataframe tbody tr th {\n",
       "        vertical-align: top;\n",
       "    }\n",
       "\n",
       "    .dataframe thead th {\n",
       "        text-align: right;\n",
       "    }\n",
       "</style>\n",
       "<table border=\"1\" class=\"dataframe\">\n",
       "  <thead>\n",
       "    <tr style=\"text-align: right;\">\n",
       "      <th></th>\n",
       "      <th>date</th>\n",
       "      <th>city</th>\n",
       "      <th>country</th>\n",
       "      <th>avg_temp_c</th>\n",
       "    </tr>\n",
       "  </thead>\n",
       "  <tbody>\n",
       "    <tr>\n",
       "      <th>1</th>\n",
       "      <td>2000-02-01</td>\n",
       "      <td>Abidjan</td>\n",
       "      <td>Côte D'Ivoire</td>\n",
       "      <td>27.685</td>\n",
       "    </tr>\n",
       "    <tr>\n",
       "      <th>2</th>\n",
       "      <td>2000-03-01</td>\n",
       "      <td>Abidjan</td>\n",
       "      <td>Côte D'Ivoire</td>\n",
       "      <td>29.061</td>\n",
       "    </tr>\n",
       "    <tr>\n",
       "      <th>3</th>\n",
       "      <td>2000-04-01</td>\n",
       "      <td>Abidjan</td>\n",
       "      <td>Côte D'Ivoire</td>\n",
       "      <td>28.162</td>\n",
       "    </tr>\n",
       "    <tr>\n",
       "      <th>4</th>\n",
       "      <td>2000-05-01</td>\n",
       "      <td>Abidjan</td>\n",
       "      <td>Côte D'Ivoire</td>\n",
       "      <td>27.547</td>\n",
       "    </tr>\n",
       "  </tbody>\n",
       "</table>\n",
       "</div>"
      ],
      "text/plain": [
       "         date     city        country  avg_temp_c\n",
       "1  2000-02-01  Abidjan  Côte D'Ivoire      27.685\n",
       "2  2000-03-01  Abidjan  Côte D'Ivoire      29.061\n",
       "3  2000-04-01  Abidjan  Côte D'Ivoire      28.162\n",
       "4  2000-05-01  Abidjan  Côte D'Ivoire      27.547"
      ]
     },
     "execution_count": 24,
     "metadata": {},
     "output_type": "execute_result"
    }
   ],
   "source": [
    "temperature.iloc[1:5, :4]"
   ]
  },
  {
   "cell_type": "markdown",
   "id": "eb08a8ec",
   "metadata": {},
   "source": [
    "## Challenge Tasks"
   ]
  },
  {
   "cell_type": "markdown",
   "id": "a1febb1d",
   "metadata": {},
   "source": [
    "### 8. Combination Slicing:\n",
    "\n",
    "Set a multi-level index with 'country' and 'city', then slice the data to get temperatures for 'Côte D'Ivoire' from January to March 2000."
   ]
  },
  {
   "cell_type": "code",
   "execution_count": 29,
   "id": "c31d19be",
   "metadata": {},
   "outputs": [
    {
     "data": {
      "text/html": [
       "<div>\n",
       "<style scoped>\n",
       "    .dataframe tbody tr th:only-of-type {\n",
       "        vertical-align: middle;\n",
       "    }\n",
       "\n",
       "    .dataframe tbody tr th {\n",
       "        vertical-align: top;\n",
       "    }\n",
       "\n",
       "    .dataframe thead th {\n",
       "        text-align: right;\n",
       "    }\n",
       "</style>\n",
       "<table border=\"1\" class=\"dataframe\">\n",
       "  <thead>\n",
       "    <tr style=\"text-align: right;\">\n",
       "      <th></th>\n",
       "      <th>city</th>\n",
       "      <th>avg_temp_c</th>\n",
       "    </tr>\n",
       "    <tr>\n",
       "      <th>date</th>\n",
       "      <th></th>\n",
       "      <th></th>\n",
       "    </tr>\n",
       "  </thead>\n",
       "  <tbody>\n",
       "    <tr>\n",
       "      <th>2000-01-01</th>\n",
       "      <td>Abidjan</td>\n",
       "      <td>27.293</td>\n",
       "    </tr>\n",
       "    <tr>\n",
       "      <th>2000-02-01</th>\n",
       "      <td>Abidjan</td>\n",
       "      <td>27.685</td>\n",
       "    </tr>\n",
       "    <tr>\n",
       "      <th>2000-03-01</th>\n",
       "      <td>Abidjan</td>\n",
       "      <td>29.061</td>\n",
       "    </tr>\n",
       "  </tbody>\n",
       "</table>\n",
       "</div>"
      ],
      "text/plain": [
       "               city  avg_temp_c\n",
       "date                           \n",
       "2000-01-01  Abidjan      27.293\n",
       "2000-02-01  Abidjan      27.685\n",
       "2000-03-01  Abidjan      29.061"
      ]
     },
     "execution_count": 29,
     "metadata": {},
     "output_type": "execute_result"
    }
   ],
   "source": [
    "temp_cote = temp_ind_co_city.loc['Côte D\\'Ivoire']\n",
    "temp_cote.reset_index().set_index('date').loc['2000-01':'2000-04']"
   ]
  },
  {
   "cell_type": "markdown",
   "id": "cddd06ef",
   "metadata": {},
   "source": [
    "### 9. Date Range Filtering:\n",
    "\n",
    "Filter the dataset to include only temperatures recorded in the year 2005."
   ]
  },
  {
   "cell_type": "code",
   "execution_count": 41,
   "id": "06731cb0",
   "metadata": {},
   "outputs": [
    {
     "data": {
      "text/plain": [
       "date\n",
       "2005-01-01    12.776\n",
       "2005-01-01    27.698\n",
       "2005-01-01    17.940\n",
       "2005-01-01    14.383\n",
       "2005-01-01    27.157\n",
       "               ...  \n",
       "2005-12-01    26.535\n",
       "2005-12-01     0.962\n",
       "2005-12-01    20.365\n",
       "2005-12-01    26.073\n",
       "2005-12-01     1.624\n",
       "Name: avg_temp_c, Length: 1200, dtype: float64"
      ]
     },
     "execution_count": 41,
     "metadata": {},
     "output_type": "execute_result"
    }
   ],
   "source": [
    "temp_ind_date.loc['2005-01-01':'2006', 'avg_temp_c']"
   ]
  },
  {
   "cell_type": "markdown",
   "id": "4eeaf940",
   "metadata": {},
   "source": [
    "### 10. Multi-Level Indexing with Specific Rows and Columns:\n",
    "\n",
    "Set a multi-level index with 'country' and 'city', then slice to get temperatures for 'Côte D'Ivoire' and 'Abidjan' for specific date ranges while selecting only the 'avg_temp_c' column."
   ]
  },
  {
   "cell_type": "code",
   "execution_count": 49,
   "id": "4cdbc03e",
   "metadata": {},
   "outputs": [
    {
     "data": {
      "text/plain": [
       "date\n",
       "2005-01-01    26.715\n",
       "2005-02-01    29.405\n",
       "2005-03-01    29.246\n",
       "2005-04-01    28.508\n",
       "2005-05-01    27.416\n",
       "2005-06-01    25.772\n",
       "2005-07-01    24.997\n",
       "2005-08-01    24.443\n",
       "2005-09-01    25.804\n",
       "2005-10-01    26.470\n",
       "2005-11-01    27.569\n",
       "2005-12-01    27.374\n",
       "Name: avg_temp_c, dtype: float64"
      ]
     },
     "execution_count": 49,
     "metadata": {},
     "output_type": "execute_result"
    }
   ],
   "source": [
    "temp_ind_co_city.loc[('Côte D\\'Ivoire','Abidjan')].reset_index().set_index('date').loc['2005':'2006', 'avg_temp_c']"
   ]
  },
  {
   "cell_type": "code",
   "execution_count": null,
   "id": "1644e858",
   "metadata": {},
   "outputs": [],
   "source": []
  }
 ],
 "metadata": {
  "kernelspec": {
   "display_name": "Python 3 (ipykernel)",
   "language": "python",
   "name": "python3"
  },
  "language_info": {
   "codemirror_mode": {
    "name": "ipython",
    "version": 3
   },
   "file_extension": ".py",
   "mimetype": "text/x-python",
   "name": "python",
   "nbconvert_exporter": "python",
   "pygments_lexer": "ipython3",
   "version": "3.10.9"
  }
 },
 "nbformat": 4,
 "nbformat_minor": 5
}
