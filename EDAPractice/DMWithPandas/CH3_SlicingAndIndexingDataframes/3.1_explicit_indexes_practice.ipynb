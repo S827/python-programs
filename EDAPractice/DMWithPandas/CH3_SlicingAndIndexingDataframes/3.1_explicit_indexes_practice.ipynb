{
 "cells": [
  {
   "cell_type": "markdown",
   "id": "11cb3181",
   "metadata": {},
   "source": [
    "# EXPLICIT INDEXES"
   ]
  },
  {
   "cell_type": "code",
   "execution_count": 1,
   "id": "a6be2ea3",
   "metadata": {},
   "outputs": [],
   "source": [
    "import pandas as pd\n",
    "import numpy as np"
   ]
  },
  {
   "cell_type": "code",
   "execution_count": 2,
   "id": "0c520dfc",
   "metadata": {},
   "outputs": [
    {
     "data": {
      "text/html": [
       "<div>\n",
       "<style scoped>\n",
       "    .dataframe tbody tr th:only-of-type {\n",
       "        vertical-align: middle;\n",
       "    }\n",
       "\n",
       "    .dataframe tbody tr th {\n",
       "        vertical-align: top;\n",
       "    }\n",
       "\n",
       "    .dataframe thead th {\n",
       "        text-align: right;\n",
       "    }\n",
       "</style>\n",
       "<table border=\"1\" class=\"dataframe\">\n",
       "  <thead>\n",
       "    <tr style=\"text-align: right;\">\n",
       "      <th></th>\n",
       "      <th>date</th>\n",
       "      <th>city</th>\n",
       "      <th>country</th>\n",
       "      <th>avg_temp_c</th>\n",
       "    </tr>\n",
       "  </thead>\n",
       "  <tbody>\n",
       "    <tr>\n",
       "      <th>0</th>\n",
       "      <td>2000-01-01</td>\n",
       "      <td>Abidjan</td>\n",
       "      <td>Côte D'Ivoire</td>\n",
       "      <td>27.293</td>\n",
       "    </tr>\n",
       "    <tr>\n",
       "      <th>1</th>\n",
       "      <td>2000-02-01</td>\n",
       "      <td>Abidjan</td>\n",
       "      <td>Côte D'Ivoire</td>\n",
       "      <td>27.685</td>\n",
       "    </tr>\n",
       "    <tr>\n",
       "      <th>2</th>\n",
       "      <td>2000-03-01</td>\n",
       "      <td>Abidjan</td>\n",
       "      <td>Côte D'Ivoire</td>\n",
       "      <td>29.061</td>\n",
       "    </tr>\n",
       "    <tr>\n",
       "      <th>3</th>\n",
       "      <td>2000-04-01</td>\n",
       "      <td>Abidjan</td>\n",
       "      <td>Côte D'Ivoire</td>\n",
       "      <td>28.162</td>\n",
       "    </tr>\n",
       "    <tr>\n",
       "      <th>4</th>\n",
       "      <td>2000-05-01</td>\n",
       "      <td>Abidjan</td>\n",
       "      <td>Côte D'Ivoire</td>\n",
       "      <td>27.547</td>\n",
       "    </tr>\n",
       "  </tbody>\n",
       "</table>\n",
       "</div>"
      ],
      "text/plain": [
       "         date     city        country  avg_temp_c\n",
       "0  2000-01-01  Abidjan  Côte D'Ivoire      27.293\n",
       "1  2000-02-01  Abidjan  Côte D'Ivoire      27.685\n",
       "2  2000-03-01  Abidjan  Côte D'Ivoire      29.061\n",
       "3  2000-04-01  Abidjan  Côte D'Ivoire      28.162\n",
       "4  2000-05-01  Abidjan  Côte D'Ivoire      27.547"
      ]
     },
     "execution_count": 2,
     "metadata": {},
     "output_type": "execute_result"
    }
   ],
   "source": [
    "temperature = pd.read_csv('../../temperatures.csv', index_col = 0)\n",
    "temperature.head()"
   ]
  },
  {
   "cell_type": "code",
   "execution_count": 4,
   "id": "6501f3db",
   "metadata": {},
   "outputs": [
    {
     "name": "stdout",
     "output_type": "stream",
     "text": [
      "<class 'pandas.core.frame.DataFrame'>\n",
      "Int64Index: 16500 entries, 0 to 16499\n",
      "Data columns (total 4 columns):\n",
      " #   Column      Non-Null Count  Dtype  \n",
      "---  ------      --------------  -----  \n",
      " 0   date        16500 non-null  object \n",
      " 1   city        16500 non-null  object \n",
      " 2   country     16500 non-null  object \n",
      " 3   avg_temp_c  16407 non-null  float64\n",
      "dtypes: float64(1), object(3)\n",
      "memory usage: 644.5+ KB\n"
     ]
    }
   ],
   "source": [
    "temperature.info()"
   ]
  },
  {
   "cell_type": "code",
   "execution_count": 5,
   "id": "7aed319b",
   "metadata": {},
   "outputs": [
    {
     "data": {
      "text/html": [
       "<div>\n",
       "<style scoped>\n",
       "    .dataframe tbody tr th:only-of-type {\n",
       "        vertical-align: middle;\n",
       "    }\n",
       "\n",
       "    .dataframe tbody tr th {\n",
       "        vertical-align: top;\n",
       "    }\n",
       "\n",
       "    .dataframe thead th {\n",
       "        text-align: right;\n",
       "    }\n",
       "</style>\n",
       "<table border=\"1\" class=\"dataframe\">\n",
       "  <thead>\n",
       "    <tr style=\"text-align: right;\">\n",
       "      <th></th>\n",
       "      <th>avg_temp_c</th>\n",
       "    </tr>\n",
       "  </thead>\n",
       "  <tbody>\n",
       "    <tr>\n",
       "      <th>count</th>\n",
       "      <td>16407.000000</td>\n",
       "    </tr>\n",
       "    <tr>\n",
       "      <th>mean</th>\n",
       "      <td>19.732877</td>\n",
       "    </tr>\n",
       "    <tr>\n",
       "      <th>std</th>\n",
       "      <td>9.579635</td>\n",
       "    </tr>\n",
       "    <tr>\n",
       "      <th>min</th>\n",
       "      <td>-23.495000</td>\n",
       "    </tr>\n",
       "    <tr>\n",
       "      <th>25%</th>\n",
       "      <td>14.870000</td>\n",
       "    </tr>\n",
       "    <tr>\n",
       "      <th>50%</th>\n",
       "      <td>22.119000</td>\n",
       "    </tr>\n",
       "    <tr>\n",
       "      <th>75%</th>\n",
       "      <td>27.001500</td>\n",
       "    </tr>\n",
       "    <tr>\n",
       "      <th>max</th>\n",
       "      <td>38.283000</td>\n",
       "    </tr>\n",
       "  </tbody>\n",
       "</table>\n",
       "</div>"
      ],
      "text/plain": [
       "         avg_temp_c\n",
       "count  16407.000000\n",
       "mean      19.732877\n",
       "std        9.579635\n",
       "min      -23.495000\n",
       "25%       14.870000\n",
       "50%       22.119000\n",
       "75%       27.001500\n",
       "max       38.283000"
      ]
     },
     "execution_count": 5,
     "metadata": {},
     "output_type": "execute_result"
    }
   ],
   "source": [
    "temperature.describe()"
   ]
  },
  {
   "cell_type": "markdown",
   "id": "ec86d780",
   "metadata": {},
   "source": [
    "\n",
    "### 1.\tSetting a column as index:\n",
    "\n",
    "o\tHow would you set the date column as the index of the temperature DataFrame?\n",
    "\n",
    "\n"
   ]
  },
  {
   "cell_type": "markdown",
   "id": "52f68079",
   "metadata": {},
   "source": [
    "### 2.\tRemoving index:\n",
    "\n",
    "o\tAfter setting date as the index, how would you reset it back to a regular column?"
   ]
  },
  {
   "cell_type": "markdown",
   "id": "d8eec5d1",
   "metadata": {},
   "source": [
    "### 3.\tDropping index:\n",
    "\n",
    "o\tHow can you reset the index to a default integer index and drop the date column completely from the DataFrame?\n",
    "INDEX SUBSETTINGS"
   ]
  },
  {
   "cell_type": "markdown",
   "id": "aedc7817",
   "metadata": {},
   "source": [
    "### 4.\tIndex subsettings:\n",
    "\n",
    "o\tSuppose you set city as the index. How would you subset the DataFrame to include only data for 'Abidjan' and 'New York'?"
   ]
  },
  {
   "cell_type": "markdown",
   "id": "60270e8a",
   "metadata": {},
   "source": [
    "### 5.\tSubsetting on duplicated index values:\n",
    "\n",
    "o\tIf city is set as the index, how can you subset all rows where the city is 'Abidjan'?\n",
    "MULTI-LEVEL INDEXES AKA HIERARCHICAL INDEXES"
   ]
  },
  {
   "cell_type": "markdown",
   "id": "70b4f00b",
   "metadata": {},
   "source": [
    "### 6.\tMulti-level indexes:\n",
    "o\tHow would you set a multi-level index with country as the first level and city as the second level?\n"
   ]
  },
  {
   "cell_type": "markdown",
   "id": "5ccb7c3a",
   "metadata": {},
   "source": [
    "### 7.\tSubset outer level with a list:\n",
    "o\tGiven the multi-level index from the previous question, how would you subset the DataFrame to include only data for 'Côte D'Ivoire' and 'India'?\n"
   ]
  },
  {
   "cell_type": "markdown",
   "id": "9157cb38",
   "metadata": {},
   "source": [
    "### 8.\tSubset inner level with a list of tuples:\n",
    "o\tHow would you subset the DataFrame to include only data for ('Côte D'Ivoire', 'Abidjan') and ('India', 'New Delhi')?\n",
    "SORTING BY INDEX VALUES\n"
   ]
  },
  {
   "cell_type": "markdown",
   "id": "b58a540b",
   "metadata": {},
   "source": [
    "### 9.\tSorting by index values:\n",
    "o\tWith the multi-level index set as country and city, how would you sort the DataFrame by these index values?\n"
   ]
  },
  {
   "cell_type": "markdown",
   "id": "a6fcf286",
   "metadata": {},
   "source": [
    "### 10.\tControlling sorting:\n",
    "o\tHow can you sort the DataFrame by country in ascending order and city in descending order?"
   ]
  },
  {
   "cell_type": "code",
   "execution_count": null,
   "id": "23dc675f",
   "metadata": {},
   "outputs": [],
   "source": []
  }
 ],
 "metadata": {
  "kernelspec": {
   "display_name": "Python 3 (ipykernel)",
   "language": "python",
   "name": "python3"
  },
  "language_info": {
   "codemirror_mode": {
    "name": "ipython",
    "version": 3
   },
   "file_extension": ".py",
   "mimetype": "text/x-python",
   "name": "python",
   "nbconvert_exporter": "python",
   "pygments_lexer": "ipython3",
   "version": "3.10.9"
  }
 },
 "nbformat": 4,
 "nbformat_minor": 5
}
