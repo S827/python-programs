{
 "cells": [
  {
   "cell_type": "code",
   "execution_count": 2,
   "id": "459a2577",
   "metadata": {},
   "outputs": [],
   "source": [
    "import pandas as pd\n",
    "import numpy as np\n",
    "import matplotlib.pyplot as plt"
   ]
  },
  {
   "cell_type": "code",
   "execution_count": 4,
   "id": "8fdb7d3c",
   "metadata": {},
   "outputs": [
    {
     "data": {
      "text/html": [
       "<div>\n",
       "<style scoped>\n",
       "    .dataframe tbody tr th:only-of-type {\n",
       "        vertical-align: middle;\n",
       "    }\n",
       "\n",
       "    .dataframe tbody tr th {\n",
       "        vertical-align: top;\n",
       "    }\n",
       "\n",
       "    .dataframe thead th {\n",
       "        text-align: right;\n",
       "    }\n",
       "</style>\n",
       "<table border=\"1\" class=\"dataframe\">\n",
       "  <thead>\n",
       "    <tr style=\"text-align: right;\">\n",
       "      <th></th>\n",
       "      <th>Unnamed: 0</th>\n",
       "      <th>store</th>\n",
       "      <th>type</th>\n",
       "      <th>department</th>\n",
       "      <th>date</th>\n",
       "      <th>weekly_sales</th>\n",
       "      <th>is_holiday</th>\n",
       "      <th>temperature_c</th>\n",
       "      <th>fuel_price_usd_per_l</th>\n",
       "      <th>unemployment</th>\n",
       "    </tr>\n",
       "  </thead>\n",
       "  <tbody>\n",
       "    <tr>\n",
       "      <th>0</th>\n",
       "      <td>0</td>\n",
       "      <td>1</td>\n",
       "      <td>A</td>\n",
       "      <td>1</td>\n",
       "      <td>2010-02-05</td>\n",
       "      <td>24924.50</td>\n",
       "      <td>False</td>\n",
       "      <td>5.727778</td>\n",
       "      <td>0.679451</td>\n",
       "      <td>8.106</td>\n",
       "    </tr>\n",
       "    <tr>\n",
       "      <th>1</th>\n",
       "      <td>1</td>\n",
       "      <td>1</td>\n",
       "      <td>A</td>\n",
       "      <td>1</td>\n",
       "      <td>2010-03-05</td>\n",
       "      <td>21827.90</td>\n",
       "      <td>False</td>\n",
       "      <td>8.055556</td>\n",
       "      <td>0.693452</td>\n",
       "      <td>8.106</td>\n",
       "    </tr>\n",
       "    <tr>\n",
       "      <th>2</th>\n",
       "      <td>2</td>\n",
       "      <td>1</td>\n",
       "      <td>A</td>\n",
       "      <td>1</td>\n",
       "      <td>2010-04-02</td>\n",
       "      <td>57258.43</td>\n",
       "      <td>False</td>\n",
       "      <td>16.816667</td>\n",
       "      <td>0.718284</td>\n",
       "      <td>7.808</td>\n",
       "    </tr>\n",
       "    <tr>\n",
       "      <th>3</th>\n",
       "      <td>3</td>\n",
       "      <td>1</td>\n",
       "      <td>A</td>\n",
       "      <td>1</td>\n",
       "      <td>2010-05-07</td>\n",
       "      <td>17413.94</td>\n",
       "      <td>False</td>\n",
       "      <td>22.527778</td>\n",
       "      <td>0.748928</td>\n",
       "      <td>7.808</td>\n",
       "    </tr>\n",
       "    <tr>\n",
       "      <th>4</th>\n",
       "      <td>4</td>\n",
       "      <td>1</td>\n",
       "      <td>A</td>\n",
       "      <td>1</td>\n",
       "      <td>2010-06-04</td>\n",
       "      <td>17558.09</td>\n",
       "      <td>False</td>\n",
       "      <td>27.050000</td>\n",
       "      <td>0.714586</td>\n",
       "      <td>7.808</td>\n",
       "    </tr>\n",
       "  </tbody>\n",
       "</table>\n",
       "</div>"
      ],
      "text/plain": [
       "   Unnamed: 0  store type  department        date  weekly_sales  is_holiday  \\\n",
       "0           0      1    A           1  2010-02-05      24924.50       False   \n",
       "1           1      1    A           1  2010-03-05      21827.90       False   \n",
       "2           2      1    A           1  2010-04-02      57258.43       False   \n",
       "3           3      1    A           1  2010-05-07      17413.94       False   \n",
       "4           4      1    A           1  2010-06-04      17558.09       False   \n",
       "\n",
       "   temperature_c  fuel_price_usd_per_l  unemployment  \n",
       "0       5.727778              0.679451         8.106  \n",
       "1       8.055556              0.693452         8.106  \n",
       "2      16.816667              0.718284         7.808  \n",
       "3      22.527778              0.748928         7.808  \n",
       "4      27.050000              0.714586         7.808  "
      ]
     },
     "execution_count": 4,
     "metadata": {},
     "output_type": "execute_result"
    }
   ],
   "source": [
    "sales = pd.read_csv('../../sales_subset.csv')\n",
    "sales.head()"
   ]
  },
  {
   "cell_type": "code",
   "execution_count": 5,
   "id": "8e8b9941",
   "metadata": {},
   "outputs": [
    {
     "name": "stdout",
     "output_type": "stream",
     "text": [
      "<class 'pandas.core.frame.DataFrame'>\n",
      "RangeIndex: 10774 entries, 0 to 10773\n",
      "Data columns (total 10 columns):\n",
      " #   Column                Non-Null Count  Dtype  \n",
      "---  ------                --------------  -----  \n",
      " 0   Unnamed: 0            10774 non-null  int64  \n",
      " 1   store                 10774 non-null  int64  \n",
      " 2   type                  10774 non-null  object \n",
      " 3   department            10774 non-null  int64  \n",
      " 4   date                  10774 non-null  object \n",
      " 5   weekly_sales          10774 non-null  float64\n",
      " 6   is_holiday            10774 non-null  bool   \n",
      " 7   temperature_c         10774 non-null  float64\n",
      " 8   fuel_price_usd_per_l  10774 non-null  float64\n",
      " 9   unemployment          10774 non-null  float64\n",
      "dtypes: bool(1), float64(4), int64(3), object(2)\n",
      "memory usage: 768.2+ KB\n"
     ]
    }
   ],
   "source": [
    "sales.info()"
   ]
  },
  {
   "cell_type": "code",
   "execution_count": 6,
   "id": "67b4e614",
   "metadata": {},
   "outputs": [
    {
     "data": {
      "text/html": [
       "<div>\n",
       "<style scoped>\n",
       "    .dataframe tbody tr th:only-of-type {\n",
       "        vertical-align: middle;\n",
       "    }\n",
       "\n",
       "    .dataframe tbody tr th {\n",
       "        vertical-align: top;\n",
       "    }\n",
       "\n",
       "    .dataframe thead th {\n",
       "        text-align: right;\n",
       "    }\n",
       "</style>\n",
       "<table border=\"1\" class=\"dataframe\">\n",
       "  <thead>\n",
       "    <tr style=\"text-align: right;\">\n",
       "      <th></th>\n",
       "      <th>Unnamed: 0</th>\n",
       "      <th>store</th>\n",
       "      <th>department</th>\n",
       "      <th>weekly_sales</th>\n",
       "      <th>temperature_c</th>\n",
       "      <th>fuel_price_usd_per_l</th>\n",
       "      <th>unemployment</th>\n",
       "    </tr>\n",
       "  </thead>\n",
       "  <tbody>\n",
       "    <tr>\n",
       "      <th>count</th>\n",
       "      <td>10774.000000</td>\n",
       "      <td>10774.000000</td>\n",
       "      <td>10774.000000</td>\n",
       "      <td>10774.000000</td>\n",
       "      <td>10774.000000</td>\n",
       "      <td>10774.000000</td>\n",
       "      <td>10774.000000</td>\n",
       "    </tr>\n",
       "    <tr>\n",
       "      <th>mean</th>\n",
       "      <td>5386.500000</td>\n",
       "      <td>15.441897</td>\n",
       "      <td>45.218118</td>\n",
       "      <td>23843.950149</td>\n",
       "      <td>15.731978</td>\n",
       "      <td>0.749746</td>\n",
       "      <td>8.082009</td>\n",
       "    </tr>\n",
       "    <tr>\n",
       "      <th>std</th>\n",
       "      <td>3110.330234</td>\n",
       "      <td>11.534511</td>\n",
       "      <td>29.867779</td>\n",
       "      <td>30220.387557</td>\n",
       "      <td>9.922446</td>\n",
       "      <td>0.059494</td>\n",
       "      <td>0.624355</td>\n",
       "    </tr>\n",
       "    <tr>\n",
       "      <th>min</th>\n",
       "      <td>0.000000</td>\n",
       "      <td>1.000000</td>\n",
       "      <td>1.000000</td>\n",
       "      <td>-1098.000000</td>\n",
       "      <td>-8.366667</td>\n",
       "      <td>0.664129</td>\n",
       "      <td>3.879000</td>\n",
       "    </tr>\n",
       "    <tr>\n",
       "      <th>25%</th>\n",
       "      <td>2693.250000</td>\n",
       "      <td>4.000000</td>\n",
       "      <td>20.000000</td>\n",
       "      <td>3867.115000</td>\n",
       "      <td>7.583333</td>\n",
       "      <td>0.708246</td>\n",
       "      <td>7.795000</td>\n",
       "    </tr>\n",
       "    <tr>\n",
       "      <th>50%</th>\n",
       "      <td>5386.500000</td>\n",
       "      <td>13.000000</td>\n",
       "      <td>40.000000</td>\n",
       "      <td>12049.065000</td>\n",
       "      <td>16.966667</td>\n",
       "      <td>0.743381</td>\n",
       "      <td>8.099000</td>\n",
       "    </tr>\n",
       "    <tr>\n",
       "      <th>75%</th>\n",
       "      <td>8079.750000</td>\n",
       "      <td>20.000000</td>\n",
       "      <td>72.000000</td>\n",
       "      <td>32349.850000</td>\n",
       "      <td>24.166667</td>\n",
       "      <td>0.781421</td>\n",
       "      <td>8.360000</td>\n",
       "    </tr>\n",
       "    <tr>\n",
       "      <th>max</th>\n",
       "      <td>10773.000000</td>\n",
       "      <td>39.000000</td>\n",
       "      <td>99.000000</td>\n",
       "      <td>293966.050000</td>\n",
       "      <td>33.827778</td>\n",
       "      <td>1.107674</td>\n",
       "      <td>9.765000</td>\n",
       "    </tr>\n",
       "  </tbody>\n",
       "</table>\n",
       "</div>"
      ],
      "text/plain": [
       "         Unnamed: 0         store    department   weekly_sales  temperature_c  \\\n",
       "count  10774.000000  10774.000000  10774.000000   10774.000000   10774.000000   \n",
       "mean    5386.500000     15.441897     45.218118   23843.950149      15.731978   \n",
       "std     3110.330234     11.534511     29.867779   30220.387557       9.922446   \n",
       "min        0.000000      1.000000      1.000000   -1098.000000      -8.366667   \n",
       "25%     2693.250000      4.000000     20.000000    3867.115000       7.583333   \n",
       "50%     5386.500000     13.000000     40.000000   12049.065000      16.966667   \n",
       "75%     8079.750000     20.000000     72.000000   32349.850000      24.166667   \n",
       "max    10773.000000     39.000000     99.000000  293966.050000      33.827778   \n",
       "\n",
       "       fuel_price_usd_per_l  unemployment  \n",
       "count          10774.000000  10774.000000  \n",
       "mean               0.749746      8.082009  \n",
       "std                0.059494      0.624355  \n",
       "min                0.664129      3.879000  \n",
       "25%                0.708246      7.795000  \n",
       "50%                0.743381      8.099000  \n",
       "75%                0.781421      8.360000  \n",
       "max                1.107674      9.765000  "
      ]
     },
     "execution_count": 6,
     "metadata": {},
     "output_type": "execute_result"
    }
   ],
   "source": [
    "sales.describe()"
   ]
  },
  {
   "cell_type": "markdown",
   "id": "c07da761",
   "metadata": {},
   "source": [
    "## Aggregating DataFrames: Counting\n",
    "#### Dropping Duplicates\n",
    "\n",
    "1.\tUnique Stores\n",
    "\n",
    "o\tHow many unique stores are there in the dataset?\n",
    "\n",
    "2.\tUnique Departments\n",
    "\n",
    "o\tHow many unique departments are there in the dataset?\n",
    "\n",
    "#### Dropping Duplicate Pairs\n",
    "\n",
    "3.\tUnique Store-Department Pairs\n",
    "\n",
    "o\tHow many unique store-department pairs are there in the dataset?\n",
    "\n",
    "4.\tUnique Store-Date Pairs\n",
    "\n",
    "o\tHow many unique store-date pairs are there?\n",
    "\n",
    "#### Value Counts\n",
    "\n",
    "5.\tDepartment Sales Count\n",
    "\n",
    "o\tWhat is the count of sales entries for each department?\n",
    "\n",
    "6.\tStore Sales Count\n",
    "\n",
    "o\tWhat is the count of sales entries for each store?\n",
    "\n",
    "7.\tHoliday Sales Count\n",
    "\n",
    "o\tWhat is the count of sales entries for holidays versus non-holidays?\n",
    "\n",
    "8.\tDepartment Sales Count (Sorted)\n",
    "\n",
    "o\tWhat is the count of sales entries for each department, sorted in descending order?\n",
    "Proportions\n",
    "\n",
    "9.\tProportion of Sales per Department\n",
    "\n",
    "o\tWhat proportion of the total sales entries does each department represent?\n",
    "\n",
    "10.\tProportion of Sales per Store\n",
    "\n",
    "o\tWhat proportion of the total sales entries does each store represent?\n",
    "\n",
    "11.\tProportion of Holiday Sales\n",
    "\n",
    "o\tWhat proportion of the sales entries are holidays versus non-holidays?\n"
   ]
  },
  {
   "cell_type": "markdown",
   "id": "fc373532",
   "metadata": {},
   "source": [
    "#### Dropping Duplicates\n",
    "\n",
    "1.\tUnique Stores\n",
    "\n",
    "o\tHow many unique stores are there in the dataset?\n",
    "\n",
    "2.\tUnique Departments\n",
    "\n",
    "o\tHow many unique departments are there in the dataset?"
   ]
  },
  {
   "cell_type": "code",
   "execution_count": 14,
   "id": "905213f1",
   "metadata": {},
   "outputs": [
    {
     "data": {
      "text/plain": [
       "12"
      ]
     },
     "execution_count": 14,
     "metadata": {},
     "output_type": "execute_result"
    }
   ],
   "source": [
    "# How many unique stores are there in the dataset?\n",
    "unique_stores = sales.drop_duplicates(subset='store')\n",
    "unique_stores['store'].count()"
   ]
  },
  {
   "cell_type": "code",
   "execution_count": 15,
   "id": "d140cda4",
   "metadata": {},
   "outputs": [
    {
     "data": {
      "text/plain": [
       "80"
      ]
     },
     "execution_count": 15,
     "metadata": {},
     "output_type": "execute_result"
    }
   ],
   "source": [
    "# o How many unique departments are there in the dataset?\n",
    "unique_dept = sales.drop_duplicates(subset='department')\n",
    "unique_dept['department'].count()"
   ]
  },
  {
   "cell_type": "markdown",
   "id": "9a7656df",
   "metadata": {},
   "source": [
    "#### Dropping Duplicate Pairs\n",
    "\n",
    "3.\tUnique Store-Department Pairs\n",
    "\n",
    "o\tHow many unique store-department pairs are there in the dataset?\n",
    "\n",
    "4.\tUnique Store-Date Pairs\n",
    "\n",
    "o\tHow many unique store-date pairs are there?"
   ]
  },
  {
   "cell_type": "code",
   "execution_count": 23,
   "id": "fb40733e",
   "metadata": {},
   "outputs": [
    {
     "data": {
      "text/plain": [
       "store         929\n",
       "department    929\n",
       "dtype: int64"
      ]
     },
     "execution_count": 23,
     "metadata": {},
     "output_type": "execute_result"
    }
   ],
   "source": [
    "# o\tHow many unique store-department pairs are there in the dataset?\n",
    "unique_store_dept = sales.drop_duplicates(subset=['store', 'department'])\n",
    "unique_store_dept[['store', 'department']].count()"
   ]
  },
  {
   "cell_type": "code",
   "execution_count": 25,
   "id": "d6417529",
   "metadata": {},
   "outputs": [
    {
     "data": {
      "text/plain": [
       "store    558\n",
       "date     558\n",
       "dtype: int64"
      ]
     },
     "execution_count": 25,
     "metadata": {},
     "output_type": "execute_result"
    }
   ],
   "source": [
    "# o\tHow many unique store-date pairs are there?\n",
    "un_store_date = sales.drop_duplicates(subset=['store', 'date'])\n",
    "un_store_date[['store', 'date']].count()"
   ]
  },
  {
   "cell_type": "markdown",
   "id": "d0ddcd8f",
   "metadata": {},
   "source": [
    "#### Value Counts\n",
    "\n",
    "5.\tDepartment Sales Count\n",
    "\n",
    "o\tWhat is the count of sales entries for each department?\n",
    "\n",
    "6.\tStore Sales Count\n",
    "\n",
    "o\tWhat is the count of sales entries for each store?\n",
    "\n",
    "7.\tHoliday Sales Count\n",
    "\n",
    "o\tWhat is the count of sales entries for holidays versus non-holidays?\n",
    "\n",
    "8.\tDepartment Sales Count (Sorted)\n",
    "\n",
    "o\tWhat is the count of sales entries for each department, sorted in descending order?\n",
    "Proportions\n",
    "\n",
    "9.\tProportion of Sales per Department\n",
    "\n",
    "o\tWhat proportion of the total sales entries does each department represent?\n",
    "\n",
    "10.\tProportion of Sales per Store\n",
    "\n",
    "o\tWhat proportion of the total sales entries does each store represent?\n",
    "\n",
    "11.\tProportion of Holiday Sales\n",
    "\n",
    "o\tWhat proportion of the sales entries are holidays versus non-holidays?"
   ]
  },
  {
   "cell_type": "code",
   "execution_count": 28,
   "id": "6836106c",
   "metadata": {},
   "outputs": [
    {
     "data": {
      "text/plain": [
       "1     144\n",
       "55    144\n",
       "71    144\n",
       "67    144\n",
       "60    144\n",
       "     ... \n",
       "50     72\n",
       "78     56\n",
       "77     39\n",
       "39      7\n",
       "43      2\n",
       "Name: department, Length: 80, dtype: int64"
      ]
     },
     "execution_count": 28,
     "metadata": {},
     "output_type": "execute_result"
    }
   ],
   "source": [
    "# o What is the count of sales entries for each department?\n",
    "sales['department'].value_counts()"
   ]
  },
  {
   "cell_type": "code",
   "execution_count": 29,
   "id": "6620b18a",
   "metadata": {},
   "outputs": [
    {
     "data": {
      "text/plain": [
       "13    913\n",
       "20    910\n",
       "19    906\n",
       "10    902\n",
       "1     901\n",
       "4     901\n",
       "27    900\n",
       "2     897\n",
       "6     894\n",
       "31    890\n",
       "14    885\n",
       "39    875\n",
       "Name: store, dtype: int64"
      ]
     },
     "execution_count": 29,
     "metadata": {},
     "output_type": "execute_result"
    }
   ],
   "source": [
    "# o What is the count of sales entries for each store?\n",
    "sales['store'].value_counts()"
   ]
  },
  {
   "cell_type": "code",
   "execution_count": 31,
   "id": "e812a8da",
   "metadata": {},
   "outputs": [
    {
     "data": {
      "text/plain": [
       "False    10732\n",
       "True        42\n",
       "Name: is_holiday, dtype: int64"
      ]
     },
     "execution_count": 31,
     "metadata": {},
     "output_type": "execute_result"
    }
   ],
   "source": [
    "# o What is the count of sales entries for holidays versus non-holidays?\n",
    "sales['is_holiday'].value_counts()"
   ]
  },
  {
   "cell_type": "code",
   "execution_count": 32,
   "id": "247588b1",
   "metadata": {},
   "outputs": [
    {
     "data": {
      "text/plain": [
       "1     144\n",
       "55    144\n",
       "71    144\n",
       "67    144\n",
       "60    144\n",
       "     ... \n",
       "50     72\n",
       "78     56\n",
       "77     39\n",
       "39      7\n",
       "43      2\n",
       "Name: department, Length: 80, dtype: int64"
      ]
     },
     "execution_count": 32,
     "metadata": {},
     "output_type": "execute_result"
    }
   ],
   "source": [
    "# What is the count of sales entries for each department, sorted in descending order?\n",
    "sales['department'].value_counts(sort=True)"
   ]
  },
  {
   "cell_type": "code",
   "execution_count": 33,
   "id": "4a5db285",
   "metadata": {},
   "outputs": [
    {
     "data": {
      "text/plain": [
       "1     0.013366\n",
       "55    0.013366\n",
       "71    0.013366\n",
       "67    0.013366\n",
       "60    0.013366\n",
       "        ...   \n",
       "50    0.006683\n",
       "78    0.005198\n",
       "77    0.003620\n",
       "39    0.000650\n",
       "43    0.000186\n",
       "Name: department, Length: 80, dtype: float64"
      ]
     },
     "execution_count": 33,
     "metadata": {},
     "output_type": "execute_result"
    }
   ],
   "source": [
    "# What proportion of the total sales entries does each department represent?\n",
    "sales['department'].value_counts(normalize=True)"
   ]
  },
  {
   "cell_type": "code",
   "execution_count": 36,
   "id": "bf7dd86e",
   "metadata": {},
   "outputs": [
    {
     "data": {
      "text/plain": [
       "13    0.084741\n",
       "20    0.084463\n",
       "19    0.084091\n",
       "10    0.083720\n",
       "1     0.083627\n",
       "4     0.083627\n",
       "27    0.083534\n",
       "2     0.083256\n",
       "6     0.082978\n",
       "31    0.082606\n",
       "14    0.082142\n",
       "39    0.081214\n",
       "Name: store, dtype: float64"
      ]
     },
     "execution_count": 36,
     "metadata": {},
     "output_type": "execute_result"
    }
   ],
   "source": [
    "# What proportion of the total sales entries does each store represent?\n",
    "sales['store'].value_counts(normalize=True)"
   ]
  },
  {
   "cell_type": "code",
   "execution_count": 37,
   "id": "c25b5702",
   "metadata": {},
   "outputs": [
    {
     "data": {
      "text/plain": [
       "False    0.996102\n",
       "True     0.003898\n",
       "Name: is_holiday, dtype: float64"
      ]
     },
     "execution_count": 37,
     "metadata": {},
     "output_type": "execute_result"
    }
   ],
   "source": [
    "# What proportion of the sales entries are holidays versus non-holidays?\n",
    "sales['is_holiday'].value_counts(normalize=True)"
   ]
  },
  {
   "cell_type": "code",
   "execution_count": null,
   "id": "73b46709",
   "metadata": {},
   "outputs": [],
   "source": []
  }
 ],
 "metadata": {
  "kernelspec": {
   "display_name": "Python 3 (ipykernel)",
   "language": "python",
   "name": "python3"
  },
  "language_info": {
   "codemirror_mode": {
    "name": "ipython",
    "version": 3
   },
   "file_extension": ".py",
   "mimetype": "text/x-python",
   "name": "python",
   "nbconvert_exporter": "python",
   "pygments_lexer": "ipython3",
   "version": "3.10.9"
  }
 },
 "nbformat": 4,
 "nbformat_minor": 5
}
