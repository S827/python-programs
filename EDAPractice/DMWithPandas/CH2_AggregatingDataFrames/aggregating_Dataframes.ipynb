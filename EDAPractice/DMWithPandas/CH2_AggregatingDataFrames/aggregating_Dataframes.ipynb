{
 "cells": [
  {
   "cell_type": "markdown",
   "id": "a8745be2",
   "metadata": {},
   "source": [
    "# AGGREGATING DATAFRAME PROBLEMS:\n",
    "\n",
    "## 1•  What are the total and average weekly sales for each store and department combination?\n",
    "\n",
    "## 2•  Calculate the median, minimum, and maximum weekly sales for each department, segmented by holiday and non-holiday status.\n",
    "\n",
    "## 3•  Identify the top 5 stores with the highest average weekly sales and the bottom 5 stores with the lowest average weekly sales.\n",
    "\n",
    "## 4•  How many unique stores and departments have recorded sales during holiday weeks? What is the total sales amount for these combinations?\n",
    "\n",
    "## 5•  Determine the count of sales entries and the proportion of total entries for each department, both during holidays and non-holidays.\n",
    "\n",
    "## 6•  Compare the total weekly sales and average weekly sales for stores that have recorded sales both during holidays and non-holidays.\n",
    "\n",
    "## 7•  Create a summary that shows the total weekly sales for each store, including a row for the overall total sales across all stores.\n",
    "\n",
    "## 8•  Find the store and department combinations with the highest and lowest median weekly sales, and display the top 5 and bottom 5 combinations.\n",
    "\n",
    "## 9•  Calculate the total, mean, and count of weekly sales for each store and department, replacing any missing values with zero, and provide a summary including overall totals.\n",
    "\n",
    "## 10•  Generate a pivot table to display the average weekly sales for each department, segmented by store, and include margins to show overall totals and averages.\n"
   ]
  },
  {
   "cell_type": "code",
   "execution_count": null,
   "id": "acf30a26",
   "metadata": {},
   "outputs": [],
   "source": [
    "import pandas as pd\n",
    "import numpy as np\n",
    "\n",
    "sales = pd.read_csv()"
   ]
  },
  {
   "cell_type": "markdown",
   "id": "6eb5ff1f",
   "metadata": {},
   "source": [
    "## 1•  What are the total and average weekly sales for each store and department combination?"
   ]
  },
  {
   "cell_type": "markdown",
   "id": "bc08c8f6",
   "metadata": {},
   "source": [
    "## 2•  Calculate the median, minimum, and maximum weekly sales for each department, segmented by holiday and non-holiday status."
   ]
  },
  {
   "cell_type": "markdown",
   "id": "e2d7c999",
   "metadata": {},
   "source": [
    "## 3•  Identify the top 5 stores with the highest average weekly sales and the bottom 5 stores with the lowest average weekly sales."
   ]
  },
  {
   "cell_type": "markdown",
   "id": "4ab39c23",
   "metadata": {},
   "source": [
    "## 4•  How many unique stores and departments have recorded sales during holiday weeks? What is the total sales amount for these combinations?"
   ]
  },
  {
   "cell_type": "markdown",
   "id": "c70f92ed",
   "metadata": {},
   "source": [
    "## 5•  Determine the count of sales entries and the proportion of total entries for each department, both during holidays and non-holidays."
   ]
  },
  {
   "cell_type": "markdown",
   "id": "5b155462",
   "metadata": {},
   "source": [
    "## 6•  Compare the total weekly sales and average weekly sales for stores that have recorded sales both during holidays and non-holidays."
   ]
  },
  {
   "cell_type": "markdown",
   "id": "050e57c7",
   "metadata": {},
   "source": [
    "## 7•  Create a summary that shows the total weekly sales for each store, including a row for the overall total sales across all stores."
   ]
  },
  {
   "cell_type": "markdown",
   "id": "6580dbc3",
   "metadata": {},
   "source": [
    "## 8•  Find the store and department combinations with the highest and lowest median weekly sales, and display the top 5 and bottom 5 combinations."
   ]
  },
  {
   "cell_type": "markdown",
   "id": "3a78358d",
   "metadata": {},
   "source": [
    "## 9•  Calculate the total, mean, and count of weekly sales for each store and department, replacing any missing values with zero, and provide a summary including overall totals."
   ]
  },
  {
   "cell_type": "markdown",
   "id": "e23b7f9d",
   "metadata": {},
   "source": [
    "## 10•  Generate a pivot table to display the average weekly sales for each department, segmented by store, and include margins to show overall totals and averages."
   ]
  },
  {
   "cell_type": "code",
   "execution_count": null,
   "id": "4297b79b",
   "metadata": {},
   "outputs": [],
   "source": []
  }
 ],
 "metadata": {
  "kernelspec": {
   "display_name": "Python 3 (ipykernel)",
   "language": "python",
   "name": "python3"
  },
  "language_info": {
   "codemirror_mode": {
    "name": "ipython",
    "version": 3
   },
   "file_extension": ".py",
   "mimetype": "text/x-python",
   "name": "python",
   "nbconvert_exporter": "python",
   "pygments_lexer": "ipython3",
   "version": "3.10.9"
  }
 },
 "nbformat": 4,
 "nbformat_minor": 5
}
