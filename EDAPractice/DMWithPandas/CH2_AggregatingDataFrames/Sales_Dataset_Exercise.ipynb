{
 "cells": [
  {
   "cell_type": "code",
   "execution_count": 1,
   "id": "7a3924fe",
   "metadata": {},
   "outputs": [],
   "source": [
    "import pandas as pd\n",
    "import numpy as np"
   ]
  },
  {
   "cell_type": "code",
   "execution_count": 3,
   "id": "a8fb4926",
   "metadata": {},
   "outputs": [
    {
     "data": {
      "text/html": [
       "<div>\n",
       "<style scoped>\n",
       "    .dataframe tbody tr th:only-of-type {\n",
       "        vertical-align: middle;\n",
       "    }\n",
       "\n",
       "    .dataframe tbody tr th {\n",
       "        vertical-align: top;\n",
       "    }\n",
       "\n",
       "    .dataframe thead th {\n",
       "        text-align: right;\n",
       "    }\n",
       "</style>\n",
       "<table border=\"1\" class=\"dataframe\">\n",
       "  <thead>\n",
       "    <tr style=\"text-align: right;\">\n",
       "      <th></th>\n",
       "      <th>store</th>\n",
       "      <th>type</th>\n",
       "      <th>department</th>\n",
       "      <th>date</th>\n",
       "      <th>weekly_sales</th>\n",
       "      <th>is_holiday</th>\n",
       "      <th>temperature_c</th>\n",
       "      <th>fuel_price_usd_per_l</th>\n",
       "      <th>unemployment</th>\n",
       "    </tr>\n",
       "  </thead>\n",
       "  <tbody>\n",
       "    <tr>\n",
       "      <th>0</th>\n",
       "      <td>1</td>\n",
       "      <td>A</td>\n",
       "      <td>1</td>\n",
       "      <td>2010-02-05</td>\n",
       "      <td>24924.50</td>\n",
       "      <td>False</td>\n",
       "      <td>5.727778</td>\n",
       "      <td>0.679451</td>\n",
       "      <td>8.106</td>\n",
       "    </tr>\n",
       "    <tr>\n",
       "      <th>1</th>\n",
       "      <td>1</td>\n",
       "      <td>A</td>\n",
       "      <td>1</td>\n",
       "      <td>2010-03-05</td>\n",
       "      <td>21827.90</td>\n",
       "      <td>False</td>\n",
       "      <td>8.055556</td>\n",
       "      <td>0.693452</td>\n",
       "      <td>8.106</td>\n",
       "    </tr>\n",
       "    <tr>\n",
       "      <th>2</th>\n",
       "      <td>1</td>\n",
       "      <td>A</td>\n",
       "      <td>1</td>\n",
       "      <td>2010-04-02</td>\n",
       "      <td>57258.43</td>\n",
       "      <td>False</td>\n",
       "      <td>16.816667</td>\n",
       "      <td>0.718284</td>\n",
       "      <td>7.808</td>\n",
       "    </tr>\n",
       "    <tr>\n",
       "      <th>3</th>\n",
       "      <td>1</td>\n",
       "      <td>A</td>\n",
       "      <td>1</td>\n",
       "      <td>2010-05-07</td>\n",
       "      <td>17413.94</td>\n",
       "      <td>False</td>\n",
       "      <td>22.527778</td>\n",
       "      <td>0.748928</td>\n",
       "      <td>7.808</td>\n",
       "    </tr>\n",
       "    <tr>\n",
       "      <th>4</th>\n",
       "      <td>1</td>\n",
       "      <td>A</td>\n",
       "      <td>1</td>\n",
       "      <td>2010-06-04</td>\n",
       "      <td>17558.09</td>\n",
       "      <td>False</td>\n",
       "      <td>27.050000</td>\n",
       "      <td>0.714586</td>\n",
       "      <td>7.808</td>\n",
       "    </tr>\n",
       "  </tbody>\n",
       "</table>\n",
       "</div>"
      ],
      "text/plain": [
       "   store type  department        date  weekly_sales  is_holiday  \\\n",
       "0      1    A           1  2010-02-05      24924.50       False   \n",
       "1      1    A           1  2010-03-05      21827.90       False   \n",
       "2      1    A           1  2010-04-02      57258.43       False   \n",
       "3      1    A           1  2010-05-07      17413.94       False   \n",
       "4      1    A           1  2010-06-04      17558.09       False   \n",
       "\n",
       "   temperature_c  fuel_price_usd_per_l  unemployment  \n",
       "0       5.727778              0.679451         8.106  \n",
       "1       8.055556              0.693452         8.106  \n",
       "2      16.816667              0.718284         7.808  \n",
       "3      22.527778              0.748928         7.808  \n",
       "4      27.050000              0.714586         7.808  "
      ]
     },
     "execution_count": 3,
     "metadata": {},
     "output_type": "execute_result"
    }
   ],
   "source": [
    "sales = pd.read_csv('../../sales_subset.csv', index_col=0)\n",
    "sales.head()"
   ]
  },
  {
   "cell_type": "markdown",
   "id": "d183dcb9",
   "metadata": {},
   "source": [
    "Problem 1: Summary Statistics, Sorting, and Subsetting\n",
    "\n",
    "1.\tCalculate Summary Statistics and Subset the Data\n",
    "\n",
    "o\tCalculate the mean, median, and standard deviation of the weekly_sales column.\n",
    "\n",
    "o\tSort the dataset by weekly_sales in descending order.\n",
    "\n",
    "o\tCreate a subset of transactions that occurred in the year 2010.\n",
    "\n",
    "o\tQuestions:\n",
    "\n",
    "1.\tWhat are the mean, median, and standard deviation of the weekly_sales?\n",
    "\n",
    "2.\tWhich transaction has the highest weekly_sales?\n",
    "\n",
    "3.\tHow many transactions occurred in the year 2010?\n",
    "\n",
    "4.\tWhat are the earliest and latest transaction dates in this subset?\n"
   ]
  },
  {
   "cell_type": "code",
   "execution_count": 4,
   "id": "f8023037",
   "metadata": {},
   "outputs": [
    {
     "data": {
      "text/plain": [
       "mean      23843.950149\n",
       "median    12049.065000\n",
       "std       30220.387557\n",
       "Name: weekly_sales, dtype: float64"
      ]
     },
     "execution_count": 4,
     "metadata": {},
     "output_type": "execute_result"
    }
   ],
   "source": [
    "# 1.\tWhat are the mean, median, and standard deviation of the weekly_sales?\n",
    "sales['weekly_sales'].agg([np.mean, np.median, np.std])"
   ]
  },
  {
   "cell_type": "code",
   "execution_count": 11,
   "id": "1195d3d9",
   "metadata": {},
   "outputs": [
    {
     "name": "stdout",
     "output_type": "stream",
     "text": [
      "6201\n"
     ]
    },
    {
     "data": {
      "text/html": [
       "<div>\n",
       "<style scoped>\n",
       "    .dataframe tbody tr th:only-of-type {\n",
       "        vertical-align: middle;\n",
       "    }\n",
       "\n",
       "    .dataframe tbody tr th {\n",
       "        vertical-align: top;\n",
       "    }\n",
       "\n",
       "    .dataframe thead th {\n",
       "        text-align: right;\n",
       "    }\n",
       "</style>\n",
       "<table border=\"1\" class=\"dataframe\">\n",
       "  <thead>\n",
       "    <tr style=\"text-align: right;\">\n",
       "      <th></th>\n",
       "      <th>store</th>\n",
       "      <th>type</th>\n",
       "      <th>department</th>\n",
       "      <th>date</th>\n",
       "      <th>weekly_sales</th>\n",
       "      <th>is_holiday</th>\n",
       "      <th>temperature_c</th>\n",
       "      <th>fuel_price_usd_per_l</th>\n",
       "      <th>unemployment</th>\n",
       "    </tr>\n",
       "  </thead>\n",
       "  <tbody>\n",
       "    <tr>\n",
       "      <th>6201</th>\n",
       "      <td>14</td>\n",
       "      <td>A</td>\n",
       "      <td>92</td>\n",
       "      <td>2010-02-05</td>\n",
       "      <td>293966.05</td>\n",
       "      <td>False</td>\n",
       "      <td>-2.605556</td>\n",
       "      <td>0.735455</td>\n",
       "      <td>8.992</td>\n",
       "    </tr>\n",
       "    <tr>\n",
       "      <th>4271</th>\n",
       "      <td>10</td>\n",
       "      <td>B</td>\n",
       "      <td>72</td>\n",
       "      <td>2010-02-05</td>\n",
       "      <td>232558.51</td>\n",
       "      <td>False</td>\n",
       "      <td>12.411111</td>\n",
       "      <td>0.782478</td>\n",
       "      <td>9.765</td>\n",
       "    </tr>\n",
       "    <tr>\n",
       "      <th>4281</th>\n",
       "      <td>10</td>\n",
       "      <td>B</td>\n",
       "      <td>72</td>\n",
       "      <td>2010-12-03</td>\n",
       "      <td>218559.54</td>\n",
       "      <td>False</td>\n",
       "      <td>10.650000</td>\n",
       "      <td>0.803348</td>\n",
       "      <td>9.003</td>\n",
       "    </tr>\n",
       "    <tr>\n",
       "      <th>6202</th>\n",
       "      <td>14</td>\n",
       "      <td>A</td>\n",
       "      <td>92</td>\n",
       "      <td>2010-03-05</td>\n",
       "      <td>214383.07</td>\n",
       "      <td>False</td>\n",
       "      <td>2.850000</td>\n",
       "      <td>0.733606</td>\n",
       "      <td>8.992</td>\n",
       "    </tr>\n",
       "    <tr>\n",
       "      <th>6237</th>\n",
       "      <td>14</td>\n",
       "      <td>A</td>\n",
       "      <td>95</td>\n",
       "      <td>2010-02-05</td>\n",
       "      <td>213042.66</td>\n",
       "      <td>False</td>\n",
       "      <td>-2.605556</td>\n",
       "      <td>0.735455</td>\n",
       "      <td>8.992</td>\n",
       "    </tr>\n",
       "  </tbody>\n",
       "</table>\n",
       "</div>"
      ],
      "text/plain": [
       "      store type  department        date  weekly_sales  is_holiday  \\\n",
       "6201     14    A          92  2010-02-05     293966.05       False   \n",
       "4271     10    B          72  2010-02-05     232558.51       False   \n",
       "4281     10    B          72  2010-12-03     218559.54       False   \n",
       "6202     14    A          92  2010-03-05     214383.07       False   \n",
       "6237     14    A          95  2010-02-05     213042.66       False   \n",
       "\n",
       "      temperature_c  fuel_price_usd_per_l  unemployment  \n",
       "6201      -2.605556              0.735455         8.992  \n",
       "4271      12.411111              0.782478         9.765  \n",
       "4281      10.650000              0.803348         9.003  \n",
       "6202       2.850000              0.733606         8.992  \n",
       "6237      -2.605556              0.735455         8.992  "
      ]
     },
     "execution_count": 11,
     "metadata": {},
     "output_type": "execute_result"
    }
   ],
   "source": [
    "# 2.\tWhich transaction has the highest weekly_sales?\n",
    "sales_weekly_sales = sales.sort_values('weekly_sales', ascending=False)\n",
    "print(sales_weekly_sales.index[0])\n",
    "sales_weekly_sales.head()"
   ]
  },
  {
   "cell_type": "code",
   "execution_count": 17,
   "id": "3f28a604",
   "metadata": {},
   "outputs": [
    {
     "data": {
      "text/plain": [
       "9613"
      ]
     },
     "execution_count": 17,
     "metadata": {},
     "output_type": "execute_result"
    }
   ],
   "source": [
    "# 3.\tHow many transactions occurred in the year 2010?\n",
    "sales_weekly_sales['date'].str.contains('2010').sum()"
   ]
  },
  {
   "cell_type": "code",
   "execution_count": 15,
   "id": "9064730f",
   "metadata": {},
   "outputs": [
    {
     "name": "stdout",
     "output_type": "stream",
     "text": [
      "<class 'pandas.core.frame.DataFrame'>\n",
      "Int64Index: 10774 entries, 6201 to 1420\n",
      "Data columns (total 9 columns):\n",
      " #   Column                Non-Null Count  Dtype  \n",
      "---  ------                --------------  -----  \n",
      " 0   store                 10774 non-null  int64  \n",
      " 1   type                  10774 non-null  object \n",
      " 2   department            10774 non-null  int64  \n",
      " 3   date                  10774 non-null  object \n",
      " 4   weekly_sales          10774 non-null  float64\n",
      " 5   is_holiday            10774 non-null  bool   \n",
      " 6   temperature_c         10774 non-null  float64\n",
      " 7   fuel_price_usd_per_l  10774 non-null  float64\n",
      " 8   unemployment          10774 non-null  float64\n",
      "dtypes: bool(1), float64(4), int64(2), object(2)\n",
      "memory usage: 768.1+ KB\n"
     ]
    }
   ],
   "source": [
    "sales_weekly_sales.info()"
   ]
  },
  {
   "cell_type": "code",
   "execution_count": 20,
   "id": "bbfa31cd",
   "metadata": {},
   "outputs": [
    {
     "name": "stdout",
     "output_type": "stream",
     "text": [
      "earliest transaction 2010-02-05\n",
      "latest transaction 2012-10-26\n"
     ]
    }
   ],
   "source": [
    "# 4.\tWhat are the earliest and latest transaction dates in this subset?\n",
    "print('earliest transaction {}'.format(sales_weekly_sales['date'].min()))\n",
    "print('latest transaction {}'.format(sales_weekly_sales['date'].max()))"
   ]
  },
  {
   "cell_type": "code",
   "execution_count": null,
   "id": "866e86dc",
   "metadata": {},
   "outputs": [],
   "source": []
  }
 ],
 "metadata": {
  "kernelspec": {
   "display_name": "Python 3 (ipykernel)",
   "language": "python",
   "name": "python3"
  },
  "language_info": {
   "codemirror_mode": {
    "name": "ipython",
    "version": 3
   },
   "file_extension": ".py",
   "mimetype": "text/x-python",
   "name": "python",
   "nbconvert_exporter": "python",
   "pygments_lexer": "ipython3",
   "version": "3.10.9"
  }
 },
 "nbformat": 4,
 "nbformat_minor": 5
}
