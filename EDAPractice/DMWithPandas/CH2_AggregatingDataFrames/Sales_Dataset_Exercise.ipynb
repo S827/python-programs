{
 "cells": [
  {
   "cell_type": "code",
   "execution_count": 1,
   "id": "4236eea2",
   "metadata": {},
   "outputs": [],
   "source": [
    "import pandas as pd\n",
    "import numpy as np"
   ]
  },
  {
   "cell_type": "code",
   "execution_count": 3,
   "id": "f36495cf",
   "metadata": {},
   "outputs": [
    {
     "data": {
      "text/html": [
       "<div>\n",
       "<style scoped>\n",
       "    .dataframe tbody tr th:only-of-type {\n",
       "        vertical-align: middle;\n",
       "    }\n",
       "\n",
       "    .dataframe tbody tr th {\n",
       "        vertical-align: top;\n",
       "    }\n",
       "\n",
       "    .dataframe thead th {\n",
       "        text-align: right;\n",
       "    }\n",
       "</style>\n",
       "<table border=\"1\" class=\"dataframe\">\n",
       "  <thead>\n",
       "    <tr style=\"text-align: right;\">\n",
       "      <th></th>\n",
       "      <th>store</th>\n",
       "      <th>type</th>\n",
       "      <th>department</th>\n",
       "      <th>date</th>\n",
       "      <th>weekly_sales</th>\n",
       "      <th>is_holiday</th>\n",
       "      <th>temperature_c</th>\n",
       "      <th>fuel_price_usd_per_l</th>\n",
       "      <th>unemployment</th>\n",
       "    </tr>\n",
       "  </thead>\n",
       "  <tbody>\n",
       "    <tr>\n",
       "      <th>0</th>\n",
       "      <td>1</td>\n",
       "      <td>A</td>\n",
       "      <td>1</td>\n",
       "      <td>2010-02-05</td>\n",
       "      <td>24924.50</td>\n",
       "      <td>False</td>\n",
       "      <td>5.727778</td>\n",
       "      <td>0.679451</td>\n",
       "      <td>8.106</td>\n",
       "    </tr>\n",
       "    <tr>\n",
       "      <th>1</th>\n",
       "      <td>1</td>\n",
       "      <td>A</td>\n",
       "      <td>1</td>\n",
       "      <td>2010-03-05</td>\n",
       "      <td>21827.90</td>\n",
       "      <td>False</td>\n",
       "      <td>8.055556</td>\n",
       "      <td>0.693452</td>\n",
       "      <td>8.106</td>\n",
       "    </tr>\n",
       "    <tr>\n",
       "      <th>2</th>\n",
       "      <td>1</td>\n",
       "      <td>A</td>\n",
       "      <td>1</td>\n",
       "      <td>2010-04-02</td>\n",
       "      <td>57258.43</td>\n",
       "      <td>False</td>\n",
       "      <td>16.816667</td>\n",
       "      <td>0.718284</td>\n",
       "      <td>7.808</td>\n",
       "    </tr>\n",
       "    <tr>\n",
       "      <th>3</th>\n",
       "      <td>1</td>\n",
       "      <td>A</td>\n",
       "      <td>1</td>\n",
       "      <td>2010-05-07</td>\n",
       "      <td>17413.94</td>\n",
       "      <td>False</td>\n",
       "      <td>22.527778</td>\n",
       "      <td>0.748928</td>\n",
       "      <td>7.808</td>\n",
       "    </tr>\n",
       "    <tr>\n",
       "      <th>4</th>\n",
       "      <td>1</td>\n",
       "      <td>A</td>\n",
       "      <td>1</td>\n",
       "      <td>2010-06-04</td>\n",
       "      <td>17558.09</td>\n",
       "      <td>False</td>\n",
       "      <td>27.050000</td>\n",
       "      <td>0.714586</td>\n",
       "      <td>7.808</td>\n",
       "    </tr>\n",
       "  </tbody>\n",
       "</table>\n",
       "</div>"
      ],
      "text/plain": [
       "   store type  department        date  weekly_sales  is_holiday  \\\n",
       "0      1    A           1  2010-02-05      24924.50       False   \n",
       "1      1    A           1  2010-03-05      21827.90       False   \n",
       "2      1    A           1  2010-04-02      57258.43       False   \n",
       "3      1    A           1  2010-05-07      17413.94       False   \n",
       "4      1    A           1  2010-06-04      17558.09       False   \n",
       "\n",
       "   temperature_c  fuel_price_usd_per_l  unemployment  \n",
       "0       5.727778              0.679451         8.106  \n",
       "1       8.055556              0.693452         8.106  \n",
       "2      16.816667              0.718284         7.808  \n",
       "3      22.527778              0.748928         7.808  \n",
       "4      27.050000              0.714586         7.808  "
      ]
     },
     "execution_count": 3,
     "metadata": {},
     "output_type": "execute_result"
    }
   ],
   "source": [
    "sales = pd.read_csv('../../sales_subset.csv', index_col=0)\n",
    "sales.head()"
   ]
  },
  {
   "cell_type": "markdown",
   "id": "e7402e32",
   "metadata": {},
   "source": [
    "Problem 1: Summary Statistics, Sorting, and Subsetting\n",
    "\n",
    "1.\tCalculate Summary Statistics and Subset the Data\n",
    "\n",
    "o\tCalculate the mean, median, and standard deviation of the weekly_sales column.\n",
    "\n",
    "o\tSort the dataset by weekly_sales in descending order.\n",
    "\n",
    "o\tCreate a subset of transactions that occurred in the year 2010.\n",
    "\n",
    "o\tQuestions:\n",
    "\n",
    "1.\tWhat are the mean, median, and standard deviation of the weekly_sales?\n",
    "\n",
    "2.\tWhich transaction has the highest weekly_sales?\n",
    "\n",
    "3.\tHow many transactions occurred in the year 2010?\n",
    "\n",
    "4.\tWhat are the earliest and latest transaction dates in this subset?\n"
   ]
  },
  {
   "cell_type": "code",
   "execution_count": 4,
   "id": "8e1ced90",
   "metadata": {},
   "outputs": [
    {
     "data": {
      "text/plain": [
       "mean      23843.950149\n",
       "median    12049.065000\n",
       "std       30220.387557\n",
       "Name: weekly_sales, dtype: float64"
      ]
     },
     "execution_count": 4,
     "metadata": {},
     "output_type": "execute_result"
    }
   ],
   "source": [
    "# 1.\tWhat are the mean, median, and standard deviation of the weekly_sales?\n",
    "sales['weekly_sales'].agg([np.mean, np.median, np.std])"
   ]
  },
  {
   "cell_type": "code",
   "execution_count": 11,
   "id": "a23d5ddc",
   "metadata": {},
   "outputs": [
    {
     "name": "stdout",
     "output_type": "stream",
     "text": [
      "6201\n"
     ]
    },
    {
     "data": {
      "text/html": [
       "<div>\n",
       "<style scoped>\n",
       "    .dataframe tbody tr th:only-of-type {\n",
       "        vertical-align: middle;\n",
       "    }\n",
       "\n",
       "    .dataframe tbody tr th {\n",
       "        vertical-align: top;\n",
       "    }\n",
       "\n",
       "    .dataframe thead th {\n",
       "        text-align: right;\n",
       "    }\n",
       "</style>\n",
       "<table border=\"1\" class=\"dataframe\">\n",
       "  <thead>\n",
       "    <tr style=\"text-align: right;\">\n",
       "      <th></th>\n",
       "      <th>store</th>\n",
       "      <th>type</th>\n",
       "      <th>department</th>\n",
       "      <th>date</th>\n",
       "      <th>weekly_sales</th>\n",
       "      <th>is_holiday</th>\n",
       "      <th>temperature_c</th>\n",
       "      <th>fuel_price_usd_per_l</th>\n",
       "      <th>unemployment</th>\n",
       "    </tr>\n",
       "  </thead>\n",
       "  <tbody>\n",
       "    <tr>\n",
       "      <th>6201</th>\n",
       "      <td>14</td>\n",
       "      <td>A</td>\n",
       "      <td>92</td>\n",
       "      <td>2010-02-05</td>\n",
       "      <td>293966.05</td>\n",
       "      <td>False</td>\n",
       "      <td>-2.605556</td>\n",
       "      <td>0.735455</td>\n",
       "      <td>8.992</td>\n",
       "    </tr>\n",
       "    <tr>\n",
       "      <th>4271</th>\n",
       "      <td>10</td>\n",
       "      <td>B</td>\n",
       "      <td>72</td>\n",
       "      <td>2010-02-05</td>\n",
       "      <td>232558.51</td>\n",
       "      <td>False</td>\n",
       "      <td>12.411111</td>\n",
       "      <td>0.782478</td>\n",
       "      <td>9.765</td>\n",
       "    </tr>\n",
       "    <tr>\n",
       "      <th>4281</th>\n",
       "      <td>10</td>\n",
       "      <td>B</td>\n",
       "      <td>72</td>\n",
       "      <td>2010-12-03</td>\n",
       "      <td>218559.54</td>\n",
       "      <td>False</td>\n",
       "      <td>10.650000</td>\n",
       "      <td>0.803348</td>\n",
       "      <td>9.003</td>\n",
       "    </tr>\n",
       "    <tr>\n",
       "      <th>6202</th>\n",
       "      <td>14</td>\n",
       "      <td>A</td>\n",
       "      <td>92</td>\n",
       "      <td>2010-03-05</td>\n",
       "      <td>214383.07</td>\n",
       "      <td>False</td>\n",
       "      <td>2.850000</td>\n",
       "      <td>0.733606</td>\n",
       "      <td>8.992</td>\n",
       "    </tr>\n",
       "    <tr>\n",
       "      <th>6237</th>\n",
       "      <td>14</td>\n",
       "      <td>A</td>\n",
       "      <td>95</td>\n",
       "      <td>2010-02-05</td>\n",
       "      <td>213042.66</td>\n",
       "      <td>False</td>\n",
       "      <td>-2.605556</td>\n",
       "      <td>0.735455</td>\n",
       "      <td>8.992</td>\n",
       "    </tr>\n",
       "  </tbody>\n",
       "</table>\n",
       "</div>"
      ],
      "text/plain": [
       "      store type  department        date  weekly_sales  is_holiday  \\\n",
       "6201     14    A          92  2010-02-05     293966.05       False   \n",
       "4271     10    B          72  2010-02-05     232558.51       False   \n",
       "4281     10    B          72  2010-12-03     218559.54       False   \n",
       "6202     14    A          92  2010-03-05     214383.07       False   \n",
       "6237     14    A          95  2010-02-05     213042.66       False   \n",
       "\n",
       "      temperature_c  fuel_price_usd_per_l  unemployment  \n",
       "6201      -2.605556              0.735455         8.992  \n",
       "4271      12.411111              0.782478         9.765  \n",
       "4281      10.650000              0.803348         9.003  \n",
       "6202       2.850000              0.733606         8.992  \n",
       "6237      -2.605556              0.735455         8.992  "
      ]
     },
     "execution_count": 11,
     "metadata": {},
     "output_type": "execute_result"
    }
   ],
   "source": [
    "# 2.\tWhich transaction has the highest weekly_sales?\n",
    "sales_weekly_sales = sales.sort_values('weekly_sales', ascending=False)\n",
    "print(sales_weekly_sales.index[0])\n",
    "sales_weekly_sales.head()"
   ]
  },
  {
   "cell_type": "code",
   "execution_count": 17,
   "id": "b643c238",
   "metadata": {},
   "outputs": [
    {
     "data": {
      "text/plain": [
       "9613"
      ]
     },
     "execution_count": 17,
     "metadata": {},
     "output_type": "execute_result"
    }
   ],
   "source": [
    "# 3.\tHow many transactions occurred in the year 2010?\n",
    "sales_weekly_sales['date'].str.contains('2010').sum()"
   ]
  },
  {
   "cell_type": "code",
   "execution_count": 15,
   "id": "a69f8972",
   "metadata": {},
   "outputs": [
    {
     "name": "stdout",
     "output_type": "stream",
     "text": [
      "<class 'pandas.core.frame.DataFrame'>\n",
      "Int64Index: 10774 entries, 6201 to 1420\n",
      "Data columns (total 9 columns):\n",
      " #   Column                Non-Null Count  Dtype  \n",
      "---  ------                --------------  -----  \n",
      " 0   store                 10774 non-null  int64  \n",
      " 1   type                  10774 non-null  object \n",
      " 2   department            10774 non-null  int64  \n",
      " 3   date                  10774 non-null  object \n",
      " 4   weekly_sales          10774 non-null  float64\n",
      " 5   is_holiday            10774 non-null  bool   \n",
      " 6   temperature_c         10774 non-null  float64\n",
      " 7   fuel_price_usd_per_l  10774 non-null  float64\n",
      " 8   unemployment          10774 non-null  float64\n",
      "dtypes: bool(1), float64(4), int64(2), object(2)\n",
      "memory usage: 768.1+ KB\n"
     ]
    }
   ],
   "source": [
    "sales_weekly_sales.info()"
   ]
  },
  {
   "cell_type": "code",
   "execution_count": 20,
   "id": "8919249b",
   "metadata": {},
   "outputs": [
    {
     "name": "stdout",
     "output_type": "stream",
     "text": [
      "earliest transaction 2010-02-05\n",
      "latest transaction 2012-10-26\n"
     ]
    }
   ],
   "source": [
    "# 4.\tWhat are the earliest and latest transaction dates in this subset?\n",
    "print('earliest transaction {}'.format(sales_weekly_sales['date'].min()))\n",
    "print('latest transaction {}'.format(sales_weekly_sales['date'].max()))"
   ]
  },
  {
   "cell_type": "markdown",
   "id": "43755758",
   "metadata": {},
   "source": [
    "## Problem 2: Creating New Columns, Aggregating, and Cumulative Statistics\n",
    "\n",
    "o\tCreate a New Column and Aggregate Statistics\n",
    "\n",
    "o\tCreate a new column adjusted_sales by dividing weekly_sales by fuel_price_usd_per_l.\n",
    "\n",
    "o\tUse the .agg() method to calculate the mean, median, and sum of the adjusted_sales column.\n",
    "\n",
    "o\tCalculate the cumulative sum and cumulative maximum of the adjusted_sales column.\n",
    "\n",
    "o\tQuestions:\n",
    "\n",
    "1.\tWhat are the mean, median, and sum of the adjusted_sales?\n",
    "\n",
    "2.\tWhat is the cumulative sum of adjusted_sales up to the 10th transaction?\n",
    "\n",
    "3.\tWhat is the cumulative maximum adjusted_sales up to the 10th transaction?\n"
   ]
  },
  {
   "cell_type": "code",
   "execution_count": 21,
   "id": "12bc0467",
   "metadata": {},
   "outputs": [
    {
     "data": {
      "text/html": [
       "<div>\n",
       "<style scoped>\n",
       "    .dataframe tbody tr th:only-of-type {\n",
       "        vertical-align: middle;\n",
       "    }\n",
       "\n",
       "    .dataframe tbody tr th {\n",
       "        vertical-align: top;\n",
       "    }\n",
       "\n",
       "    .dataframe thead th {\n",
       "        text-align: right;\n",
       "    }\n",
       "</style>\n",
       "<table border=\"1\" class=\"dataframe\">\n",
       "  <thead>\n",
       "    <tr style=\"text-align: right;\">\n",
       "      <th></th>\n",
       "      <th>store</th>\n",
       "      <th>type</th>\n",
       "      <th>department</th>\n",
       "      <th>date</th>\n",
       "      <th>weekly_sales</th>\n",
       "      <th>is_holiday</th>\n",
       "      <th>temperature_c</th>\n",
       "      <th>fuel_price_usd_per_l</th>\n",
       "      <th>unemployment</th>\n",
       "    </tr>\n",
       "  </thead>\n",
       "  <tbody>\n",
       "    <tr>\n",
       "      <th>0</th>\n",
       "      <td>1</td>\n",
       "      <td>A</td>\n",
       "      <td>1</td>\n",
       "      <td>2010-02-05</td>\n",
       "      <td>24924.50</td>\n",
       "      <td>False</td>\n",
       "      <td>5.727778</td>\n",
       "      <td>0.679451</td>\n",
       "      <td>8.106</td>\n",
       "    </tr>\n",
       "    <tr>\n",
       "      <th>1</th>\n",
       "      <td>1</td>\n",
       "      <td>A</td>\n",
       "      <td>1</td>\n",
       "      <td>2010-03-05</td>\n",
       "      <td>21827.90</td>\n",
       "      <td>False</td>\n",
       "      <td>8.055556</td>\n",
       "      <td>0.693452</td>\n",
       "      <td>8.106</td>\n",
       "    </tr>\n",
       "    <tr>\n",
       "      <th>2</th>\n",
       "      <td>1</td>\n",
       "      <td>A</td>\n",
       "      <td>1</td>\n",
       "      <td>2010-04-02</td>\n",
       "      <td>57258.43</td>\n",
       "      <td>False</td>\n",
       "      <td>16.816667</td>\n",
       "      <td>0.718284</td>\n",
       "      <td>7.808</td>\n",
       "    </tr>\n",
       "    <tr>\n",
       "      <th>3</th>\n",
       "      <td>1</td>\n",
       "      <td>A</td>\n",
       "      <td>1</td>\n",
       "      <td>2010-05-07</td>\n",
       "      <td>17413.94</td>\n",
       "      <td>False</td>\n",
       "      <td>22.527778</td>\n",
       "      <td>0.748928</td>\n",
       "      <td>7.808</td>\n",
       "    </tr>\n",
       "    <tr>\n",
       "      <th>4</th>\n",
       "      <td>1</td>\n",
       "      <td>A</td>\n",
       "      <td>1</td>\n",
       "      <td>2010-06-04</td>\n",
       "      <td>17558.09</td>\n",
       "      <td>False</td>\n",
       "      <td>27.050000</td>\n",
       "      <td>0.714586</td>\n",
       "      <td>7.808</td>\n",
       "    </tr>\n",
       "  </tbody>\n",
       "</table>\n",
       "</div>"
      ],
      "text/plain": [
       "   store type  department        date  weekly_sales  is_holiday  \\\n",
       "0      1    A           1  2010-02-05      24924.50       False   \n",
       "1      1    A           1  2010-03-05      21827.90       False   \n",
       "2      1    A           1  2010-04-02      57258.43       False   \n",
       "3      1    A           1  2010-05-07      17413.94       False   \n",
       "4      1    A           1  2010-06-04      17558.09       False   \n",
       "\n",
       "   temperature_c  fuel_price_usd_per_l  unemployment  \n",
       "0       5.727778              0.679451         8.106  \n",
       "1       8.055556              0.693452         8.106  \n",
       "2      16.816667              0.718284         7.808  \n",
       "3      22.527778              0.748928         7.808  \n",
       "4      27.050000              0.714586         7.808  "
      ]
     },
     "execution_count": 21,
     "metadata": {},
     "output_type": "execute_result"
    }
   ],
   "source": [
    "sales.head()"
   ]
  },
  {
   "cell_type": "code",
   "execution_count": 22,
   "id": "0db8179b",
   "metadata": {},
   "outputs": [
    {
     "data": {
      "text/html": [
       "<div>\n",
       "<style scoped>\n",
       "    .dataframe tbody tr th:only-of-type {\n",
       "        vertical-align: middle;\n",
       "    }\n",
       "\n",
       "    .dataframe tbody tr th {\n",
       "        vertical-align: top;\n",
       "    }\n",
       "\n",
       "    .dataframe thead th {\n",
       "        text-align: right;\n",
       "    }\n",
       "</style>\n",
       "<table border=\"1\" class=\"dataframe\">\n",
       "  <thead>\n",
       "    <tr style=\"text-align: right;\">\n",
       "      <th></th>\n",
       "      <th>store</th>\n",
       "      <th>type</th>\n",
       "      <th>department</th>\n",
       "      <th>date</th>\n",
       "      <th>weekly_sales</th>\n",
       "      <th>is_holiday</th>\n",
       "      <th>temperature_c</th>\n",
       "      <th>fuel_price_usd_per_l</th>\n",
       "      <th>unemployment</th>\n",
       "      <th>adjusted_sales</th>\n",
       "    </tr>\n",
       "  </thead>\n",
       "  <tbody>\n",
       "    <tr>\n",
       "      <th>0</th>\n",
       "      <td>1</td>\n",
       "      <td>A</td>\n",
       "      <td>1</td>\n",
       "      <td>2010-02-05</td>\n",
       "      <td>24924.50</td>\n",
       "      <td>False</td>\n",
       "      <td>5.727778</td>\n",
       "      <td>0.679451</td>\n",
       "      <td>8.106</td>\n",
       "      <td>36683.301534</td>\n",
       "    </tr>\n",
       "    <tr>\n",
       "      <th>1</th>\n",
       "      <td>1</td>\n",
       "      <td>A</td>\n",
       "      <td>1</td>\n",
       "      <td>2010-03-05</td>\n",
       "      <td>21827.90</td>\n",
       "      <td>False</td>\n",
       "      <td>8.055556</td>\n",
       "      <td>0.693452</td>\n",
       "      <td>8.106</td>\n",
       "      <td>31477.162262</td>\n",
       "    </tr>\n",
       "    <tr>\n",
       "      <th>2</th>\n",
       "      <td>1</td>\n",
       "      <td>A</td>\n",
       "      <td>1</td>\n",
       "      <td>2010-04-02</td>\n",
       "      <td>57258.43</td>\n",
       "      <td>False</td>\n",
       "      <td>16.816667</td>\n",
       "      <td>0.718284</td>\n",
       "      <td>7.808</td>\n",
       "      <td>79715.569513</td>\n",
       "    </tr>\n",
       "    <tr>\n",
       "      <th>3</th>\n",
       "      <td>1</td>\n",
       "      <td>A</td>\n",
       "      <td>1</td>\n",
       "      <td>2010-05-07</td>\n",
       "      <td>17413.94</td>\n",
       "      <td>False</td>\n",
       "      <td>22.527778</td>\n",
       "      <td>0.748928</td>\n",
       "      <td>7.808</td>\n",
       "      <td>23251.817501</td>\n",
       "    </tr>\n",
       "    <tr>\n",
       "      <th>4</th>\n",
       "      <td>1</td>\n",
       "      <td>A</td>\n",
       "      <td>1</td>\n",
       "      <td>2010-06-04</td>\n",
       "      <td>17558.09</td>\n",
       "      <td>False</td>\n",
       "      <td>27.050000</td>\n",
       "      <td>0.714586</td>\n",
       "      <td>7.808</td>\n",
       "      <td>24571.005348</td>\n",
       "    </tr>\n",
       "  </tbody>\n",
       "</table>\n",
       "</div>"
      ],
      "text/plain": [
       "   store type  department        date  weekly_sales  is_holiday  \\\n",
       "0      1    A           1  2010-02-05      24924.50       False   \n",
       "1      1    A           1  2010-03-05      21827.90       False   \n",
       "2      1    A           1  2010-04-02      57258.43       False   \n",
       "3      1    A           1  2010-05-07      17413.94       False   \n",
       "4      1    A           1  2010-06-04      17558.09       False   \n",
       "\n",
       "   temperature_c  fuel_price_usd_per_l  unemployment  adjusted_sales  \n",
       "0       5.727778              0.679451         8.106    36683.301534  \n",
       "1       8.055556              0.693452         8.106    31477.162262  \n",
       "2      16.816667              0.718284         7.808    79715.569513  \n",
       "3      22.527778              0.748928         7.808    23251.817501  \n",
       "4      27.050000              0.714586         7.808    24571.005348  "
      ]
     },
     "execution_count": 22,
     "metadata": {},
     "output_type": "execute_result"
    }
   ],
   "source": [
    "sales['adjusted_sales']  = sales['weekly_sales'] /  sales['fuel_price_usd_per_l']\n",
    "sales.head()"
   ]
  },
  {
   "cell_type": "code",
   "execution_count": 23,
   "id": "9211e1cf",
   "metadata": {},
   "outputs": [
    {
     "data": {
      "text/plain": [
       "mean      3.211381e+04\n",
       "median    1.624979e+04\n",
       "sum       3.459942e+08\n",
       "Name: adjusted_sales, dtype: float64"
      ]
     },
     "execution_count": 23,
     "metadata": {},
     "output_type": "execute_result"
    }
   ],
   "source": [
    "# 1.\tWhat are the mean, median, and sum of the adjusted_sales?\n",
    "sales['adjusted_sales'].agg([np.mean, np.median, np.sum])"
   ]
  },
  {
   "cell_type": "code",
   "execution_count": 25,
   "id": "be64d350",
   "metadata": {},
   "outputs": [
    {
     "data": {
      "text/plain": [
       "0     36683.301534\n",
       "1     68160.463796\n",
       "2    147876.033309\n",
       "3    171127.850810\n",
       "4    195698.856159\n",
       "5    218863.948511\n",
       "6    244092.920836\n",
       "7    267950.816230\n",
       "8    297172.770808\n",
       "9    345372.175323\n",
       "Name: adjusted_sales, dtype: float64"
      ]
     },
     "execution_count": 25,
     "metadata": {},
     "output_type": "execute_result"
    }
   ],
   "source": [
    "# 2.\tWhat is the cumulative sum of adjusted_sales up to the 10th transaction?\n",
    "sales['adjusted_sales'].iloc[:10].cumsum()"
   ]
  },
  {
   "cell_type": "code",
   "execution_count": 26,
   "id": "efde2b0b",
   "metadata": {},
   "outputs": [
    {
     "data": {
      "text/plain": [
       "0    36683.301534\n",
       "1    36683.301534\n",
       "2    79715.569513\n",
       "3    79715.569513\n",
       "4    79715.569513\n",
       "5    79715.569513\n",
       "6    79715.569513\n",
       "7    79715.569513\n",
       "8    79715.569513\n",
       "9    79715.569513\n",
       "Name: adjusted_sales, dtype: float64"
      ]
     },
     "execution_count": 26,
     "metadata": {},
     "output_type": "execute_result"
    }
   ],
   "source": [
    "# 3.\tWhat is the cumulative maximum adjusted_sales up to the 10th transaction?\n",
    "sales['adjusted_sales'].iloc[:10].cummax()"
   ]
  },
  {
   "cell_type": "markdown",
   "id": "6f4ac676",
   "metadata": {},
   "source": [
    "### Problem 3: Subsetting, Sorting, and Multiple Summaries\n",
    "\n",
    "o\tSubset, Sort, and Multiple Summaries\n",
    "\n",
    "o\tCreate a subset of transactions where the temperature_c is greater than 20.\n",
    "\n",
    "o\tSort this subset by weekly_sales in descending order.\n",
    "\n",
    "o\tUse the .agg() method to calculate the mean, median, minimum, and maximum for the weekly_sales column in this subset.\n",
    "\n",
    "o\tQuestions:\n",
    "\n",
    "1.\tWhich transaction has the highest weekly_sales in this subset?\n",
    "\n",
    "2.\tWhat are the mean, median, minimum, and maximum of weekly_sales in this subset?\n",
    "\n",
    "3.\tHow many transactions have temperature_c greater than 20?\n"
   ]
  },
  {
   "cell_type": "code",
   "execution_count": 28,
   "id": "81c633f3",
   "metadata": {},
   "outputs": [
    {
     "data": {
      "text/html": [
       "<div>\n",
       "<style scoped>\n",
       "    .dataframe tbody tr th:only-of-type {\n",
       "        vertical-align: middle;\n",
       "    }\n",
       "\n",
       "    .dataframe tbody tr th {\n",
       "        vertical-align: top;\n",
       "    }\n",
       "\n",
       "    .dataframe thead th {\n",
       "        text-align: right;\n",
       "    }\n",
       "</style>\n",
       "<table border=\"1\" class=\"dataframe\">\n",
       "  <thead>\n",
       "    <tr style=\"text-align: right;\">\n",
       "      <th></th>\n",
       "      <th>store</th>\n",
       "      <th>type</th>\n",
       "      <th>department</th>\n",
       "      <th>date</th>\n",
       "      <th>weekly_sales</th>\n",
       "      <th>is_holiday</th>\n",
       "      <th>temperature_c</th>\n",
       "      <th>fuel_price_usd_per_l</th>\n",
       "      <th>unemployment</th>\n",
       "      <th>adjusted_sales</th>\n",
       "    </tr>\n",
       "  </thead>\n",
       "  <tbody>\n",
       "    <tr>\n",
       "      <th>6204</th>\n",
       "      <td>14</td>\n",
       "      <td>A</td>\n",
       "      <td>92</td>\n",
       "      <td>2010-05-07</td>\n",
       "      <td>206160.36</td>\n",
       "      <td>False</td>\n",
       "      <td>21.527778</td>\n",
       "      <td>0.783535</td>\n",
       "      <td>8.899</td>\n",
       "      <td>263115.808613</td>\n",
       "    </tr>\n",
       "    <tr>\n",
       "      <th>6207</th>\n",
       "      <td>14</td>\n",
       "      <td>A</td>\n",
       "      <td>92</td>\n",
       "      <td>2010-08-06</td>\n",
       "      <td>204695.13</td>\n",
       "      <td>False</td>\n",
       "      <td>25.094444</td>\n",
       "      <td>0.735455</td>\n",
       "      <td>8.743</td>\n",
       "      <td>278324.350594</td>\n",
       "    </tr>\n",
       "    <tr>\n",
       "      <th>6208</th>\n",
       "      <td>14</td>\n",
       "      <td>A</td>\n",
       "      <td>92</td>\n",
       "      <td>2010-09-03</td>\n",
       "      <td>198704.92</td>\n",
       "      <td>False</td>\n",
       "      <td>25.761111</td>\n",
       "      <td>0.717227</td>\n",
       "      <td>8.743</td>\n",
       "      <td>277045.889951</td>\n",
       "    </tr>\n",
       "    <tr>\n",
       "      <th>6206</th>\n",
       "      <td>14</td>\n",
       "      <td>A</td>\n",
       "      <td>92</td>\n",
       "      <td>2010-07-02</td>\n",
       "      <td>198349.17</td>\n",
       "      <td>False</td>\n",
       "      <td>24.783333</td>\n",
       "      <td>0.743645</td>\n",
       "      <td>8.743</td>\n",
       "      <td>266725.730590</td>\n",
       "    </tr>\n",
       "    <tr>\n",
       "      <th>6242</th>\n",
       "      <td>14</td>\n",
       "      <td>A</td>\n",
       "      <td>95</td>\n",
       "      <td>2010-07-02</td>\n",
       "      <td>190412.82</td>\n",
       "      <td>False</td>\n",
       "      <td>24.783333</td>\n",
       "      <td>0.743645</td>\n",
       "      <td>8.743</td>\n",
       "      <td>256053.496610</td>\n",
       "    </tr>\n",
       "  </tbody>\n",
       "</table>\n",
       "</div>"
      ],
      "text/plain": [
       "      store type  department        date  weekly_sales  is_holiday  \\\n",
       "6204     14    A          92  2010-05-07     206160.36       False   \n",
       "6207     14    A          92  2010-08-06     204695.13       False   \n",
       "6208     14    A          92  2010-09-03     198704.92       False   \n",
       "6206     14    A          92  2010-07-02     198349.17       False   \n",
       "6242     14    A          95  2010-07-02     190412.82       False   \n",
       "\n",
       "      temperature_c  fuel_price_usd_per_l  unemployment  adjusted_sales  \n",
       "6204      21.527778              0.783535         8.899   263115.808613  \n",
       "6207      25.094444              0.735455         8.743   278324.350594  \n",
       "6208      25.761111              0.717227         8.743   277045.889951  \n",
       "6206      24.783333              0.743645         8.743   266725.730590  \n",
       "6242      24.783333              0.743645         8.743   256053.496610  "
      ]
     },
     "execution_count": 28,
     "metadata": {},
     "output_type": "execute_result"
    }
   ],
   "source": [
    "sales_temp20 = sales[sales['temperature_c'] > 20]\n",
    "sales_temp20 = sales_temp20.sort_values('weekly_sales', ascending=False)\n",
    "sales_temp20.head()"
   ]
  },
  {
   "cell_type": "code",
   "execution_count": 29,
   "id": "d0271bf4",
   "metadata": {},
   "outputs": [
    {
     "data": {
      "text/plain": [
       "mean       23796.231982\n",
       "median     12059.110000\n",
       "amin       -1098.000000\n",
       "amax      206160.360000\n",
       "Name: weekly_sales, dtype: float64"
      ]
     },
     "execution_count": 29,
     "metadata": {},
     "output_type": "execute_result"
    }
   ],
   "source": [
    "# 2.\tWhat are the mean, median, minimum, and maximum of weekly_sales in this subset?\n",
    "sales_temp20['weekly_sales'].agg([np.mean, np.median, np.min, np.max])"
   ]
  },
  {
   "cell_type": "code",
   "execution_count": 30,
   "id": "85684ff7",
   "metadata": {},
   "outputs": [
    {
     "data": {
      "text/plain": [
       "6204"
      ]
     },
     "execution_count": 30,
     "metadata": {},
     "output_type": "execute_result"
    }
   ],
   "source": [
    "# 1.\tWhich transaction has the highest weekly_sales in this subset?\n",
    "sales_temp20.index[0]"
   ]
  },
  {
   "cell_type": "code",
   "execution_count": 31,
   "id": "58f36758",
   "metadata": {},
   "outputs": [
    {
     "data": {
      "text/plain": [
       "4671"
      ]
     },
     "execution_count": 31,
     "metadata": {},
     "output_type": "execute_result"
    }
   ],
   "source": [
    "# 3.\tHow many transactions have temperature_c greater than 20?\n",
    "len(sales_temp20)"
   ]
  },
  {
   "cell_type": "markdown",
   "id": "db721216",
   "metadata": {},
   "source": [
    "### Problem 4: Multiple Summaries and Dates\n",
    "\n",
    "o\tMultiple Summaries and Summarizing Dates\n",
    "\n",
    "o\tUse the .agg() method to calculate the mean and standard deviation of both weekly_sales and temperature_c.\n",
    "\n",
    "o\tCalculate the earliest and latest transaction dates in the dataset.\n",
    "\n",
    "o\tQuestions:\n",
    "\n",
    "1.\tWhat are the mean and standard deviation of weekly_sales and temperature_c?\n",
    "\n",
    "2.\tWhat is the earliest transaction date?\n",
    "\n",
    "3.\tWhat is the latest transaction date?\n"
   ]
  },
  {
   "cell_type": "code",
   "execution_count": 32,
   "id": "a7d1bb10",
   "metadata": {},
   "outputs": [
    {
     "data": {
      "text/html": [
       "<div>\n",
       "<style scoped>\n",
       "    .dataframe tbody tr th:only-of-type {\n",
       "        vertical-align: middle;\n",
       "    }\n",
       "\n",
       "    .dataframe tbody tr th {\n",
       "        vertical-align: top;\n",
       "    }\n",
       "\n",
       "    .dataframe thead th {\n",
       "        text-align: right;\n",
       "    }\n",
       "</style>\n",
       "<table border=\"1\" class=\"dataframe\">\n",
       "  <thead>\n",
       "    <tr style=\"text-align: right;\">\n",
       "      <th></th>\n",
       "      <th>weekly_sales</th>\n",
       "      <th>temperature_c</th>\n",
       "    </tr>\n",
       "  </thead>\n",
       "  <tbody>\n",
       "    <tr>\n",
       "      <th>mean</th>\n",
       "      <td>23843.950149</td>\n",
       "      <td>15.731978</td>\n",
       "    </tr>\n",
       "    <tr>\n",
       "      <th>std</th>\n",
       "      <td>30220.387557</td>\n",
       "      <td>9.922446</td>\n",
       "    </tr>\n",
       "  </tbody>\n",
       "</table>\n",
       "</div>"
      ],
      "text/plain": [
       "      weekly_sales  temperature_c\n",
       "mean  23843.950149      15.731978\n",
       "std   30220.387557       9.922446"
      ]
     },
     "execution_count": 32,
     "metadata": {},
     "output_type": "execute_result"
    }
   ],
   "source": [
    "# 1.\tWhat are the mean and standard deviation of weekly_sales and temperature_c?\n",
    "sales[['weekly_sales', 'temperature_c']].agg([np.mean, np.std])"
   ]
  },
  {
   "cell_type": "code",
   "execution_count": 34,
   "id": "376be855",
   "metadata": {},
   "outputs": [
    {
     "name": "stdout",
     "output_type": "stream",
     "text": [
      "earliest 2010-02-05\n",
      "lastest 2012-10-26\n"
     ]
    }
   ],
   "source": [
    "\n",
    "print('earliest {}'.format(sales['date'].min()))\n",
    "print('lastest {}'.format(sales['date'].max()))"
   ]
  },
  {
   "cell_type": "code",
   "execution_count": null,
   "id": "c64cd540",
   "metadata": {},
   "outputs": [],
   "source": []
  }
 ],
 "metadata": {
  "kernelspec": {
   "display_name": "Python 3 (ipykernel)",
   "language": "python",
   "name": "python3"
  },
  "language_info": {
   "codemirror_mode": {
    "name": "ipython",
    "version": 3
   },
   "file_extension": ".py",
   "mimetype": "text/x-python",
   "name": "python",
   "nbconvert_exporter": "python",
   "pygments_lexer": "ipython3",
   "version": "3.10.9"
  }
 },
 "nbformat": 4,
 "nbformat_minor": 5
}
