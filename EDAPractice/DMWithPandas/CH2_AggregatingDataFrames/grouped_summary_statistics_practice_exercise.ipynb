{
 "cells": [
  {
   "cell_type": "code",
   "execution_count": 1,
   "id": "e59fa641",
   "metadata": {},
   "outputs": [],
   "source": [
    "import numpy as np\n",
    "import pandas as pd\n"
   ]
  },
  {
   "cell_type": "code",
   "execution_count": 2,
   "id": "83b98b04",
   "metadata": {},
   "outputs": [
    {
     "data": {
      "text/html": [
       "<div>\n",
       "<style scoped>\n",
       "    .dataframe tbody tr th:only-of-type {\n",
       "        vertical-align: middle;\n",
       "    }\n",
       "\n",
       "    .dataframe tbody tr th {\n",
       "        vertical-align: top;\n",
       "    }\n",
       "\n",
       "    .dataframe thead th {\n",
       "        text-align: right;\n",
       "    }\n",
       "</style>\n",
       "<table border=\"1\" class=\"dataframe\">\n",
       "  <thead>\n",
       "    <tr style=\"text-align: right;\">\n",
       "      <th></th>\n",
       "      <th>store</th>\n",
       "      <th>type</th>\n",
       "      <th>department</th>\n",
       "      <th>date</th>\n",
       "      <th>weekly_sales</th>\n",
       "      <th>is_holiday</th>\n",
       "      <th>temperature_c</th>\n",
       "      <th>fuel_price_usd_per_l</th>\n",
       "      <th>unemployment</th>\n",
       "    </tr>\n",
       "  </thead>\n",
       "  <tbody>\n",
       "    <tr>\n",
       "      <th>0</th>\n",
       "      <td>1</td>\n",
       "      <td>A</td>\n",
       "      <td>1</td>\n",
       "      <td>2010-02-05</td>\n",
       "      <td>24924.50</td>\n",
       "      <td>False</td>\n",
       "      <td>5.727778</td>\n",
       "      <td>0.679451</td>\n",
       "      <td>8.106</td>\n",
       "    </tr>\n",
       "    <tr>\n",
       "      <th>1</th>\n",
       "      <td>1</td>\n",
       "      <td>A</td>\n",
       "      <td>1</td>\n",
       "      <td>2010-03-05</td>\n",
       "      <td>21827.90</td>\n",
       "      <td>False</td>\n",
       "      <td>8.055556</td>\n",
       "      <td>0.693452</td>\n",
       "      <td>8.106</td>\n",
       "    </tr>\n",
       "    <tr>\n",
       "      <th>2</th>\n",
       "      <td>1</td>\n",
       "      <td>A</td>\n",
       "      <td>1</td>\n",
       "      <td>2010-04-02</td>\n",
       "      <td>57258.43</td>\n",
       "      <td>False</td>\n",
       "      <td>16.816667</td>\n",
       "      <td>0.718284</td>\n",
       "      <td>7.808</td>\n",
       "    </tr>\n",
       "    <tr>\n",
       "      <th>3</th>\n",
       "      <td>1</td>\n",
       "      <td>A</td>\n",
       "      <td>1</td>\n",
       "      <td>2010-05-07</td>\n",
       "      <td>17413.94</td>\n",
       "      <td>False</td>\n",
       "      <td>22.527778</td>\n",
       "      <td>0.748928</td>\n",
       "      <td>7.808</td>\n",
       "    </tr>\n",
       "    <tr>\n",
       "      <th>4</th>\n",
       "      <td>1</td>\n",
       "      <td>A</td>\n",
       "      <td>1</td>\n",
       "      <td>2010-06-04</td>\n",
       "      <td>17558.09</td>\n",
       "      <td>False</td>\n",
       "      <td>27.050000</td>\n",
       "      <td>0.714586</td>\n",
       "      <td>7.808</td>\n",
       "    </tr>\n",
       "  </tbody>\n",
       "</table>\n",
       "</div>"
      ],
      "text/plain": [
       "   store type  department        date  weekly_sales  is_holiday  \\\n",
       "0      1    A           1  2010-02-05      24924.50       False   \n",
       "1      1    A           1  2010-03-05      21827.90       False   \n",
       "2      1    A           1  2010-04-02      57258.43       False   \n",
       "3      1    A           1  2010-05-07      17413.94       False   \n",
       "4      1    A           1  2010-06-04      17558.09       False   \n",
       "\n",
       "   temperature_c  fuel_price_usd_per_l  unemployment  \n",
       "0       5.727778              0.679451         8.106  \n",
       "1       8.055556              0.693452         8.106  \n",
       "2      16.816667              0.718284         7.808  \n",
       "3      22.527778              0.748928         7.808  \n",
       "4      27.050000              0.714586         7.808  "
      ]
     },
     "execution_count": 2,
     "metadata": {},
     "output_type": "execute_result"
    }
   ],
   "source": [
    "sales = pd.read_csv('../../sales_subset.csv', index_col=0)\n",
    "sales.head()"
   ]
  },
  {
   "cell_type": "markdown",
   "id": "e2a53f1d",
   "metadata": {},
   "source": [
    "## GROUPED SUMMARY STATISTICS"
   ]
  },
  {
   "cell_type": "markdown",
   "id": "756d069f",
   "metadata": {},
   "source": [
    "### 1. Grouped Summaries\n",
    "\n",
    "What is the average weekly sales for each store?"
   ]
  },
  {
   "cell_type": "code",
   "execution_count": 3,
   "id": "2f3e56ad",
   "metadata": {},
   "outputs": [
    {
     "data": {
      "text/plain": [
       "store\n",
       "1     20896.941787\n",
       "2     26517.435162\n",
       "4     26126.986071\n",
       "6     21561.186477\n",
       "10    25696.678370\n",
       "13    25664.149474\n",
       "14    30384.003017\n",
       "19    19930.838157\n",
       "20    28382.766385\n",
       "27    24207.474711\n",
       "31    18178.932225\n",
       "39    18414.938423\n",
       "Name: weekly_sales, dtype: float64"
      ]
     },
     "execution_count": 3,
     "metadata": {},
     "output_type": "execute_result"
    }
   ],
   "source": [
    "sales.groupby('store')['weekly_sales'].mean()"
   ]
  },
  {
   "cell_type": "markdown",
   "id": "edf28547",
   "metadata": {},
   "source": [
    "\n",
    "### 2. Multiple Grouped Summaries\n",
    "\n",
    "What are the minimum, maximum, and total weekly sales for each department?"
   ]
  },
  {
   "cell_type": "code",
   "execution_count": 6,
   "id": "f7faf4e0",
   "metadata": {},
   "outputs": [
    {
     "data": {
      "text/html": [
       "<div>\n",
       "<style scoped>\n",
       "    .dataframe tbody tr th:only-of-type {\n",
       "        vertical-align: middle;\n",
       "    }\n",
       "\n",
       "    .dataframe tbody tr th {\n",
       "        vertical-align: top;\n",
       "    }\n",
       "\n",
       "    .dataframe thead th {\n",
       "        text-align: right;\n",
       "    }\n",
       "</style>\n",
       "<table border=\"1\" class=\"dataframe\">\n",
       "  <thead>\n",
       "    <tr style=\"text-align: right;\">\n",
       "      <th></th>\n",
       "      <th>amin</th>\n",
       "      <th>amax</th>\n",
       "      <th>sum</th>\n",
       "    </tr>\n",
       "    <tr>\n",
       "      <th>department</th>\n",
       "      <th></th>\n",
       "      <th></th>\n",
       "      <th></th>\n",
       "    </tr>\n",
       "  </thead>\n",
       "  <tbody>\n",
       "    <tr>\n",
       "      <th>1</th>\n",
       "      <td>9446.29</td>\n",
       "      <td>149743.97</td>\n",
       "      <td>4615555.27</td>\n",
       "    </tr>\n",
       "    <tr>\n",
       "      <th>2</th>\n",
       "      <td>42431.88</td>\n",
       "      <td>123952.48</td>\n",
       "      <td>10278723.28</td>\n",
       "    </tr>\n",
       "    <tr>\n",
       "      <th>3</th>\n",
       "      <td>6150.20</td>\n",
       "      <td>89316.82</td>\n",
       "      <td>2632088.25</td>\n",
       "    </tr>\n",
       "    <tr>\n",
       "      <th>4</th>\n",
       "      <td>28762.65</td>\n",
       "      <td>66912.92</td>\n",
       "      <td>6460308.53</td>\n",
       "    </tr>\n",
       "    <tr>\n",
       "      <th>5</th>\n",
       "      <td>11665.55</td>\n",
       "      <td>103531.25</td>\n",
       "      <td>5355216.00</td>\n",
       "    </tr>\n",
       "    <tr>\n",
       "      <th>...</th>\n",
       "      <td>...</td>\n",
       "      <td>...</td>\n",
       "      <td>...</td>\n",
       "    </tr>\n",
       "    <tr>\n",
       "      <th>95</th>\n",
       "      <td>60655.66</td>\n",
       "      <td>213042.66</td>\n",
       "      <td>17284245.13</td>\n",
       "    </tr>\n",
       "    <tr>\n",
       "      <th>96</th>\n",
       "      <td>-19.02</td>\n",
       "      <td>45278.54</td>\n",
       "      <td>2806589.86</td>\n",
       "    </tr>\n",
       "    <tr>\n",
       "      <th>97</th>\n",
       "      <td>5064.61</td>\n",
       "      <td>45017.96</td>\n",
       "      <td>3828153.72</td>\n",
       "    </tr>\n",
       "    <tr>\n",
       "      <th>98</th>\n",
       "      <td>-2.25</td>\n",
       "      <td>24273.74</td>\n",
       "      <td>1702165.00</td>\n",
       "    </tr>\n",
       "    <tr>\n",
       "      <th>99</th>\n",
       "      <td>-147.00</td>\n",
       "      <td>5350.00</td>\n",
       "      <td>46632.21</td>\n",
       "    </tr>\n",
       "  </tbody>\n",
       "</table>\n",
       "<p>80 rows × 3 columns</p>\n",
       "</div>"
      ],
      "text/plain": [
       "                amin       amax          sum\n",
       "department                                  \n",
       "1            9446.29  149743.97   4615555.27\n",
       "2           42431.88  123952.48  10278723.28\n",
       "3            6150.20   89316.82   2632088.25\n",
       "4           28762.65   66912.92   6460308.53\n",
       "5           11665.55  103531.25   5355216.00\n",
       "...              ...        ...          ...\n",
       "95          60655.66  213042.66  17284245.13\n",
       "96            -19.02   45278.54   2806589.86\n",
       "97           5064.61   45017.96   3828153.72\n",
       "98             -2.25   24273.74   1702165.00\n",
       "99           -147.00    5350.00     46632.21\n",
       "\n",
       "[80 rows x 3 columns]"
      ]
     },
     "execution_count": 6,
     "metadata": {},
     "output_type": "execute_result"
    }
   ],
   "source": [
    "sales.groupby('department')['weekly_sales'].agg([np.min, np.max, np.sum])"
   ]
  },
  {
   "cell_type": "markdown",
   "id": "9d6e74a2",
   "metadata": {},
   "source": [
    "### 3. Grouping by Multiple Variables\n",
    "\n",
    "What is the average temperature for each store in each department?"
   ]
  },
  {
   "cell_type": "code",
   "execution_count": null,
   "id": "48b4673a",
   "metadata": {},
   "outputs": [],
   "source": []
  },
  {
   "cell_type": "markdown",
   "id": "33437e6c",
   "metadata": {},
   "source": [
    "### 4. Many Variables, Many Summaries\n",
    "\n",
    "What are the average weekly sales and average temperature for each store and department?"
   ]
  },
  {
   "cell_type": "markdown",
   "id": "567d4a48",
   "metadata": {},
   "source": [
    "### 5. Additional Grouped Summaries\n",
    "\n",
    "What is the total number of holiday and non-holiday sales for each store?"
   ]
  },
  {
   "cell_type": "markdown",
   "id": "5303e73a",
   "metadata": {},
   "source": [
    "### 6. Combining Aggregations\n",
    "\n",
    "What are the minimum, average, and maximum unemployment rates for each store type?"
   ]
  },
  {
   "cell_type": "markdown",
   "id": "a9036f52",
   "metadata": {},
   "source": [
    "### 7. Grouping by Multiple Variables with Multiple Summaries\n",
    "\n",
    "For each store and department, what are the minimum and maximum fuel prices, and the total weekly sales?"
   ]
  },
  {
   "cell_type": "markdown",
   "id": "7160790d",
   "metadata": {},
   "source": [
    "### 8. Summarizing Weekly Sales by Holiday Status\n",
    "\n",
    "What is the total and average weekly sales for holidays versus non-holidays for each department?"
   ]
  },
  {
   "cell_type": "markdown",
   "id": "247c386e",
   "metadata": {},
   "source": [
    "### 9. Store Performance Over Time\n",
    "\n",
    "What is the average weekly sales and average unemployment rate for each store for each year?"
   ]
  },
  {
   "cell_type": "markdown",
   "id": "0863ac73",
   "metadata": {},
   "source": [
    "### 10. Department-wise Sales During Holidays\n",
    "\n",
    "For each department, what are the total and average weekly sales during holidays?"
   ]
  },
  {
   "cell_type": "code",
   "execution_count": null,
   "id": "1041a298",
   "metadata": {},
   "outputs": [],
   "source": []
  }
 ],
 "metadata": {
  "kernelspec": {
   "display_name": "Python 3 (ipykernel)",
   "language": "python",
   "name": "python3"
  },
  "language_info": {
   "codemirror_mode": {
    "name": "ipython",
    "version": 3
   },
   "file_extension": ".py",
   "mimetype": "text/x-python",
   "name": "python",
   "nbconvert_exporter": "python",
   "pygments_lexer": "ipython3",
   "version": "3.10.9"
  }
 },
 "nbformat": 4,
 "nbformat_minor": 5
}
